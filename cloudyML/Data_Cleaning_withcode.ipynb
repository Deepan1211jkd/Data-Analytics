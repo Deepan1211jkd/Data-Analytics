{
 "cells": [
  {
   "cell_type": "markdown",
   "metadata": {
    "id": "rc6I3sagkqhR"
   },
   "source": [
    "# <center><u>**`Data Cleaning`**</u></center>"
   ]
  },
  {
   "cell_type": "markdown",
   "metadata": {
    "id": "h9sXOHkckqhY"
   },
   "source": [
    " Data cleaning is a part of the process on a data science project.\n",
    " \n",
    "Data cleaning is the `process of fixing or removing incorrect, corrupted, incorrectly formatted, duplicate, or incomplete data `within a dataset.\n",
    "<br>\n",
    "When you clean your data, all outdated or incorrect information is gone – leaving you with the highest quality information for your analysis and model building."
   ]
  },
  {
   "cell_type": "markdown",
   "metadata": {
    "id": "p0qd3D0Lkqhc"
   },
   "source": [
    "<p style='text-align: right;'> 4 points</p>\n"
   ]
  },
  {
   "cell_type": "code",
   "execution_count": 162,
   "metadata": {
    "colab": {
     "base_uri": "https://localhost:8080/",
     "height": 321
    },
    "executionInfo": {
     "elapsed": 20,
     "status": "ok",
     "timestamp": 1651672752857,
     "user": {
      "displayName": "Rahul Mishra",
      "userId": "09742833377578495523"
     },
     "user_tz": -330
    },
    "id": "nVcPL89UuaKo",
    "outputId": "947b6eb8-7293-48cf-dceb-f02f45286531",
    "scrolled": true
   },
   "outputs": [],
   "source": [
    "# ignore this code for now\n",
    "from IPython.display import YouTubeVideo\n",
    "\n",
    "# YouTubeVideo('https://www.youtube.com/watch?v=XvNCSpIE9PE&list=PLsR_0x6BuM-F4Z72h5D1bjWEASL0_JlrF&index=4',width=600,height=300)"
   ]
  },
  {
   "cell_type": "code",
   "execution_count": 2,
   "metadata": {
    "id": "wF_oQrRAkqhe"
   },
   "outputs": [],
   "source": [
    "# import pandas and numpy with alias pd and np respectively\n",
    "import pandas as pd\n",
    "import numpy as np\n"
   ]
  },
  {
   "cell_type": "markdown",
   "metadata": {
    "id": "7k4VuSAekqhe"
   },
   "source": [
    "Create a dataframe, d1 = pd.DataFrame( {‘Temperature’ : [1, np.nan, 3, 2, 3] ,’Humidity’ : [22, np.nan, 2 , np.nan, 20 ] })"
   ]
  },
  {
   "cell_type": "code",
   "execution_count": 3,
   "metadata": {
    "id": "8fjpdGnskqhe"
   },
   "outputs": [],
   "source": [
    "df = pd.DataFrame( {'Temperature' : [1, np.nan, 3, 2, 3] ,'Humidity' : [22, np.nan, 2 , np.nan, 20 ] })"
   ]
  },
  {
   "cell_type": "markdown",
   "metadata": {
    "id": "_6S2Agszkqhf"
   },
   "source": [
    "print the dataframe d1"
   ]
  },
  {
   "cell_type": "code",
   "execution_count": 4,
   "metadata": {
    "colab": {
     "base_uri": "https://localhost:8080/",
     "height": 204
    },
    "id": "fauZD3xnkqhf",
    "outputId": "3d9adff3-434c-4fe1-a312-edc2c0dbb8b0"
   },
   "outputs": [
    {
     "data": {
      "text/html": [
       "<div>\n",
       "<style scoped>\n",
       "    .dataframe tbody tr th:only-of-type {\n",
       "        vertical-align: middle;\n",
       "    }\n",
       "\n",
       "    .dataframe tbody tr th {\n",
       "        vertical-align: top;\n",
       "    }\n",
       "\n",
       "    .dataframe thead th {\n",
       "        text-align: right;\n",
       "    }\n",
       "</style>\n",
       "<table border=\"1\" class=\"dataframe\">\n",
       "  <thead>\n",
       "    <tr style=\"text-align: right;\">\n",
       "      <th></th>\n",
       "      <th>Temperature</th>\n",
       "      <th>Humidity</th>\n",
       "    </tr>\n",
       "  </thead>\n",
       "  <tbody>\n",
       "    <tr>\n",
       "      <th>0</th>\n",
       "      <td>1.0</td>\n",
       "      <td>22.0</td>\n",
       "    </tr>\n",
       "    <tr>\n",
       "      <th>1</th>\n",
       "      <td>NaN</td>\n",
       "      <td>NaN</td>\n",
       "    </tr>\n",
       "    <tr>\n",
       "      <th>2</th>\n",
       "      <td>3.0</td>\n",
       "      <td>2.0</td>\n",
       "    </tr>\n",
       "    <tr>\n",
       "      <th>3</th>\n",
       "      <td>2.0</td>\n",
       "      <td>NaN</td>\n",
       "    </tr>\n",
       "    <tr>\n",
       "      <th>4</th>\n",
       "      <td>3.0</td>\n",
       "      <td>20.0</td>\n",
       "    </tr>\n",
       "  </tbody>\n",
       "</table>\n",
       "</div>"
      ],
      "text/plain": [
       "   Temperature  Humidity\n",
       "0          1.0      22.0\n",
       "1          NaN       NaN\n",
       "2          3.0       2.0\n",
       "3          2.0       NaN\n",
       "4          3.0      20.0"
      ]
     },
     "execution_count": 4,
     "metadata": {},
     "output_type": "execute_result"
    }
   ],
   "source": [
    "df"
   ]
  },
  {
   "cell_type": "code",
   "execution_count": 163,
   "metadata": {
    "colab": {
     "base_uri": "https://localhost:8080/",
     "height": 321
    },
    "id": "41bVcDYbuaKx",
    "outputId": "a3bd2755-14f6-44b6-a7db-aeecb088d421"
   },
   "outputs": [],
   "source": [
    "# YouTubeVideo('https://www.youtube.com/watch?v=7Q_KoX3vAZ8&list=PLsR_0x6BuM-F4Z72h5D1bjWEASL0_JlrF&index=3',width=600,height=300)"
   ]
  },
  {
   "cell_type": "markdown",
   "metadata": {
    "id": "PIvW5svikqhg"
   },
   "source": [
    "Find whether the given dataframe contain any missing values? "
   ]
  },
  {
   "cell_type": "code",
   "execution_count": 6,
   "metadata": {
    "colab": {
     "base_uri": "https://localhost:8080/",
     "height": 204
    },
    "id": "lJ3MiNk-kqhg",
    "outputId": "d58f5ba8-629f-42a0-d0af-065abfa0060f"
   },
   "outputs": [
    {
     "data": {
      "text/html": [
       "<div>\n",
       "<style scoped>\n",
       "    .dataframe tbody tr th:only-of-type {\n",
       "        vertical-align: middle;\n",
       "    }\n",
       "\n",
       "    .dataframe tbody tr th {\n",
       "        vertical-align: top;\n",
       "    }\n",
       "\n",
       "    .dataframe thead th {\n",
       "        text-align: right;\n",
       "    }\n",
       "</style>\n",
       "<table border=\"1\" class=\"dataframe\">\n",
       "  <thead>\n",
       "    <tr style=\"text-align: right;\">\n",
       "      <th></th>\n",
       "      <th>Temperature</th>\n",
       "      <th>Humidity</th>\n",
       "    </tr>\n",
       "  </thead>\n",
       "  <tbody>\n",
       "    <tr>\n",
       "      <th>0</th>\n",
       "      <td>False</td>\n",
       "      <td>False</td>\n",
       "    </tr>\n",
       "    <tr>\n",
       "      <th>1</th>\n",
       "      <td>True</td>\n",
       "      <td>True</td>\n",
       "    </tr>\n",
       "    <tr>\n",
       "      <th>2</th>\n",
       "      <td>False</td>\n",
       "      <td>False</td>\n",
       "    </tr>\n",
       "    <tr>\n",
       "      <th>3</th>\n",
       "      <td>False</td>\n",
       "      <td>True</td>\n",
       "    </tr>\n",
       "    <tr>\n",
       "      <th>4</th>\n",
       "      <td>False</td>\n",
       "      <td>False</td>\n",
       "    </tr>\n",
       "  </tbody>\n",
       "</table>\n",
       "</div>"
      ],
      "text/plain": [
       "   Temperature  Humidity\n",
       "0        False     False\n",
       "1         True      True\n",
       "2        False     False\n",
       "3        False      True\n",
       "4        False     False"
      ]
     },
     "execution_count": 6,
     "metadata": {},
     "output_type": "execute_result"
    }
   ],
   "source": [
    "df.isnull()"
   ]
  },
  {
   "cell_type": "markdown",
   "metadata": {
    "id": "1mR6mwjZkqhg"
   },
   "source": [
    "How many missing values does each column have?"
   ]
  },
  {
   "cell_type": "code",
   "execution_count": 7,
   "metadata": {
    "colab": {
     "base_uri": "https://localhost:8080/"
    },
    "id": "GuttaqhSkqhg",
    "outputId": "2989b661-6473-4f16-b299-b3e815e00cf6"
   },
   "outputs": [
    {
     "data": {
      "text/plain": [
       "(Temperature    0\n",
       " Humidity       0\n",
       " dtype: int64,\n",
       " Temperature    1\n",
       " Humidity       2\n",
       " dtype: int64)"
      ]
     },
     "execution_count": 7,
     "metadata": {},
     "output_type": "execute_result"
    }
   ],
   "source": [
    "column_names = list(df)\n",
    "column_names\n",
    "zero_count = (df[column_names] == 0).sum()\n",
    "NaN_count = df.isna().sum()\n",
    "zero_count,NaN_count"
   ]
  },
  {
   "cell_type": "code",
   "execution_count": 164,
   "metadata": {
    "colab": {
     "base_uri": "https://localhost:8080/",
     "height": 321
    },
    "id": "42yhyn30uaKv",
    "outputId": "c093859d-6f22-4104-b293-c0e91995dfd3"
   },
   "outputs": [],
   "source": [
    "# YouTubeVideo('https://www.youtube.com/watch?v=C0hO3FiYxlk&list=PLsR_0x6BuM-F4Z72h5D1bjWEASL0_JlrF&index=2',width=600,height=300)"
   ]
  },
  {
   "cell_type": "markdown",
   "metadata": {
    "id": "RdJX6nKdkqhh"
   },
   "source": [
    "## **`Dealing with missing values`**\n",
    "<br>Now, we know we have missing values, the next thing that we need to work on, is how to deal with these missing values"
   ]
  },
  {
   "cell_type": "code",
   "execution_count": 165,
   "metadata": {
    "colab": {
     "base_uri": "https://localhost:8080/",
     "height": 321
    },
    "id": "BnD0mFA1uaKy",
    "outputId": "f2fffe6a-a6f8-4a51-e196-239bf7630690"
   },
   "outputs": [],
   "source": [
    "# YouTubeVideo('https://www.youtube.com/watch?v=p-w5QbfWpHU&list=PLsR_0x6BuM-F4Z72h5D1bjWEASL0_JlrF&index=1',width=600,height=300)"
   ]
  },
  {
   "cell_type": "markdown",
   "metadata": {
    "id": "5iYTalWckqhh"
   },
   "source": [
    "## **`Method 1: Delete the rows which contain missing values.`**\n",
    " This method include dropping all the rows that have missing value in any column. "
   ]
  },
  {
   "cell_type": "markdown",
   "metadata": {
    "id": "D5OwrlkXkqhh"
   },
   "source": [
    " <p style='text-align: right;'> 20 points</p>"
   ]
  },
  {
   "cell_type": "markdown",
   "metadata": {
    "id": "sB425bYFkqhh"
   },
   "source": [
    "Use a suitable method to drop all the rows having missing values and save the change in d2 variable"
   ]
  },
  {
   "cell_type": "code",
   "execution_count": 10,
   "metadata": {
    "id": "ms-0jJZpkqhh"
   },
   "outputs": [
    {
     "data": {
      "text/html": [
       "<div>\n",
       "<style scoped>\n",
       "    .dataframe tbody tr th:only-of-type {\n",
       "        vertical-align: middle;\n",
       "    }\n",
       "\n",
       "    .dataframe tbody tr th {\n",
       "        vertical-align: top;\n",
       "    }\n",
       "\n",
       "    .dataframe thead th {\n",
       "        text-align: right;\n",
       "    }\n",
       "</style>\n",
       "<table border=\"1\" class=\"dataframe\">\n",
       "  <thead>\n",
       "    <tr style=\"text-align: right;\">\n",
       "      <th></th>\n",
       "      <th>Temperature</th>\n",
       "      <th>Humidity</th>\n",
       "    </tr>\n",
       "  </thead>\n",
       "  <tbody>\n",
       "    <tr>\n",
       "      <th>0</th>\n",
       "      <td>1.0</td>\n",
       "      <td>22.0</td>\n",
       "    </tr>\n",
       "    <tr>\n",
       "      <th>1</th>\n",
       "      <td>3.0</td>\n",
       "      <td>2.0</td>\n",
       "    </tr>\n",
       "    <tr>\n",
       "      <th>2</th>\n",
       "      <td>3.0</td>\n",
       "      <td>20.0</td>\n",
       "    </tr>\n",
       "  </tbody>\n",
       "</table>\n",
       "</div>"
      ],
      "text/plain": [
       "   Temperature  Humidity\n",
       "0          1.0      22.0\n",
       "1          3.0       2.0\n",
       "2          3.0      20.0"
      ]
     },
     "execution_count": 10,
     "metadata": {},
     "output_type": "execute_result"
    }
   ],
   "source": [
    "df1 =  df.dropna(inplace=False)\n",
    "df1.reset_index(drop=True)"
   ]
  },
  {
   "cell_type": "markdown",
   "metadata": {
    "id": "uvJFaJ8bkqhi"
   },
   "source": [
    "Print df1"
   ]
  },
  {
   "cell_type": "code",
   "execution_count": 11,
   "metadata": {
    "colab": {
     "base_uri": "https://localhost:8080/",
     "height": 142
    },
    "id": "YoXoAdXGkqhi",
    "outputId": "5d1dc740-6b5e-4c68-aa01-39ca26e0ae5b"
   },
   "outputs": [
    {
     "name": "stdout",
     "output_type": "stream",
     "text": [
      "   Temperature  Humidity\n",
      "0          1.0      22.0\n",
      "2          3.0       2.0\n",
      "4          3.0      20.0\n"
     ]
    }
   ],
   "source": [
    "print(df1)"
   ]
  },
  {
   "cell_type": "markdown",
   "metadata": {
    "id": "_BYBoQIFkqhi"
   },
   "source": [
    "Hey Remember : droping rows with nan is one of the method to deal with missing values. But you have to decide if you need to go for this method by checking percentage of nan present in the dataframe.\n",
    "\n",
    "If a column is having more than 60% of nan values then its better to remove such variables altogether if business permits "
   ]
  },
  {
   "cell_type": "markdown",
   "metadata": {
    "id": "0E0Gyw0mkqhi"
   },
   "source": [
    "- ## **`Method 2: Replacing missing values`**\n",
    "Sometimes rather than dropping NA values, you'd rather replace them with a valid value. This value might be a single number like zero, or it might be some sort of imputation or interpolation"
   ]
  },
  {
   "cell_type": "markdown",
   "metadata": {
    "id": "JsESq_JNkqhi"
   },
   "source": [
    "<p style='text-align: right;'> 30 points</p>\n"
   ]
  },
  {
   "cell_type": "markdown",
   "metadata": {
    "id": "rwg-9c8ukqhj"
   },
   "source": [
    "Impute the missing values with constant number of your choice"
   ]
  },
  {
   "cell_type": "code",
   "execution_count": 12,
   "metadata": {
    "colab": {
     "base_uri": "https://localhost:8080/",
     "height": 204
    },
    "id": "CCzT8A-4kqhj",
    "outputId": "1fb8fdea-b178-4e43-afd6-6bd5130c0d80",
    "scrolled": true
   },
   "outputs": [
    {
     "data": {
      "text/html": [
       "<div>\n",
       "<style scoped>\n",
       "    .dataframe tbody tr th:only-of-type {\n",
       "        vertical-align: middle;\n",
       "    }\n",
       "\n",
       "    .dataframe tbody tr th {\n",
       "        vertical-align: top;\n",
       "    }\n",
       "\n",
       "    .dataframe thead th {\n",
       "        text-align: right;\n",
       "    }\n",
       "</style>\n",
       "<table border=\"1\" class=\"dataframe\">\n",
       "  <thead>\n",
       "    <tr style=\"text-align: right;\">\n",
       "      <th></th>\n",
       "      <th>Temperature</th>\n",
       "      <th>Humidity</th>\n",
       "    </tr>\n",
       "  </thead>\n",
       "  <tbody>\n",
       "    <tr>\n",
       "      <th>0</th>\n",
       "      <td>1.0</td>\n",
       "      <td>22.0</td>\n",
       "    </tr>\n",
       "    <tr>\n",
       "      <th>1</th>\n",
       "      <td>100.0</td>\n",
       "      <td>100.0</td>\n",
       "    </tr>\n",
       "    <tr>\n",
       "      <th>2</th>\n",
       "      <td>3.0</td>\n",
       "      <td>2.0</td>\n",
       "    </tr>\n",
       "    <tr>\n",
       "      <th>3</th>\n",
       "      <td>2.0</td>\n",
       "      <td>100.0</td>\n",
       "    </tr>\n",
       "    <tr>\n",
       "      <th>4</th>\n",
       "      <td>3.0</td>\n",
       "      <td>20.0</td>\n",
       "    </tr>\n",
       "  </tbody>\n",
       "</table>\n",
       "</div>"
      ],
      "text/plain": [
       "   Temperature  Humidity\n",
       "0          1.0      22.0\n",
       "1        100.0     100.0\n",
       "2          3.0       2.0\n",
       "3          2.0     100.0\n",
       "4          3.0      20.0"
      ]
     },
     "execution_count": 12,
     "metadata": {},
     "output_type": "execute_result"
    }
   ],
   "source": [
    "# The below output has imputed missing  values with 100\n",
    "df[column_names].replace(np.nan , 100)\n",
    "\n"
   ]
  },
  {
   "cell_type": "markdown",
   "metadata": {
    "id": "Owk-O3CZkqhj"
   },
   "source": [
    "Do you think its a  good way to treat Nan values? What if such constant values are not suitable for our further analysis?\n",
    "Try to give your thoughts on this."
   ]
  },
  {
   "cell_type": "markdown",
   "metadata": {
    "id": "4Vn0HNw4kqhj"
   },
   "source": [
    "### It is better to give some valid values instead of nan values"
   ]
  },
  {
   "cell_type": "markdown",
   "metadata": {
    "id": "rHxP4ad7kqhj"
   },
   "source": [
    "Impute the missing values with mean"
   ]
  },
  {
   "cell_type": "code",
   "execution_count": 13,
   "metadata": {
    "colab": {
     "base_uri": "https://localhost:8080/",
     "height": 204
    },
    "id": "FKB7R8Takqhk",
    "outputId": "713b08d2-a3e2-4b70-a90a-72d7a8eba224"
   },
   "outputs": [
    {
     "data": {
      "text/html": [
       "<div>\n",
       "<style scoped>\n",
       "    .dataframe tbody tr th:only-of-type {\n",
       "        vertical-align: middle;\n",
       "    }\n",
       "\n",
       "    .dataframe tbody tr th {\n",
       "        vertical-align: top;\n",
       "    }\n",
       "\n",
       "    .dataframe thead th {\n",
       "        text-align: right;\n",
       "    }\n",
       "</style>\n",
       "<table border=\"1\" class=\"dataframe\">\n",
       "  <thead>\n",
       "    <tr style=\"text-align: right;\">\n",
       "      <th></th>\n",
       "      <th>Temperature</th>\n",
       "      <th>Humidity</th>\n",
       "    </tr>\n",
       "  </thead>\n",
       "  <tbody>\n",
       "    <tr>\n",
       "      <th>0</th>\n",
       "      <td>1.00</td>\n",
       "      <td>22.000000</td>\n",
       "    </tr>\n",
       "    <tr>\n",
       "      <th>1</th>\n",
       "      <td>2.25</td>\n",
       "      <td>14.666667</td>\n",
       "    </tr>\n",
       "    <tr>\n",
       "      <th>2</th>\n",
       "      <td>3.00</td>\n",
       "      <td>2.000000</td>\n",
       "    </tr>\n",
       "    <tr>\n",
       "      <th>3</th>\n",
       "      <td>2.00</td>\n",
       "      <td>14.666667</td>\n",
       "    </tr>\n",
       "    <tr>\n",
       "      <th>4</th>\n",
       "      <td>3.00</td>\n",
       "      <td>20.000000</td>\n",
       "    </tr>\n",
       "  </tbody>\n",
       "</table>\n",
       "</div>"
      ],
      "text/plain": [
       "   Temperature   Humidity\n",
       "0         1.00  22.000000\n",
       "1         2.25  14.666667\n",
       "2         3.00   2.000000\n",
       "3         2.00  14.666667\n",
       "4         3.00  20.000000"
      ]
     },
     "execution_count": 13,
     "metadata": {},
     "output_type": "execute_result"
    }
   ],
   "source": [
    "#  imputing mean\n",
    "df[column_names].replace(np.nan, df[column_names].mean())\n"
   ]
  },
  {
   "cell_type": "markdown",
   "metadata": {
    "id": "wzwa_GzRkqhk"
   },
   "source": [
    "Impute the missing values with median"
   ]
  },
  {
   "cell_type": "code",
   "execution_count": 14,
   "metadata": {
    "colab": {
     "base_uri": "https://localhost:8080/",
     "height": 204
    },
    "id": "CrDrortKkqhk",
    "outputId": "604ad45a-6dea-4511-cf96-3b7ba815886d"
   },
   "outputs": [
    {
     "data": {
      "text/html": [
       "<div>\n",
       "<style scoped>\n",
       "    .dataframe tbody tr th:only-of-type {\n",
       "        vertical-align: middle;\n",
       "    }\n",
       "\n",
       "    .dataframe tbody tr th {\n",
       "        vertical-align: top;\n",
       "    }\n",
       "\n",
       "    .dataframe thead th {\n",
       "        text-align: right;\n",
       "    }\n",
       "</style>\n",
       "<table border=\"1\" class=\"dataframe\">\n",
       "  <thead>\n",
       "    <tr style=\"text-align: right;\">\n",
       "      <th></th>\n",
       "      <th>Temperature</th>\n",
       "      <th>Humidity</th>\n",
       "    </tr>\n",
       "  </thead>\n",
       "  <tbody>\n",
       "    <tr>\n",
       "      <th>0</th>\n",
       "      <td>1.0</td>\n",
       "      <td>22.0</td>\n",
       "    </tr>\n",
       "    <tr>\n",
       "      <th>1</th>\n",
       "      <td>2.5</td>\n",
       "      <td>20.0</td>\n",
       "    </tr>\n",
       "    <tr>\n",
       "      <th>2</th>\n",
       "      <td>3.0</td>\n",
       "      <td>2.0</td>\n",
       "    </tr>\n",
       "    <tr>\n",
       "      <th>3</th>\n",
       "      <td>2.0</td>\n",
       "      <td>20.0</td>\n",
       "    </tr>\n",
       "    <tr>\n",
       "      <th>4</th>\n",
       "      <td>3.0</td>\n",
       "      <td>20.0</td>\n",
       "    </tr>\n",
       "  </tbody>\n",
       "</table>\n",
       "</div>"
      ],
      "text/plain": [
       "   Temperature  Humidity\n",
       "0          1.0      22.0\n",
       "1          2.5      20.0\n",
       "2          3.0       2.0\n",
       "3          2.0      20.0\n",
       "4          3.0      20.0"
      ]
     },
     "execution_count": 14,
     "metadata": {},
     "output_type": "execute_result"
    }
   ],
   "source": [
    "#median imputing\n",
    "df[column_names].fillna(df[column_names].median())"
   ]
  },
  {
   "cell_type": "markdown",
   "metadata": {
    "id": "PRzK4otMkqhk"
   },
   "source": [
    "Replacing with the mean, mode or median approximations are a statistical approach of handling the missing values.\n",
    "\n",
    "Another Fun fact:\n",
    "    \n",
    "    This is an approximation which can add variance to the data set. But the loss of the data can be negated by this method which yields better results compared to removal of rows and columns."
   ]
  },
  {
   "cell_type": "markdown",
   "metadata": {
    "id": "GMtx5Urqkqhk"
   },
   "source": [
    "Impute Nan with forward fill"
   ]
  },
  {
   "cell_type": "code",
   "execution_count": 15,
   "metadata": {
    "colab": {
     "base_uri": "https://localhost:8080/",
     "height": 204
    },
    "id": "te5396qBkqhl",
    "outputId": "4e6e687d-271d-4f76-c7f9-e7a9c1e1eff7"
   },
   "outputs": [
    {
     "data": {
      "text/html": [
       "<div>\n",
       "<style scoped>\n",
       "    .dataframe tbody tr th:only-of-type {\n",
       "        vertical-align: middle;\n",
       "    }\n",
       "\n",
       "    .dataframe tbody tr th {\n",
       "        vertical-align: top;\n",
       "    }\n",
       "\n",
       "    .dataframe thead th {\n",
       "        text-align: right;\n",
       "    }\n",
       "</style>\n",
       "<table border=\"1\" class=\"dataframe\">\n",
       "  <thead>\n",
       "    <tr style=\"text-align: right;\">\n",
       "      <th></th>\n",
       "      <th>Temperature</th>\n",
       "      <th>Humidity</th>\n",
       "    </tr>\n",
       "  </thead>\n",
       "  <tbody>\n",
       "    <tr>\n",
       "      <th>0</th>\n",
       "      <td>1.0</td>\n",
       "      <td>22.0</td>\n",
       "    </tr>\n",
       "    <tr>\n",
       "      <th>1</th>\n",
       "      <td>1.0</td>\n",
       "      <td>22.0</td>\n",
       "    </tr>\n",
       "    <tr>\n",
       "      <th>2</th>\n",
       "      <td>3.0</td>\n",
       "      <td>2.0</td>\n",
       "    </tr>\n",
       "    <tr>\n",
       "      <th>3</th>\n",
       "      <td>2.0</td>\n",
       "      <td>2.0</td>\n",
       "    </tr>\n",
       "    <tr>\n",
       "      <th>4</th>\n",
       "      <td>3.0</td>\n",
       "      <td>20.0</td>\n",
       "    </tr>\n",
       "  </tbody>\n",
       "</table>\n",
       "</div>"
      ],
      "text/plain": [
       "   Temperature  Humidity\n",
       "0          1.0      22.0\n",
       "1          1.0      22.0\n",
       "2          3.0       2.0\n",
       "3          2.0       2.0\n",
       "4          3.0      20.0"
      ]
     },
     "execution_count": 15,
     "metadata": {},
     "output_type": "execute_result"
    }
   ],
   "source": [
    "#forward fill\n",
    "df[column_names].fillna( df[column_names].ffill())"
   ]
  },
  {
   "cell_type": "markdown",
   "metadata": {
    "id": "eH05-uFJkqhl"
   },
   "source": [
    "Impute Nan with backward fill"
   ]
  },
  {
   "cell_type": "code",
   "execution_count": 16,
   "metadata": {
    "colab": {
     "base_uri": "https://localhost:8080/",
     "height": 204
    },
    "id": "8qRteICGkqhl",
    "outputId": "4d5c0c21-3f4c-4966-a4fe-2aab3d998927"
   },
   "outputs": [
    {
     "data": {
      "text/html": [
       "<div>\n",
       "<style scoped>\n",
       "    .dataframe tbody tr th:only-of-type {\n",
       "        vertical-align: middle;\n",
       "    }\n",
       "\n",
       "    .dataframe tbody tr th {\n",
       "        vertical-align: top;\n",
       "    }\n",
       "\n",
       "    .dataframe thead th {\n",
       "        text-align: right;\n",
       "    }\n",
       "</style>\n",
       "<table border=\"1\" class=\"dataframe\">\n",
       "  <thead>\n",
       "    <tr style=\"text-align: right;\">\n",
       "      <th></th>\n",
       "      <th>Temperature</th>\n",
       "      <th>Humidity</th>\n",
       "    </tr>\n",
       "  </thead>\n",
       "  <tbody>\n",
       "    <tr>\n",
       "      <th>0</th>\n",
       "      <td>1.0</td>\n",
       "      <td>22.0</td>\n",
       "    </tr>\n",
       "    <tr>\n",
       "      <th>1</th>\n",
       "      <td>3.0</td>\n",
       "      <td>2.0</td>\n",
       "    </tr>\n",
       "    <tr>\n",
       "      <th>2</th>\n",
       "      <td>3.0</td>\n",
       "      <td>2.0</td>\n",
       "    </tr>\n",
       "    <tr>\n",
       "      <th>3</th>\n",
       "      <td>2.0</td>\n",
       "      <td>20.0</td>\n",
       "    </tr>\n",
       "    <tr>\n",
       "      <th>4</th>\n",
       "      <td>3.0</td>\n",
       "      <td>20.0</td>\n",
       "    </tr>\n",
       "  </tbody>\n",
       "</table>\n",
       "</div>"
      ],
      "text/plain": [
       "   Temperature  Humidity\n",
       "0          1.0      22.0\n",
       "1          3.0       2.0\n",
       "2          3.0       2.0\n",
       "3          2.0      20.0\n",
       "4          3.0      20.0"
      ]
     },
     "execution_count": 16,
     "metadata": {},
     "output_type": "execute_result"
    }
   ],
   "source": [
    "#backward fill\n",
    "df.fillna( df[column_names].bfill())"
   ]
  },
  {
   "cell_type": "markdown",
   "metadata": {
    "id": "b9M8GD2Jkqhl"
   },
   "source": [
    "Hey a fun fact here, as sweet as a cookie:\n",
    "\n",
    "- ffill/pad/bfill are good imputation method if our data is of time series. This would keep the trend unaffected for our analysis."
   ]
  },
  {
   "cell_type": "markdown",
   "metadata": {
    "id": "x5J30Hulkqhl"
   },
   "source": [
    "Impute nan using interpolation method"
   ]
  },
  {
   "cell_type": "code",
   "execution_count": 17,
   "metadata": {
    "colab": {
     "base_uri": "https://localhost:8080/",
     "height": 204
    },
    "id": "TM3KAAC0kqhl",
    "outputId": "47d8b518-99b8-4bec-8e84-80d336a22e6e"
   },
   "outputs": [
    {
     "data": {
      "text/html": [
       "<div>\n",
       "<style scoped>\n",
       "    .dataframe tbody tr th:only-of-type {\n",
       "        vertical-align: middle;\n",
       "    }\n",
       "\n",
       "    .dataframe tbody tr th {\n",
       "        vertical-align: top;\n",
       "    }\n",
       "\n",
       "    .dataframe thead th {\n",
       "        text-align: right;\n",
       "    }\n",
       "</style>\n",
       "<table border=\"1\" class=\"dataframe\">\n",
       "  <thead>\n",
       "    <tr style=\"text-align: right;\">\n",
       "      <th></th>\n",
       "      <th>Temperature</th>\n",
       "      <th>Humidity</th>\n",
       "    </tr>\n",
       "  </thead>\n",
       "  <tbody>\n",
       "    <tr>\n",
       "      <th>0</th>\n",
       "      <td>1.0</td>\n",
       "      <td>22.0</td>\n",
       "    </tr>\n",
       "    <tr>\n",
       "      <th>1</th>\n",
       "      <td>2.0</td>\n",
       "      <td>12.0</td>\n",
       "    </tr>\n",
       "    <tr>\n",
       "      <th>2</th>\n",
       "      <td>3.0</td>\n",
       "      <td>2.0</td>\n",
       "    </tr>\n",
       "    <tr>\n",
       "      <th>3</th>\n",
       "      <td>2.0</td>\n",
       "      <td>11.0</td>\n",
       "    </tr>\n",
       "    <tr>\n",
       "      <th>4</th>\n",
       "      <td>3.0</td>\n",
       "      <td>20.0</td>\n",
       "    </tr>\n",
       "  </tbody>\n",
       "</table>\n",
       "</div>"
      ],
      "text/plain": [
       "   Temperature  Humidity\n",
       "0          1.0      22.0\n",
       "1          2.0      12.0\n",
       "2          3.0       2.0\n",
       "3          2.0      11.0\n",
       "4          3.0      20.0"
      ]
     },
     "execution_count": 17,
     "metadata": {},
     "output_type": "execute_result"
    }
   ],
   "source": [
    "#interpolate\n",
    "(df.interpolate())"
   ]
  },
  {
   "cell_type": "markdown",
   "metadata": {
    "id": "RU3U6gp9kqhm"
   },
   "source": [
    "You lucky champ! you got to know another amazing fact:\n",
    " - Interpolation method by default is linear in nature. It is an imputation technique that assumes a linear relationship between data points and utilises non-missing values from adjacent data points to compute a value for a missing data point.\n",
    "\n",
    "\n",
    "You can explore other techniques involved in interplolation method, which might be usefull for your project."
   ]
  },
  {
   "cell_type": "markdown",
   "metadata": {
    "id": "o8_jyqTskqhm"
   },
   "source": [
    "Perform KNN imputation\n"
   ]
  },
  {
   "cell_type": "code",
   "execution_count": 18,
   "metadata": {
    "colab": {
     "base_uri": "https://localhost:8080/",
     "height": 204
    },
    "id": "_8fxGCuUkqhm",
    "outputId": "8025923e-e7f3-43be-8e50-7e5f5a2472e4"
   },
   "outputs": [
    {
     "data": {
      "text/html": [
       "<div>\n",
       "<style scoped>\n",
       "    .dataframe tbody tr th:only-of-type {\n",
       "        vertical-align: middle;\n",
       "    }\n",
       "\n",
       "    .dataframe tbody tr th {\n",
       "        vertical-align: top;\n",
       "    }\n",
       "\n",
       "    .dataframe thead th {\n",
       "        text-align: right;\n",
       "    }\n",
       "</style>\n",
       "<table border=\"1\" class=\"dataframe\">\n",
       "  <thead>\n",
       "    <tr style=\"text-align: right;\">\n",
       "      <th></th>\n",
       "      <th>Temperature</th>\n",
       "      <th>Humidity</th>\n",
       "    </tr>\n",
       "  </thead>\n",
       "  <tbody>\n",
       "    <tr>\n",
       "      <th>0</th>\n",
       "      <td>1.00</td>\n",
       "      <td>22.000000</td>\n",
       "    </tr>\n",
       "    <tr>\n",
       "      <th>1</th>\n",
       "      <td>2.25</td>\n",
       "      <td>14.666667</td>\n",
       "    </tr>\n",
       "    <tr>\n",
       "      <th>2</th>\n",
       "      <td>3.00</td>\n",
       "      <td>2.000000</td>\n",
       "    </tr>\n",
       "    <tr>\n",
       "      <th>3</th>\n",
       "      <td>2.00</td>\n",
       "      <td>12.000000</td>\n",
       "    </tr>\n",
       "    <tr>\n",
       "      <th>4</th>\n",
       "      <td>3.00</td>\n",
       "      <td>20.000000</td>\n",
       "    </tr>\n",
       "  </tbody>\n",
       "</table>\n",
       "</div>"
      ],
      "text/plain": [
       "   Temperature   Humidity\n",
       "0         1.00  22.000000\n",
       "1         2.25  14.666667\n",
       "2         3.00   2.000000\n",
       "3         2.00  12.000000\n",
       "4         3.00  20.000000"
      ]
     },
     "execution_count": 18,
     "metadata": {},
     "output_type": "execute_result"
    }
   ],
   "source": [
    "# Hint: Import KNNImputer and impute it on d1. Also note: Use n_neighbors=2\n",
    "from sklearn.impute import KNNImputer\n",
    "\n",
    "imputer = KNNImputer(n_neighbors=2)\n",
    "new_df = pd.DataFrame(imputer.fit_transform(df),columns=('Temperature','Humidity'))\n",
    "new_df"
   ]
  },
  {
   "cell_type": "markdown",
   "metadata": {
    "id": "sESbshdUkqhm"
   },
   "source": [
    "Point to ponder: KNN is an algorithm that is useful for matching a point with its closest k neighbors in a multi-dimensional space.\n",
    "\n",
    "Do you think scaling is required to implement this method?. Yes you are right the answer is YES.\n",
    "Can you comment below why normalized data is required, so that we understand your logic on this."
   ]
  },
  {
   "cell_type": "markdown",
   "metadata": {
    "id": "xEL5JbBYkqhm"
   },
   "source": [
    "It requires us to normalize our data. Otherwise, the different scales of our data will lead the KNN Imputer to generate biased replacements for the missing values."
   ]
  },
  {
   "cell_type": "markdown",
   "metadata": {
    "id": "ReGk1Utckqhn"
   },
   "source": [
    "## **`Dropping Irrelevant Columns`**\n"
   ]
  },
  {
   "cell_type": "markdown",
   "metadata": {
    "id": "xZuUMHb3kqhn"
   },
   "source": [
    "<p style='text-align: right;'> 5 points</p>\n"
   ]
  },
  {
   "cell_type": "markdown",
   "metadata": {
    "id": "rJZ0HZJPkqhn"
   },
   "source": [
    "Create a dataframe df = pd.DataFrame(np.random.randint(0,100,size=(100, 5)), columns=list('ABCDE'))\n"
   ]
  },
  {
   "cell_type": "code",
   "execution_count": 19,
   "metadata": {
    "id": "XtENCthAkqhn"
   },
   "outputs": [
    {
     "data": {
      "text/html": [
       "<div>\n",
       "<style scoped>\n",
       "    .dataframe tbody tr th:only-of-type {\n",
       "        vertical-align: middle;\n",
       "    }\n",
       "\n",
       "    .dataframe tbody tr th {\n",
       "        vertical-align: top;\n",
       "    }\n",
       "\n",
       "    .dataframe thead th {\n",
       "        text-align: right;\n",
       "    }\n",
       "</style>\n",
       "<table border=\"1\" class=\"dataframe\">\n",
       "  <thead>\n",
       "    <tr style=\"text-align: right;\">\n",
       "      <th></th>\n",
       "      <th>A</th>\n",
       "      <th>B</th>\n",
       "      <th>C</th>\n",
       "      <th>D</th>\n",
       "      <th>E</th>\n",
       "    </tr>\n",
       "  </thead>\n",
       "  <tbody>\n",
       "    <tr>\n",
       "      <th>0</th>\n",
       "      <td>9</td>\n",
       "      <td>15</td>\n",
       "      <td>64</td>\n",
       "      <td>28</td>\n",
       "      <td>89</td>\n",
       "    </tr>\n",
       "    <tr>\n",
       "      <th>1</th>\n",
       "      <td>93</td>\n",
       "      <td>29</td>\n",
       "      <td>8</td>\n",
       "      <td>73</td>\n",
       "      <td>0</td>\n",
       "    </tr>\n",
       "    <tr>\n",
       "      <th>2</th>\n",
       "      <td>40</td>\n",
       "      <td>36</td>\n",
       "      <td>16</td>\n",
       "      <td>11</td>\n",
       "      <td>54</td>\n",
       "    </tr>\n",
       "    <tr>\n",
       "      <th>3</th>\n",
       "      <td>88</td>\n",
       "      <td>62</td>\n",
       "      <td>33</td>\n",
       "      <td>72</td>\n",
       "      <td>78</td>\n",
       "    </tr>\n",
       "    <tr>\n",
       "      <th>4</th>\n",
       "      <td>49</td>\n",
       "      <td>51</td>\n",
       "      <td>54</td>\n",
       "      <td>77</td>\n",
       "      <td>69</td>\n",
       "    </tr>\n",
       "  </tbody>\n",
       "</table>\n",
       "</div>"
      ],
      "text/plain": [
       "    A   B   C   D   E\n",
       "0   9  15  64  28  89\n",
       "1  93  29   8  73   0\n",
       "2  40  36  16  11  54\n",
       "3  88  62  33  72  78\n",
       "4  49  51  54  77  69"
      ]
     },
     "execution_count": 19,
     "metadata": {},
     "output_type": "execute_result"
    }
   ],
   "source": [
    "np.random.seed(10)\n",
    "\n",
    "df_req = pd.DataFrame(np.random.randint(0,100,size=(100, 5)), columns=list('ABCDE'))\n",
    "df_req.head()"
   ]
  },
  {
   "cell_type": "markdown",
   "metadata": {
    "id": "bUQ0M4CKkqhn"
   },
   "source": [
    "print df"
   ]
  },
  {
   "cell_type": "code",
   "execution_count": 20,
   "metadata": {
    "colab": {
     "base_uri": "https://localhost:8080/",
     "height": 419
    },
    "id": "iuFh13J_kqho",
    "outputId": "f3a0e545-f74b-4667-d539-32adc92fba63"
   },
   "outputs": [
    {
     "data": {
      "text/html": [
       "<div>\n",
       "<style scoped>\n",
       "    .dataframe tbody tr th:only-of-type {\n",
       "        vertical-align: middle;\n",
       "    }\n",
       "\n",
       "    .dataframe tbody tr th {\n",
       "        vertical-align: top;\n",
       "    }\n",
       "\n",
       "    .dataframe thead th {\n",
       "        text-align: right;\n",
       "    }\n",
       "</style>\n",
       "<table border=\"1\" class=\"dataframe\">\n",
       "  <thead>\n",
       "    <tr style=\"text-align: right;\">\n",
       "      <th></th>\n",
       "      <th>A</th>\n",
       "      <th>B</th>\n",
       "      <th>C</th>\n",
       "      <th>D</th>\n",
       "      <th>E</th>\n",
       "    </tr>\n",
       "  </thead>\n",
       "  <tbody>\n",
       "    <tr>\n",
       "      <th>0</th>\n",
       "      <td>9</td>\n",
       "      <td>15</td>\n",
       "      <td>64</td>\n",
       "      <td>28</td>\n",
       "      <td>89</td>\n",
       "    </tr>\n",
       "    <tr>\n",
       "      <th>1</th>\n",
       "      <td>93</td>\n",
       "      <td>29</td>\n",
       "      <td>8</td>\n",
       "      <td>73</td>\n",
       "      <td>0</td>\n",
       "    </tr>\n",
       "    <tr>\n",
       "      <th>2</th>\n",
       "      <td>40</td>\n",
       "      <td>36</td>\n",
       "      <td>16</td>\n",
       "      <td>11</td>\n",
       "      <td>54</td>\n",
       "    </tr>\n",
       "    <tr>\n",
       "      <th>3</th>\n",
       "      <td>88</td>\n",
       "      <td>62</td>\n",
       "      <td>33</td>\n",
       "      <td>72</td>\n",
       "      <td>78</td>\n",
       "    </tr>\n",
       "    <tr>\n",
       "      <th>4</th>\n",
       "      <td>49</td>\n",
       "      <td>51</td>\n",
       "      <td>54</td>\n",
       "      <td>77</td>\n",
       "      <td>69</td>\n",
       "    </tr>\n",
       "    <tr>\n",
       "      <th>...</th>\n",
       "      <td>...</td>\n",
       "      <td>...</td>\n",
       "      <td>...</td>\n",
       "      <td>...</td>\n",
       "      <td>...</td>\n",
       "    </tr>\n",
       "    <tr>\n",
       "      <th>95</th>\n",
       "      <td>3</td>\n",
       "      <td>50</td>\n",
       "      <td>59</td>\n",
       "      <td>34</td>\n",
       "      <td>21</td>\n",
       "    </tr>\n",
       "    <tr>\n",
       "      <th>96</th>\n",
       "      <td>16</td>\n",
       "      <td>18</td>\n",
       "      <td>61</td>\n",
       "      <td>54</td>\n",
       "      <td>60</td>\n",
       "    </tr>\n",
       "    <tr>\n",
       "      <th>97</th>\n",
       "      <td>21</td>\n",
       "      <td>87</td>\n",
       "      <td>83</td>\n",
       "      <td>71</td>\n",
       "      <td>16</td>\n",
       "    </tr>\n",
       "    <tr>\n",
       "      <th>98</th>\n",
       "      <td>67</td>\n",
       "      <td>38</td>\n",
       "      <td>27</td>\n",
       "      <td>96</td>\n",
       "      <td>87</td>\n",
       "    </tr>\n",
       "    <tr>\n",
       "      <th>99</th>\n",
       "      <td>98</td>\n",
       "      <td>89</td>\n",
       "      <td>16</td>\n",
       "      <td>82</td>\n",
       "      <td>19</td>\n",
       "    </tr>\n",
       "  </tbody>\n",
       "</table>\n",
       "<p>100 rows × 5 columns</p>\n",
       "</div>"
      ],
      "text/plain": [
       "     A   B   C   D   E\n",
       "0    9  15  64  28  89\n",
       "1   93  29   8  73   0\n",
       "2   40  36  16  11  54\n",
       "3   88  62  33  72  78\n",
       "4   49  51  54  77  69\n",
       "..  ..  ..  ..  ..  ..\n",
       "95   3  50  59  34  21\n",
       "96  16  18  61  54  60\n",
       "97  21  87  83  71  16\n",
       "98  67  38  27  96  87\n",
       "99  98  89  16  82  19\n",
       "\n",
       "[100 rows x 5 columns]"
      ]
     },
     "execution_count": 20,
     "metadata": {},
     "output_type": "execute_result"
    }
   ],
   "source": [
    "df_req"
   ]
  },
  {
   "cell_type": "markdown",
   "metadata": {
    "id": "cctu8rh5lL9j"
   },
   "source": [
    "Note: Since all the rows are having random numbers, your dataframe observations might be different than the output given above"
   ]
  },
  {
   "cell_type": "markdown",
   "metadata": {
    "id": "wwTEQf2Jkqho"
   },
   "source": [
    "Suppose for our analysis our project do not require column E. So you need to remove this column. update this new change using inplace parameter"
   ]
  },
  {
   "cell_type": "code",
   "execution_count": 21,
   "metadata": {
    "id": "6dPLhUwikqho"
   },
   "outputs": [],
   "source": [
    "df_req.drop('E' , axis = 1, inplace=True)"
   ]
  },
  {
   "cell_type": "markdown",
   "metadata": {
    "id": "1rtM-5APkqho"
   },
   "source": [
    "Check if column **E** is removed by printing head of df"
   ]
  },
  {
   "cell_type": "code",
   "execution_count": 22,
   "metadata": {
    "colab": {
     "base_uri": "https://localhost:8080/",
     "height": 204
    },
    "id": "yvEa_vfOkqhp",
    "outputId": "430c55a4-3c69-4a95-8d7b-29f1a8911882"
   },
   "outputs": [
    {
     "data": {
      "text/html": [
       "<div>\n",
       "<style scoped>\n",
       "    .dataframe tbody tr th:only-of-type {\n",
       "        vertical-align: middle;\n",
       "    }\n",
       "\n",
       "    .dataframe tbody tr th {\n",
       "        vertical-align: top;\n",
       "    }\n",
       "\n",
       "    .dataframe thead th {\n",
       "        text-align: right;\n",
       "    }\n",
       "</style>\n",
       "<table border=\"1\" class=\"dataframe\">\n",
       "  <thead>\n",
       "    <tr style=\"text-align: right;\">\n",
       "      <th></th>\n",
       "      <th>A</th>\n",
       "      <th>B</th>\n",
       "      <th>C</th>\n",
       "      <th>D</th>\n",
       "    </tr>\n",
       "  </thead>\n",
       "  <tbody>\n",
       "    <tr>\n",
       "      <th>0</th>\n",
       "      <td>9</td>\n",
       "      <td>15</td>\n",
       "      <td>64</td>\n",
       "      <td>28</td>\n",
       "    </tr>\n",
       "    <tr>\n",
       "      <th>1</th>\n",
       "      <td>93</td>\n",
       "      <td>29</td>\n",
       "      <td>8</td>\n",
       "      <td>73</td>\n",
       "    </tr>\n",
       "    <tr>\n",
       "      <th>2</th>\n",
       "      <td>40</td>\n",
       "      <td>36</td>\n",
       "      <td>16</td>\n",
       "      <td>11</td>\n",
       "    </tr>\n",
       "    <tr>\n",
       "      <th>3</th>\n",
       "      <td>88</td>\n",
       "      <td>62</td>\n",
       "      <td>33</td>\n",
       "      <td>72</td>\n",
       "    </tr>\n",
       "    <tr>\n",
       "      <th>4</th>\n",
       "      <td>49</td>\n",
       "      <td>51</td>\n",
       "      <td>54</td>\n",
       "      <td>77</td>\n",
       "    </tr>\n",
       "  </tbody>\n",
       "</table>\n",
       "</div>"
      ],
      "text/plain": [
       "    A   B   C   D\n",
       "0   9  15  64  28\n",
       "1  93  29   8  73\n",
       "2  40  36  16  11\n",
       "3  88  62  33  72\n",
       "4  49  51  54  77"
      ]
     },
     "execution_count": 22,
     "metadata": {},
     "output_type": "execute_result"
    }
   ],
   "source": [
    "df_req.head()"
   ]
  },
  {
   "cell_type": "markdown",
   "metadata": {
    "id": "XQDwFmMKkqhq"
   },
   "source": [
    "### `Ensure requirements as per domain`"
   ]
  },
  {
   "cell_type": "markdown",
   "metadata": {
    "id": "uN5BNC29kqhq"
   },
   "source": [
    "<p style='text-align: right;'> 10 points</p>\n"
   ]
  },
  {
   "cell_type": "code",
   "execution_count": 166,
   "metadata": {
    "colab": {
     "base_uri": "https://localhost:8080/",
     "height": 321
    },
    "id": "I8Um02eIuaLJ",
    "outputId": "f1875b79-e529-4ea4-9b78-d140b65d209d"
   },
   "outputs": [],
   "source": [
    "# YouTubeVideo('https://www.youtube.com/watch?v=Y230Di2SSz8&list=PLsR_0x6BuM-F4Z72h5D1bjWEASL0_JlrF&index=5',width=600,height=300)"
   ]
  },
  {
   "cell_type": "markdown",
   "metadata": {
    "id": "V1LgaSKOjnPm"
   },
   "source": [
    "\n",
    "Shallow copy the dataframe df in variable df2 and print df2 head\n",
    "\n",
    "\n",
    "\n",
    "\n"
   ]
  },
  {
   "cell_type": "code",
   "execution_count": 24,
   "metadata": {
    "colab": {
     "base_uri": "https://localhost:8080/",
     "height": 204
    },
    "id": "uFK6ZRVZjTAt",
    "outputId": "f555e7df-aed0-4bbf-95fb-09e404a44e83"
   },
   "outputs": [
    {
     "data": {
      "text/html": [
       "<div>\n",
       "<style scoped>\n",
       "    .dataframe tbody tr th:only-of-type {\n",
       "        vertical-align: middle;\n",
       "    }\n",
       "\n",
       "    .dataframe tbody tr th {\n",
       "        vertical-align: top;\n",
       "    }\n",
       "\n",
       "    .dataframe thead th {\n",
       "        text-align: right;\n",
       "    }\n",
       "</style>\n",
       "<table border=\"1\" class=\"dataframe\">\n",
       "  <thead>\n",
       "    <tr style=\"text-align: right;\">\n",
       "      <th></th>\n",
       "      <th>A</th>\n",
       "      <th>B</th>\n",
       "      <th>C</th>\n",
       "      <th>D</th>\n",
       "    </tr>\n",
       "  </thead>\n",
       "  <tbody>\n",
       "    <tr>\n",
       "      <th>0</th>\n",
       "      <td>9</td>\n",
       "      <td>15</td>\n",
       "      <td>64</td>\n",
       "      <td>28</td>\n",
       "    </tr>\n",
       "    <tr>\n",
       "      <th>1</th>\n",
       "      <td>93</td>\n",
       "      <td>29</td>\n",
       "      <td>8</td>\n",
       "      <td>73</td>\n",
       "    </tr>\n",
       "    <tr>\n",
       "      <th>2</th>\n",
       "      <td>40</td>\n",
       "      <td>36</td>\n",
       "      <td>16</td>\n",
       "      <td>11</td>\n",
       "    </tr>\n",
       "    <tr>\n",
       "      <th>3</th>\n",
       "      <td>88</td>\n",
       "      <td>62</td>\n",
       "      <td>33</td>\n",
       "      <td>72</td>\n",
       "    </tr>\n",
       "    <tr>\n",
       "      <th>4</th>\n",
       "      <td>49</td>\n",
       "      <td>51</td>\n",
       "      <td>54</td>\n",
       "      <td>77</td>\n",
       "    </tr>\n",
       "  </tbody>\n",
       "</table>\n",
       "</div>"
      ],
      "text/plain": [
       "    A   B   C   D\n",
       "0   9  15  64  28\n",
       "1  93  29   8  73\n",
       "2  40  36  16  11\n",
       "3  88  62  33  72\n",
       "4  49  51  54  77"
      ]
     },
     "execution_count": 24,
     "metadata": {},
     "output_type": "execute_result"
    }
   ],
   "source": [
    "import copy\n",
    "\n",
    "df2_req = df_req.copy()\n",
    "df2_req.head()\n",
    "#df2 head\n"
   ]
  },
  {
   "cell_type": "markdown",
   "metadata": {
    "id": "2OmoXpwLkqhq"
   },
   "source": [
    "Suppose your domain expert says to filter column B with even numbers to do correct analysis. Implement the same below and update the change in varaible df2."
   ]
  },
  {
   "cell_type": "code",
   "execution_count": 25,
   "metadata": {
    "id": "lOG09CHLkqhq"
   },
   "outputs": [],
   "source": [
    "df2_req = df2_req[df2_req.B%2 == 0]"
   ]
  },
  {
   "cell_type": "markdown",
   "metadata": {
    "id": "9glWk_f8kqhq"
   },
   "source": [
    "print updated head of *df2*"
   ]
  },
  {
   "cell_type": "code",
   "execution_count": 26,
   "metadata": {
    "colab": {
     "base_uri": "https://localhost:8080/",
     "height": 204
    },
    "id": "-7DJrucnkqhq",
    "outputId": "e675f0c2-6b98-4895-e60a-f80bf94b5ae0"
   },
   "outputs": [
    {
     "data": {
      "text/html": [
       "<div>\n",
       "<style scoped>\n",
       "    .dataframe tbody tr th:only-of-type {\n",
       "        vertical-align: middle;\n",
       "    }\n",
       "\n",
       "    .dataframe tbody tr th {\n",
       "        vertical-align: top;\n",
       "    }\n",
       "\n",
       "    .dataframe thead th {\n",
       "        text-align: right;\n",
       "    }\n",
       "</style>\n",
       "<table border=\"1\" class=\"dataframe\">\n",
       "  <thead>\n",
       "    <tr style=\"text-align: right;\">\n",
       "      <th></th>\n",
       "      <th>A</th>\n",
       "      <th>B</th>\n",
       "      <th>C</th>\n",
       "      <th>D</th>\n",
       "    </tr>\n",
       "  </thead>\n",
       "  <tbody>\n",
       "    <tr>\n",
       "      <th>2</th>\n",
       "      <td>40</td>\n",
       "      <td>36</td>\n",
       "      <td>16</td>\n",
       "      <td>11</td>\n",
       "    </tr>\n",
       "    <tr>\n",
       "      <th>3</th>\n",
       "      <td>88</td>\n",
       "      <td>62</td>\n",
       "      <td>33</td>\n",
       "      <td>72</td>\n",
       "    </tr>\n",
       "    <tr>\n",
       "      <th>6</th>\n",
       "      <td>30</td>\n",
       "      <td>30</td>\n",
       "      <td>89</td>\n",
       "      <td>12</td>\n",
       "    </tr>\n",
       "    <tr>\n",
       "      <th>9</th>\n",
       "      <td>11</td>\n",
       "      <td>28</td>\n",
       "      <td>74</td>\n",
       "      <td>88</td>\n",
       "    </tr>\n",
       "    <tr>\n",
       "      <th>10</th>\n",
       "      <td>15</td>\n",
       "      <td>18</td>\n",
       "      <td>80</td>\n",
       "      <td>71</td>\n",
       "    </tr>\n",
       "  </tbody>\n",
       "</table>\n",
       "</div>"
      ],
      "text/plain": [
       "     A   B   C   D\n",
       "2   40  36  16  11\n",
       "3   88  62  33  72\n",
       "6   30  30  89  12\n",
       "9   11  28  74  88\n",
       "10  15  18  80  71"
      ]
     },
     "execution_count": 26,
     "metadata": {},
     "output_type": "execute_result"
    }
   ],
   "source": [
    "# df2 head\n",
    "df2_req.head()"
   ]
  },
  {
   "cell_type": "markdown",
   "metadata": {
    "id": "dRAh9uVnkqhq"
   },
   "source": [
    "### `Creating a sensible index values`\n",
    "\n"
   ]
  },
  {
   "cell_type": "markdown",
   "metadata": {
    "id": "ngZAGkC2kqhr"
   },
   "source": [
    "Oops. The index in this dataframe doesn't make sense. please correct index in a sequential manner starting from 1. Save the updates in df2"
   ]
  },
  {
   "cell_type": "code",
   "execution_count": 27,
   "metadata": {
    "id": "X_M-38Qxkqhr"
   },
   "outputs": [],
   "source": [
    "#set proper index\n",
    "df2_req.reset_index(inplace = True , drop=True)"
   ]
  },
  {
   "cell_type": "markdown",
   "metadata": {
    "id": "k7MEL_Ldkqhr"
   },
   "source": [
    "print df2 head again"
   ]
  },
  {
   "cell_type": "code",
   "execution_count": 28,
   "metadata": {
    "colab": {
     "base_uri": "https://localhost:8080/",
     "height": 204
    },
    "id": "_qLt44-vkqhr",
    "outputId": "688b563b-75bf-4c6e-d051-f994596791d7"
   },
   "outputs": [
    {
     "data": {
      "text/html": [
       "<div>\n",
       "<style scoped>\n",
       "    .dataframe tbody tr th:only-of-type {\n",
       "        vertical-align: middle;\n",
       "    }\n",
       "\n",
       "    .dataframe tbody tr th {\n",
       "        vertical-align: top;\n",
       "    }\n",
       "\n",
       "    .dataframe thead th {\n",
       "        text-align: right;\n",
       "    }\n",
       "</style>\n",
       "<table border=\"1\" class=\"dataframe\">\n",
       "  <thead>\n",
       "    <tr style=\"text-align: right;\">\n",
       "      <th></th>\n",
       "      <th>A</th>\n",
       "      <th>B</th>\n",
       "      <th>C</th>\n",
       "      <th>D</th>\n",
       "    </tr>\n",
       "  </thead>\n",
       "  <tbody>\n",
       "    <tr>\n",
       "      <th>0</th>\n",
       "      <td>40</td>\n",
       "      <td>36</td>\n",
       "      <td>16</td>\n",
       "      <td>11</td>\n",
       "    </tr>\n",
       "    <tr>\n",
       "      <th>1</th>\n",
       "      <td>88</td>\n",
       "      <td>62</td>\n",
       "      <td>33</td>\n",
       "      <td>72</td>\n",
       "    </tr>\n",
       "    <tr>\n",
       "      <th>2</th>\n",
       "      <td>30</td>\n",
       "      <td>30</td>\n",
       "      <td>89</td>\n",
       "      <td>12</td>\n",
       "    </tr>\n",
       "    <tr>\n",
       "      <th>3</th>\n",
       "      <td>11</td>\n",
       "      <td>28</td>\n",
       "      <td>74</td>\n",
       "      <td>88</td>\n",
       "    </tr>\n",
       "    <tr>\n",
       "      <th>4</th>\n",
       "      <td>15</td>\n",
       "      <td>18</td>\n",
       "      <td>80</td>\n",
       "      <td>71</td>\n",
       "    </tr>\n",
       "  </tbody>\n",
       "</table>\n",
       "</div>"
      ],
      "text/plain": [
       "    A   B   C   D\n",
       "0  40  36  16  11\n",
       "1  88  62  33  72\n",
       "2  30  30  89  12\n",
       "3  11  28  74  88\n",
       "4  15  18  80  71"
      ]
     },
     "execution_count": 28,
     "metadata": {},
     "output_type": "execute_result"
    }
   ],
   "source": [
    "# df2 head\n",
    "df2_req.head()"
   ]
  },
  {
   "cell_type": "markdown",
   "metadata": {
    "id": "t1htc1J-kqhr"
   },
   "source": [
    "## **`Renaming column names to meaningful names.`**\n",
    "\n",
    "<p style='text-align: right;'> 2 points</p>\n"
   ]
  },
  {
   "cell_type": "markdown",
   "metadata": {
    "id": "P3JtdP4fkqhr"
   },
   "source": [
    "Now df2 columns represents marks of the adventurous 'Anand', the brave 'Barkha', the compassionate 'Chandu' and the dashing 'Daniel'. Rename the columns with their name inplace of their first letter of their name."
   ]
  },
  {
   "cell_type": "code",
   "execution_count": 29,
   "metadata": {
    "id": "wsQ2Sr-9kqhs"
   },
   "outputs": [
    {
     "data": {
      "text/html": [
       "<div>\n",
       "<style scoped>\n",
       "    .dataframe tbody tr th:only-of-type {\n",
       "        vertical-align: middle;\n",
       "    }\n",
       "\n",
       "    .dataframe tbody tr th {\n",
       "        vertical-align: top;\n",
       "    }\n",
       "\n",
       "    .dataframe thead th {\n",
       "        text-align: right;\n",
       "    }\n",
       "</style>\n",
       "<table border=\"1\" class=\"dataframe\">\n",
       "  <thead>\n",
       "    <tr style=\"text-align: right;\">\n",
       "      <th></th>\n",
       "      <th>Anand</th>\n",
       "      <th>Barkha</th>\n",
       "      <th>Chandu</th>\n",
       "      <th>Daniel</th>\n",
       "    </tr>\n",
       "  </thead>\n",
       "  <tbody>\n",
       "    <tr>\n",
       "      <th>43</th>\n",
       "      <td>1</td>\n",
       "      <td>82</td>\n",
       "      <td>34</td>\n",
       "      <td>11</td>\n",
       "    </tr>\n",
       "    <tr>\n",
       "      <th>44</th>\n",
       "      <td>74</td>\n",
       "      <td>36</td>\n",
       "      <td>6</td>\n",
       "      <td>63</td>\n",
       "    </tr>\n",
       "    <tr>\n",
       "      <th>45</th>\n",
       "      <td>3</td>\n",
       "      <td>50</td>\n",
       "      <td>59</td>\n",
       "      <td>34</td>\n",
       "    </tr>\n",
       "    <tr>\n",
       "      <th>46</th>\n",
       "      <td>16</td>\n",
       "      <td>18</td>\n",
       "      <td>61</td>\n",
       "      <td>54</td>\n",
       "    </tr>\n",
       "    <tr>\n",
       "      <th>47</th>\n",
       "      <td>67</td>\n",
       "      <td>38</td>\n",
       "      <td>27</td>\n",
       "      <td>96</td>\n",
       "    </tr>\n",
       "  </tbody>\n",
       "</table>\n",
       "</div>"
      ],
      "text/plain": [
       "    Anand  Barkha  Chandu  Daniel\n",
       "43      1      82      34      11\n",
       "44     74      36       6      63\n",
       "45      3      50      59      34\n",
       "46     16      18      61      54\n",
       "47     67      38      27      96"
      ]
     },
     "execution_count": 29,
     "metadata": {},
     "output_type": "execute_result"
    }
   ],
   "source": [
    "#column renamingta\n",
    "df2_req = df2_req.rename(columns={\"A\":\"Anand\" , \"B\":\"Barkha\", \"C\":\"Chandu\", \"D\":\"Daniel\"})\n",
    "df2_req.tail()"
   ]
  },
  {
   "cell_type": "markdown",
   "metadata": {
    "id": "wwV5om7Ikqhs"
   },
   "source": [
    "print df2 tail with updated column names"
   ]
  },
  {
   "cell_type": "code",
   "execution_count": 30,
   "metadata": {
    "colab": {
     "base_uri": "https://localhost:8080/",
     "height": 204
    },
    "id": "ZA5btO84kqhs",
    "outputId": "e2e18f76-e22a-4ee2-bcab-478ca7f83cbb"
   },
   "outputs": [
    {
     "data": {
      "text/html": [
       "<div>\n",
       "<style scoped>\n",
       "    .dataframe tbody tr th:only-of-type {\n",
       "        vertical-align: middle;\n",
       "    }\n",
       "\n",
       "    .dataframe tbody tr th {\n",
       "        vertical-align: top;\n",
       "    }\n",
       "\n",
       "    .dataframe thead th {\n",
       "        text-align: right;\n",
       "    }\n",
       "</style>\n",
       "<table border=\"1\" class=\"dataframe\">\n",
       "  <thead>\n",
       "    <tr style=\"text-align: right;\">\n",
       "      <th></th>\n",
       "      <th>Anand</th>\n",
       "      <th>Barkha</th>\n",
       "      <th>Chandu</th>\n",
       "      <th>Daniel</th>\n",
       "    </tr>\n",
       "  </thead>\n",
       "  <tbody>\n",
       "    <tr>\n",
       "      <th>0</th>\n",
       "      <td>40</td>\n",
       "      <td>36</td>\n",
       "      <td>16</td>\n",
       "      <td>11</td>\n",
       "    </tr>\n",
       "    <tr>\n",
       "      <th>1</th>\n",
       "      <td>88</td>\n",
       "      <td>62</td>\n",
       "      <td>33</td>\n",
       "      <td>72</td>\n",
       "    </tr>\n",
       "    <tr>\n",
       "      <th>2</th>\n",
       "      <td>30</td>\n",
       "      <td>30</td>\n",
       "      <td>89</td>\n",
       "      <td>12</td>\n",
       "    </tr>\n",
       "    <tr>\n",
       "      <th>3</th>\n",
       "      <td>11</td>\n",
       "      <td>28</td>\n",
       "      <td>74</td>\n",
       "      <td>88</td>\n",
       "    </tr>\n",
       "    <tr>\n",
       "      <th>4</th>\n",
       "      <td>15</td>\n",
       "      <td>18</td>\n",
       "      <td>80</td>\n",
       "      <td>71</td>\n",
       "    </tr>\n",
       "  </tbody>\n",
       "</table>\n",
       "</div>"
      ],
      "text/plain": [
       "   Anand  Barkha  Chandu  Daniel\n",
       "0     40      36      16      11\n",
       "1     88      62      33      72\n",
       "2     30      30      89      12\n",
       "3     11      28      74      88\n",
       "4     15      18      80      71"
      ]
     },
     "execution_count": 30,
     "metadata": {},
     "output_type": "execute_result"
    }
   ],
   "source": [
    "# df2 head\n",
    "df2_req.head()"
   ]
  },
  {
   "cell_type": "markdown",
   "metadata": {
    "id": "OVPJo5YEkqhs"
   },
   "source": [
    "Yeah! now the data looks pretty meaningful to study"
   ]
  },
  {
   "cell_type": "markdown",
   "metadata": {
    "id": "TmIexkkOkqhs"
   },
   "source": [
    "## **`Treating Duplicate Data`**\n"
   ]
  },
  {
   "cell_type": "markdown",
   "metadata": {
    "id": "WndpHrtvkqhs"
   },
   "source": [
    "<p style='text-align: right;'> 20 points</p>\n"
   ]
  },
  {
   "cell_type": "markdown",
   "metadata": {
    "id": "FisYRuFD0CA7"
   },
   "source": [
    "Make another dataframe df3 by deep copying df2."
   ]
  },
  {
   "cell_type": "code",
   "execution_count": 31,
   "metadata": {
    "id": "7YdZvdGozNFT"
   },
   "outputs": [],
   "source": [
    "df3_req = df2_req.copy()"
   ]
  },
  {
   "cell_type": "markdown",
   "metadata": {
    "id": "3hCi4Zjokqhs"
   },
   "source": [
    "Make another column in df3 with name 'dummy' having 0 as values\n",
    "throughout the rows."
   ]
  },
  {
   "cell_type": "code",
   "execution_count": 32,
   "metadata": {
    "id": "IdXkjwYHkqht"
   },
   "outputs": [
    {
     "data": {
      "text/html": [
       "<div>\n",
       "<style scoped>\n",
       "    .dataframe tbody tr th:only-of-type {\n",
       "        vertical-align: middle;\n",
       "    }\n",
       "\n",
       "    .dataframe tbody tr th {\n",
       "        vertical-align: top;\n",
       "    }\n",
       "\n",
       "    .dataframe thead th {\n",
       "        text-align: right;\n",
       "    }\n",
       "</style>\n",
       "<table border=\"1\" class=\"dataframe\">\n",
       "  <thead>\n",
       "    <tr style=\"text-align: right;\">\n",
       "      <th></th>\n",
       "      <th>Anand</th>\n",
       "      <th>Barkha</th>\n",
       "      <th>Chandu</th>\n",
       "      <th>Daniel</th>\n",
       "      <th>dummy</th>\n",
       "    </tr>\n",
       "  </thead>\n",
       "  <tbody>\n",
       "    <tr>\n",
       "      <th>0</th>\n",
       "      <td>40</td>\n",
       "      <td>36</td>\n",
       "      <td>16</td>\n",
       "      <td>11</td>\n",
       "      <td>0</td>\n",
       "    </tr>\n",
       "    <tr>\n",
       "      <th>1</th>\n",
       "      <td>88</td>\n",
       "      <td>62</td>\n",
       "      <td>33</td>\n",
       "      <td>72</td>\n",
       "      <td>0</td>\n",
       "    </tr>\n",
       "    <tr>\n",
       "      <th>2</th>\n",
       "      <td>30</td>\n",
       "      <td>30</td>\n",
       "      <td>89</td>\n",
       "      <td>12</td>\n",
       "      <td>0</td>\n",
       "    </tr>\n",
       "    <tr>\n",
       "      <th>3</th>\n",
       "      <td>11</td>\n",
       "      <td>28</td>\n",
       "      <td>74</td>\n",
       "      <td>88</td>\n",
       "      <td>0</td>\n",
       "    </tr>\n",
       "    <tr>\n",
       "      <th>4</th>\n",
       "      <td>15</td>\n",
       "      <td>18</td>\n",
       "      <td>80</td>\n",
       "      <td>71</td>\n",
       "      <td>0</td>\n",
       "    </tr>\n",
       "  </tbody>\n",
       "</table>\n",
       "</div>"
      ],
      "text/plain": [
       "   Anand  Barkha  Chandu  Daniel  dummy\n",
       "0     40      36      16      11      0\n",
       "1     88      62      33      72      0\n",
       "2     30      30      89      12      0\n",
       "3     11      28      74      88      0\n",
       "4     15      18      80      71      0"
      ]
     },
     "execution_count": 32,
     "metadata": {},
     "output_type": "execute_result"
    }
   ],
   "source": [
    "#assign dummy column full of zero value\n",
    "df3_req['dummy'] = df3_req['Anand'].apply(lambda x : x - x) \n",
    "df3_req.head()"
   ]
  },
  {
   "cell_type": "code",
   "execution_count": 33,
   "metadata": {
    "colab": {
     "base_uri": "https://localhost:8080/"
    },
    "id": "en7XzaxD2rrV",
    "outputId": "573367eb-8311-485e-f6d2-1903f6176c67"
   },
   "outputs": [
    {
     "name": "stdout",
     "output_type": "stream",
     "text": [
      "    A   B   C   D\n",
      "0   9  15  64  28\n",
      "1  93  29   8  73\n",
      "2  40  36  16  11\n",
      "3  88  62  33  72\n",
      "4  49  51  54  77\n",
      "   Anand  Barkha  Chandu  Daniel\n",
      "0     40      36      16      11\n",
      "1     88      62      33      72\n",
      "2     30      30      89      12\n",
      "3     11      28      74      88\n",
      "4     15      18      80      71\n",
      "   Anand  Barkha  Chandu  Daniel  dummy\n",
      "0     40      36      16      11      0\n",
      "1     88      62      33      72      0\n",
      "2     30      30      89      12      0\n",
      "3     11      28      74      88      0\n",
      "4     15      18      80      71      0\n",
      "     A   B   C   D\n",
      "95   3  50  59  34\n",
      "96  16  18  61  54\n",
      "97  21  87  83  71\n",
      "98  67  38  27  96\n",
      "99  98  89  16  82\n",
      "    Anand  Barkha  Chandu  Daniel\n",
      "43      1      82      34      11\n",
      "44     74      36       6      63\n",
      "45      3      50      59      34\n",
      "46     16      18      61      54\n",
      "47     67      38      27      96\n",
      "    Anand  Barkha  Chandu  Daniel  dummy\n",
      "43      1      82      34      11      0\n",
      "44     74      36       6      63      0\n",
      "45      3      50      59      34      0\n",
      "46     16      18      61      54      0\n",
      "47     67      38      27      96      0\n"
     ]
    }
   ],
   "source": [
    "# print head of df, df2 and df3\n",
    "print(df_req.head())\n",
    "print(df2_req.head())\n",
    "print(df3_req.head())\n",
    "print(df_req.tail())\n",
    "print(df2_req.tail())\n",
    "print(df3_req.tail())"
   ]
  },
  {
   "cell_type": "markdown",
   "metadata": {
    "id": "MxcNd_Ja1YXs"
   },
   "source": [
    "Hey buddy! Don't you think, there is some difference between copy operation used for creating df2 and df3.\n",
    "\n",
    "If you think Yes, Then please comment below the difference"
   ]
  },
  {
   "cell_type": "code",
   "execution_count": 34,
   "metadata": {
    "id": "HLLRqTPx1oRs"
   },
   "outputs": [],
   "source": [
    "# comment"
   ]
  },
  {
   "cell_type": "markdown",
   "metadata": {
    "id": "2vlkb3edkqht"
   },
   "source": [
    "print tail of df3"
   ]
  },
  {
   "cell_type": "code",
   "execution_count": 35,
   "metadata": {
    "colab": {
     "base_uri": "https://localhost:8080/",
     "height": 204
    },
    "id": "asZ8XuR55qIC",
    "outputId": "70a34b6b-8f4f-410e-a9fb-571456608404"
   },
   "outputs": [
    {
     "data": {
      "text/html": [
       "<div>\n",
       "<style scoped>\n",
       "    .dataframe tbody tr th:only-of-type {\n",
       "        vertical-align: middle;\n",
       "    }\n",
       "\n",
       "    .dataframe tbody tr th {\n",
       "        vertical-align: top;\n",
       "    }\n",
       "\n",
       "    .dataframe thead th {\n",
       "        text-align: right;\n",
       "    }\n",
       "</style>\n",
       "<table border=\"1\" class=\"dataframe\">\n",
       "  <thead>\n",
       "    <tr style=\"text-align: right;\">\n",
       "      <th></th>\n",
       "      <th>Anand</th>\n",
       "      <th>Barkha</th>\n",
       "      <th>Chandu</th>\n",
       "      <th>Daniel</th>\n",
       "      <th>dummy</th>\n",
       "    </tr>\n",
       "  </thead>\n",
       "  <tbody>\n",
       "    <tr>\n",
       "      <th>43</th>\n",
       "      <td>1</td>\n",
       "      <td>82</td>\n",
       "      <td>34</td>\n",
       "      <td>11</td>\n",
       "      <td>0</td>\n",
       "    </tr>\n",
       "    <tr>\n",
       "      <th>44</th>\n",
       "      <td>74</td>\n",
       "      <td>36</td>\n",
       "      <td>6</td>\n",
       "      <td>63</td>\n",
       "      <td>0</td>\n",
       "    </tr>\n",
       "    <tr>\n",
       "      <th>45</th>\n",
       "      <td>3</td>\n",
       "      <td>50</td>\n",
       "      <td>59</td>\n",
       "      <td>34</td>\n",
       "      <td>0</td>\n",
       "    </tr>\n",
       "    <tr>\n",
       "      <th>46</th>\n",
       "      <td>16</td>\n",
       "      <td>18</td>\n",
       "      <td>61</td>\n",
       "      <td>54</td>\n",
       "      <td>0</td>\n",
       "    </tr>\n",
       "    <tr>\n",
       "      <th>47</th>\n",
       "      <td>67</td>\n",
       "      <td>38</td>\n",
       "      <td>27</td>\n",
       "      <td>96</td>\n",
       "      <td>0</td>\n",
       "    </tr>\n",
       "  </tbody>\n",
       "</table>\n",
       "</div>"
      ],
      "text/plain": [
       "    Anand  Barkha  Chandu  Daniel  dummy\n",
       "43      1      82      34      11      0\n",
       "44     74      36       6      63      0\n",
       "45      3      50      59      34      0\n",
       "46     16      18      61      54      0\n",
       "47     67      38      27      96      0"
      ]
     },
     "execution_count": 35,
     "metadata": {},
     "output_type": "execute_result"
    }
   ],
   "source": [
    "df3_req.tail()"
   ]
  },
  {
   "cell_type": "markdown",
   "metadata": {
    "id": "r4ulvQTdkqht"
   },
   "source": [
    "make an array name 'ListB' with values of column 'Barkha'"
   ]
  },
  {
   "cell_type": "code",
   "execution_count": 36,
   "metadata": {
    "id": "DDQvQNGdkqht"
   },
   "outputs": [],
   "source": [
    "ListB=list(df3_req.Barkha)"
   ]
  },
  {
   "cell_type": "markdown",
   "metadata": {
    "id": "kxp2Sttm57LA"
   },
   "source": [
    "Print ListB"
   ]
  },
  {
   "cell_type": "code",
   "execution_count": 37,
   "metadata": {
    "colab": {
     "base_uri": "https://localhost:8080/"
    },
    "id": "fCqZUrDdkqht",
    "outputId": "384ae6ce-911a-419a-8d6e-10a66a54b982"
   },
   "outputs": [
    {
     "name": "stdout",
     "output_type": "stream",
     "text": [
      "[36, 62, 30, 28, 18, 50, 88, 50, 80, 66, 96, 30, 4, 30, 2, 42, 94, 18, 44, 68, 58, 48, 70, 22, 36, 32, 32, 96, 30, 86, 0, 76, 88, 64, 52, 46, 20, 66, 56, 8, 68, 50, 28, 82, 36, 50, 18, 38]\n"
     ]
    }
   ],
   "source": [
    "#print ListB\n",
    "print(ListB)"
   ]
  },
  {
   "cell_type": "markdown",
   "metadata": {
    "id": "XdTgrnTJkqhu"
   },
   "source": [
    "Assign this array values as another column in df3 with name 'Anonymous'"
   ]
  },
  {
   "cell_type": "code",
   "execution_count": 38,
   "metadata": {
    "id": "2U01qa6Akqhu"
   },
   "outputs": [
    {
     "data": {
      "text/html": [
       "<div>\n",
       "<style scoped>\n",
       "    .dataframe tbody tr th:only-of-type {\n",
       "        vertical-align: middle;\n",
       "    }\n",
       "\n",
       "    .dataframe tbody tr th {\n",
       "        vertical-align: top;\n",
       "    }\n",
       "\n",
       "    .dataframe thead th {\n",
       "        text-align: right;\n",
       "    }\n",
       "</style>\n",
       "<table border=\"1\" class=\"dataframe\">\n",
       "  <thead>\n",
       "    <tr style=\"text-align: right;\">\n",
       "      <th></th>\n",
       "      <th>Anand</th>\n",
       "      <th>Barkha</th>\n",
       "      <th>Chandu</th>\n",
       "      <th>Daniel</th>\n",
       "      <th>dummy</th>\n",
       "      <th>Anonymous</th>\n",
       "    </tr>\n",
       "  </thead>\n",
       "  <tbody>\n",
       "    <tr>\n",
       "      <th>0</th>\n",
       "      <td>40</td>\n",
       "      <td>36</td>\n",
       "      <td>16</td>\n",
       "      <td>11</td>\n",
       "      <td>0</td>\n",
       "      <td>36</td>\n",
       "    </tr>\n",
       "    <tr>\n",
       "      <th>1</th>\n",
       "      <td>88</td>\n",
       "      <td>62</td>\n",
       "      <td>33</td>\n",
       "      <td>72</td>\n",
       "      <td>0</td>\n",
       "      <td>62</td>\n",
       "    </tr>\n",
       "    <tr>\n",
       "      <th>2</th>\n",
       "      <td>30</td>\n",
       "      <td>30</td>\n",
       "      <td>89</td>\n",
       "      <td>12</td>\n",
       "      <td>0</td>\n",
       "      <td>30</td>\n",
       "    </tr>\n",
       "    <tr>\n",
       "      <th>3</th>\n",
       "      <td>11</td>\n",
       "      <td>28</td>\n",
       "      <td>74</td>\n",
       "      <td>88</td>\n",
       "      <td>0</td>\n",
       "      <td>28</td>\n",
       "    </tr>\n",
       "    <tr>\n",
       "      <th>4</th>\n",
       "      <td>15</td>\n",
       "      <td>18</td>\n",
       "      <td>80</td>\n",
       "      <td>71</td>\n",
       "      <td>0</td>\n",
       "      <td>18</td>\n",
       "    </tr>\n",
       "  </tbody>\n",
       "</table>\n",
       "</div>"
      ],
      "text/plain": [
       "   Anand  Barkha  Chandu  Daniel  dummy  Anonymous\n",
       "0     40      36      16      11      0         36\n",
       "1     88      62      33      72      0         62\n",
       "2     30      30      89      12      0         30\n",
       "3     11      28      74      88      0         28\n",
       "4     15      18      80      71      0         18"
      ]
     },
     "execution_count": 38,
     "metadata": {},
     "output_type": "execute_result"
    }
   ],
   "source": [
    "#create Anonymous column\n",
    "df3_req['Anonymous'] = ListB\n",
    "df3_req.head()"
   ]
  },
  {
   "cell_type": "markdown",
   "metadata": {
    "id": "9Tnv9FxNkqhu"
   },
   "source": [
    "Create a dataframe 'ListA' with values of row index 3, 10 and 40"
   ]
  },
  {
   "cell_type": "code",
   "execution_count": 39,
   "metadata": {
    "id": "6KjmI6RRkqhu"
   },
   "outputs": [],
   "source": [
    "ListA=pd.DataFrame(df3_req.iloc[[3,10,40]])"
   ]
  },
  {
   "cell_type": "markdown",
   "metadata": {
    "id": "536Zw_9kkqhu"
   },
   "source": [
    "print ListA"
   ]
  },
  {
   "cell_type": "code",
   "execution_count": 40,
   "metadata": {
    "colab": {
     "base_uri": "https://localhost:8080/",
     "height": 142
    },
    "id": "uiwW-8S9kqhu",
    "outputId": "e5b1c398-d368-4eac-d187-5a54e2a1f189"
   },
   "outputs": [
    {
     "data": {
      "text/html": [
       "<div>\n",
       "<style scoped>\n",
       "    .dataframe tbody tr th:only-of-type {\n",
       "        vertical-align: middle;\n",
       "    }\n",
       "\n",
       "    .dataframe tbody tr th {\n",
       "        vertical-align: top;\n",
       "    }\n",
       "\n",
       "    .dataframe thead th {\n",
       "        text-align: right;\n",
       "    }\n",
       "</style>\n",
       "<table border=\"1\" class=\"dataframe\">\n",
       "  <thead>\n",
       "    <tr style=\"text-align: right;\">\n",
       "      <th></th>\n",
       "      <th>Anand</th>\n",
       "      <th>Barkha</th>\n",
       "      <th>Chandu</th>\n",
       "      <th>Daniel</th>\n",
       "      <th>dummy</th>\n",
       "      <th>Anonymous</th>\n",
       "    </tr>\n",
       "  </thead>\n",
       "  <tbody>\n",
       "    <tr>\n",
       "      <th>3</th>\n",
       "      <td>11</td>\n",
       "      <td>28</td>\n",
       "      <td>74</td>\n",
       "      <td>88</td>\n",
       "      <td>0</td>\n",
       "      <td>28</td>\n",
       "    </tr>\n",
       "    <tr>\n",
       "      <th>10</th>\n",
       "      <td>88</td>\n",
       "      <td>96</td>\n",
       "      <td>73</td>\n",
       "      <td>40</td>\n",
       "      <td>0</td>\n",
       "      <td>96</td>\n",
       "    </tr>\n",
       "    <tr>\n",
       "      <th>40</th>\n",
       "      <td>87</td>\n",
       "      <td>68</td>\n",
       "      <td>86</td>\n",
       "      <td>14</td>\n",
       "      <td>0</td>\n",
       "      <td>68</td>\n",
       "    </tr>\n",
       "  </tbody>\n",
       "</table>\n",
       "</div>"
      ],
      "text/plain": [
       "    Anand  Barkha  Chandu  Daniel  dummy  Anonymous\n",
       "3      11      28      74      88      0         28\n",
       "10     88      96      73      40      0         96\n",
       "40     87      68      86      14      0         68"
      ]
     },
     "execution_count": 40,
     "metadata": {},
     "output_type": "execute_result"
    }
   ],
   "source": [
    "# print ListA\n",
    "ListA"
   ]
  },
  {
   "cell_type": "markdown",
   "metadata": {
    "id": "HLT1U7ZQkqhu"
   },
   "source": [
    "Concat ListA to df3 ignoring the index values of ListA so that we can maintain the sequential index value thoughout the dataframe."
   ]
  },
  {
   "cell_type": "code",
   "execution_count": 41,
   "metadata": {
    "id": "zj_zUXiokqhv"
   },
   "outputs": [],
   "source": [
    "df3_req = pd.concat([df3_req, ListA], axis=0).reset_index(inplace=False, drop = True)"
   ]
  },
  {
   "cell_type": "markdown",
   "metadata": {
    "id": "qp2M-WnYkqhv"
   },
   "source": [
    "print head of df3"
   ]
  },
  {
   "cell_type": "code",
   "execution_count": 42,
   "metadata": {
    "colab": {
     "base_uri": "https://localhost:8080/",
     "height": 204
    },
    "id": "GwotDl4Tkqhv",
    "outputId": "39261949-ecfc-457a-8b98-f2491b480617"
   },
   "outputs": [
    {
     "data": {
      "text/html": [
       "<div>\n",
       "<style scoped>\n",
       "    .dataframe tbody tr th:only-of-type {\n",
       "        vertical-align: middle;\n",
       "    }\n",
       "\n",
       "    .dataframe tbody tr th {\n",
       "        vertical-align: top;\n",
       "    }\n",
       "\n",
       "    .dataframe thead th {\n",
       "        text-align: right;\n",
       "    }\n",
       "</style>\n",
       "<table border=\"1\" class=\"dataframe\">\n",
       "  <thead>\n",
       "    <tr style=\"text-align: right;\">\n",
       "      <th></th>\n",
       "      <th>Anand</th>\n",
       "      <th>Barkha</th>\n",
       "      <th>Chandu</th>\n",
       "      <th>Daniel</th>\n",
       "      <th>dummy</th>\n",
       "      <th>Anonymous</th>\n",
       "    </tr>\n",
       "  </thead>\n",
       "  <tbody>\n",
       "    <tr>\n",
       "      <th>46</th>\n",
       "      <td>16</td>\n",
       "      <td>18</td>\n",
       "      <td>61</td>\n",
       "      <td>54</td>\n",
       "      <td>0</td>\n",
       "      <td>18</td>\n",
       "    </tr>\n",
       "    <tr>\n",
       "      <th>47</th>\n",
       "      <td>67</td>\n",
       "      <td>38</td>\n",
       "      <td>27</td>\n",
       "      <td>96</td>\n",
       "      <td>0</td>\n",
       "      <td>38</td>\n",
       "    </tr>\n",
       "    <tr>\n",
       "      <th>48</th>\n",
       "      <td>11</td>\n",
       "      <td>28</td>\n",
       "      <td>74</td>\n",
       "      <td>88</td>\n",
       "      <td>0</td>\n",
       "      <td>28</td>\n",
       "    </tr>\n",
       "    <tr>\n",
       "      <th>49</th>\n",
       "      <td>88</td>\n",
       "      <td>96</td>\n",
       "      <td>73</td>\n",
       "      <td>40</td>\n",
       "      <td>0</td>\n",
       "      <td>96</td>\n",
       "    </tr>\n",
       "    <tr>\n",
       "      <th>50</th>\n",
       "      <td>87</td>\n",
       "      <td>68</td>\n",
       "      <td>86</td>\n",
       "      <td>14</td>\n",
       "      <td>0</td>\n",
       "      <td>68</td>\n",
       "    </tr>\n",
       "  </tbody>\n",
       "</table>\n",
       "</div>"
      ],
      "text/plain": [
       "    Anand  Barkha  Chandu  Daniel  dummy  Anonymous\n",
       "46     16      18      61      54      0         18\n",
       "47     67      38      27      96      0         38\n",
       "48     11      28      74      88      0         28\n",
       "49     88      96      73      40      0         96\n",
       "50     87      68      86      14      0         68"
      ]
     },
     "execution_count": 42,
     "metadata": {},
     "output_type": "execute_result"
    }
   ],
   "source": [
    "# df3 head\n",
    "df3_req.tail()"
   ]
  },
  {
   "cell_type": "markdown",
   "metadata": {
    "id": "ETx-cCU5kqhv"
   },
   "source": [
    "Check if there is any duplicate rows present in the dataframe df3"
   ]
  },
  {
   "cell_type": "code",
   "execution_count": 43,
   "metadata": {
    "colab": {
     "base_uri": "https://localhost:8080/",
     "height": 142
    },
    "id": "KkK9vv6Lkqhv",
    "outputId": "37f41dcb-ff4d-46da-b633-f2b5cb6333b2"
   },
   "outputs": [
    {
     "data": {
      "text/html": [
       "<div>\n",
       "<style scoped>\n",
       "    .dataframe tbody tr th:only-of-type {\n",
       "        vertical-align: middle;\n",
       "    }\n",
       "\n",
       "    .dataframe tbody tr th {\n",
       "        vertical-align: top;\n",
       "    }\n",
       "\n",
       "    .dataframe thead th {\n",
       "        text-align: right;\n",
       "    }\n",
       "</style>\n",
       "<table border=\"1\" class=\"dataframe\">\n",
       "  <thead>\n",
       "    <tr style=\"text-align: right;\">\n",
       "      <th></th>\n",
       "      <th>Anand</th>\n",
       "      <th>Barkha</th>\n",
       "      <th>Chandu</th>\n",
       "      <th>Daniel</th>\n",
       "      <th>dummy</th>\n",
       "      <th>Anonymous</th>\n",
       "    </tr>\n",
       "  </thead>\n",
       "  <tbody>\n",
       "    <tr>\n",
       "      <th>48</th>\n",
       "      <td>11</td>\n",
       "      <td>28</td>\n",
       "      <td>74</td>\n",
       "      <td>88</td>\n",
       "      <td>0</td>\n",
       "      <td>28</td>\n",
       "    </tr>\n",
       "    <tr>\n",
       "      <th>49</th>\n",
       "      <td>88</td>\n",
       "      <td>96</td>\n",
       "      <td>73</td>\n",
       "      <td>40</td>\n",
       "      <td>0</td>\n",
       "      <td>96</td>\n",
       "    </tr>\n",
       "    <tr>\n",
       "      <th>50</th>\n",
       "      <td>87</td>\n",
       "      <td>68</td>\n",
       "      <td>86</td>\n",
       "      <td>14</td>\n",
       "      <td>0</td>\n",
       "      <td>68</td>\n",
       "    </tr>\n",
       "  </tbody>\n",
       "</table>\n",
       "</div>"
      ],
      "text/plain": [
       "    Anand  Barkha  Chandu  Daniel  dummy  Anonymous\n",
       "48     11      28      74      88      0         28\n",
       "49     88      96      73      40      0         96\n",
       "50     87      68      86      14      0         68"
      ]
     },
     "execution_count": 43,
     "metadata": {},
     "output_type": "execute_result"
    }
   ],
   "source": [
    "#check duplicate\n",
    "df3_req[df3_req.duplicated()]"
   ]
  },
  {
   "cell_type": "markdown",
   "metadata": {
    "id": "Okvw1xgtkqhv"
   },
   "source": [
    "By above output it seems we do have duplicated rows in our dataset"
   ]
  },
  {
   "cell_type": "markdown",
   "metadata": {
    "id": "z0QOuS-_kqhw"
   },
   "source": [
    "Drop duplicated rows using pandas function keeping first values of such duplicated observations"
   ]
  },
  {
   "cell_type": "code",
   "execution_count": 44,
   "metadata": {
    "id": "gRsgecqbkqhw"
   },
   "outputs": [
    {
     "data": {
      "text/html": [
       "<div>\n",
       "<style scoped>\n",
       "    .dataframe tbody tr th:only-of-type {\n",
       "        vertical-align: middle;\n",
       "    }\n",
       "\n",
       "    .dataframe tbody tr th {\n",
       "        vertical-align: top;\n",
       "    }\n",
       "\n",
       "    .dataframe thead th {\n",
       "        text-align: right;\n",
       "    }\n",
       "</style>\n",
       "<table border=\"1\" class=\"dataframe\">\n",
       "  <thead>\n",
       "    <tr style=\"text-align: right;\">\n",
       "      <th></th>\n",
       "      <th>Anand</th>\n",
       "      <th>Barkha</th>\n",
       "      <th>Chandu</th>\n",
       "      <th>Daniel</th>\n",
       "      <th>dummy</th>\n",
       "      <th>Anonymous</th>\n",
       "    </tr>\n",
       "  </thead>\n",
       "  <tbody>\n",
       "    <tr>\n",
       "      <th>43</th>\n",
       "      <td>1</td>\n",
       "      <td>82</td>\n",
       "      <td>34</td>\n",
       "      <td>11</td>\n",
       "      <td>0</td>\n",
       "      <td>82</td>\n",
       "    </tr>\n",
       "    <tr>\n",
       "      <th>44</th>\n",
       "      <td>74</td>\n",
       "      <td>36</td>\n",
       "      <td>6</td>\n",
       "      <td>63</td>\n",
       "      <td>0</td>\n",
       "      <td>36</td>\n",
       "    </tr>\n",
       "    <tr>\n",
       "      <th>45</th>\n",
       "      <td>3</td>\n",
       "      <td>50</td>\n",
       "      <td>59</td>\n",
       "      <td>34</td>\n",
       "      <td>0</td>\n",
       "      <td>50</td>\n",
       "    </tr>\n",
       "    <tr>\n",
       "      <th>46</th>\n",
       "      <td>16</td>\n",
       "      <td>18</td>\n",
       "      <td>61</td>\n",
       "      <td>54</td>\n",
       "      <td>0</td>\n",
       "      <td>18</td>\n",
       "    </tr>\n",
       "    <tr>\n",
       "      <th>47</th>\n",
       "      <td>67</td>\n",
       "      <td>38</td>\n",
       "      <td>27</td>\n",
       "      <td>96</td>\n",
       "      <td>0</td>\n",
       "      <td>38</td>\n",
       "    </tr>\n",
       "  </tbody>\n",
       "</table>\n",
       "</div>"
      ],
      "text/plain": [
       "    Anand  Barkha  Chandu  Daniel  dummy  Anonymous\n",
       "43      1      82      34      11      0         82\n",
       "44     74      36       6      63      0         36\n",
       "45      3      50      59      34      0         50\n",
       "46     16      18      61      54      0         18\n",
       "47     67      38      27      96      0         38"
      ]
     },
     "execution_count": 44,
     "metadata": {},
     "output_type": "execute_result"
    }
   ],
   "source": [
    "#drop duplicate\n",
    "df3_req.drop_duplicates(inplace=True)\n",
    "df3_req.tail()"
   ]
  },
  {
   "cell_type": "markdown",
   "metadata": {
    "id": "FbNFF-4jkqhw"
   },
   "source": [
    "Check again if we have any duplicate row values present "
   ]
  },
  {
   "cell_type": "code",
   "execution_count": 45,
   "metadata": {
    "colab": {
     "base_uri": "https://localhost:8080/",
     "height": 49
    },
    "id": "ehOxm1Mckqhw",
    "outputId": "434104e4-b6c7-4d28-b807-696683b4c168"
   },
   "outputs": [
    {
     "data": {
      "text/html": [
       "<div>\n",
       "<style scoped>\n",
       "    .dataframe tbody tr th:only-of-type {\n",
       "        vertical-align: middle;\n",
       "    }\n",
       "\n",
       "    .dataframe tbody tr th {\n",
       "        vertical-align: top;\n",
       "    }\n",
       "\n",
       "    .dataframe thead th {\n",
       "        text-align: right;\n",
       "    }\n",
       "</style>\n",
       "<table border=\"1\" class=\"dataframe\">\n",
       "  <thead>\n",
       "    <tr style=\"text-align: right;\">\n",
       "      <th></th>\n",
       "      <th>Anand</th>\n",
       "      <th>Barkha</th>\n",
       "      <th>Chandu</th>\n",
       "      <th>Daniel</th>\n",
       "      <th>dummy</th>\n",
       "      <th>Anonymous</th>\n",
       "    </tr>\n",
       "  </thead>\n",
       "  <tbody>\n",
       "  </tbody>\n",
       "</table>\n",
       "</div>"
      ],
      "text/plain": [
       "Empty DataFrame\n",
       "Columns: [Anand, Barkha, Chandu, Daniel, dummy, Anonymous]\n",
       "Index: []"
      ]
     },
     "execution_count": 45,
     "metadata": {},
     "output_type": "execute_result"
    }
   ],
   "source": [
    "#check duplicate\n",
    "df3_req[df3_req.duplicated()]"
   ]
  },
  {
   "cell_type": "markdown",
   "metadata": {
    "id": "7Sg80lIkkqhw"
   },
   "source": [
    "Yipeee!! Did you notice the dataframe is free from any duplicate rows now."
   ]
  },
  {
   "cell_type": "markdown",
   "metadata": {
    "id": "za0nup3Pkqhw"
   },
   "source": [
    "Drop any duplicate columns present in the dataframe df"
   ]
  },
  {
   "cell_type": "code",
   "execution_count": 46,
   "metadata": {
    "id": "NE9l9xM0kqhw",
    "outputId": "8649e7ea-f375-4c0a-b000-2226de3a3329"
   },
   "outputs": [
    {
     "data": {
      "text/html": [
       "<div>\n",
       "<style scoped>\n",
       "    .dataframe tbody tr th:only-of-type {\n",
       "        vertical-align: middle;\n",
       "    }\n",
       "\n",
       "    .dataframe tbody tr th {\n",
       "        vertical-align: top;\n",
       "    }\n",
       "\n",
       "    .dataframe thead th {\n",
       "        text-align: right;\n",
       "    }\n",
       "</style>\n",
       "<table border=\"1\" class=\"dataframe\">\n",
       "  <thead>\n",
       "    <tr style=\"text-align: right;\">\n",
       "      <th></th>\n",
       "      <th>Anand</th>\n",
       "      <th>Barkha</th>\n",
       "      <th>Chandu</th>\n",
       "      <th>Daniel</th>\n",
       "      <th>dummy</th>\n",
       "    </tr>\n",
       "  </thead>\n",
       "  <tbody>\n",
       "    <tr>\n",
       "      <th>0</th>\n",
       "      <td>40</td>\n",
       "      <td>36</td>\n",
       "      <td>16</td>\n",
       "      <td>11</td>\n",
       "      <td>0</td>\n",
       "    </tr>\n",
       "    <tr>\n",
       "      <th>1</th>\n",
       "      <td>88</td>\n",
       "      <td>62</td>\n",
       "      <td>33</td>\n",
       "      <td>72</td>\n",
       "      <td>0</td>\n",
       "    </tr>\n",
       "    <tr>\n",
       "      <th>2</th>\n",
       "      <td>30</td>\n",
       "      <td>30</td>\n",
       "      <td>89</td>\n",
       "      <td>12</td>\n",
       "      <td>0</td>\n",
       "    </tr>\n",
       "    <tr>\n",
       "      <th>3</th>\n",
       "      <td>11</td>\n",
       "      <td>28</td>\n",
       "      <td>74</td>\n",
       "      <td>88</td>\n",
       "      <td>0</td>\n",
       "    </tr>\n",
       "    <tr>\n",
       "      <th>4</th>\n",
       "      <td>15</td>\n",
       "      <td>18</td>\n",
       "      <td>80</td>\n",
       "      <td>71</td>\n",
       "      <td>0</td>\n",
       "    </tr>\n",
       "    <tr>\n",
       "      <th>5</th>\n",
       "      <td>88</td>\n",
       "      <td>50</td>\n",
       "      <td>54</td>\n",
       "      <td>34</td>\n",
       "      <td>0</td>\n",
       "    </tr>\n",
       "    <tr>\n",
       "      <th>6</th>\n",
       "      <td>77</td>\n",
       "      <td>88</td>\n",
       "      <td>15</td>\n",
       "      <td>6</td>\n",
       "      <td>0</td>\n",
       "    </tr>\n",
       "    <tr>\n",
       "      <th>7</th>\n",
       "      <td>97</td>\n",
       "      <td>50</td>\n",
       "      <td>45</td>\n",
       "      <td>40</td>\n",
       "      <td>0</td>\n",
       "    </tr>\n",
       "    <tr>\n",
       "      <th>8</th>\n",
       "      <td>81</td>\n",
       "      <td>80</td>\n",
       "      <td>41</td>\n",
       "      <td>90</td>\n",
       "      <td>0</td>\n",
       "    </tr>\n",
       "    <tr>\n",
       "      <th>9</th>\n",
       "      <td>96</td>\n",
       "      <td>66</td>\n",
       "      <td>67</td>\n",
       "      <td>62</td>\n",
       "      <td>0</td>\n",
       "    </tr>\n",
       "    <tr>\n",
       "      <th>10</th>\n",
       "      <td>88</td>\n",
       "      <td>96</td>\n",
       "      <td>73</td>\n",
       "      <td>40</td>\n",
       "      <td>0</td>\n",
       "    </tr>\n",
       "    <tr>\n",
       "      <th>11</th>\n",
       "      <td>28</td>\n",
       "      <td>30</td>\n",
       "      <td>89</td>\n",
       "      <td>25</td>\n",
       "      <td>0</td>\n",
       "    </tr>\n",
       "    <tr>\n",
       "      <th>12</th>\n",
       "      <td>33</td>\n",
       "      <td>4</td>\n",
       "      <td>87</td>\n",
       "      <td>94</td>\n",
       "      <td>0</td>\n",
       "    </tr>\n",
       "    <tr>\n",
       "      <th>13</th>\n",
       "      <td>68</td>\n",
       "      <td>30</td>\n",
       "      <td>70</td>\n",
       "      <td>74</td>\n",
       "      <td>0</td>\n",
       "    </tr>\n",
       "    <tr>\n",
       "      <th>14</th>\n",
       "      <td>9</td>\n",
       "      <td>2</td>\n",
       "      <td>65</td>\n",
       "      <td>13</td>\n",
       "      <td>0</td>\n",
       "    </tr>\n",
       "    <tr>\n",
       "      <th>15</th>\n",
       "      <td>62</td>\n",
       "      <td>42</td>\n",
       "      <td>34</td>\n",
       "      <td>40</td>\n",
       "      <td>0</td>\n",
       "    </tr>\n",
       "    <tr>\n",
       "      <th>16</th>\n",
       "      <td>32</td>\n",
       "      <td>94</td>\n",
       "      <td>86</td>\n",
       "      <td>58</td>\n",
       "      <td>0</td>\n",
       "    </tr>\n",
       "    <tr>\n",
       "      <th>17</th>\n",
       "      <td>45</td>\n",
       "      <td>18</td>\n",
       "      <td>50</td>\n",
       "      <td>44</td>\n",
       "      <td>0</td>\n",
       "    </tr>\n",
       "    <tr>\n",
       "      <th>18</th>\n",
       "      <td>6</td>\n",
       "      <td>44</td>\n",
       "      <td>9</td>\n",
       "      <td>50</td>\n",
       "      <td>0</td>\n",
       "    </tr>\n",
       "    <tr>\n",
       "      <th>19</th>\n",
       "      <td>44</td>\n",
       "      <td>68</td>\n",
       "      <td>14</td>\n",
       "      <td>4</td>\n",
       "      <td>0</td>\n",
       "    </tr>\n",
       "    <tr>\n",
       "      <th>20</th>\n",
       "      <td>39</td>\n",
       "      <td>58</td>\n",
       "      <td>81</td>\n",
       "      <td>39</td>\n",
       "      <td>0</td>\n",
       "    </tr>\n",
       "    <tr>\n",
       "      <th>21</th>\n",
       "      <td>69</td>\n",
       "      <td>48</td>\n",
       "      <td>60</td>\n",
       "      <td>58</td>\n",
       "      <td>0</td>\n",
       "    </tr>\n",
       "    <tr>\n",
       "      <th>22</th>\n",
       "      <td>5</td>\n",
       "      <td>70</td>\n",
       "      <td>61</td>\n",
       "      <td>16</td>\n",
       "      <td>0</td>\n",
       "    </tr>\n",
       "    <tr>\n",
       "      <th>23</th>\n",
       "      <td>4</td>\n",
       "      <td>22</td>\n",
       "      <td>19</td>\n",
       "      <td>85</td>\n",
       "      <td>0</td>\n",
       "    </tr>\n",
       "    <tr>\n",
       "      <th>24</th>\n",
       "      <td>10</td>\n",
       "      <td>36</td>\n",
       "      <td>0</td>\n",
       "      <td>30</td>\n",
       "      <td>0</td>\n",
       "    </tr>\n",
       "    <tr>\n",
       "      <th>25</th>\n",
       "      <td>85</td>\n",
       "      <td>32</td>\n",
       "      <td>81</td>\n",
       "      <td>13</td>\n",
       "      <td>0</td>\n",
       "    </tr>\n",
       "    <tr>\n",
       "      <th>26</th>\n",
       "      <td>31</td>\n",
       "      <td>32</td>\n",
       "      <td>96</td>\n",
       "      <td>38</td>\n",
       "      <td>0</td>\n",
       "    </tr>\n",
       "    <tr>\n",
       "      <th>27</th>\n",
       "      <td>0</td>\n",
       "      <td>96</td>\n",
       "      <td>25</td>\n",
       "      <td>63</td>\n",
       "      <td>0</td>\n",
       "    </tr>\n",
       "    <tr>\n",
       "      <th>28</th>\n",
       "      <td>2</td>\n",
       "      <td>30</td>\n",
       "      <td>17</td>\n",
       "      <td>59</td>\n",
       "      <td>0</td>\n",
       "    </tr>\n",
       "    <tr>\n",
       "      <th>29</th>\n",
       "      <td>63</td>\n",
       "      <td>86</td>\n",
       "      <td>29</td>\n",
       "      <td>71</td>\n",
       "      <td>0</td>\n",
       "    </tr>\n",
       "    <tr>\n",
       "      <th>30</th>\n",
       "      <td>19</td>\n",
       "      <td>0</td>\n",
       "      <td>7</td>\n",
       "      <td>93</td>\n",
       "      <td>0</td>\n",
       "    </tr>\n",
       "    <tr>\n",
       "      <th>31</th>\n",
       "      <td>58</td>\n",
       "      <td>76</td>\n",
       "      <td>10</td>\n",
       "      <td>79</td>\n",
       "      <td>0</td>\n",
       "    </tr>\n",
       "    <tr>\n",
       "      <th>32</th>\n",
       "      <td>7</td>\n",
       "      <td>88</td>\n",
       "      <td>96</td>\n",
       "      <td>38</td>\n",
       "      <td>0</td>\n",
       "    </tr>\n",
       "    <tr>\n",
       "      <th>33</th>\n",
       "      <td>27</td>\n",
       "      <td>64</td>\n",
       "      <td>49</td>\n",
       "      <td>90</td>\n",
       "      <td>0</td>\n",
       "    </tr>\n",
       "    <tr>\n",
       "      <th>34</th>\n",
       "      <td>27</td>\n",
       "      <td>52</td>\n",
       "      <td>90</td>\n",
       "      <td>57</td>\n",
       "      <td>0</td>\n",
       "    </tr>\n",
       "    <tr>\n",
       "      <th>35</th>\n",
       "      <td>99</td>\n",
       "      <td>46</td>\n",
       "      <td>46</td>\n",
       "      <td>45</td>\n",
       "      <td>0</td>\n",
       "    </tr>\n",
       "    <tr>\n",
       "      <th>36</th>\n",
       "      <td>84</td>\n",
       "      <td>20</td>\n",
       "      <td>49</td>\n",
       "      <td>33</td>\n",
       "      <td>0</td>\n",
       "    </tr>\n",
       "    <tr>\n",
       "      <th>37</th>\n",
       "      <td>77</td>\n",
       "      <td>66</td>\n",
       "      <td>37</td>\n",
       "      <td>31</td>\n",
       "      <td>0</td>\n",
       "    </tr>\n",
       "    <tr>\n",
       "      <th>38</th>\n",
       "      <td>82</td>\n",
       "      <td>56</td>\n",
       "      <td>41</td>\n",
       "      <td>90</td>\n",
       "      <td>0</td>\n",
       "    </tr>\n",
       "    <tr>\n",
       "      <th>39</th>\n",
       "      <td>74</td>\n",
       "      <td>8</td>\n",
       "      <td>92</td>\n",
       "      <td>32</td>\n",
       "      <td>0</td>\n",
       "    </tr>\n",
       "    <tr>\n",
       "      <th>40</th>\n",
       "      <td>87</td>\n",
       "      <td>68</td>\n",
       "      <td>86</td>\n",
       "      <td>14</td>\n",
       "      <td>0</td>\n",
       "    </tr>\n",
       "    <tr>\n",
       "      <th>41</th>\n",
       "      <td>50</td>\n",
       "      <td>50</td>\n",
       "      <td>85</td>\n",
       "      <td>14</td>\n",
       "      <td>0</td>\n",
       "    </tr>\n",
       "    <tr>\n",
       "      <th>42</th>\n",
       "      <td>1</td>\n",
       "      <td>28</td>\n",
       "      <td>58</td>\n",
       "      <td>10</td>\n",
       "      <td>0</td>\n",
       "    </tr>\n",
       "    <tr>\n",
       "      <th>43</th>\n",
       "      <td>1</td>\n",
       "      <td>82</td>\n",
       "      <td>34</td>\n",
       "      <td>11</td>\n",
       "      <td>0</td>\n",
       "    </tr>\n",
       "    <tr>\n",
       "      <th>44</th>\n",
       "      <td>74</td>\n",
       "      <td>36</td>\n",
       "      <td>6</td>\n",
       "      <td>63</td>\n",
       "      <td>0</td>\n",
       "    </tr>\n",
       "    <tr>\n",
       "      <th>45</th>\n",
       "      <td>3</td>\n",
       "      <td>50</td>\n",
       "      <td>59</td>\n",
       "      <td>34</td>\n",
       "      <td>0</td>\n",
       "    </tr>\n",
       "    <tr>\n",
       "      <th>46</th>\n",
       "      <td>16</td>\n",
       "      <td>18</td>\n",
       "      <td>61</td>\n",
       "      <td>54</td>\n",
       "      <td>0</td>\n",
       "    </tr>\n",
       "    <tr>\n",
       "      <th>47</th>\n",
       "      <td>67</td>\n",
       "      <td>38</td>\n",
       "      <td>27</td>\n",
       "      <td>96</td>\n",
       "      <td>0</td>\n",
       "    </tr>\n",
       "  </tbody>\n",
       "</table>\n",
       "</div>"
      ],
      "text/plain": [
       "    Anand  Barkha  Chandu  Daniel  dummy\n",
       "0      40      36      16      11      0\n",
       "1      88      62      33      72      0\n",
       "2      30      30      89      12      0\n",
       "3      11      28      74      88      0\n",
       "4      15      18      80      71      0\n",
       "5      88      50      54      34      0\n",
       "6      77      88      15       6      0\n",
       "7      97      50      45      40      0\n",
       "8      81      80      41      90      0\n",
       "9      96      66      67      62      0\n",
       "10     88      96      73      40      0\n",
       "11     28      30      89      25      0\n",
       "12     33       4      87      94      0\n",
       "13     68      30      70      74      0\n",
       "14      9       2      65      13      0\n",
       "15     62      42      34      40      0\n",
       "16     32      94      86      58      0\n",
       "17     45      18      50      44      0\n",
       "18      6      44       9      50      0\n",
       "19     44      68      14       4      0\n",
       "20     39      58      81      39      0\n",
       "21     69      48      60      58      0\n",
       "22      5      70      61      16      0\n",
       "23      4      22      19      85      0\n",
       "24     10      36       0      30      0\n",
       "25     85      32      81      13      0\n",
       "26     31      32      96      38      0\n",
       "27      0      96      25      63      0\n",
       "28      2      30      17      59      0\n",
       "29     63      86      29      71      0\n",
       "30     19       0       7      93      0\n",
       "31     58      76      10      79      0\n",
       "32      7      88      96      38      0\n",
       "33     27      64      49      90      0\n",
       "34     27      52      90      57      0\n",
       "35     99      46      46      45      0\n",
       "36     84      20      49      33      0\n",
       "37     77      66      37      31      0\n",
       "38     82      56      41      90      0\n",
       "39     74       8      92      32      0\n",
       "40     87      68      86      14      0\n",
       "41     50      50      85      14      0\n",
       "42      1      28      58      10      0\n",
       "43      1      82      34      11      0\n",
       "44     74      36       6      63      0\n",
       "45      3      50      59      34      0\n",
       "46     16      18      61      54      0\n",
       "47     67      38      27      96      0"
      ]
     },
     "execution_count": 46,
     "metadata": {},
     "output_type": "execute_result"
    }
   ],
   "source": [
    "df3_req = df3_req.T.drop_duplicates().T\n",
    "\n",
    "#print df3\n",
    "df3_req"
   ]
  },
  {
   "cell_type": "markdown",
   "metadata": {
    "id": "HAMB8--rkqhx"
   },
   "source": [
    "Did you notice which Column is dropped?\n",
    "I am sure you noticed it.\n",
    "Name that column below"
   ]
  },
  {
   "cell_type": "code",
   "execution_count": 47,
   "metadata": {
    "id": "x7HRPWXHkqhx"
   },
   "outputs": [],
   "source": [
    "#Column: Anonymous"
   ]
  },
  {
   "cell_type": "markdown",
   "metadata": {
    "id": "n53B2-pCkqhx"
   },
   "source": [
    "### `Treating constant column values`\n",
    "\n",
    "<p style='text-align: right;'> 2 points</p>\n"
   ]
  },
  {
   "cell_type": "markdown",
   "metadata": {
    "id": "fDpWhHSlkqhx"
   },
   "source": [
    "Check unique values in each columns"
   ]
  },
  {
   "cell_type": "code",
   "execution_count": 48,
   "metadata": {
    "colab": {
     "base_uri": "https://localhost:8080/"
    },
    "id": "5-L6SLhqkqhx",
    "outputId": "f5d3cae4-e9bb-4e45-f7a8-5157f8922f96"
   },
   "outputs": [
    {
     "name": "stdout",
     "output_type": "stream",
     "text": [
      "[40 88 30 11 15 77 97 81 96 28 33 68  9 62 32 45  6 44 39 69  5  4 10 85\n",
      " 31  0  2 63 19 58  7 27 99 84 82 74 87 50  1  3 16 67]\n",
      "[36 62 30 28 18 50 88 80 66 96  4  2 42 94 44 68 58 48 70 22 32 86  0 76\n",
      " 64 52 46 20 56  8 82 38]\n",
      "[16 33 89 74 80 54 15 45 41 67 73 87 70 65 34 86 50  9 14 81 60 61 19  0\n",
      " 96 25 17 29  7 10 49 90 46 37 92 85 58  6 59 27]\n",
      "[11 72 12 88 71 34  6 40 90 62 25 94 74 13 58 44 50  4 39 16 85 30 38 63\n",
      " 59 93 79 57 45 33 31 32 14 10 54 96]\n",
      "[0]\n"
     ]
    }
   ],
   "source": [
    "# df3 unique value\n",
    "print(df3_req.Anand.unique())\n",
    "print(df3_req.Barkha.unique())\n",
    "print(df3_req.Chandu.unique())\n",
    "print(df3_req.Daniel.unique())\n",
    "print(df3_req.dummy.unique())"
   ]
  },
  {
   "cell_type": "markdown",
   "metadata": {
    "id": "4G9ZC-n-kqhx"
   },
   "source": [
    "By above output which column has only 1 value as unique throught the rows? \n",
    "Yeah! you are right, its dummy column.\n",
    "So lets drop it"
   ]
  },
  {
   "cell_type": "markdown",
   "metadata": {
    "id": "D3y3ZWW6kqhx"
   },
   "source": [
    "Drop dummy column as it has constant values which will not give us any information and save the changes to df3 using inplace parameter"
   ]
  },
  {
   "cell_type": "code",
   "execution_count": 49,
   "metadata": {
    "id": "SR10jRVQkqhy"
   },
   "outputs": [],
   "source": [
    "# drop dummy\n",
    "df3_req.drop('dummy',axis=1,inplace=True)"
   ]
  },
  {
   "cell_type": "markdown",
   "metadata": {
    "id": "nHdi2uHskqhy"
   },
   "source": [
    "print final obtained dataframe df3"
   ]
  },
  {
   "cell_type": "code",
   "execution_count": 50,
   "metadata": {
    "colab": {
     "base_uri": "https://localhost:8080/",
     "height": 1630
    },
    "id": "0-YUwfDKkqhy",
    "outputId": "b0462356-1ba3-4195-86d9-55bdf0cde10e"
   },
   "outputs": [
    {
     "data": {
      "text/html": [
       "<div>\n",
       "<style scoped>\n",
       "    .dataframe tbody tr th:only-of-type {\n",
       "        vertical-align: middle;\n",
       "    }\n",
       "\n",
       "    .dataframe tbody tr th {\n",
       "        vertical-align: top;\n",
       "    }\n",
       "\n",
       "    .dataframe thead th {\n",
       "        text-align: right;\n",
       "    }\n",
       "</style>\n",
       "<table border=\"1\" class=\"dataframe\">\n",
       "  <thead>\n",
       "    <tr style=\"text-align: right;\">\n",
       "      <th></th>\n",
       "      <th>Anand</th>\n",
       "      <th>Barkha</th>\n",
       "      <th>Chandu</th>\n",
       "      <th>Daniel</th>\n",
       "    </tr>\n",
       "  </thead>\n",
       "  <tbody>\n",
       "    <tr>\n",
       "      <th>0</th>\n",
       "      <td>40</td>\n",
       "      <td>36</td>\n",
       "      <td>16</td>\n",
       "      <td>11</td>\n",
       "    </tr>\n",
       "    <tr>\n",
       "      <th>1</th>\n",
       "      <td>88</td>\n",
       "      <td>62</td>\n",
       "      <td>33</td>\n",
       "      <td>72</td>\n",
       "    </tr>\n",
       "    <tr>\n",
       "      <th>2</th>\n",
       "      <td>30</td>\n",
       "      <td>30</td>\n",
       "      <td>89</td>\n",
       "      <td>12</td>\n",
       "    </tr>\n",
       "    <tr>\n",
       "      <th>3</th>\n",
       "      <td>11</td>\n",
       "      <td>28</td>\n",
       "      <td>74</td>\n",
       "      <td>88</td>\n",
       "    </tr>\n",
       "    <tr>\n",
       "      <th>4</th>\n",
       "      <td>15</td>\n",
       "      <td>18</td>\n",
       "      <td>80</td>\n",
       "      <td>71</td>\n",
       "    </tr>\n",
       "    <tr>\n",
       "      <th>5</th>\n",
       "      <td>88</td>\n",
       "      <td>50</td>\n",
       "      <td>54</td>\n",
       "      <td>34</td>\n",
       "    </tr>\n",
       "    <tr>\n",
       "      <th>6</th>\n",
       "      <td>77</td>\n",
       "      <td>88</td>\n",
       "      <td>15</td>\n",
       "      <td>6</td>\n",
       "    </tr>\n",
       "    <tr>\n",
       "      <th>7</th>\n",
       "      <td>97</td>\n",
       "      <td>50</td>\n",
       "      <td>45</td>\n",
       "      <td>40</td>\n",
       "    </tr>\n",
       "    <tr>\n",
       "      <th>8</th>\n",
       "      <td>81</td>\n",
       "      <td>80</td>\n",
       "      <td>41</td>\n",
       "      <td>90</td>\n",
       "    </tr>\n",
       "    <tr>\n",
       "      <th>9</th>\n",
       "      <td>96</td>\n",
       "      <td>66</td>\n",
       "      <td>67</td>\n",
       "      <td>62</td>\n",
       "    </tr>\n",
       "    <tr>\n",
       "      <th>10</th>\n",
       "      <td>88</td>\n",
       "      <td>96</td>\n",
       "      <td>73</td>\n",
       "      <td>40</td>\n",
       "    </tr>\n",
       "    <tr>\n",
       "      <th>11</th>\n",
       "      <td>28</td>\n",
       "      <td>30</td>\n",
       "      <td>89</td>\n",
       "      <td>25</td>\n",
       "    </tr>\n",
       "    <tr>\n",
       "      <th>12</th>\n",
       "      <td>33</td>\n",
       "      <td>4</td>\n",
       "      <td>87</td>\n",
       "      <td>94</td>\n",
       "    </tr>\n",
       "    <tr>\n",
       "      <th>13</th>\n",
       "      <td>68</td>\n",
       "      <td>30</td>\n",
       "      <td>70</td>\n",
       "      <td>74</td>\n",
       "    </tr>\n",
       "    <tr>\n",
       "      <th>14</th>\n",
       "      <td>9</td>\n",
       "      <td>2</td>\n",
       "      <td>65</td>\n",
       "      <td>13</td>\n",
       "    </tr>\n",
       "    <tr>\n",
       "      <th>15</th>\n",
       "      <td>62</td>\n",
       "      <td>42</td>\n",
       "      <td>34</td>\n",
       "      <td>40</td>\n",
       "    </tr>\n",
       "    <tr>\n",
       "      <th>16</th>\n",
       "      <td>32</td>\n",
       "      <td>94</td>\n",
       "      <td>86</td>\n",
       "      <td>58</td>\n",
       "    </tr>\n",
       "    <tr>\n",
       "      <th>17</th>\n",
       "      <td>45</td>\n",
       "      <td>18</td>\n",
       "      <td>50</td>\n",
       "      <td>44</td>\n",
       "    </tr>\n",
       "    <tr>\n",
       "      <th>18</th>\n",
       "      <td>6</td>\n",
       "      <td>44</td>\n",
       "      <td>9</td>\n",
       "      <td>50</td>\n",
       "    </tr>\n",
       "    <tr>\n",
       "      <th>19</th>\n",
       "      <td>44</td>\n",
       "      <td>68</td>\n",
       "      <td>14</td>\n",
       "      <td>4</td>\n",
       "    </tr>\n",
       "    <tr>\n",
       "      <th>20</th>\n",
       "      <td>39</td>\n",
       "      <td>58</td>\n",
       "      <td>81</td>\n",
       "      <td>39</td>\n",
       "    </tr>\n",
       "    <tr>\n",
       "      <th>21</th>\n",
       "      <td>69</td>\n",
       "      <td>48</td>\n",
       "      <td>60</td>\n",
       "      <td>58</td>\n",
       "    </tr>\n",
       "    <tr>\n",
       "      <th>22</th>\n",
       "      <td>5</td>\n",
       "      <td>70</td>\n",
       "      <td>61</td>\n",
       "      <td>16</td>\n",
       "    </tr>\n",
       "    <tr>\n",
       "      <th>23</th>\n",
       "      <td>4</td>\n",
       "      <td>22</td>\n",
       "      <td>19</td>\n",
       "      <td>85</td>\n",
       "    </tr>\n",
       "    <tr>\n",
       "      <th>24</th>\n",
       "      <td>10</td>\n",
       "      <td>36</td>\n",
       "      <td>0</td>\n",
       "      <td>30</td>\n",
       "    </tr>\n",
       "    <tr>\n",
       "      <th>25</th>\n",
       "      <td>85</td>\n",
       "      <td>32</td>\n",
       "      <td>81</td>\n",
       "      <td>13</td>\n",
       "    </tr>\n",
       "    <tr>\n",
       "      <th>26</th>\n",
       "      <td>31</td>\n",
       "      <td>32</td>\n",
       "      <td>96</td>\n",
       "      <td>38</td>\n",
       "    </tr>\n",
       "    <tr>\n",
       "      <th>27</th>\n",
       "      <td>0</td>\n",
       "      <td>96</td>\n",
       "      <td>25</td>\n",
       "      <td>63</td>\n",
       "    </tr>\n",
       "    <tr>\n",
       "      <th>28</th>\n",
       "      <td>2</td>\n",
       "      <td>30</td>\n",
       "      <td>17</td>\n",
       "      <td>59</td>\n",
       "    </tr>\n",
       "    <tr>\n",
       "      <th>29</th>\n",
       "      <td>63</td>\n",
       "      <td>86</td>\n",
       "      <td>29</td>\n",
       "      <td>71</td>\n",
       "    </tr>\n",
       "    <tr>\n",
       "      <th>30</th>\n",
       "      <td>19</td>\n",
       "      <td>0</td>\n",
       "      <td>7</td>\n",
       "      <td>93</td>\n",
       "    </tr>\n",
       "    <tr>\n",
       "      <th>31</th>\n",
       "      <td>58</td>\n",
       "      <td>76</td>\n",
       "      <td>10</td>\n",
       "      <td>79</td>\n",
       "    </tr>\n",
       "    <tr>\n",
       "      <th>32</th>\n",
       "      <td>7</td>\n",
       "      <td>88</td>\n",
       "      <td>96</td>\n",
       "      <td>38</td>\n",
       "    </tr>\n",
       "    <tr>\n",
       "      <th>33</th>\n",
       "      <td>27</td>\n",
       "      <td>64</td>\n",
       "      <td>49</td>\n",
       "      <td>90</td>\n",
       "    </tr>\n",
       "    <tr>\n",
       "      <th>34</th>\n",
       "      <td>27</td>\n",
       "      <td>52</td>\n",
       "      <td>90</td>\n",
       "      <td>57</td>\n",
       "    </tr>\n",
       "    <tr>\n",
       "      <th>35</th>\n",
       "      <td>99</td>\n",
       "      <td>46</td>\n",
       "      <td>46</td>\n",
       "      <td>45</td>\n",
       "    </tr>\n",
       "    <tr>\n",
       "      <th>36</th>\n",
       "      <td>84</td>\n",
       "      <td>20</td>\n",
       "      <td>49</td>\n",
       "      <td>33</td>\n",
       "    </tr>\n",
       "    <tr>\n",
       "      <th>37</th>\n",
       "      <td>77</td>\n",
       "      <td>66</td>\n",
       "      <td>37</td>\n",
       "      <td>31</td>\n",
       "    </tr>\n",
       "    <tr>\n",
       "      <th>38</th>\n",
       "      <td>82</td>\n",
       "      <td>56</td>\n",
       "      <td>41</td>\n",
       "      <td>90</td>\n",
       "    </tr>\n",
       "    <tr>\n",
       "      <th>39</th>\n",
       "      <td>74</td>\n",
       "      <td>8</td>\n",
       "      <td>92</td>\n",
       "      <td>32</td>\n",
       "    </tr>\n",
       "    <tr>\n",
       "      <th>40</th>\n",
       "      <td>87</td>\n",
       "      <td>68</td>\n",
       "      <td>86</td>\n",
       "      <td>14</td>\n",
       "    </tr>\n",
       "    <tr>\n",
       "      <th>41</th>\n",
       "      <td>50</td>\n",
       "      <td>50</td>\n",
       "      <td>85</td>\n",
       "      <td>14</td>\n",
       "    </tr>\n",
       "    <tr>\n",
       "      <th>42</th>\n",
       "      <td>1</td>\n",
       "      <td>28</td>\n",
       "      <td>58</td>\n",
       "      <td>10</td>\n",
       "    </tr>\n",
       "    <tr>\n",
       "      <th>43</th>\n",
       "      <td>1</td>\n",
       "      <td>82</td>\n",
       "      <td>34</td>\n",
       "      <td>11</td>\n",
       "    </tr>\n",
       "    <tr>\n",
       "      <th>44</th>\n",
       "      <td>74</td>\n",
       "      <td>36</td>\n",
       "      <td>6</td>\n",
       "      <td>63</td>\n",
       "    </tr>\n",
       "    <tr>\n",
       "      <th>45</th>\n",
       "      <td>3</td>\n",
       "      <td>50</td>\n",
       "      <td>59</td>\n",
       "      <td>34</td>\n",
       "    </tr>\n",
       "    <tr>\n",
       "      <th>46</th>\n",
       "      <td>16</td>\n",
       "      <td>18</td>\n",
       "      <td>61</td>\n",
       "      <td>54</td>\n",
       "    </tr>\n",
       "    <tr>\n",
       "      <th>47</th>\n",
       "      <td>67</td>\n",
       "      <td>38</td>\n",
       "      <td>27</td>\n",
       "      <td>96</td>\n",
       "    </tr>\n",
       "  </tbody>\n",
       "</table>\n",
       "</div>"
      ],
      "text/plain": [
       "    Anand  Barkha  Chandu  Daniel\n",
       "0      40      36      16      11\n",
       "1      88      62      33      72\n",
       "2      30      30      89      12\n",
       "3      11      28      74      88\n",
       "4      15      18      80      71\n",
       "5      88      50      54      34\n",
       "6      77      88      15       6\n",
       "7      97      50      45      40\n",
       "8      81      80      41      90\n",
       "9      96      66      67      62\n",
       "10     88      96      73      40\n",
       "11     28      30      89      25\n",
       "12     33       4      87      94\n",
       "13     68      30      70      74\n",
       "14      9       2      65      13\n",
       "15     62      42      34      40\n",
       "16     32      94      86      58\n",
       "17     45      18      50      44\n",
       "18      6      44       9      50\n",
       "19     44      68      14       4\n",
       "20     39      58      81      39\n",
       "21     69      48      60      58\n",
       "22      5      70      61      16\n",
       "23      4      22      19      85\n",
       "24     10      36       0      30\n",
       "25     85      32      81      13\n",
       "26     31      32      96      38\n",
       "27      0      96      25      63\n",
       "28      2      30      17      59\n",
       "29     63      86      29      71\n",
       "30     19       0       7      93\n",
       "31     58      76      10      79\n",
       "32      7      88      96      38\n",
       "33     27      64      49      90\n",
       "34     27      52      90      57\n",
       "35     99      46      46      45\n",
       "36     84      20      49      33\n",
       "37     77      66      37      31\n",
       "38     82      56      41      90\n",
       "39     74       8      92      32\n",
       "40     87      68      86      14\n",
       "41     50      50      85      14\n",
       "42      1      28      58      10\n",
       "43      1      82      34      11\n",
       "44     74      36       6      63\n",
       "45      3      50      59      34\n",
       "46     16      18      61      54\n",
       "47     67      38      27      96"
      ]
     },
     "execution_count": 50,
     "metadata": {},
     "output_type": "execute_result"
    }
   ],
   "source": [
    "# print df3\n",
    "df3_req"
   ]
  },
  {
   "cell_type": "markdown",
   "metadata": {
    "id": "zRcB-7eF-7xB"
   },
   "source": [
    "### `Iterating dataframes`\n",
    "<p style='text-align: right;'> 25 points </p>\n",
    "\n",
    "\n",
    "Let's look at three main ways to iterate over DataFrames.\n",
    "\n",
    "1. iteritems()\n",
    "2. iterrows()\n",
    "3. itertuples()\n",
    "\n",
    "We will also see time taken by these methods to print our dataframe. \n",
    "\n",
    "**1. Iterating DataFrames with iteritems()**\n",
    "\n",
    "Lets iterate over rows of df3 uisng iteritems.\n",
    "\n"
   ]
  },
  {
   "cell_type": "code",
   "execution_count": 167,
   "metadata": {
    "colab": {
     "base_uri": "https://localhost:8080/",
     "height": 321
    },
    "id": "qbaycqBOuaLV",
    "outputId": "65a3b32d-73e8-4e78-b48a-52357b60d9b8"
   },
   "outputs": [],
   "source": [
    "# YouTubeVideo('https://www.youtube.com/watch?v=rl3Nk-IxXV4&list=PLsR_0x6BuM-F4Z72h5D1bjWEASL0_JlrF&index=6',width=600,height=300)"
   ]
  },
  {
   "cell_type": "code",
   "execution_count": 168,
   "metadata": {
    "id": "TSqmwG2g-7xB",
    "outputId": "4e0a4658-3a89-43a5-a37e-d2286ad4c79b",
    "scrolled": true
   },
   "outputs": [
    {
     "name": "stdout",
     "output_type": "stream",
     "text": [
      "0 40 16\n",
      "1 88 33\n",
      "2 30 89\n",
      "3 11 74\n",
      "4 15 80\n"
     ]
    }
   ],
   "source": [
    "import time\n",
    "start = time.time()\n",
    "\n",
    "#Use iteritems to iterate\n",
    "\n",
    "for index in range(5):\n",
    "    print(index, df3_req['Anand'] [index], df3_req['Chandu'][index])\n",
    "\n",
    "# print('Time taken(sec): ',(time.time()-start)*1000)\n",
    "# start"
   ]
  },
  {
   "cell_type": "code",
   "execution_count": 53,
   "metadata": {
    "scrolled": false
   },
   "outputs": [
    {
     "name": "stdout",
     "output_type": "stream",
     "text": [
      "40 16\n",
      "88 33\n",
      "30 89\n",
      "11 74\n",
      "15 80\n"
     ]
    }
   ],
   "source": [
    "# access using loc\n",
    "for index in range(5):\n",
    "    print(df3_req.loc[index,'Anand'], df3_req.loc[index,'Chandu'])\n"
   ]
  },
  {
   "cell_type": "code",
   "execution_count": 54,
   "metadata": {},
   "outputs": [
    {
     "name": "stdout",
     "output_type": "stream",
     "text": [
      "40 36\n",
      "88 62\n",
      "30 30\n",
      "11 28\n",
      "15 18\n"
     ]
    }
   ],
   "source": [
    "# access using iloc\n",
    "for index in range(5):\n",
    "    print(df3_req.iloc[index,0], df3_req.iloc[index,1])"
   ]
  },
  {
   "cell_type": "code",
   "execution_count": 55,
   "metadata": {},
   "outputs": [
    {
     "data": {
      "text/plain": [
       "0    40 16\n",
       "1    88 33\n",
       "2    30 89\n",
       "3    11 74\n",
       "4    15 80\n",
       "dtype: object"
      ]
     },
     "execution_count": 55,
     "metadata": {},
     "output_type": "execute_result"
    }
   ],
   "source": [
    "# Access using apply()\n",
    "df3_req.apply(lambda x: str(x['Anand']) + \" \" +  str(x['Chandu']) , axis=1).head()"
   ]
  },
  {
   "cell_type": "code",
   "execution_count": null,
   "metadata": {
    "scrolled": true
   },
   "outputs": [],
   "source": []
  },
  {
   "cell_type": "code",
   "execution_count": 56,
   "metadata": {},
   "outputs": [
    {
     "name": "stdout",
     "output_type": "stream",
     "text": [
      "Anand \n",
      " 0    40\n",
      "1    88\n",
      "2    30\n",
      "3    11\n",
      "4    15\n",
      "Name: Anand, dtype: int64 \n",
      " **************************************************\n",
      "Barkha \n",
      " 0    36\n",
      "1    62\n",
      "2    30\n",
      "3    28\n",
      "4    18\n",
      "Name: Barkha, dtype: int64 \n",
      " **************************************************\n",
      "Chandu \n",
      " 0    16\n",
      "1    33\n",
      "2    89\n",
      "3    74\n",
      "4    80\n",
      "Name: Chandu, dtype: int64 \n",
      " **************************************************\n",
      "Daniel \n",
      " 0    11\n",
      "1    72\n",
      "2    12\n",
      "3    88\n",
      "4    71\n",
      "Name: Daniel, dtype: int64 \n",
      " **************************************************\n"
     ]
    }
   ],
   "source": [
    "# iteritems -> printing columnwise\n",
    "for column,data in df3_req.head().iteritems():\n",
    "    print(column , '\\n' , data ,'\\n', '*****' *10)"
   ]
  },
  {
   "cell_type": "markdown",
   "metadata": {
    "id": "1zzfkzkH-7xB"
   },
   "source": [
    "Did you notice buddy how iteritems are iterating over df3.\n",
    "\n",
    "Along with ways each iterating function works, also keep tallying the time taken for all other lopps too!. This will be fun, lets check iterrows()\n",
    "\n",
    "**2. Iterating DataFrames with iterrows()**"
   ]
  },
  {
   "cell_type": "code",
   "execution_count": 57,
   "metadata": {
    "id": "9z4LQ7bW-7xB",
    "outputId": "a0d23a34-04d1-4ebc-fbac-02a081612062"
   },
   "outputs": [
    {
     "name": "stdout",
     "output_type": "stream",
     "text": [
      "0 \n",
      " Anand     40\n",
      "Barkha    36\n",
      "Chandu    16\n",
      "Daniel    11\n",
      "Name: 0, dtype: int64 \n",
      " **************************************************\n",
      "1 \n",
      " Anand     88\n",
      "Barkha    62\n",
      "Chandu    33\n",
      "Daniel    72\n",
      "Name: 1, dtype: int64 \n",
      " **************************************************\n",
      "2 \n",
      " Anand     30\n",
      "Barkha    30\n",
      "Chandu    89\n",
      "Daniel    12\n",
      "Name: 2, dtype: int64 \n",
      " **************************************************\n",
      "3 \n",
      " Anand     11\n",
      "Barkha    28\n",
      "Chandu    74\n",
      "Daniel    88\n",
      "Name: 3, dtype: int64 \n",
      " **************************************************\n",
      "4 \n",
      " Anand     15\n",
      "Barkha    18\n",
      "Chandu    80\n",
      "Daniel    71\n",
      "Name: 4, dtype: int64 \n",
      " **************************************************\n",
      "Time taken(sec):  3.0045509338378906\n"
     ]
    }
   ],
   "source": [
    "import time\n",
    "start = time.time()\n",
    "#Use iterrows to iterate\n",
    "# iterrows -> printing rowwise\n",
    "for index,data in df3_req.head().iterrows():\n",
    "    print(index , '\\n' , data ,'\\n', '*****' *10)\n",
    "print('Time taken(sec): ',(time.time()-start)*1000)"
   ]
  },
  {
   "cell_type": "markdown",
   "metadata": {
    "id": "XrKpHWa--7xC"
   },
   "source": [
    "**3. Iterating DataFrames with itertuples()**"
   ]
  },
  {
   "cell_type": "code",
   "execution_count": 58,
   "metadata": {
    "id": "bMYuRN-x-7xC",
    "outputId": "80a179d8-23ee-41ba-c51f-3ff93c6e6923"
   },
   "outputs": [
    {
     "name": "stdout",
     "output_type": "stream",
     "text": [
      "Pandas(Index=0, Anand=40, Barkha=36, Chandu=16, Daniel=11) \n",
      "\n",
      "Pandas(Index=1, Anand=88, Barkha=62, Chandu=33, Daniel=72) \n",
      "\n",
      "Pandas(Index=2, Anand=30, Barkha=30, Chandu=89, Daniel=12) \n",
      "\n",
      "Pandas(Index=3, Anand=11, Barkha=28, Chandu=74, Daniel=88) \n",
      "\n",
      "Pandas(Index=4, Anand=15, Barkha=18, Chandu=80, Daniel=71) \n",
      "\n",
      "Time taken(sec):  1.0013580322265625\n"
     ]
    }
   ],
   "source": [
    "#iterate df3 using itertuples\n",
    "import time\n",
    "start = time.time()\n",
    "\n",
    "#Use itertuples to iterate\n",
    "\n",
    "# iterrows -> printing like  tuples\n",
    "for index in df3_req.head().itertuples():\n",
    "    print(index , '\\n')\n",
    "\n",
    "\n",
    "print('Time taken(sec): ',(time.time()-start)*1000)"
   ]
  },
  {
   "cell_type": "code",
   "execution_count": 59,
   "metadata": {},
   "outputs": [
    {
     "name": "stdout",
     "output_type": "stream",
     "text": [
      "Anand \n",
      "\n",
      "0    40\n",
      "1    88\n",
      "2    30\n",
      "3    11\n",
      "4    15\n",
      "Name: Anand, dtype: int64\n",
      "Barkha \n",
      "\n",
      "0    36\n",
      "1    62\n",
      "2    30\n",
      "3    28\n",
      "4    18\n",
      "Name: Barkha, dtype: int64\n",
      "Chandu \n",
      "\n",
      "0    16\n",
      "1    33\n",
      "2    89\n",
      "3    74\n",
      "4    80\n",
      "Name: Chandu, dtype: int64\n",
      "Daniel \n",
      "\n",
      "0    11\n",
      "1    72\n",
      "2    12\n",
      "3    88\n",
      "4    71\n",
      "Name: Daniel, dtype: int64\n"
     ]
    }
   ],
   "source": [
    "#  iterate by column\n",
    "for column_name in df3_req.columns:\n",
    "    print(column_name, '\\n')\n",
    "    print(df3_req[column_name].head())"
   ]
  },
  {
   "cell_type": "markdown",
   "metadata": {
    "id": "zuayNDa8-7xC"
   },
   "source": [
    "Hey buddy! so as you have seen every method works differently \n",
    "    \n",
    "    iteritems(): Helps to iterate over each element of the set, column-wise. \n",
    "    iterrows(): Each element of the set, row-wise. \n",
    "    itertuple(): Each row and form a tuple out of them.\n",
    "\n",
    "But if you ask for speed. The most best perfromance is given by itertuples compared to other two iterating methods.\n",
    "So if anytime you need to save your computation time on iteration of dataframes you can go for itertuples. Was'nt it fun?:)"
   ]
  },
  {
   "cell_type": "markdown",
   "metadata": {
    "id": "IDYj2cP9riJM"
   },
   "source": [
    "### `Regular Expression` \n",
    "<p style='text-align: right;'> 15 points </p>\n",
    "\n",
    "\n",
    "Reference: Watch the video below\n",
    "\n",
    "Reference doc: https://www.guru99.com/python-regular-expressions-complete-tutorial.html\n",
    "\n",
    "Python has a module named re to work with RegEx\n",
    "\n",
    "\n",
    "### **!Are you ready to try regex on dataframes?**\n",
    "\n",
    "*So here we go.!*\n",
    "\n",
    "We are gonna try out following awesome re module functions\n",
    "\n",
    "1. findall \n",
    "2. search\n",
    "3. sub\n",
    "4. split\n",
    "\n",
    "If you want you can also refer the below regular expression syntax.\n",
    "\n",
    "![image.png](attachment:image.png)\n"
   ]
  },
  {
   "cell_type": "code",
   "execution_count": 169,
   "metadata": {
    "colab": {
     "base_uri": "https://localhost:8080/",
     "height": 321
    },
    "id": "mlY1ikh2rSKn",
    "outputId": "4400dd2e-b0cd-479e-c3b2-4b0a8326042d"
   },
   "outputs": [],
   "source": [
    "# YouTubeVideo('YXFZTKlkf-Y',width=600,height=300)"
   ]
  },
  {
   "cell_type": "markdown",
   "metadata": {
    "id": "7UTdQf37-7xC"
   },
   "source": [
    "Hey future data scientists! we will now use regex on dataframes for data cleaning.\n",
    "\n",
    "Who doesn't know Trump?. Lets dowload this interesting dataset of Trump insult tweets :https://www.kaggle.com/ayushggarg/all-trumps-twitter-insults-20152021/download\n",
    "\n",
    "On this dataset we will learn how to use regex for data cleaning. By the way it will be also very usefull for feature engineering too!.\n",
    "\n"
   ]
  },
  {
   "cell_type": "code",
   "execution_count": 269,
   "metadata": {
    "id": "cjtyP--7-7xD"
   },
   "outputs": [
    {
     "data": {
      "text/html": [
       "<div>\n",
       "<style scoped>\n",
       "    .dataframe tbody tr th:only-of-type {\n",
       "        vertical-align: middle;\n",
       "    }\n",
       "\n",
       "    .dataframe tbody tr th {\n",
       "        vertical-align: top;\n",
       "    }\n",
       "\n",
       "    .dataframe thead th {\n",
       "        text-align: right;\n",
       "    }\n",
       "</style>\n",
       "<table border=\"1\" class=\"dataframe\">\n",
       "  <thead>\n",
       "    <tr style=\"text-align: right;\">\n",
       "      <th></th>\n",
       "      <th>date</th>\n",
       "      <th>target</th>\n",
       "      <th>insult</th>\n",
       "      <th>tweet</th>\n",
       "    </tr>\n",
       "  </thead>\n",
       "  <tbody>\n",
       "    <tr>\n",
       "      <th>0</th>\n",
       "      <td>2014-10-09</td>\n",
       "      <td>thomas-frieden</td>\n",
       "      <td>fool</td>\n",
       "      <td>Can you believe this fool, Dr. Thomas Frieden ...</td>\n",
       "    </tr>\n",
       "    <tr>\n",
       "      <th>1</th>\n",
       "      <td>2014-10-09</td>\n",
       "      <td>thomas-frieden</td>\n",
       "      <td>DOPE</td>\n",
       "      <td>Can you believe this fool, Dr. Thomas Frieden ...</td>\n",
       "    </tr>\n",
       "    <tr>\n",
       "      <th>2</th>\n",
       "      <td>2015-06-16</td>\n",
       "      <td>politicians</td>\n",
       "      <td>all talk and no action</td>\n",
       "      <td>Big time in U.S. today - MAKE AMERICA GREAT AG...</td>\n",
       "    </tr>\n",
       "    <tr>\n",
       "      <th>3</th>\n",
       "      <td>2015-06-24</td>\n",
       "      <td>ben-cardin</td>\n",
       "      <td>It's politicians like Cardin that have destroy...</td>\n",
       "      <td>Politician @SenatorCardin didn't like that I s...</td>\n",
       "    </tr>\n",
       "    <tr>\n",
       "      <th>4</th>\n",
       "      <td>2015-06-24</td>\n",
       "      <td>neil-young</td>\n",
       "      <td>total hypocrite</td>\n",
       "      <td>For the nonbeliever, here is a photo of @Neily...</td>\n",
       "    </tr>\n",
       "  </tbody>\n",
       "</table>\n",
       "</div>"
      ],
      "text/plain": [
       "         date          target  \\\n",
       "0  2014-10-09  thomas-frieden   \n",
       "1  2014-10-09  thomas-frieden   \n",
       "2  2015-06-16     politicians   \n",
       "3  2015-06-24      ben-cardin   \n",
       "4  2015-06-24      neil-young   \n",
       "\n",
       "                                              insult  \\\n",
       "0                                               fool   \n",
       "1                                               DOPE   \n",
       "2                             all talk and no action   \n",
       "3  It's politicians like Cardin that have destroy...   \n",
       "4                                    total hypocrite   \n",
       "\n",
       "                                               tweet  \n",
       "0  Can you believe this fool, Dr. Thomas Frieden ...  \n",
       "1  Can you believe this fool, Dr. Thomas Frieden ...  \n",
       "2  Big time in U.S. today - MAKE AMERICA GREAT AG...  \n",
       "3  Politician @SenatorCardin didn't like that I s...  \n",
       "4  For the nonbeliever, here is a photo of @Neily...  "
      ]
     },
     "execution_count": 269,
     "metadata": {},
     "output_type": "execute_result"
    }
   ],
   "source": [
    "#load dataset\n",
    "tweet_data=pd.read_csv('trump_insult_tweets_2014_to_2021.csv')\n",
    "tweet_data.reset_index(inplace=True , drop=True)\n",
    "tweet_data.drop('Unnamed: 0' , axis=1,inplace=True)\n",
    "tweet_data.head()"
   ]
  },
  {
   "cell_type": "code",
   "execution_count": 270,
   "metadata": {
    "id": "pAlXI3yU-7xD",
    "outputId": "09e9c00e-009e-43cf-bdc1-e157e7ec7e85"
   },
   "outputs": [
    {
     "data": {
      "text/html": [
       "<div>\n",
       "<style scoped>\n",
       "    .dataframe tbody tr th:only-of-type {\n",
       "        vertical-align: middle;\n",
       "    }\n",
       "\n",
       "    .dataframe tbody tr th {\n",
       "        vertical-align: top;\n",
       "    }\n",
       "\n",
       "    .dataframe thead th {\n",
       "        text-align: right;\n",
       "    }\n",
       "</style>\n",
       "<table border=\"1\" class=\"dataframe\">\n",
       "  <thead>\n",
       "    <tr style=\"text-align: right;\">\n",
       "      <th></th>\n",
       "      <th>date</th>\n",
       "      <th>target</th>\n",
       "      <th>insult</th>\n",
       "      <th>tweet</th>\n",
       "    </tr>\n",
       "  </thead>\n",
       "  <tbody>\n",
       "    <tr>\n",
       "      <th>0</th>\n",
       "      <td>2014-10-09</td>\n",
       "      <td>thomas-frieden</td>\n",
       "      <td>fool</td>\n",
       "      <td>Can you believe this fool, Dr. Thomas Frieden ...</td>\n",
       "    </tr>\n",
       "    <tr>\n",
       "      <th>1</th>\n",
       "      <td>2014-10-09</td>\n",
       "      <td>thomas-frieden</td>\n",
       "      <td>DOPE</td>\n",
       "      <td>Can you believe this fool, Dr. Thomas Frieden ...</td>\n",
       "    </tr>\n",
       "    <tr>\n",
       "      <th>2</th>\n",
       "      <td>2015-06-16</td>\n",
       "      <td>politicians</td>\n",
       "      <td>all talk and no action</td>\n",
       "      <td>Big time in U.S. today - MAKE AMERICA GREAT AG...</td>\n",
       "    </tr>\n",
       "    <tr>\n",
       "      <th>3</th>\n",
       "      <td>2015-06-24</td>\n",
       "      <td>ben-cardin</td>\n",
       "      <td>It's politicians like Cardin that have destroy...</td>\n",
       "      <td>Politician @SenatorCardin didn't like that I s...</td>\n",
       "    </tr>\n",
       "    <tr>\n",
       "      <th>4</th>\n",
       "      <td>2015-06-24</td>\n",
       "      <td>neil-young</td>\n",
       "      <td>total hypocrite</td>\n",
       "      <td>For the nonbeliever, here is a photo of @Neily...</td>\n",
       "    </tr>\n",
       "  </tbody>\n",
       "</table>\n",
       "</div>"
      ],
      "text/plain": [
       "         date          target  \\\n",
       "0  2014-10-09  thomas-frieden   \n",
       "1  2014-10-09  thomas-frieden   \n",
       "2  2015-06-16     politicians   \n",
       "3  2015-06-24      ben-cardin   \n",
       "4  2015-06-24      neil-young   \n",
       "\n",
       "                                              insult  \\\n",
       "0                                               fool   \n",
       "1                                               DOPE   \n",
       "2                             all talk and no action   \n",
       "3  It's politicians like Cardin that have destroy...   \n",
       "4                                    total hypocrite   \n",
       "\n",
       "                                               tweet  \n",
       "0  Can you believe this fool, Dr. Thomas Frieden ...  \n",
       "1  Can you believe this fool, Dr. Thomas Frieden ...  \n",
       "2  Big time in U.S. today - MAKE AMERICA GREAT AG...  \n",
       "3  Politician @SenatorCardin didn't like that I s...  \n",
       "4  For the nonbeliever, here is a photo of @Neily...  "
      ]
     },
     "execution_count": 270,
     "metadata": {},
     "output_type": "execute_result"
    }
   ],
   "source": [
    "#import re module\n",
    "import re\n",
    "\n",
    "#print head of tweet_data\n",
    "tweet_data.head()"
   ]
  },
  {
   "cell_type": "markdown",
   "metadata": {
    "id": "-sQ2gcii-7xE"
   },
   "source": [
    "Lets do some analysis using regex on this dataset\n",
    "\n",
    "Before we go ahead, do you remember apply function? because you will have to require apply function to impliment regex methods.\n",
    "\n",
    "You can refer video below:\n",
    "**1. findall()**\n",
    "\n",
    "Make another column 'year' with year in each row using regex on date column.\n"
   ]
  },
  {
   "cell_type": "code",
   "execution_count": 271,
   "metadata": {
    "colab": {
     "base_uri": "https://localhost:8080/",
     "height": 321
    },
    "executionInfo": {
     "elapsed": 14,
     "status": "ok",
     "timestamp": 1651672752858,
     "user": {
      "displayName": "Rahul Mishra",
      "userId": "09742833377578495523"
     },
     "user_tz": -330
    },
    "id": "3dqcmEQxXRDO",
    "outputId": "9850d8a0-ccfb-48f7-dad7-e474dd5aaeb3"
   },
   "outputs": [],
   "source": [
    "# YouTubeVideo('T-b7TxWfrfE',width=600,height=300)"
   ]
  },
  {
   "cell_type": "code",
   "execution_count": 272,
   "metadata": {
    "id": "l34Sp7fI-7xE",
    "outputId": "afa996f2-9495-49bf-e800-4d8b348367d1"
   },
   "outputs": [
    {
     "data": {
      "text/html": [
       "<div>\n",
       "<style scoped>\n",
       "    .dataframe tbody tr th:only-of-type {\n",
       "        vertical-align: middle;\n",
       "    }\n",
       "\n",
       "    .dataframe tbody tr th {\n",
       "        vertical-align: top;\n",
       "    }\n",
       "\n",
       "    .dataframe thead th {\n",
       "        text-align: right;\n",
       "    }\n",
       "</style>\n",
       "<table border=\"1\" class=\"dataframe\">\n",
       "  <thead>\n",
       "    <tr style=\"text-align: right;\">\n",
       "      <th></th>\n",
       "      <th>date</th>\n",
       "      <th>target</th>\n",
       "      <th>insult</th>\n",
       "      <th>tweet</th>\n",
       "      <th>Year</th>\n",
       "    </tr>\n",
       "  </thead>\n",
       "  <tbody>\n",
       "    <tr>\n",
       "      <th>0</th>\n",
       "      <td>2014-10-09</td>\n",
       "      <td>thomas-frieden</td>\n",
       "      <td>fool</td>\n",
       "      <td>Can you believe this fool, Dr. Thomas Frieden ...</td>\n",
       "      <td>2014</td>\n",
       "    </tr>\n",
       "    <tr>\n",
       "      <th>1</th>\n",
       "      <td>2014-10-09</td>\n",
       "      <td>thomas-frieden</td>\n",
       "      <td>DOPE</td>\n",
       "      <td>Can you believe this fool, Dr. Thomas Frieden ...</td>\n",
       "      <td>2014</td>\n",
       "    </tr>\n",
       "    <tr>\n",
       "      <th>2</th>\n",
       "      <td>2015-06-16</td>\n",
       "      <td>politicians</td>\n",
       "      <td>all talk and no action</td>\n",
       "      <td>Big time in U.S. today - MAKE AMERICA GREAT AG...</td>\n",
       "      <td>2015</td>\n",
       "    </tr>\n",
       "    <tr>\n",
       "      <th>3</th>\n",
       "      <td>2015-06-24</td>\n",
       "      <td>ben-cardin</td>\n",
       "      <td>It's politicians like Cardin that have destroy...</td>\n",
       "      <td>Politician @SenatorCardin didn't like that I s...</td>\n",
       "      <td>2015</td>\n",
       "    </tr>\n",
       "    <tr>\n",
       "      <th>4</th>\n",
       "      <td>2015-06-24</td>\n",
       "      <td>neil-young</td>\n",
       "      <td>total hypocrite</td>\n",
       "      <td>For the nonbeliever, here is a photo of @Neily...</td>\n",
       "      <td>2015</td>\n",
       "    </tr>\n",
       "  </tbody>\n",
       "</table>\n",
       "</div>"
      ],
      "text/plain": [
       "         date          target  \\\n",
       "0  2014-10-09  thomas-frieden   \n",
       "1  2014-10-09  thomas-frieden   \n",
       "2  2015-06-16     politicians   \n",
       "3  2015-06-24      ben-cardin   \n",
       "4  2015-06-24      neil-young   \n",
       "\n",
       "                                              insult  \\\n",
       "0                                               fool   \n",
       "1                                               DOPE   \n",
       "2                             all talk and no action   \n",
       "3  It's politicians like Cardin that have destroy...   \n",
       "4                                    total hypocrite   \n",
       "\n",
       "                                               tweet  Year  \n",
       "0  Can you believe this fool, Dr. Thomas Frieden ...  2014  \n",
       "1  Can you believe this fool, Dr. Thomas Frieden ...  2014  \n",
       "2  Big time in U.S. today - MAKE AMERICA GREAT AG...  2015  \n",
       "3  Politician @SenatorCardin didn't like that I s...  2015  \n",
       "4  For the nonbeliever, here is a photo of @Neily...  2015  "
      ]
     },
     "execution_count": 272,
     "metadata": {},
     "output_type": "execute_result"
    }
   ],
   "source": [
    "# create a function which takes date as parameter and applies regex on it\n",
    "\n",
    "\n",
    "#use apply function on tweet_data to use above function in order to make year column\n",
    "\n",
    "\n",
    "#print tweet_data head\n",
    "\n",
    "\n",
    "def split_it(year):\n",
    "    pattern = r'^20\\d\\d'\n",
    "    return str(re.findall(pattern, year)[0])\n",
    "\n",
    "tweet_data['Year'] = tweet_data['date'].apply(lambda x: split_it(x))\n",
    "tweet_data.head()"
   ]
  },
  {
   "cell_type": "markdown",
   "metadata": {
    "id": "PFhjRS6q-7xE"
   },
   "source": [
    "lets filter year from 2020-2021 which was the election time in USA.\n",
    "\n",
    "**2. search**\n",
    "\n",
    "We will use regex search for this "
   ]
  },
  {
   "cell_type": "code",
   "execution_count": 273,
   "metadata": {
    "id": "Zvq2DM56-7xE",
    "outputId": "cfef8cda-8cc2-4f9b-f773-4bff1bbdc469"
   },
   "outputs": [],
   "source": [
    "# create a function which takes year as parameter and applies regex on it\n",
    "def filter_year(year):\n",
    "    x= re.search( r'^202\\d' , year)\n",
    "    if x :\n",
    "        return x.group(0)\n",
    "    \n",
    "#use apply function on tweet_data to use above function in order to search tweets of 2020-2021\n",
    "tweet_data_search = tweet_data\n",
    "tweet_data_search['Year'] = tweet_data_search['Year'].apply(filter_year)\n",
    "\n",
    "\n",
    "# tweet_data_new = tweet_data[(tweet_data.Year == 2020) | (tweet_data.Year == 2021)]\n",
    "# tweet_data_new.reset_index(inplace=True, drop=True)\n",
    "# tweet_data_new.head()\n",
    "# #tweet_data head\n"
   ]
  },
  {
   "cell_type": "code",
   "execution_count": 274,
   "metadata": {},
   "outputs": [
    {
     "data": {
      "text/html": [
       "<div>\n",
       "<style scoped>\n",
       "    .dataframe tbody tr th:only-of-type {\n",
       "        vertical-align: middle;\n",
       "    }\n",
       "\n",
       "    .dataframe tbody tr th {\n",
       "        vertical-align: top;\n",
       "    }\n",
       "\n",
       "    .dataframe thead th {\n",
       "        text-align: right;\n",
       "    }\n",
       "</style>\n",
       "<table border=\"1\" class=\"dataframe\">\n",
       "  <thead>\n",
       "    <tr style=\"text-align: right;\">\n",
       "      <th></th>\n",
       "      <th>date</th>\n",
       "      <th>target</th>\n",
       "      <th>insult</th>\n",
       "      <th>tweet</th>\n",
       "      <th>Year</th>\n",
       "    </tr>\n",
       "  </thead>\n",
       "  <tbody>\n",
       "    <tr>\n",
       "      <th>10355</th>\n",
       "      <td>2021-01-06</td>\n",
       "      <td>2020-election</td>\n",
       "      <td>Many States want to decertify the mistake they...</td>\n",
       "      <td>If Vice President @Mike_Pence comes through fo...</td>\n",
       "      <td>2021</td>\n",
       "    </tr>\n",
       "    <tr>\n",
       "      <th>10356</th>\n",
       "      <td>2021-01-06</td>\n",
       "      <td>2020-election</td>\n",
       "      <td>based on irregularities and fraud, plus corrup...</td>\n",
       "      <td>States want to correct their votes, which they...</td>\n",
       "      <td>2021</td>\n",
       "    </tr>\n",
       "    <tr>\n",
       "      <th>10357</th>\n",
       "      <td>2021-01-06</td>\n",
       "      <td>2020-election</td>\n",
       "      <td>Our Election Process is worse than that of thi...</td>\n",
       "      <td>They just happened to find 50,000 ballots late...</td>\n",
       "      <td>2021</td>\n",
       "    </tr>\n",
       "    <tr>\n",
       "      <th>10358</th>\n",
       "      <td>2021-01-06</td>\n",
       "      <td>2020-election</td>\n",
       "      <td>a FRAUD</td>\n",
       "      <td>The States want to redo their votes. They foun...</td>\n",
       "      <td>2021</td>\n",
       "    </tr>\n",
       "    <tr>\n",
       "      <th>10359</th>\n",
       "      <td>2021-01-06</td>\n",
       "      <td>chuck-todd</td>\n",
       "      <td>Sleepy Eyes,  Sad to watch!</td>\n",
       "      <td>Sleepy Eyes Chuck Todd is so happy with the fa...</td>\n",
       "      <td>2021</td>\n",
       "    </tr>\n",
       "  </tbody>\n",
       "</table>\n",
       "</div>"
      ],
      "text/plain": [
       "             date         target  \\\n",
       "10355  2021-01-06  2020-election   \n",
       "10356  2021-01-06  2020-election   \n",
       "10357  2021-01-06  2020-election   \n",
       "10358  2021-01-06  2020-election   \n",
       "10359  2021-01-06     chuck-todd   \n",
       "\n",
       "                                                  insult  \\\n",
       "10355  Many States want to decertify the mistake they...   \n",
       "10356  based on irregularities and fraud, plus corrup...   \n",
       "10357  Our Election Process is worse than that of thi...   \n",
       "10358                                            a FRAUD   \n",
       "10359                        Sleepy Eyes,  Sad to watch!   \n",
       "\n",
       "                                                   tweet  Year  \n",
       "10355  If Vice President @Mike_Pence comes through fo...  2021  \n",
       "10356  States want to correct their votes, which they...  2021  \n",
       "10357  They just happened to find 50,000 ballots late...  2021  \n",
       "10358  The States want to redo their votes. They foun...  2021  \n",
       "10359  Sleepy Eyes Chuck Todd is so happy with the fa...  2021  "
      ]
     },
     "execution_count": 274,
     "metadata": {},
     "output_type": "execute_result"
    }
   ],
   "source": [
    "tweet_data_search.tail(5)"
   ]
  },
  {
   "cell_type": "markdown",
   "metadata": {
    "id": "6rgroZ2S-7xE"
   },
   "source": [
    "You can also do the same thing using regex match function to do this which is vailable in pandas\n",
    "\n",
    "Reference: https://www.geeksforgeeks.org/python-pandas-series-str-match/"
   ]
  },
  {
   "cell_type": "code",
   "execution_count": 275,
   "metadata": {
    "id": "clsvcyg9-7xF",
    "outputId": "f55697de-b8a7-432c-c2cb-423ee40c6715"
   },
   "outputs": [],
   "source": [
    "# apply pandas str.match() function\n",
    "tweet_data_match = tweet_data\n",
    "tweet_data_match.Year = tweet_data_match.Year.str.match(pat = r'^202\\d')\n",
    "\n"
   ]
  },
  {
   "cell_type": "code",
   "execution_count": 276,
   "metadata": {},
   "outputs": [
    {
     "data": {
      "text/html": [
       "<div>\n",
       "<style scoped>\n",
       "    .dataframe tbody tr th:only-of-type {\n",
       "        vertical-align: middle;\n",
       "    }\n",
       "\n",
       "    .dataframe tbody tr th {\n",
       "        vertical-align: top;\n",
       "    }\n",
       "\n",
       "    .dataframe thead th {\n",
       "        text-align: right;\n",
       "    }\n",
       "</style>\n",
       "<table border=\"1\" class=\"dataframe\">\n",
       "  <thead>\n",
       "    <tr style=\"text-align: right;\">\n",
       "      <th></th>\n",
       "      <th>date</th>\n",
       "      <th>target</th>\n",
       "      <th>insult</th>\n",
       "      <th>tweet</th>\n",
       "      <th>Year</th>\n",
       "    </tr>\n",
       "  </thead>\n",
       "  <tbody>\n",
       "    <tr>\n",
       "      <th>0</th>\n",
       "      <td>2014-10-09</td>\n",
       "      <td>thomas-frieden</td>\n",
       "      <td>fool</td>\n",
       "      <td>Can you believe this fool, Dr. Thomas Frieden ...</td>\n",
       "      <td>None</td>\n",
       "    </tr>\n",
       "    <tr>\n",
       "      <th>1</th>\n",
       "      <td>2014-10-09</td>\n",
       "      <td>thomas-frieden</td>\n",
       "      <td>DOPE</td>\n",
       "      <td>Can you believe this fool, Dr. Thomas Frieden ...</td>\n",
       "      <td>None</td>\n",
       "    </tr>\n",
       "    <tr>\n",
       "      <th>2</th>\n",
       "      <td>2015-06-16</td>\n",
       "      <td>politicians</td>\n",
       "      <td>all talk and no action</td>\n",
       "      <td>Big time in U.S. today - MAKE AMERICA GREAT AG...</td>\n",
       "      <td>None</td>\n",
       "    </tr>\n",
       "    <tr>\n",
       "      <th>3</th>\n",
       "      <td>2015-06-24</td>\n",
       "      <td>ben-cardin</td>\n",
       "      <td>It's politicians like Cardin that have destroy...</td>\n",
       "      <td>Politician @SenatorCardin didn't like that I s...</td>\n",
       "      <td>None</td>\n",
       "    </tr>\n",
       "    <tr>\n",
       "      <th>4</th>\n",
       "      <td>2015-06-24</td>\n",
       "      <td>neil-young</td>\n",
       "      <td>total hypocrite</td>\n",
       "      <td>For the nonbeliever, here is a photo of @Neily...</td>\n",
       "      <td>None</td>\n",
       "    </tr>\n",
       "  </tbody>\n",
       "</table>\n",
       "</div>"
      ],
      "text/plain": [
       "         date          target  \\\n",
       "0  2014-10-09  thomas-frieden   \n",
       "1  2014-10-09  thomas-frieden   \n",
       "2  2015-06-16     politicians   \n",
       "3  2015-06-24      ben-cardin   \n",
       "4  2015-06-24      neil-young   \n",
       "\n",
       "                                              insult  \\\n",
       "0                                               fool   \n",
       "1                                               DOPE   \n",
       "2                             all talk and no action   \n",
       "3  It's politicians like Cardin that have destroy...   \n",
       "4                                    total hypocrite   \n",
       "\n",
       "                                               tweet  Year  \n",
       "0  Can you believe this fool, Dr. Thomas Frieden ...  None  \n",
       "1  Can you believe this fool, Dr. Thomas Frieden ...  None  \n",
       "2  Big time in U.S. today - MAKE AMERICA GREAT AG...  None  \n",
       "3  Politician @SenatorCardin didn't like that I s...  None  \n",
       "4  For the nonbeliever, here is a photo of @Neily...  None  "
      ]
     },
     "execution_count": 276,
     "metadata": {},
     "output_type": "execute_result"
    }
   ],
   "source": [
    "tweet_data_match.head(5)"
   ]
  },
  {
   "cell_type": "markdown",
   "metadata": {
    "id": "JdIqlzyQ-7xF"
   },
   "source": [
    "cool right!\n",
    "\n",
    "You got some null values after applying above function. Lets drop them using dropna function. Also drop 'Unnamed: 0' column as it does not give any information.\n"
   ]
  },
  {
   "cell_type": "code",
   "execution_count": 277,
   "metadata": {
    "id": "tVXjN4_0-7xF"
   },
   "outputs": [
    {
     "data": {
      "text/html": [
       "<div>\n",
       "<style scoped>\n",
       "    .dataframe tbody tr th:only-of-type {\n",
       "        vertical-align: middle;\n",
       "    }\n",
       "\n",
       "    .dataframe tbody tr th {\n",
       "        vertical-align: top;\n",
       "    }\n",
       "\n",
       "    .dataframe thead th {\n",
       "        text-align: right;\n",
       "    }\n",
       "</style>\n",
       "<table border=\"1\" class=\"dataframe\">\n",
       "  <thead>\n",
       "    <tr style=\"text-align: right;\">\n",
       "      <th></th>\n",
       "      <th>date</th>\n",
       "      <th>target</th>\n",
       "      <th>insult</th>\n",
       "      <th>tweet</th>\n",
       "      <th>Year</th>\n",
       "    </tr>\n",
       "  </thead>\n",
       "  <tbody>\n",
       "    <tr>\n",
       "      <th>0</th>\n",
       "      <td>2020-01-01</td>\n",
       "      <td>impeachment-inquiry</td>\n",
       "      <td>The greatest Witch Hunt in U.S. history</td>\n",
       "      <td>Thank you Steve. The greatest Witch Hunt in U....</td>\n",
       "      <td>True</td>\n",
       "    </tr>\n",
       "    <tr>\n",
       "      <th>1</th>\n",
       "      <td>2020-01-02</td>\n",
       "      <td>impeachment-inquiry</td>\n",
       "      <td>Witch Hunt is sputtering badly, but still goin...</td>\n",
       "      <td>A lot of very good people were taken down by a...</td>\n",
       "      <td>True</td>\n",
       "    </tr>\n",
       "    <tr>\n",
       "      <th>2</th>\n",
       "      <td>2020-01-04</td>\n",
       "      <td>impeachment-inquiry</td>\n",
       "      <td>this ridiculous Impeachment Lite Hoax</td>\n",
       "      <td>As hard as I work, &amp; as successful as our Coun...</td>\n",
       "      <td>True</td>\n",
       "    </tr>\n",
       "    <tr>\n",
       "      <th>3</th>\n",
       "      <td>2020-01-06</td>\n",
       "      <td>los-angeles</td>\n",
       "      <td>poorly run</td>\n",
       "      <td>....If however, the city or state in question ...</td>\n",
       "      <td>True</td>\n",
       "    </tr>\n",
       "    <tr>\n",
       "      <th>4</th>\n",
       "      <td>2020-01-06</td>\n",
       "      <td>impeachment-inquiry</td>\n",
       "      <td>The great Scam continues</td>\n",
       "      <td>“The reason they are not sending the Articles ...</td>\n",
       "      <td>True</td>\n",
       "    </tr>\n",
       "    <tr>\n",
       "      <th>...</th>\n",
       "      <td>...</td>\n",
       "      <td>...</td>\n",
       "      <td>...</td>\n",
       "      <td>...</td>\n",
       "      <td>...</td>\n",
       "    </tr>\n",
       "    <tr>\n",
       "      <th>2734</th>\n",
       "      <td>2021-01-06</td>\n",
       "      <td>2020-election</td>\n",
       "      <td>Many States want to decertify the mistake they...</td>\n",
       "      <td>If Vice President @Mike_Pence comes through fo...</td>\n",
       "      <td>True</td>\n",
       "    </tr>\n",
       "    <tr>\n",
       "      <th>2735</th>\n",
       "      <td>2021-01-06</td>\n",
       "      <td>2020-election</td>\n",
       "      <td>based on irregularities and fraud, plus corrup...</td>\n",
       "      <td>States want to correct their votes, which they...</td>\n",
       "      <td>True</td>\n",
       "    </tr>\n",
       "    <tr>\n",
       "      <th>2736</th>\n",
       "      <td>2021-01-06</td>\n",
       "      <td>2020-election</td>\n",
       "      <td>Our Election Process is worse than that of thi...</td>\n",
       "      <td>They just happened to find 50,000 ballots late...</td>\n",
       "      <td>True</td>\n",
       "    </tr>\n",
       "    <tr>\n",
       "      <th>2737</th>\n",
       "      <td>2021-01-06</td>\n",
       "      <td>2020-election</td>\n",
       "      <td>a FRAUD</td>\n",
       "      <td>The States want to redo their votes. They foun...</td>\n",
       "      <td>True</td>\n",
       "    </tr>\n",
       "    <tr>\n",
       "      <th>2738</th>\n",
       "      <td>2021-01-06</td>\n",
       "      <td>chuck-todd</td>\n",
       "      <td>Sleepy Eyes,  Sad to watch!</td>\n",
       "      <td>Sleepy Eyes Chuck Todd is so happy with the fa...</td>\n",
       "      <td>True</td>\n",
       "    </tr>\n",
       "  </tbody>\n",
       "</table>\n",
       "<p>2739 rows × 5 columns</p>\n",
       "</div>"
      ],
      "text/plain": [
       "            date               target  \\\n",
       "0     2020-01-01  impeachment-inquiry   \n",
       "1     2020-01-02  impeachment-inquiry   \n",
       "2     2020-01-04  impeachment-inquiry   \n",
       "3     2020-01-06          los-angeles   \n",
       "4     2020-01-06  impeachment-inquiry   \n",
       "...          ...                  ...   \n",
       "2734  2021-01-06        2020-election   \n",
       "2735  2021-01-06        2020-election   \n",
       "2736  2021-01-06        2020-election   \n",
       "2737  2021-01-06        2020-election   \n",
       "2738  2021-01-06           chuck-todd   \n",
       "\n",
       "                                                 insult  \\\n",
       "0               The greatest Witch Hunt in U.S. history   \n",
       "1     Witch Hunt is sputtering badly, but still goin...   \n",
       "2                 this ridiculous Impeachment Lite Hoax   \n",
       "3                                            poorly run   \n",
       "4                              The great Scam continues   \n",
       "...                                                 ...   \n",
       "2734  Many States want to decertify the mistake they...   \n",
       "2735  based on irregularities and fraud, plus corrup...   \n",
       "2736  Our Election Process is worse than that of thi...   \n",
       "2737                                            a FRAUD   \n",
       "2738                        Sleepy Eyes,  Sad to watch!   \n",
       "\n",
       "                                                  tweet  Year  \n",
       "0     Thank you Steve. The greatest Witch Hunt in U....  True  \n",
       "1     A lot of very good people were taken down by a...  True  \n",
       "2     As hard as I work, & as successful as our Coun...  True  \n",
       "3     ....If however, the city or state in question ...  True  \n",
       "4     “The reason they are not sending the Articles ...  True  \n",
       "...                                                 ...   ...  \n",
       "2734  If Vice President @Mike_Pence comes through fo...  True  \n",
       "2735  States want to correct their votes, which they...  True  \n",
       "2736  They just happened to find 50,000 ballots late...  True  \n",
       "2737  The States want to redo their votes. They foun...  True  \n",
       "2738  Sleepy Eyes Chuck Todd is so happy with the fa...  True  \n",
       "\n",
       "[2739 rows x 5 columns]"
      ]
     },
     "execution_count": 277,
     "metadata": {},
     "output_type": "execute_result"
    }
   ],
   "source": [
    "#drop na and Unnamed: 0 column\n",
    "\n",
    "tweet_data_match.dropna(inplace=True)\n",
    "tweet_data_match.reset_index(inplace = True , drop=True)\n",
    "tweet_data_match"
   ]
  },
  {
   "cell_type": "markdown",
   "metadata": {
    "id": "jomT29Un-7xF"
   },
   "source": [
    "**3. sub() Function**\n",
    "\n",
    "Now you have filtered the dataset with 2739 rows. Let's remove all @ from tweet column suing re sub() function."
   ]
  },
  {
   "cell_type": "code",
   "execution_count": 278,
   "metadata": {
    "id": "jewwQ0eB-7xF",
    "outputId": "157ea213-1ce1-43e0-880b-63b126fc0b79"
   },
   "outputs": [
    {
     "data": {
      "text/html": [
       "<div>\n",
       "<style scoped>\n",
       "    .dataframe tbody tr th:only-of-type {\n",
       "        vertical-align: middle;\n",
       "    }\n",
       "\n",
       "    .dataframe tbody tr th {\n",
       "        vertical-align: top;\n",
       "    }\n",
       "\n",
       "    .dataframe thead th {\n",
       "        text-align: right;\n",
       "    }\n",
       "</style>\n",
       "<table border=\"1\" class=\"dataframe\">\n",
       "  <thead>\n",
       "    <tr style=\"text-align: right;\">\n",
       "      <th></th>\n",
       "      <th>date</th>\n",
       "      <th>target</th>\n",
       "      <th>insult</th>\n",
       "      <th>tweet</th>\n",
       "      <th>Year</th>\n",
       "    </tr>\n",
       "  </thead>\n",
       "  <tbody>\n",
       "    <tr>\n",
       "      <th>0</th>\n",
       "      <td>2020-01-01</td>\n",
       "      <td>impeachment-inquiry</td>\n",
       "      <td>The greatest Witch Hunt in U.S. history</td>\n",
       "      <td>Thank you Steve. The greatest Witch Hunt in U....</td>\n",
       "      <td>True</td>\n",
       "    </tr>\n",
       "    <tr>\n",
       "      <th>1</th>\n",
       "      <td>2020-01-02</td>\n",
       "      <td>impeachment-inquiry</td>\n",
       "      <td>Witch Hunt is sputtering badly, but still goin...</td>\n",
       "      <td>A lot of very good people were taken down by a...</td>\n",
       "      <td>True</td>\n",
       "    </tr>\n",
       "    <tr>\n",
       "      <th>2</th>\n",
       "      <td>2020-01-04</td>\n",
       "      <td>impeachment-inquiry</td>\n",
       "      <td>this ridiculous Impeachment Lite Hoax</td>\n",
       "      <td>As hard as I work, &amp; as successful as our Coun...</td>\n",
       "      <td>True</td>\n",
       "    </tr>\n",
       "    <tr>\n",
       "      <th>3</th>\n",
       "      <td>2020-01-06</td>\n",
       "      <td>los-angeles</td>\n",
       "      <td>poorly run</td>\n",
       "      <td>....If however, the city or state in question ...</td>\n",
       "      <td>True</td>\n",
       "    </tr>\n",
       "    <tr>\n",
       "      <th>4</th>\n",
       "      <td>2020-01-06</td>\n",
       "      <td>impeachment-inquiry</td>\n",
       "      <td>The great Scam continues</td>\n",
       "      <td>“The reason they are not sending the Articles ...</td>\n",
       "      <td>True</td>\n",
       "    </tr>\n",
       "    <tr>\n",
       "      <th>...</th>\n",
       "      <td>...</td>\n",
       "      <td>...</td>\n",
       "      <td>...</td>\n",
       "      <td>...</td>\n",
       "      <td>...</td>\n",
       "    </tr>\n",
       "    <tr>\n",
       "      <th>2734</th>\n",
       "      <td>2021-01-06</td>\n",
       "      <td>2020-election</td>\n",
       "      <td>Many States want to decertify the mistake they...</td>\n",
       "      <td>If Vice President Mike_Pence comes through for...</td>\n",
       "      <td>True</td>\n",
       "    </tr>\n",
       "    <tr>\n",
       "      <th>2735</th>\n",
       "      <td>2021-01-06</td>\n",
       "      <td>2020-election</td>\n",
       "      <td>based on irregularities and fraud, plus corrup...</td>\n",
       "      <td>States want to correct their votes, which they...</td>\n",
       "      <td>True</td>\n",
       "    </tr>\n",
       "    <tr>\n",
       "      <th>2736</th>\n",
       "      <td>2021-01-06</td>\n",
       "      <td>2020-election</td>\n",
       "      <td>Our Election Process is worse than that of thi...</td>\n",
       "      <td>They just happened to find 50,000 ballots late...</td>\n",
       "      <td>True</td>\n",
       "    </tr>\n",
       "    <tr>\n",
       "      <th>2737</th>\n",
       "      <td>2021-01-06</td>\n",
       "      <td>2020-election</td>\n",
       "      <td>a FRAUD</td>\n",
       "      <td>The States want to redo their votes. They foun...</td>\n",
       "      <td>True</td>\n",
       "    </tr>\n",
       "    <tr>\n",
       "      <th>2738</th>\n",
       "      <td>2021-01-06</td>\n",
       "      <td>chuck-todd</td>\n",
       "      <td>Sleepy Eyes,  Sad to watch!</td>\n",
       "      <td>Sleepy Eyes Chuck Todd is so happy with the fa...</td>\n",
       "      <td>True</td>\n",
       "    </tr>\n",
       "  </tbody>\n",
       "</table>\n",
       "<p>2739 rows × 5 columns</p>\n",
       "</div>"
      ],
      "text/plain": [
       "            date               target  \\\n",
       "0     2020-01-01  impeachment-inquiry   \n",
       "1     2020-01-02  impeachment-inquiry   \n",
       "2     2020-01-04  impeachment-inquiry   \n",
       "3     2020-01-06          los-angeles   \n",
       "4     2020-01-06  impeachment-inquiry   \n",
       "...          ...                  ...   \n",
       "2734  2021-01-06        2020-election   \n",
       "2735  2021-01-06        2020-election   \n",
       "2736  2021-01-06        2020-election   \n",
       "2737  2021-01-06        2020-election   \n",
       "2738  2021-01-06           chuck-todd   \n",
       "\n",
       "                                                 insult  \\\n",
       "0               The greatest Witch Hunt in U.S. history   \n",
       "1     Witch Hunt is sputtering badly, but still goin...   \n",
       "2                 this ridiculous Impeachment Lite Hoax   \n",
       "3                                            poorly run   \n",
       "4                              The great Scam continues   \n",
       "...                                                 ...   \n",
       "2734  Many States want to decertify the mistake they...   \n",
       "2735  based on irregularities and fraud, plus corrup...   \n",
       "2736  Our Election Process is worse than that of thi...   \n",
       "2737                                            a FRAUD   \n",
       "2738                        Sleepy Eyes,  Sad to watch!   \n",
       "\n",
       "                                                  tweet  Year  \n",
       "0     Thank you Steve. The greatest Witch Hunt in U....  True  \n",
       "1     A lot of very good people were taken down by a...  True  \n",
       "2     As hard as I work, & as successful as our Coun...  True  \n",
       "3     ....If however, the city or state in question ...  True  \n",
       "4     “The reason they are not sending the Articles ...  True  \n",
       "...                                                 ...   ...  \n",
       "2734  If Vice President Mike_Pence comes through for...  True  \n",
       "2735  States want to correct their votes, which they...  True  \n",
       "2736  They just happened to find 50,000 ballots late...  True  \n",
       "2737  The States want to redo their votes. They foun...  True  \n",
       "2738  Sleepy Eyes Chuck Todd is so happy with the fa...  True  \n",
       "\n",
       "[2739 rows x 5 columns]"
      ]
     },
     "execution_count": 278,
     "metadata": {},
     "output_type": "execute_result"
    }
   ],
   "source": [
    "# create a function which takes tweet as parameter and applies regex on it\n",
    "def use_sub(tweet):\n",
    "    return re.sub(r'@' , '',tweet)\n",
    "\n",
    "\n",
    "#use apply function on tweet_data to use above function in order to remove @ from tweets\n",
    "tweet_data_match['tweet'] = tweet_data_match['tweet'].apply(use_sub)\n",
    "\n",
    "\n",
    "#tweet_data head\n",
    "tweet_data_match"
   ]
  },
  {
   "cell_type": "markdown",
   "metadata": {
    "id": "UG9SSKhx-7xF"
   },
   "source": [
    "You can also use the sub function just in one line using list comprehension. Can you try doing it below?"
   ]
  },
  {
   "cell_type": "code",
   "execution_count": 279,
   "metadata": {
    "id": "daSQItg5-7xG"
   },
   "outputs": [
    {
     "data": {
      "text/html": [
       "<div>\n",
       "<style scoped>\n",
       "    .dataframe tbody tr th:only-of-type {\n",
       "        vertical-align: middle;\n",
       "    }\n",
       "\n",
       "    .dataframe tbody tr th {\n",
       "        vertical-align: top;\n",
       "    }\n",
       "\n",
       "    .dataframe thead th {\n",
       "        text-align: right;\n",
       "    }\n",
       "</style>\n",
       "<table border=\"1\" class=\"dataframe\">\n",
       "  <thead>\n",
       "    <tr style=\"text-align: right;\">\n",
       "      <th></th>\n",
       "      <th>date</th>\n",
       "      <th>target</th>\n",
       "      <th>insult</th>\n",
       "      <th>tweet</th>\n",
       "      <th>Year</th>\n",
       "    </tr>\n",
       "  </thead>\n",
       "  <tbody>\n",
       "    <tr>\n",
       "      <th>0</th>\n",
       "      <td>2020-01-01</td>\n",
       "      <td>impeachment-inquiry</td>\n",
       "      <td>The greatest Witch Hunt in U.S. history</td>\n",
       "      <td>Thank you Steve. The greatest Witch Hunt in U....</td>\n",
       "      <td>True</td>\n",
       "    </tr>\n",
       "    <tr>\n",
       "      <th>1</th>\n",
       "      <td>2020-01-02</td>\n",
       "      <td>impeachment-inquiry</td>\n",
       "      <td>Witch Hunt is sputtering badly, but still goin...</td>\n",
       "      <td>A lot of very good people were taken down by a...</td>\n",
       "      <td>True</td>\n",
       "    </tr>\n",
       "    <tr>\n",
       "      <th>2</th>\n",
       "      <td>2020-01-04</td>\n",
       "      <td>impeachment-inquiry</td>\n",
       "      <td>this ridiculous Impeachment Lite Hoax</td>\n",
       "      <td>As hard as I work, and as successful as our Co...</td>\n",
       "      <td>True</td>\n",
       "    </tr>\n",
       "    <tr>\n",
       "      <th>3</th>\n",
       "      <td>2020-01-06</td>\n",
       "      <td>los-angeles</td>\n",
       "      <td>poorly run</td>\n",
       "      <td>....If however, the city or state in question ...</td>\n",
       "      <td>True</td>\n",
       "    </tr>\n",
       "    <tr>\n",
       "      <th>4</th>\n",
       "      <td>2020-01-06</td>\n",
       "      <td>impeachment-inquiry</td>\n",
       "      <td>The great Scam continues</td>\n",
       "      <td>“The reason they are not sending the Articles ...</td>\n",
       "      <td>True</td>\n",
       "    </tr>\n",
       "    <tr>\n",
       "      <th>...</th>\n",
       "      <td>...</td>\n",
       "      <td>...</td>\n",
       "      <td>...</td>\n",
       "      <td>...</td>\n",
       "      <td>...</td>\n",
       "    </tr>\n",
       "    <tr>\n",
       "      <th>2734</th>\n",
       "      <td>2021-01-06</td>\n",
       "      <td>2020-election</td>\n",
       "      <td>Many States want to decertify the mistake they...</td>\n",
       "      <td>If Vice President Mike_Pence comes through for...</td>\n",
       "      <td>True</td>\n",
       "    </tr>\n",
       "    <tr>\n",
       "      <th>2735</th>\n",
       "      <td>2021-01-06</td>\n",
       "      <td>2020-election</td>\n",
       "      <td>based on irregularities and fraud, plus corrup...</td>\n",
       "      <td>States want to correct their votes, which they...</td>\n",
       "      <td>True</td>\n",
       "    </tr>\n",
       "    <tr>\n",
       "      <th>2736</th>\n",
       "      <td>2021-01-06</td>\n",
       "      <td>2020-election</td>\n",
       "      <td>Our Election Process is worse than that of thi...</td>\n",
       "      <td>They just happened to find 50,000 ballots late...</td>\n",
       "      <td>True</td>\n",
       "    </tr>\n",
       "    <tr>\n",
       "      <th>2737</th>\n",
       "      <td>2021-01-06</td>\n",
       "      <td>2020-election</td>\n",
       "      <td>a FRAUD</td>\n",
       "      <td>The States want to redo their votes. They foun...</td>\n",
       "      <td>True</td>\n",
       "    </tr>\n",
       "    <tr>\n",
       "      <th>2738</th>\n",
       "      <td>2021-01-06</td>\n",
       "      <td>chuck-todd</td>\n",
       "      <td>Sleepy Eyes,  Sad to watch!</td>\n",
       "      <td>Sleepy Eyes Chuck Todd is so happy with the fa...</td>\n",
       "      <td>True</td>\n",
       "    </tr>\n",
       "  </tbody>\n",
       "</table>\n",
       "<p>2739 rows × 5 columns</p>\n",
       "</div>"
      ],
      "text/plain": [
       "            date               target  \\\n",
       "0     2020-01-01  impeachment-inquiry   \n",
       "1     2020-01-02  impeachment-inquiry   \n",
       "2     2020-01-04  impeachment-inquiry   \n",
       "3     2020-01-06          los-angeles   \n",
       "4     2020-01-06  impeachment-inquiry   \n",
       "...          ...                  ...   \n",
       "2734  2021-01-06        2020-election   \n",
       "2735  2021-01-06        2020-election   \n",
       "2736  2021-01-06        2020-election   \n",
       "2737  2021-01-06        2020-election   \n",
       "2738  2021-01-06           chuck-todd   \n",
       "\n",
       "                                                 insult  \\\n",
       "0               The greatest Witch Hunt in U.S. history   \n",
       "1     Witch Hunt is sputtering badly, but still goin...   \n",
       "2                 this ridiculous Impeachment Lite Hoax   \n",
       "3                                            poorly run   \n",
       "4                              The great Scam continues   \n",
       "...                                                 ...   \n",
       "2734  Many States want to decertify the mistake they...   \n",
       "2735  based on irregularities and fraud, plus corrup...   \n",
       "2736  Our Election Process is worse than that of thi...   \n",
       "2737                                            a FRAUD   \n",
       "2738                        Sleepy Eyes,  Sad to watch!   \n",
       "\n",
       "                                                  tweet  Year  \n",
       "0     Thank you Steve. The greatest Witch Hunt in U....  True  \n",
       "1     A lot of very good people were taken down by a...  True  \n",
       "2     As hard as I work, and as successful as our Co...  True  \n",
       "3     ....If however, the city or state in question ...  True  \n",
       "4     “The reason they are not sending the Articles ...  True  \n",
       "...                                                 ...   ...  \n",
       "2734  If Vice President Mike_Pence comes through for...  True  \n",
       "2735  States want to correct their votes, which they...  True  \n",
       "2736  They just happened to find 50,000 ballots late...  True  \n",
       "2737  The States want to redo their votes. They foun...  True  \n",
       "2738  Sleepy Eyes Chuck Todd is so happy with the fa...  True  \n",
       "\n",
       "[2739 rows x 5 columns]"
      ]
     },
     "execution_count": 279,
     "metadata": {},
     "output_type": "execute_result"
    }
   ],
   "source": [
    "# sub() suing list comprehension\n",
    "tweet_data_match['tweet'] = tweet_data_match['tweet'].apply(lambda x : re.sub(r'&' , 'and',x))\n",
    "tweet_data_match"
   ]
  },
  {
   "cell_type": "markdown",
   "metadata": {
    "id": "RHi_lav1-7xG"
   },
   "source": [
    "**4. split() Function**\n",
    "\n",
    "Lets now split the column target by making another column Name which has name before hyphen(\"-\")\n"
   ]
  },
  {
   "cell_type": "code",
   "execution_count": 280,
   "metadata": {
    "id": "t_XwFLXl-7xG",
    "outputId": "dd1b19e6-93f7-43e6-d097-8344f86ae16c"
   },
   "outputs": [
    {
     "data": {
      "text/html": [
       "<div>\n",
       "<style scoped>\n",
       "    .dataframe tbody tr th:only-of-type {\n",
       "        vertical-align: middle;\n",
       "    }\n",
       "\n",
       "    .dataframe tbody tr th {\n",
       "        vertical-align: top;\n",
       "    }\n",
       "\n",
       "    .dataframe thead th {\n",
       "        text-align: right;\n",
       "    }\n",
       "</style>\n",
       "<table border=\"1\" class=\"dataframe\">\n",
       "  <thead>\n",
       "    <tr style=\"text-align: right;\">\n",
       "      <th></th>\n",
       "      <th>date</th>\n",
       "      <th>target</th>\n",
       "      <th>insult</th>\n",
       "      <th>tweet</th>\n",
       "      <th>Year</th>\n",
       "      <th>Name</th>\n",
       "    </tr>\n",
       "  </thead>\n",
       "  <tbody>\n",
       "    <tr>\n",
       "      <th>0</th>\n",
       "      <td>2020-01-01</td>\n",
       "      <td>impeachment-inquiry</td>\n",
       "      <td>The greatest Witch Hunt in U.S. history</td>\n",
       "      <td>Thank you Steve. The greatest Witch Hunt in U....</td>\n",
       "      <td>True</td>\n",
       "      <td>impeachment</td>\n",
       "    </tr>\n",
       "    <tr>\n",
       "      <th>1</th>\n",
       "      <td>2020-01-02</td>\n",
       "      <td>impeachment-inquiry</td>\n",
       "      <td>Witch Hunt is sputtering badly, but still goin...</td>\n",
       "      <td>A lot of very good people were taken down by a...</td>\n",
       "      <td>True</td>\n",
       "      <td>impeachment</td>\n",
       "    </tr>\n",
       "    <tr>\n",
       "      <th>2</th>\n",
       "      <td>2020-01-04</td>\n",
       "      <td>impeachment-inquiry</td>\n",
       "      <td>this ridiculous Impeachment Lite Hoax</td>\n",
       "      <td>As hard as I work, and as successful as our Co...</td>\n",
       "      <td>True</td>\n",
       "      <td>impeachment</td>\n",
       "    </tr>\n",
       "    <tr>\n",
       "      <th>3</th>\n",
       "      <td>2020-01-06</td>\n",
       "      <td>los-angeles</td>\n",
       "      <td>poorly run</td>\n",
       "      <td>....If however, the city or state in question ...</td>\n",
       "      <td>True</td>\n",
       "      <td>los</td>\n",
       "    </tr>\n",
       "    <tr>\n",
       "      <th>4</th>\n",
       "      <td>2020-01-06</td>\n",
       "      <td>impeachment-inquiry</td>\n",
       "      <td>The great Scam continues</td>\n",
       "      <td>“The reason they are not sending the Articles ...</td>\n",
       "      <td>True</td>\n",
       "      <td>impeachment</td>\n",
       "    </tr>\n",
       "  </tbody>\n",
       "</table>\n",
       "</div>"
      ],
      "text/plain": [
       "         date               target  \\\n",
       "0  2020-01-01  impeachment-inquiry   \n",
       "1  2020-01-02  impeachment-inquiry   \n",
       "2  2020-01-04  impeachment-inquiry   \n",
       "3  2020-01-06          los-angeles   \n",
       "4  2020-01-06  impeachment-inquiry   \n",
       "\n",
       "                                              insult  \\\n",
       "0            The greatest Witch Hunt in U.S. history   \n",
       "1  Witch Hunt is sputtering badly, but still goin...   \n",
       "2              this ridiculous Impeachment Lite Hoax   \n",
       "3                                         poorly run   \n",
       "4                           The great Scam continues   \n",
       "\n",
       "                                               tweet  Year         Name  \n",
       "0  Thank you Steve. The greatest Witch Hunt in U....  True  impeachment  \n",
       "1  A lot of very good people were taken down by a...  True  impeachment  \n",
       "2  As hard as I work, and as successful as our Co...  True  impeachment  \n",
       "3  ....If however, the city or state in question ...  True          los  \n",
       "4  “The reason they are not sending the Articles ...  True  impeachment  "
      ]
     },
     "execution_count": 280,
     "metadata": {},
     "output_type": "execute_result"
    }
   ],
   "source": [
    "# create a function which takes target as parameter and applies regex on it\n",
    "def use_split(target):\n",
    "    return re.split(r'-',target)[0]\n",
    "\n",
    "#use apply function on tweet_data to use above function in order to create Name column\n",
    "\n",
    "tweet_data_match['Name'] = tweet_data_match['target'].apply(use_split)\n",
    "#tweet_data head\n",
    "tweet_data_match.head()"
   ]
  },
  {
   "cell_type": "markdown",
   "metadata": {
    "id": "GcNB7xkO-7xH"
   },
   "source": [
    "Now can you filter out Name which are specially targetted for trump? Lets do it below and check how many such tweets are there."
   ]
  },
  {
   "cell_type": "code",
   "execution_count": 281,
   "metadata": {
    "id": "miKmDPBw-7xH",
    "outputId": "e2406cc8-e771-4e66-f69f-541298cd6d68"
   },
   "outputs": [],
   "source": [
    "#filter Name which is euqals to trump\n",
    "def filter_trump(name):\n",
    "    name = re.search(r'trump' , name)\n",
    "    if name:\n",
    "        name.group(0)\n",
    "\n",
    "tweet_data_match = tweet_data_match[tweet_data_match.Name == 'trump']"
   ]
  },
  {
   "cell_type": "code",
   "execution_count": 285,
   "metadata": {},
   "outputs": [
    {
     "data": {
      "text/html": [
       "<div>\n",
       "<style scoped>\n",
       "    .dataframe tbody tr th:only-of-type {\n",
       "        vertical-align: middle;\n",
       "    }\n",
       "\n",
       "    .dataframe tbody tr th {\n",
       "        vertical-align: top;\n",
       "    }\n",
       "\n",
       "    .dataframe thead th {\n",
       "        text-align: right;\n",
       "    }\n",
       "</style>\n",
       "<table border=\"1\" class=\"dataframe\">\n",
       "  <thead>\n",
       "    <tr style=\"text-align: right;\">\n",
       "      <th></th>\n",
       "      <th>date</th>\n",
       "      <th>target</th>\n",
       "      <th>insult</th>\n",
       "      <th>tweet</th>\n",
       "      <th>Year</th>\n",
       "      <th>Name</th>\n",
       "    </tr>\n",
       "  </thead>\n",
       "  <tbody>\n",
       "    <tr>\n",
       "      <th>0</th>\n",
       "      <td>2020-02-09</td>\n",
       "      <td>trump-russia</td>\n",
       "      <td>THE WHOLE SCAM INVESTIGATION, THE MUELLER REPO...</td>\n",
       "      <td>FBI Director Christopher Wray just admitted th...</td>\n",
       "      <td>True</td>\n",
       "      <td>trump</td>\n",
       "    </tr>\n",
       "    <tr>\n",
       "      <th>1</th>\n",
       "      <td>2020-02-09</td>\n",
       "      <td>trump-russia</td>\n",
       "      <td>the biggest political crime in American Histor...</td>\n",
       "      <td>....This is the biggest political crime in Ame...</td>\n",
       "      <td>True</td>\n",
       "      <td>trump</td>\n",
       "    </tr>\n",
       "    <tr>\n",
       "      <th>2</th>\n",
       "      <td>2020-02-09</td>\n",
       "      <td>trump-russia</td>\n",
       "      <td>THE PARTY IN POWER ILLEGALLY SPIED ON MY CAMPAIGN</td>\n",
       "      <td>....This is the biggest political crime in Ame...</td>\n",
       "      <td>True</td>\n",
       "      <td>trump</td>\n",
       "    </tr>\n",
       "    <tr>\n",
       "      <th>3</th>\n",
       "      <td>2020-02-12</td>\n",
       "      <td>trump-russia</td>\n",
       "      <td>an investigation that was illegal</td>\n",
       "      <td>Who are the four prosecutors (Mueller people?)...</td>\n",
       "      <td>True</td>\n",
       "      <td>trump</td>\n",
       "    </tr>\n",
       "    <tr>\n",
       "      <th>4</th>\n",
       "      <td>2020-02-12</td>\n",
       "      <td>trump-russia</td>\n",
       "      <td>the Mueller Scam</td>\n",
       "      <td>Who are the four prosecutors (Mueller people?)...</td>\n",
       "      <td>True</td>\n",
       "      <td>trump</td>\n",
       "    </tr>\n",
       "    <tr>\n",
       "      <th>...</th>\n",
       "      <td>...</td>\n",
       "      <td>...</td>\n",
       "      <td>...</td>\n",
       "      <td>...</td>\n",
       "      <td>...</td>\n",
       "      <td>...</td>\n",
       "    </tr>\n",
       "    <tr>\n",
       "      <th>60</th>\n",
       "      <td>2020-10-07</td>\n",
       "      <td>trump-russia</td>\n",
       "      <td>Hoax Scandal</td>\n",
       "      <td>All Russia Hoax Scandal information was Declas...</td>\n",
       "      <td>True</td>\n",
       "      <td>trump</td>\n",
       "    </tr>\n",
       "    <tr>\n",
       "      <th>61</th>\n",
       "      <td>2020-10-07</td>\n",
       "      <td>trump-russia</td>\n",
       "      <td>the biggest political crime in the history of ...</td>\n",
       "      <td>All Russia Hoax Scandal information was Declas...</td>\n",
       "      <td>True</td>\n",
       "      <td>trump</td>\n",
       "    </tr>\n",
       "    <tr>\n",
       "      <th>62</th>\n",
       "      <td>2020-11-22</td>\n",
       "      <td>trump-russia</td>\n",
       "      <td>never ending Witch Hunt</td>\n",
       "      <td>Thanks Mark. It’s all a continuation of the ne...</td>\n",
       "      <td>True</td>\n",
       "      <td>trump</td>\n",
       "    </tr>\n",
       "    <tr>\n",
       "      <th>63</th>\n",
       "      <td>2020-12-09</td>\n",
       "      <td>trump-critics</td>\n",
       "      <td>obnoxious</td>\n",
       "      <td>Germany has consistently been used by my obnox...</td>\n",
       "      <td>True</td>\n",
       "      <td>trump</td>\n",
       "    </tr>\n",
       "    <tr>\n",
       "      <th>64</th>\n",
       "      <td>2020-12-18</td>\n",
       "      <td>trump-russia</td>\n",
       "      <td>Russia Hoax</td>\n",
       "      <td>The Russia Hoax becomes an even bigger lie! ht...</td>\n",
       "      <td>True</td>\n",
       "      <td>trump</td>\n",
       "    </tr>\n",
       "  </tbody>\n",
       "</table>\n",
       "<p>65 rows × 6 columns</p>\n",
       "</div>"
      ],
      "text/plain": [
       "          date         target  \\\n",
       "0   2020-02-09   trump-russia   \n",
       "1   2020-02-09   trump-russia   \n",
       "2   2020-02-09   trump-russia   \n",
       "3   2020-02-12   trump-russia   \n",
       "4   2020-02-12   trump-russia   \n",
       "..         ...            ...   \n",
       "60  2020-10-07   trump-russia   \n",
       "61  2020-10-07   trump-russia   \n",
       "62  2020-11-22   trump-russia   \n",
       "63  2020-12-09  trump-critics   \n",
       "64  2020-12-18   trump-russia   \n",
       "\n",
       "                                               insult  \\\n",
       "0   THE WHOLE SCAM INVESTIGATION, THE MUELLER REPO...   \n",
       "1   the biggest political crime in American Histor...   \n",
       "2   THE PARTY IN POWER ILLEGALLY SPIED ON MY CAMPAIGN   \n",
       "3                   an investigation that was illegal   \n",
       "4                                    the Mueller Scam   \n",
       "..                                                ...   \n",
       "60                                       Hoax Scandal   \n",
       "61  the biggest political crime in the history of ...   \n",
       "62                            never ending Witch Hunt   \n",
       "63                                          obnoxious   \n",
       "64                                        Russia Hoax   \n",
       "\n",
       "                                                tweet  Year   Name  \n",
       "0   FBI Director Christopher Wray just admitted th...  True  trump  \n",
       "1   ....This is the biggest political crime in Ame...  True  trump  \n",
       "2   ....This is the biggest political crime in Ame...  True  trump  \n",
       "3   Who are the four prosecutors (Mueller people?)...  True  trump  \n",
       "4   Who are the four prosecutors (Mueller people?)...  True  trump  \n",
       "..                                                ...   ...    ...  \n",
       "60  All Russia Hoax Scandal information was Declas...  True  trump  \n",
       "61  All Russia Hoax Scandal information was Declas...  True  trump  \n",
       "62  Thanks Mark. It’s all a continuation of the ne...  True  trump  \n",
       "63  Germany has consistently been used by my obnox...  True  trump  \n",
       "64  The Russia Hoax becomes an even bigger lie! ht...  True  trump  \n",
       "\n",
       "[65 rows x 6 columns]"
      ]
     },
     "execution_count": 285,
     "metadata": {},
     "output_type": "execute_result"
    }
   ],
   "source": [
    "\n",
    "tweet_data_match.reset_index(inplace=True , drop=True)\n",
    "tweet_data_match"
   ]
  },
  {
   "cell_type": "markdown",
   "metadata": {
    "id": "1ULcfZxb-7xH"
   },
   "source": [
    "So here you got total of 65 records which were  tweeted on Donald Trump in the span of 2020-2021. \n",
    "\n",
    "Well done buddy! You have learned how to apply regex on dataframes. Regex are mostly used for datasets which are having textual information."
   ]
  },
  {
   "cell_type": "markdown",
   "metadata": {
    "id": "a_h9QZWl-7xH"
   },
   "source": [
    "Good job!  Now our interesting trump insult tweet data is somewhat cleaned. "
   ]
  },
  {
   "cell_type": "markdown",
   "metadata": {
    "id": "4SgrLjyDkqhy"
   },
   "source": [
    "---------------------------------\n",
    "\n",
    "# C'mon cheers:) you have completed the 5th milestone challenge too. \n",
    "\n",
    "--------------------------------"
   ]
  },
  {
   "cell_type": "markdown",
   "metadata": {
    "id": "CG6h_jBBkqhy"
   },
   "source": [
    "# FeedBack\n",
    "We hope you’ve enjoyed this course so far. We’re committed to help you use \"AI for All\" course to its full potential, so that you have a great learning experience. And that’s why we need your help in form of a feedback here.\n",
    "\n",
    "Please fill this feedback form https://docs.google.com/forms/d/e/1FAIpQLSfjBmH0yJSSA34IhSVx4h2eDMgOAeG4Dk-yHid__NMTk3Hq5g/viewform"
   ]
  }
 ],
 "metadata": {
  "colab": {
   "collapsed_sections": [
    "4SgrLjyDkqhy"
   ],
   "name": "Data_Cleaning_withoutcode.ipynb",
   "provenance": []
  },
  "kernelspec": {
   "display_name": "Python 3 (ipykernel)",
   "language": "python",
   "name": "python3"
  },
  "language_info": {
   "codemirror_mode": {
    "name": "ipython",
    "version": 3
   },
   "file_extension": ".py",
   "mimetype": "text/x-python",
   "name": "python",
   "nbconvert_exporter": "python",
   "pygments_lexer": "ipython3",
   "version": "3.9.12"
  }
 },
 "nbformat": 4,
 "nbformat_minor": 1
}
