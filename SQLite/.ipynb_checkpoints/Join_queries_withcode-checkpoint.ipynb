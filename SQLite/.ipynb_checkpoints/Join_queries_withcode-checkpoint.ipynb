{
 "cells": [
  {
   "cell_type": "markdown",
   "metadata": {
    "id": "JA048VlqdigI"
   },
   "source": [
    "<h1><center><u><b>Join Queries</h1></center></u></b>"
   ]
  },
  {
   "cell_type": "markdown",
   "metadata": {
    "id": "_LnWX4SR_9eu"
   },
   "source": [
    "![](https://3.bp.blogspot.com/-T3AF_1dtm8o/We25HQL809I/AAAAAAAAA2E/tKsbZGd2Ev0woezzYxiKBUIGGNkXYKAlQCLcBGAs/s1600/sql-joins.png)"
   ]
  },
  {
   "cell_type": "markdown",
   "metadata": {
    "id": "qAvj3GYv1HSh"
   },
   "source": [
    "### **DATABASE CREATION AND CONNECTING IT**\n",
    "\n",
    "#### **Just run next 4 cells**"
   ]
  },
  {
   "cell_type": "code",
   "execution_count": 2,
   "metadata": {
    "id": "pSVR3XN50_Q5"
   },
   "outputs": [],
   "source": [
    "## JUST RUN THIS CELL\n",
    "import sqlite3\n",
    "import pandas as pd "
   ]
  },
  {
   "cell_type": "code",
   "execution_count": 3,
   "metadata": {
    "id": "Yc6zqeuo0_RB"
   },
   "outputs": [],
   "source": [
    "# run this to create and connect to database\n",
    "connection = sqlite3.connect('cloud1.db')"
   ]
  },
  {
   "cell_type": "code",
   "execution_count": 4,
   "metadata": {
    "id": "hTsXWV2E0_RC"
   },
   "outputs": [],
   "source": [
    "%load_ext sql"
   ]
  },
  {
   "cell_type": "code",
   "execution_count": 5,
   "metadata": {
    "colab": {
     "base_uri": "https://localhost:8080/",
     "height": 35
    },
    "id": "Bz9xo4du0_RD",
    "outputId": "649d2fc1-6dac-4a5a-94f9-77445f173870"
   },
   "outputs": [],
   "source": [
    "# connecting to cloud.db\n",
    "%sql sqlite:///cloud1.db"
   ]
  },
  {
   "cell_type": "markdown",
   "metadata": {
    "id": "2653q7v61Vlu"
   },
   "source": [
    "###**NOW WE WILL CREATE TABLES AND INSERT DATA**\n",
    "##### **RUN NEXT 8 CELLS TO CREATE TABLE AND INSERT DATA**\n"
   ]
  },
  {
   "cell_type": "code",
   "execution_count": 5,
   "metadata": {
    "colab": {
     "base_uri": "https://localhost:8080/"
    },
    "id": "ZaSOfNwF0_RD",
    "outputId": "80ff8d60-946f-4f03-a5b2-9c3303807e6a",
    "scrolled": true
   },
   "outputs": [
    {
     "name": "stdout",
     "output_type": "stream",
     "text": [
      " * sqlite:///cloud1.db\n",
      "Done.\n"
     ]
    },
    {
     "data": {
      "text/plain": [
       "[]"
      ]
     },
     "execution_count": 5,
     "metadata": {},
     "output_type": "execute_result"
    }
   ],
   "source": [
    "%%sql\n",
    "\n",
    "CREATE table album (id int(16), artist_id int(25), name varchar(100), year int(10))"
   ]
  },
  {
   "cell_type": "code",
   "execution_count": 6,
   "metadata": {
    "colab": {
     "base_uri": "https://localhost:8080/"
    },
    "id": "dxFAHUCT0_RG",
    "outputId": "b3b13f76-b3bd-4002-929d-ecc05cda8bd0"
   },
   "outputs": [
    {
     "name": "stdout",
     "output_type": "stream",
     "text": [
      " * sqlite:///cloud1.db\n",
      "13 rows affected.\n"
     ]
    },
    {
     "data": {
      "text/plain": [
       "[]"
      ]
     },
     "execution_count": 6,
     "metadata": {},
     "output_type": "execute_result"
    }
   ],
   "source": [
    "%%sql\n",
    "INSERT INTO album (id, artist_id, name, year) VALUES(1,\t1, 'Devils got a new disguise', 2006),\n",
    "(2,1,'Keeps getting better',2008),(3,\t1,'Master of Puppets',1986),(4,\t2,'Endgame',2009),\n",
    "(5,\t2,'Icon',2012),(6,3,'Story',2000),(7,4,'Chapters',2003),\n",
    "(8,4,'Riding with the King',2000),(9,5,'Pieces of a Dream',2005),(10,6,'Greatest Hits',2004),\n",
    "(11,7,'All-Time Greatest Hits',1975),(12,8,'Greatest Hits',1983),(13,9,\"Ultimate Collection\",2015)\n"
   ]
  },
  {
   "cell_type": "code",
   "execution_count": 7,
   "metadata": {
    "colab": {
     "base_uri": "https://localhost:8080/"
    },
    "id": "4qvzrPlL3RQE",
    "outputId": "fb52d4a2-66df-4b79-844e-c17e8aa1ab5e"
   },
   "outputs": [
    {
     "name": "stdout",
     "output_type": "stream",
     "text": [
      " * sqlite:///cloud1.db\n",
      "Done.\n"
     ]
    },
    {
     "data": {
      "text/plain": [
       "[]"
      ]
     },
     "execution_count": 7,
     "metadata": {},
     "output_type": "execute_result"
    }
   ],
   "source": [
    "%%sql\n",
    "\n",
    "CREATE table song (id int(10), album_id int(50), name varchar(50), duration float(20))"
   ]
  },
  {
   "cell_type": "code",
   "execution_count": 8,
   "metadata": {
    "colab": {
     "base_uri": "https://localhost:8080/"
    },
    "id": "4JNXD3mr3xO9",
    "outputId": "38b273fa-43cd-40c3-b792-67717ae89c1c"
   },
   "outputs": [
    {
     "name": "stdout",
     "output_type": "stream",
     "text": [
      " * sqlite:///cloud1.db\n",
      "37 rows affected.\n"
     ]
    },
    {
     "data": {
      "text/plain": [
       "[]"
      ]
     },
     "execution_count": 8,
     "metadata": {},
     "output_type": "execute_result"
    }
   ],
   "source": [
    "%%sql\n",
    "INSERT INTO song (id, album_id, name, duration) VALUES(1,1,'Dream On',4.26),(2,1,'Back in the Saddle',4.40),\n",
    "(3,2,'Genie in a Bottle',5.3),(4,2,'Beautiful',5.29),(5,3,'Master of Puppets',8.35),\n",
    "(6,3,'Battery',5.13),(7,4,'Dialectic Chaos',2.26),(8,4,'Endgame',5.57),(9,5,'Watching Airplanes',4.03),\n",
    "(10,5,'Man to Man',3.41),(11,6,'Balck Winter Day',3.48),(12,6,'Against Widows',4.04),(13,7,'Reptile',3.36),\n",
    "(14,7,'Modern Girl',4.49),(15,8,'Riding with the King',4.23),(16,8,'Key to the Highway',3.39),\n",
    "(17,9,'Im Outta Love',4.02),(18,9,'Not That Kind',3.20),(19,10,'Eruption',1.43),(20,10,'Hot For Teacher',4.43),\n",
    "(21,11,'Sweet Home Alabama',4.45),(22,11,'Free Bird',14.23),(23,12,'Thunderstruck',4.52),(24,12,'T.N.T',3.35),\n",
    "(25,13,\"Sgt. Pepper's Lonely Hearts Club Band\",2.0333),(26,13,'With a Little Help from My Friends',2.7333),\n",
    "(27,13,'Lucy in the Sky with Diamonds',3.4666),(28,13,'Getting Better',2.8),(29,13,'Fixing a Hole',2.6),\n",
    "(30,13,\"She's Leaving Home\",3.5833),(31,13,'Being for the Benefit of Mr. Kite!',2.6166),\n",
    "(32,13,'Within You Without You',5.066),(33,13,\"When I'm Sixty-Four\",2.6166),(34,13,'Lovely Rita',2.7),\n",
    "(35,13,'Good Morning Good Morning',2.6833),(36,13,\"Sgt. Pepper's Lonely Hearts Club Band (Reprise)\",1.3166),(37,13,'A Day in the Life',5.65)\n"
   ]
  },
  {
   "cell_type": "code",
   "execution_count": 9,
   "metadata": {
    "colab": {
     "base_uri": "https://localhost:8080/"
    },
    "id": "iHmiCApdbo7v",
    "outputId": "dbd35eb0-265e-44a2-a60e-403339ce0ac1"
   },
   "outputs": [
    {
     "name": "stdout",
     "output_type": "stream",
     "text": [
      " * sqlite:///cloud1.db\n",
      "Done.\n"
     ]
    },
    {
     "data": {
      "text/plain": [
       "[]"
      ]
     },
     "execution_count": 9,
     "metadata": {},
     "output_type": "execute_result"
    }
   ],
   "source": [
    "%%sql\n",
    "\n",
    "CREATE table record_label (id int(10), name varchar(50))"
   ]
  },
  {
   "cell_type": "code",
   "execution_count": 10,
   "metadata": {
    "colab": {
     "base_uri": "https://localhost:8080/"
    },
    "id": "rCmwdRhgb3Iv",
    "outputId": "b9391473-f33f-455b-c891-7b023ba7aef9"
   },
   "outputs": [
    {
     "name": "stdout",
     "output_type": "stream",
     "text": [
      " * sqlite:///cloud1.db\n",
      "6 rows affected.\n"
     ]
    },
    {
     "data": {
      "text/plain": [
       "[]"
      ]
     },
     "execution_count": 10,
     "metadata": {},
     "output_type": "execute_result"
    }
   ],
   "source": [
    "%%sql\n",
    "INSERT INTO record_label (id, name) VALUES(1,'Blackened'),\n",
    "(6,'Capitol'),\n",
    "(5,'Elektra'),\n",
    "(4,'MCA'),\n",
    "(3,'Universal'),\n",
    "(2,'Warner Bros')\n"
   ]
  },
  {
   "cell_type": "code",
   "execution_count": 11,
   "metadata": {
    "colab": {
     "base_uri": "https://localhost:8080/"
    },
    "id": "fGAevredcY6q",
    "outputId": "ab42924e-f6de-4473-dc26-f39c87e68fc9"
   },
   "outputs": [
    {
     "name": "stdout",
     "output_type": "stream",
     "text": [
      " * sqlite:///cloud1.db\n",
      "Done.\n"
     ]
    },
    {
     "data": {
      "text/plain": [
       "[]"
      ]
     },
     "execution_count": 11,
     "metadata": {},
     "output_type": "execute_result"
    }
   ],
   "source": [
    "%%sql\n",
    "\n",
    "CREATE table artist (id int(10), record_label_id int(10), name varchar(50))"
   ]
  },
  {
   "cell_type": "code",
   "execution_count": 12,
   "metadata": {
    "colab": {
     "base_uri": "https://localhost:8080/"
    },
    "id": "QC17GQnXck0y",
    "outputId": "8f52cc81-d24e-491a-997e-230a6c785ce3"
   },
   "outputs": [
    {
     "name": "stdout",
     "output_type": "stream",
     "text": [
      " * sqlite:///cloud1.db\n",
      "9 rows affected.\n"
     ]
    },
    {
     "data": {
      "text/plain": [
       "[]"
      ]
     },
     "execution_count": 12,
     "metadata": {},
     "output_type": "execute_result"
    }
   ],
   "source": [
    "%%sql\n",
    "INSERT INTO artist (id, record_label_id, name) VALUES(3,1,'Anthrax'),\n",
    "(2,1,'Christina'),\n",
    "(1,1,'Aerosmith'),\n",
    "(4,2,'Eric Clapton'),\n",
    "(6,2,'Amorphis'),\n",
    "(5,2,'Gary Allan'),\n",
    "(8,3,'AC/DC'),\n",
    "(7,3,'Lynyrd Skynyrd'),\n",
    "(9,6,'Anastacia')\n",
    "\n"
   ]
  },
  {
   "cell_type": "markdown",
   "metadata": {
    "id": "sYJg8z7R0_RR"
   },
   "source": [
    "### **`refer this link to know about joins:`**\n",
    "https://www.w3schools.com/sql/sql_join.asp\n",
    "\n",
    "### **`refer this link to know more on how to join 3 or more tables :`**\n",
    "https://learnsql.com/blog/how-to-join-3-tables-or-more-in-sql/\n",
    "\n",
    "\n",
    "### **`refer this link to know about inner join :`**\n",
    "https://www.w3schools.com/sql/sql_join_inner.asp\n",
    "\n",
    "### **`refer this link to know about left join :`**\n",
    "https://www.w3schools.com/sql/sql_join_left.asp\n",
    "\n",
    "### **`refer this link to know about right join :`**\n",
    "https://www.w3schools.com/sql/sql_join_right.asp\n",
    "\n",
    "### **`refer this link to know about full join :`**\n",
    "https://www.w3schools.com/sql/sql_join_full.asp\n",
    "\n",
    "### **`refer this link to know about self join :`**\n",
    "https://www.w3schools.com/sql/sql_join_self.asp"
   ]
  },
  {
   "cell_type": "markdown",
   "metadata": {
    "id": "Cjz-hmPTT4Cf"
   },
   "source": [
    "## **Great.... Now You Are Ready To Apply Learnings On Tables We Created**"
   ]
  },
  {
   "cell_type": "markdown",
   "metadata": {
    "id": "w5ts0yBG0_RS"
   },
   "source": [
    "<b>1.Show all the 4 tables(album, song, record label and artist)</b>"
   ]
  },
  {
   "cell_type": "code",
   "execution_count": 14,
   "metadata": {
    "colab": {
     "base_uri": "https://localhost:8080/",
     "height": 353
    },
    "id": "Fs28qJyg0_RS",
    "outputId": "31a893dd-c356-4e1a-9746-581c0a5382d0"
   },
   "outputs": [
    {
     "name": "stdout",
     "output_type": "stream",
     "text": [
      " * sqlite:///cloud1.db\n",
      "Done.\n"
     ]
    },
    {
     "data": {
      "text/html": [
       "<table>\n",
       "    <tr>\n",
       "        <th>id</th>\n",
       "        <th>artist_id</th>\n",
       "        <th>name</th>\n",
       "        <th>year</th>\n",
       "    </tr>\n",
       "    <tr>\n",
       "        <td>1</td>\n",
       "        <td>1</td>\n",
       "        <td>Devils got a new disguise</td>\n",
       "        <td>2006</td>\n",
       "    </tr>\n",
       "    <tr>\n",
       "        <td>2</td>\n",
       "        <td>1</td>\n",
       "        <td>Keeps getting better</td>\n",
       "        <td>2008</td>\n",
       "    </tr>\n",
       "    <tr>\n",
       "        <td>3</td>\n",
       "        <td>1</td>\n",
       "        <td>Master of Puppets</td>\n",
       "        <td>1986</td>\n",
       "    </tr>\n",
       "    <tr>\n",
       "        <td>4</td>\n",
       "        <td>2</td>\n",
       "        <td>Endgame</td>\n",
       "        <td>2009</td>\n",
       "    </tr>\n",
       "    <tr>\n",
       "        <td>5</td>\n",
       "        <td>2</td>\n",
       "        <td>Icon</td>\n",
       "        <td>2012</td>\n",
       "    </tr>\n",
       "    <tr>\n",
       "        <td>6</td>\n",
       "        <td>3</td>\n",
       "        <td>Story</td>\n",
       "        <td>2000</td>\n",
       "    </tr>\n",
       "    <tr>\n",
       "        <td>7</td>\n",
       "        <td>4</td>\n",
       "        <td>Chapters</td>\n",
       "        <td>2003</td>\n",
       "    </tr>\n",
       "    <tr>\n",
       "        <td>8</td>\n",
       "        <td>4</td>\n",
       "        <td>Riding with the King</td>\n",
       "        <td>2000</td>\n",
       "    </tr>\n",
       "    <tr>\n",
       "        <td>9</td>\n",
       "        <td>5</td>\n",
       "        <td>Pieces of a Dream</td>\n",
       "        <td>2005</td>\n",
       "    </tr>\n",
       "    <tr>\n",
       "        <td>10</td>\n",
       "        <td>6</td>\n",
       "        <td>Greatest Hits</td>\n",
       "        <td>2004</td>\n",
       "    </tr>\n",
       "    <tr>\n",
       "        <td>11</td>\n",
       "        <td>7</td>\n",
       "        <td>All-Time Greatest Hits</td>\n",
       "        <td>1975</td>\n",
       "    </tr>\n",
       "    <tr>\n",
       "        <td>12</td>\n",
       "        <td>8</td>\n",
       "        <td>Greatest Hits</td>\n",
       "        <td>1983</td>\n",
       "    </tr>\n",
       "    <tr>\n",
       "        <td>13</td>\n",
       "        <td>9</td>\n",
       "        <td>Ultimate Collection</td>\n",
       "        <td>2015</td>\n",
       "    </tr>\n",
       "</table>"
      ],
      "text/plain": [
       "[(1, 1, 'Devils got a new disguise', 2006),\n",
       " (2, 1, 'Keeps getting better', 2008),\n",
       " (3, 1, 'Master of Puppets', 1986),\n",
       " (4, 2, 'Endgame', 2009),\n",
       " (5, 2, 'Icon', 2012),\n",
       " (6, 3, 'Story', 2000),\n",
       " (7, 4, 'Chapters', 2003),\n",
       " (8, 4, 'Riding with the King', 2000),\n",
       " (9, 5, 'Pieces of a Dream', 2005),\n",
       " (10, 6, 'Greatest Hits', 2004),\n",
       " (11, 7, 'All-Time Greatest Hits', 1975),\n",
       " (12, 8, 'Greatest Hits', 1983),\n",
       " (13, 9, 'Ultimate Collection', 2015)]"
      ]
     },
     "execution_count": 14,
     "metadata": {},
     "output_type": "execute_result"
    }
   ],
   "source": [
    "%%sql\n",
    "\n",
    "select * from album\n"
   ]
  },
  {
   "cell_type": "code",
   "execution_count": 15,
   "metadata": {
    "colab": {
     "base_uri": "https://localhost:8080/",
     "height": 865
    },
    "id": "wkZcgGCa0_RT",
    "outputId": "e164c9cb-065b-4cbb-8ad2-ac8b2fb20129",
    "scrolled": true
   },
   "outputs": [
    {
     "name": "stdout",
     "output_type": "stream",
     "text": [
      " * sqlite:///cloud1.db\n",
      "Done.\n"
     ]
    },
    {
     "data": {
      "text/html": [
       "<table>\n",
       "    <tr>\n",
       "        <th>id</th>\n",
       "        <th>album_id</th>\n",
       "        <th>name</th>\n",
       "        <th>duration</th>\n",
       "    </tr>\n",
       "    <tr>\n",
       "        <td>1</td>\n",
       "        <td>1</td>\n",
       "        <td>Dream On</td>\n",
       "        <td>4.26</td>\n",
       "    </tr>\n",
       "    <tr>\n",
       "        <td>2</td>\n",
       "        <td>1</td>\n",
       "        <td>Back in the Saddle</td>\n",
       "        <td>4.4</td>\n",
       "    </tr>\n",
       "    <tr>\n",
       "        <td>3</td>\n",
       "        <td>2</td>\n",
       "        <td>Genie in a Bottle</td>\n",
       "        <td>5.3</td>\n",
       "    </tr>\n",
       "    <tr>\n",
       "        <td>4</td>\n",
       "        <td>2</td>\n",
       "        <td>Beautiful</td>\n",
       "        <td>5.29</td>\n",
       "    </tr>\n",
       "    <tr>\n",
       "        <td>5</td>\n",
       "        <td>3</td>\n",
       "        <td>Master of Puppets</td>\n",
       "        <td>8.35</td>\n",
       "    </tr>\n",
       "    <tr>\n",
       "        <td>6</td>\n",
       "        <td>3</td>\n",
       "        <td>Battery</td>\n",
       "        <td>5.13</td>\n",
       "    </tr>\n",
       "    <tr>\n",
       "        <td>7</td>\n",
       "        <td>4</td>\n",
       "        <td>Dialectic Chaos</td>\n",
       "        <td>2.26</td>\n",
       "    </tr>\n",
       "    <tr>\n",
       "        <td>8</td>\n",
       "        <td>4</td>\n",
       "        <td>Endgame</td>\n",
       "        <td>5.57</td>\n",
       "    </tr>\n",
       "    <tr>\n",
       "        <td>9</td>\n",
       "        <td>5</td>\n",
       "        <td>Watching Airplanes</td>\n",
       "        <td>4.03</td>\n",
       "    </tr>\n",
       "    <tr>\n",
       "        <td>10</td>\n",
       "        <td>5</td>\n",
       "        <td>Man to Man</td>\n",
       "        <td>3.41</td>\n",
       "    </tr>\n",
       "    <tr>\n",
       "        <td>11</td>\n",
       "        <td>6</td>\n",
       "        <td>Balck Winter Day</td>\n",
       "        <td>3.48</td>\n",
       "    </tr>\n",
       "    <tr>\n",
       "        <td>12</td>\n",
       "        <td>6</td>\n",
       "        <td>Against Widows</td>\n",
       "        <td>4.04</td>\n",
       "    </tr>\n",
       "    <tr>\n",
       "        <td>13</td>\n",
       "        <td>7</td>\n",
       "        <td>Reptile</td>\n",
       "        <td>3.36</td>\n",
       "    </tr>\n",
       "    <tr>\n",
       "        <td>14</td>\n",
       "        <td>7</td>\n",
       "        <td>Modern Girl</td>\n",
       "        <td>4.49</td>\n",
       "    </tr>\n",
       "    <tr>\n",
       "        <td>15</td>\n",
       "        <td>8</td>\n",
       "        <td>Riding with the King</td>\n",
       "        <td>4.23</td>\n",
       "    </tr>\n",
       "    <tr>\n",
       "        <td>16</td>\n",
       "        <td>8</td>\n",
       "        <td>Key to the Highway</td>\n",
       "        <td>3.39</td>\n",
       "    </tr>\n",
       "    <tr>\n",
       "        <td>17</td>\n",
       "        <td>9</td>\n",
       "        <td>Im Outta Love</td>\n",
       "        <td>4.02</td>\n",
       "    </tr>\n",
       "    <tr>\n",
       "        <td>18</td>\n",
       "        <td>9</td>\n",
       "        <td>Not That Kind</td>\n",
       "        <td>3.2</td>\n",
       "    </tr>\n",
       "    <tr>\n",
       "        <td>19</td>\n",
       "        <td>10</td>\n",
       "        <td>Eruption</td>\n",
       "        <td>1.43</td>\n",
       "    </tr>\n",
       "    <tr>\n",
       "        <td>20</td>\n",
       "        <td>10</td>\n",
       "        <td>Hot For Teacher</td>\n",
       "        <td>4.43</td>\n",
       "    </tr>\n",
       "    <tr>\n",
       "        <td>21</td>\n",
       "        <td>11</td>\n",
       "        <td>Sweet Home Alabama</td>\n",
       "        <td>4.45</td>\n",
       "    </tr>\n",
       "    <tr>\n",
       "        <td>22</td>\n",
       "        <td>11</td>\n",
       "        <td>Free Bird</td>\n",
       "        <td>14.23</td>\n",
       "    </tr>\n",
       "    <tr>\n",
       "        <td>23</td>\n",
       "        <td>12</td>\n",
       "        <td>Thunderstruck</td>\n",
       "        <td>4.52</td>\n",
       "    </tr>\n",
       "    <tr>\n",
       "        <td>24</td>\n",
       "        <td>12</td>\n",
       "        <td>T.N.T</td>\n",
       "        <td>3.35</td>\n",
       "    </tr>\n",
       "    <tr>\n",
       "        <td>25</td>\n",
       "        <td>13</td>\n",
       "        <td>Sgt. Pepper&#x27;s Lonely Hearts Club Band</td>\n",
       "        <td>2.0333</td>\n",
       "    </tr>\n",
       "    <tr>\n",
       "        <td>26</td>\n",
       "        <td>13</td>\n",
       "        <td>With a Little Help from My Friends</td>\n",
       "        <td>2.7333</td>\n",
       "    </tr>\n",
       "    <tr>\n",
       "        <td>27</td>\n",
       "        <td>13</td>\n",
       "        <td>Lucy in the Sky with Diamonds</td>\n",
       "        <td>3.4666</td>\n",
       "    </tr>\n",
       "    <tr>\n",
       "        <td>28</td>\n",
       "        <td>13</td>\n",
       "        <td>Getting Better</td>\n",
       "        <td>2.8</td>\n",
       "    </tr>\n",
       "    <tr>\n",
       "        <td>29</td>\n",
       "        <td>13</td>\n",
       "        <td>Fixing a Hole</td>\n",
       "        <td>2.6</td>\n",
       "    </tr>\n",
       "    <tr>\n",
       "        <td>30</td>\n",
       "        <td>13</td>\n",
       "        <td>She&#x27;s Leaving Home</td>\n",
       "        <td>3.5833</td>\n",
       "    </tr>\n",
       "    <tr>\n",
       "        <td>31</td>\n",
       "        <td>13</td>\n",
       "        <td>Being for the Benefit of Mr. Kite!</td>\n",
       "        <td>2.6166</td>\n",
       "    </tr>\n",
       "    <tr>\n",
       "        <td>32</td>\n",
       "        <td>13</td>\n",
       "        <td>Within You Without You</td>\n",
       "        <td>5.066</td>\n",
       "    </tr>\n",
       "    <tr>\n",
       "        <td>33</td>\n",
       "        <td>13</td>\n",
       "        <td>When I&#x27;m Sixty-Four</td>\n",
       "        <td>2.6166</td>\n",
       "    </tr>\n",
       "    <tr>\n",
       "        <td>34</td>\n",
       "        <td>13</td>\n",
       "        <td>Lovely Rita</td>\n",
       "        <td>2.7</td>\n",
       "    </tr>\n",
       "    <tr>\n",
       "        <td>35</td>\n",
       "        <td>13</td>\n",
       "        <td>Good Morning Good Morning</td>\n",
       "        <td>2.6833</td>\n",
       "    </tr>\n",
       "    <tr>\n",
       "        <td>36</td>\n",
       "        <td>13</td>\n",
       "        <td>Sgt. Pepper&#x27;s Lonely Hearts Club Band (Reprise)</td>\n",
       "        <td>1.3166</td>\n",
       "    </tr>\n",
       "    <tr>\n",
       "        <td>37</td>\n",
       "        <td>13</td>\n",
       "        <td>A Day in the Life</td>\n",
       "        <td>5.65</td>\n",
       "    </tr>\n",
       "</table>"
      ],
      "text/plain": [
       "[(1, 1, 'Dream On', 4.26),\n",
       " (2, 1, 'Back in the Saddle', 4.4),\n",
       " (3, 2, 'Genie in a Bottle', 5.3),\n",
       " (4, 2, 'Beautiful', 5.29),\n",
       " (5, 3, 'Master of Puppets', 8.35),\n",
       " (6, 3, 'Battery', 5.13),\n",
       " (7, 4, 'Dialectic Chaos', 2.26),\n",
       " (8, 4, 'Endgame', 5.57),\n",
       " (9, 5, 'Watching Airplanes', 4.03),\n",
       " (10, 5, 'Man to Man', 3.41),\n",
       " (11, 6, 'Balck Winter Day', 3.48),\n",
       " (12, 6, 'Against Widows', 4.04),\n",
       " (13, 7, 'Reptile', 3.36),\n",
       " (14, 7, 'Modern Girl', 4.49),\n",
       " (15, 8, 'Riding with the King', 4.23),\n",
       " (16, 8, 'Key to the Highway', 3.39),\n",
       " (17, 9, 'Im Outta Love', 4.02),\n",
       " (18, 9, 'Not That Kind', 3.2),\n",
       " (19, 10, 'Eruption', 1.43),\n",
       " (20, 10, 'Hot For Teacher', 4.43),\n",
       " (21, 11, 'Sweet Home Alabama', 4.45),\n",
       " (22, 11, 'Free Bird', 14.23),\n",
       " (23, 12, 'Thunderstruck', 4.52),\n",
       " (24, 12, 'T.N.T', 3.35),\n",
       " (25, 13, \"Sgt. Pepper's Lonely Hearts Club Band\", 2.0333),\n",
       " (26, 13, 'With a Little Help from My Friends', 2.7333),\n",
       " (27, 13, 'Lucy in the Sky with Diamonds', 3.4666),\n",
       " (28, 13, 'Getting Better', 2.8),\n",
       " (29, 13, 'Fixing a Hole', 2.6),\n",
       " (30, 13, \"She's Leaving Home\", 3.5833),\n",
       " (31, 13, 'Being for the Benefit of Mr. Kite!', 2.6166),\n",
       " (32, 13, 'Within You Without You', 5.066),\n",
       " (33, 13, \"When I'm Sixty-Four\", 2.6166),\n",
       " (34, 13, 'Lovely Rita', 2.7),\n",
       " (35, 13, 'Good Morning Good Morning', 2.6833),\n",
       " (36, 13, \"Sgt. Pepper's Lonely Hearts Club Band (Reprise)\", 1.3166),\n",
       " (37, 13, 'A Day in the Life', 5.65)]"
      ]
     },
     "execution_count": 15,
     "metadata": {},
     "output_type": "execute_result"
    }
   ],
   "source": [
    "%%sql\n",
    "select * from song \n",
    "\n"
   ]
  },
  {
   "cell_type": "code",
   "execution_count": null,
   "metadata": {
    "colab": {
     "base_uri": "https://localhost:8080/",
     "height": 203
    },
    "id": "uyIXBRqm0_RU",
    "outputId": "94349bd7-d4ea-4e35-a080-81385906b3d1",
    "scrolled": true
   },
   "outputs": [
    {
     "name": "stdout",
     "output_type": "stream",
     "text": [
      " * sqlite:///cloud1.db\n",
      "Done.\n"
     ]
    },
    {
     "data": {
      "text/html": [
       "<table>\n",
       "    <thead>\n",
       "        <tr>\n",
       "            <th>id</th>\n",
       "            <th>name</th>\n",
       "        </tr>\n",
       "    </thead>\n",
       "    <tbody>\n",
       "        <tr>\n",
       "            <td>1</td>\n",
       "            <td>Blackened</td>\n",
       "        </tr>\n",
       "        <tr>\n",
       "            <td>6</td>\n",
       "            <td>Capitol</td>\n",
       "        </tr>\n",
       "        <tr>\n",
       "            <td>5</td>\n",
       "            <td>Elektra</td>\n",
       "        </tr>\n",
       "        <tr>\n",
       "            <td>4</td>\n",
       "            <td>MCA</td>\n",
       "        </tr>\n",
       "        <tr>\n",
       "            <td>3</td>\n",
       "            <td>Universal</td>\n",
       "        </tr>\n",
       "        <tr>\n",
       "            <td>2</td>\n",
       "            <td>Warner Bros</td>\n",
       "        </tr>\n",
       "    </tbody>\n",
       "</table>"
      ],
      "text/plain": [
       "[(1, 'Blackened'),\n",
       " (6, 'Capitol'),\n",
       " (5, 'Elektra'),\n",
       " (4, 'MCA'),\n",
       " (3, 'Universal'),\n",
       " (2, 'Warner Bros')]"
      ]
     },
     "execution_count": 15,
     "metadata": {},
     "output_type": "execute_result"
    }
   ],
   "source": [
    "%%sql\n",
    "select * from record_label\n",
    "\n"
   ]
  },
  {
   "cell_type": "code",
   "execution_count": 18,
   "metadata": {
    "colab": {
     "base_uri": "https://localhost:8080/",
     "height": 267
    },
    "id": "4TxqCQm_0_RV",
    "outputId": "0170fdd8-2792-4b8e-93c1-f20653eff2b8",
    "scrolled": true
   },
   "outputs": [
    {
     "name": "stdout",
     "output_type": "stream",
     "text": [
      " * sqlite:///cloud1.db\n",
      "Done.\n"
     ]
    },
    {
     "data": {
      "text/html": [
       "<table>\n",
       "    <tr>\n",
       "        <th>id</th>\n",
       "        <th>record_label_id</th>\n",
       "        <th>name</th>\n",
       "    </tr>\n",
       "    <tr>\n",
       "        <td>3</td>\n",
       "        <td>1</td>\n",
       "        <td>Anthrax</td>\n",
       "    </tr>\n",
       "    <tr>\n",
       "        <td>2</td>\n",
       "        <td>1</td>\n",
       "        <td>Christina</td>\n",
       "    </tr>\n",
       "    <tr>\n",
       "        <td>1</td>\n",
       "        <td>1</td>\n",
       "        <td>Aerosmith</td>\n",
       "    </tr>\n",
       "    <tr>\n",
       "        <td>4</td>\n",
       "        <td>2</td>\n",
       "        <td>Eric Clapton</td>\n",
       "    </tr>\n",
       "    <tr>\n",
       "        <td>6</td>\n",
       "        <td>2</td>\n",
       "        <td>Amorphis</td>\n",
       "    </tr>\n",
       "    <tr>\n",
       "        <td>5</td>\n",
       "        <td>2</td>\n",
       "        <td>Gary Allan</td>\n",
       "    </tr>\n",
       "    <tr>\n",
       "        <td>8</td>\n",
       "        <td>3</td>\n",
       "        <td>AC/DC</td>\n",
       "    </tr>\n",
       "    <tr>\n",
       "        <td>7</td>\n",
       "        <td>3</td>\n",
       "        <td>Lynyrd Skynyrd</td>\n",
       "    </tr>\n",
       "    <tr>\n",
       "        <td>9</td>\n",
       "        <td>6</td>\n",
       "        <td>Anastacia</td>\n",
       "    </tr>\n",
       "</table>"
      ],
      "text/plain": [
       "[(3, 1, 'Anthrax'),\n",
       " (2, 1, 'Christina'),\n",
       " (1, 1, 'Aerosmith'),\n",
       " (4, 2, 'Eric Clapton'),\n",
       " (6, 2, 'Amorphis'),\n",
       " (5, 2, 'Gary Allan'),\n",
       " (8, 3, 'AC/DC'),\n",
       " (7, 3, 'Lynyrd Skynyrd'),\n",
       " (9, 6, 'Anastacia')]"
      ]
     },
     "execution_count": 18,
     "metadata": {},
     "output_type": "execute_result"
    }
   ],
   "source": [
    "%%sql\n",
    "select * from artist\n",
    "\n"
   ]
  },
  {
   "cell_type": "markdown",
   "metadata": {
    "id": "Rdm8Fxej0_RW"
   },
   "source": [
    "<b>2. List all artists for each record label sorted by artist name. </b>"
   ]
  },
  {
   "cell_type": "code",
   "execution_count": 22,
   "metadata": {
    "colab": {
     "base_uri": "https://localhost:8080/",
     "height": 267
    },
    "id": "FxTNxZTK0_RW",
    "outputId": "64ecb887-936d-4d17-cccd-30e442030286"
   },
   "outputs": [
    {
     "name": "stdout",
     "output_type": "stream",
     "text": [
      " * sqlite:///cloud1.db\n",
      "Done.\n"
     ]
    },
    {
     "data": {
      "text/html": [
       "<table>\n",
       "    <tr>\n",
       "        <th>Artist_Name</th>\n",
       "        <th>Record_Label_Name</th>\n",
       "    </tr>\n",
       "    <tr>\n",
       "        <td>AC/DC</td>\n",
       "        <td>Universal</td>\n",
       "    </tr>\n",
       "    <tr>\n",
       "        <td>Aerosmith</td>\n",
       "        <td>Blackened</td>\n",
       "    </tr>\n",
       "    <tr>\n",
       "        <td>Amorphis</td>\n",
       "        <td>Warner Bros</td>\n",
       "    </tr>\n",
       "    <tr>\n",
       "        <td>Anastacia</td>\n",
       "        <td>Capitol</td>\n",
       "    </tr>\n",
       "    <tr>\n",
       "        <td>Anthrax</td>\n",
       "        <td>Blackened</td>\n",
       "    </tr>\n",
       "    <tr>\n",
       "        <td>Christina</td>\n",
       "        <td>Blackened</td>\n",
       "    </tr>\n",
       "    <tr>\n",
       "        <td>Eric Clapton</td>\n",
       "        <td>Warner Bros</td>\n",
       "    </tr>\n",
       "    <tr>\n",
       "        <td>Gary Allan</td>\n",
       "        <td>Warner Bros</td>\n",
       "    </tr>\n",
       "    <tr>\n",
       "        <td>Lynyrd Skynyrd</td>\n",
       "        <td>Universal</td>\n",
       "    </tr>\n",
       "</table>"
      ],
      "text/plain": [
       "[('AC/DC', 'Universal'),\n",
       " ('Aerosmith', 'Blackened'),\n",
       " ('Amorphis', 'Warner Bros'),\n",
       " ('Anastacia', 'Capitol'),\n",
       " ('Anthrax', 'Blackened'),\n",
       " ('Christina', 'Blackened'),\n",
       " ('Eric Clapton', 'Warner Bros'),\n",
       " ('Gary Allan', 'Warner Bros'),\n",
       " ('Lynyrd Skynyrd', 'Universal')]"
      ]
     },
     "execution_count": 22,
     "metadata": {},
     "output_type": "execute_result"
    }
   ],
   "source": [
    "%%sql\n",
    "select artist.name as Artist_Name,  record_label.name as Record_Label_Name from artist join record_label\n",
    "on artist.record_label_id =  record_label.id order by artist.name\n",
    "\n"
   ]
  },
  {
   "cell_type": "markdown",
   "metadata": {
    "id": "wCJlhA5e0_RX"
   },
   "source": [
    "<B>3.Which record labels have no artists?</b>"
   ]
  },
  {
   "cell_type": "code",
   "execution_count": 33,
   "metadata": {
    "colab": {
     "base_uri": "https://localhost:8080/",
     "height": 118
    },
    "id": "IUs0EKKh0_RY",
    "outputId": "83176b68-0f18-4ca9-8d3c-0a901157bab8"
   },
   "outputs": [
    {
     "name": "stdout",
     "output_type": "stream",
     "text": [
      " * sqlite:///cloud1.db\n",
      "Done.\n"
     ]
    },
    {
     "data": {
      "text/html": [
       "<table>\n",
       "    <tr>\n",
       "        <th>Record_Label_Name</th>\n",
       "    </tr>\n",
       "    <tr>\n",
       "        <td>Elektra</td>\n",
       "    </tr>\n",
       "    <tr>\n",
       "        <td>MCA</td>\n",
       "    </tr>\n",
       "</table>"
      ],
      "text/plain": [
       "[('Elektra',), ('MCA',)]"
      ]
     },
     "execution_count": 33,
     "metadata": {},
     "output_type": "execute_result"
    }
   ],
   "source": [
    "%%sql\n",
    "\n",
    "select record_label.name as Record_Label_Name from record_label left join artist \n",
    "on artist.record_label_id = record_label.id where artist.name is Null\n"
   ]
  },
  {
   "cell_type": "markdown",
   "metadata": {
    "id": "xFJEg_sZ0_RY"
   },
   "source": [
    "<b>4. List the number of songs per artist in descending order</b>"
   ]
  },
  {
   "cell_type": "code",
   "execution_count": 60,
   "metadata": {
    "colab": {
     "base_uri": "https://localhost:8080/",
     "height": 267
    },
    "id": "C-ys1BdA0_RZ",
    "outputId": "32c006c6-052c-44ec-8bd9-63783ce0ceb9",
    "scrolled": true
   },
   "outputs": [
    {
     "name": "stdout",
     "output_type": "stream",
     "text": [
      " * sqlite:///cloud1.db\n",
      "Done.\n"
     ]
    },
    {
     "data": {
      "text/html": [
       "<table>\n",
       "    <tr>\n",
       "        <th>Artist_Name</th>\n",
       "        <th>No_of_Songs</th>\n",
       "    </tr>\n",
       "    <tr>\n",
       "        <td>Anastacia</td>\n",
       "        <td>13</td>\n",
       "    </tr>\n",
       "    <tr>\n",
       "        <td>Aerosmith</td>\n",
       "        <td>6</td>\n",
       "    </tr>\n",
       "    <tr>\n",
       "        <td>Christina</td>\n",
       "        <td>4</td>\n",
       "    </tr>\n",
       "    <tr>\n",
       "        <td>Eric Clapton</td>\n",
       "        <td>4</td>\n",
       "    </tr>\n",
       "    <tr>\n",
       "        <td>AC/DC</td>\n",
       "        <td>2</td>\n",
       "    </tr>\n",
       "    <tr>\n",
       "        <td>Amorphis</td>\n",
       "        <td>2</td>\n",
       "    </tr>\n",
       "    <tr>\n",
       "        <td>Anthrax</td>\n",
       "        <td>2</td>\n",
       "    </tr>\n",
       "    <tr>\n",
       "        <td>Gary Allan</td>\n",
       "        <td>2</td>\n",
       "    </tr>\n",
       "    <tr>\n",
       "        <td>Lynyrd Skynyrd</td>\n",
       "        <td>2</td>\n",
       "    </tr>\n",
       "</table>"
      ],
      "text/plain": [
       "[('Anastacia', 13),\n",
       " ('Aerosmith', 6),\n",
       " ('Christina', 4),\n",
       " ('Eric Clapton', 4),\n",
       " ('AC/DC', 2),\n",
       " ('Amorphis', 2),\n",
       " ('Anthrax', 2),\n",
       " ('Gary Allan', 2),\n",
       " ('Lynyrd Skynyrd', 2)]"
      ]
     },
     "execution_count": 60,
     "metadata": {},
     "output_type": "execute_result"
    }
   ],
   "source": [
    "%%sql\n",
    "\n",
    "select artist.name as Artist_Name , count(Song.name) as No_of_Songs\n",
    "from ((album join artist on album.artist_id = artist.id) join song on song.album_id = album.id) group by artist.name\n",
    "order by No_of_Songs DESC , Artist_Name\n",
    "\n"
   ]
  },
  {
   "cell_type": "markdown",
   "metadata": {
    "id": "wVtWHJpe0_RZ"
   },
   "source": [
    "<B>5. Which artist or artists have recorded the most number of songs?</B>"
   ]
  },
  {
   "cell_type": "code",
   "execution_count": 78,
   "metadata": {
    "colab": {
     "base_uri": "https://localhost:8080/",
     "height": 97
    },
    "id": "95hlpoTo0_Ra",
    "outputId": "e9cfd334-ac8e-40b7-abc9-c5dfa92d2c29"
   },
   "outputs": [
    {
     "name": "stdout",
     "output_type": "stream",
     "text": [
      " * sqlite:///cloud1.db\n",
      "Done.\n"
     ]
    },
    {
     "data": {
      "text/html": [
       "<table>\n",
       "    <tr>\n",
       "        <th>Artist_Name</th>\n",
       "        <th>No_of_Songs</th>\n",
       "    </tr>\n",
       "    <tr>\n",
       "        <td>Anastacia</td>\n",
       "        <td>13</td>\n",
       "    </tr>\n",
       "</table>"
      ],
      "text/plain": [
       "[('Anastacia', 13)]"
      ]
     },
     "execution_count": 78,
     "metadata": {},
     "output_type": "execute_result"
    }
   ],
   "source": [
    "%%sql\n",
    "select artist.name as Artist_Name , count(Song.name) as No_of_Songs\n",
    "from ((album join artist on album.artist_id = artist.id) join song on song.album_id = album.id) group by artist.name\n",
    "order by No_of_Songs DESC limit 1\n",
    "\n",
    "\n",
    "\n",
    "\n"
   ]
  },
  {
   "cell_type": "markdown",
   "metadata": {
    "id": "X9qoMC_H0_Ra"
   },
   "source": [
    "<b>6.Which artist or artists have recorded the least number of songs?</b>"
   ]
  },
  {
   "cell_type": "code",
   "execution_count": 69,
   "metadata": {
    "colab": {
     "base_uri": "https://localhost:8080/",
     "height": 182
    },
    "id": "m1uneueQ0_Rb",
    "outputId": "2faf73ff-a7c8-4c7c-c6c6-0be77c81ab7d"
   },
   "outputs": [
    {
     "name": "stdout",
     "output_type": "stream",
     "text": [
      " * sqlite:///cloud1.db\n",
      "Done.\n"
     ]
    },
    {
     "data": {
      "text/html": [
       "<table>\n",
       "    <tr>\n",
       "        <th>Artist_Name</th>\n",
       "        <th>No_of_Songs</th>\n",
       "    </tr>\n",
       "    <tr>\n",
       "        <td>AC/DC</td>\n",
       "        <td>2</td>\n",
       "    </tr>\n",
       "    <tr>\n",
       "        <td>Amorphis</td>\n",
       "        <td>2</td>\n",
       "    </tr>\n",
       "    <tr>\n",
       "        <td>Anthrax</td>\n",
       "        <td>2</td>\n",
       "    </tr>\n",
       "    <tr>\n",
       "        <td>Gary Allan</td>\n",
       "        <td>2</td>\n",
       "    </tr>\n",
       "    <tr>\n",
       "        <td>Lynyrd Skynyrd</td>\n",
       "        <td>2</td>\n",
       "    </tr>\n",
       "</table>"
      ],
      "text/plain": [
       "[('AC/DC', 2),\n",
       " ('Amorphis', 2),\n",
       " ('Anthrax', 2),\n",
       " ('Gary Allan', 2),\n",
       " ('Lynyrd Skynyrd', 2)]"
      ]
     },
     "execution_count": 69,
     "metadata": {},
     "output_type": "execute_result"
    }
   ],
   "source": [
    "%%sql\n",
    "select artist.name as Artist_Name , count(Song.name) as No_of_Songs\n",
    "from ((album join artist on album.artist_id = artist.id) join song on song.album_id = album.id) group by artist.name\n",
    "order by No_of_Songs ASC limit 5\n",
    "\n",
    "\n",
    "         \n",
    "         \n"
   ]
  },
  {
   "cell_type": "markdown",
   "metadata": {
    "id": "qegkWJ4c0_Rc"
   },
   "source": [
    "<b>7.which artists have recorded songs longer than 5 minutes, and how many songs was that?</b>"
   ]
  },
  {
   "cell_type": "code",
   "execution_count": 94,
   "metadata": {
    "colab": {
     "base_uri": "https://localhost:8080/",
     "height": 161
    },
    "id": "zAv9qO750_Rc",
    "outputId": "8dd86aeb-0465-4457-a833-1f1bc1247f62"
   },
   "outputs": [
    {
     "name": "stdout",
     "output_type": "stream",
     "text": [
      " * sqlite:///cloud1.db\n",
      "Done.\n"
     ]
    },
    {
     "data": {
      "text/html": [
       "<table>\n",
       "    <tr>\n",
       "        <th>Artist_Name</th>\n",
       "        <th>No_of_Songs_greater_than_5_mins</th>\n",
       "    </tr>\n",
       "    <tr>\n",
       "        <td>Aerosmith</td>\n",
       "        <td>4</td>\n",
       "    </tr>\n",
       "    <tr>\n",
       "        <td>Christina</td>\n",
       "        <td>1</td>\n",
       "    </tr>\n",
       "    <tr>\n",
       "        <td>Lynyrd Skynyrd</td>\n",
       "        <td>1</td>\n",
       "    </tr>\n",
       "    <tr>\n",
       "        <td>Anastacia</td>\n",
       "        <td>2</td>\n",
       "    </tr>\n",
       "</table>"
      ],
      "text/plain": [
       "[('Aerosmith', 4), ('Christina', 1), ('Lynyrd Skynyrd', 1), ('Anastacia', 2)]"
      ]
     },
     "execution_count": 94,
     "metadata": {},
     "output_type": "execute_result"
    }
   ],
   "source": [
    "%%sql\n",
    "select artist.name as Artist_Name , count(Song.name) as No_of_Songs_greater_than_5_mins\n",
    "from ((album join artist on album.artist_id = artist.id) left join song on song.album_id = album.id ) \n",
    "where song.duration > 5\n",
    "group by artist.id\n",
    "\n",
    "\n",
    "\n",
    "\n"
   ]
  },
  {
   "cell_type": "markdown",
   "metadata": {
    "id": "gvfppdXs0_Rd"
   },
   "source": [
    "<b>8.for each artist and album how many songs were less than 5 minutes long?</b>"
   ]
  },
  {
   "cell_type": "code",
   "execution_count": 93,
   "metadata": {
    "colab": {
     "base_uri": "https://localhost:8080/",
     "height": 310
    },
    "id": "TUeszyls0_Re",
    "outputId": "91650d47-d081-48cd-a158-7ac6cc421ed5",
    "scrolled": true
   },
   "outputs": [
    {
     "name": "stdout",
     "output_type": "stream",
     "text": [
      " * sqlite:///cloud1.db\n",
      "Done.\n"
     ]
    },
    {
     "data": {
      "text/html": [
       "<table>\n",
       "    <tr>\n",
       "        <th>Artist_Name</th>\n",
       "        <th>Album_Name</th>\n",
       "        <th>No_of_Songs_greater_than_5_mins</th>\n",
       "    </tr>\n",
       "    <tr>\n",
       "        <td>AC/DC</td>\n",
       "        <td>Greatest Hits</td>\n",
       "        <td>2</td>\n",
       "    </tr>\n",
       "    <tr>\n",
       "        <td>Aerosmith</td>\n",
       "        <td>Devils got a new disguise</td>\n",
       "        <td>2</td>\n",
       "    </tr>\n",
       "    <tr>\n",
       "        <td>Amorphis</td>\n",
       "        <td>Greatest Hits</td>\n",
       "        <td>2</td>\n",
       "    </tr>\n",
       "    <tr>\n",
       "        <td>Anastacia</td>\n",
       "        <td>Ultimate Collection</td>\n",
       "        <td>11</td>\n",
       "    </tr>\n",
       "    <tr>\n",
       "        <td>Anthrax</td>\n",
       "        <td>Story</td>\n",
       "        <td>2</td>\n",
       "    </tr>\n",
       "    <tr>\n",
       "        <td>Christina</td>\n",
       "        <td>Endgame</td>\n",
       "        <td>1</td>\n",
       "    </tr>\n",
       "    <tr>\n",
       "        <td>Christina</td>\n",
       "        <td>Icon</td>\n",
       "        <td>2</td>\n",
       "    </tr>\n",
       "    <tr>\n",
       "        <td>Eric Clapton</td>\n",
       "        <td>Chapters</td>\n",
       "        <td>2</td>\n",
       "    </tr>\n",
       "    <tr>\n",
       "        <td>Eric Clapton</td>\n",
       "        <td>Riding with the King</td>\n",
       "        <td>2</td>\n",
       "    </tr>\n",
       "    <tr>\n",
       "        <td>Gary Allan</td>\n",
       "        <td>Pieces of a Dream</td>\n",
       "        <td>2</td>\n",
       "    </tr>\n",
       "    <tr>\n",
       "        <td>Lynyrd Skynyrd</td>\n",
       "        <td>All-Time Greatest Hits</td>\n",
       "        <td>1</td>\n",
       "    </tr>\n",
       "</table>"
      ],
      "text/plain": [
       "[('AC/DC', 'Greatest Hits', 2),\n",
       " ('Aerosmith', 'Devils got a new disguise', 2),\n",
       " ('Amorphis', 'Greatest Hits', 2),\n",
       " ('Anastacia', 'Ultimate Collection', 11),\n",
       " ('Anthrax', 'Story', 2),\n",
       " ('Christina', 'Endgame', 1),\n",
       " ('Christina', 'Icon', 2),\n",
       " ('Eric Clapton', 'Chapters', 2),\n",
       " ('Eric Clapton', 'Riding with the King', 2),\n",
       " ('Gary Allan', 'Pieces of a Dream', 2),\n",
       " ('Lynyrd Skynyrd', 'All-Time Greatest Hits', 1)]"
      ]
     },
     "execution_count": 93,
     "metadata": {},
     "output_type": "execute_result"
    }
   ],
   "source": [
    "%%sql\n",
    "select artist.name as Artist_Name , album.name as Album_Name ,count(Song.name) as No_of_Songs_greater_than_5_mins\n",
    "from ((album join artist on album.artist_id = artist.id) left join song on song.album_id = album.id ) \n",
    "where song.duration < 5 group by album.id order by Artist_Name\n",
    "\n",
    "\n",
    "\n",
    "\n"
   ]
  },
  {
   "cell_type": "markdown",
   "metadata": {
    "id": "LWXW1bZB0_Re"
   },
   "source": [
    "<b>9.In which year or years were the most songs recorded?</b>"
   ]
  },
  {
   "cell_type": "code",
   "execution_count": 98,
   "metadata": {
    "colab": {
     "base_uri": "https://localhost:8080/",
     "height": 97
    },
    "id": "GH0mGP7f0_Rf",
    "outputId": "74490196-7c93-4ce7-e287-d02d70c86479"
   },
   "outputs": [
    {
     "name": "stdout",
     "output_type": "stream",
     "text": [
      " * sqlite:///cloud1.db\n",
      "Done.\n"
     ]
    },
    {
     "data": {
      "text/html": [
       "<table>\n",
       "    <tr>\n",
       "        <th>Year</th>\n",
       "        <th>No_of_Songs</th>\n",
       "    </tr>\n",
       "    <tr>\n",
       "        <td>2015</td>\n",
       "        <td>13</td>\n",
       "    </tr>\n",
       "</table>"
      ],
      "text/plain": [
       "[(2015, 13)]"
      ]
     },
     "execution_count": 98,
     "metadata": {},
     "output_type": "execute_result"
    }
   ],
   "source": [
    "%%sql\n",
    "\n",
    "select album.year as Year , count(Song.name) as No_of_Songs\n",
    "from album join song on song.album_id = album.id group by Year \n",
    "order by No_of_Songs DESC Limit 1\n",
    "\n",
    "\n",
    "\n",
    "\n",
    "\n"
   ]
  },
  {
   "cell_type": "markdown",
   "metadata": {
    "id": "eLOI1o2q0_Rf"
   },
   "source": [
    "<b>10. list the artist, song and year of the top 5 longest recorded songs</b>"
   ]
  },
  {
   "cell_type": "code",
   "execution_count": 99,
   "metadata": {
    "colab": {
     "base_uri": "https://localhost:8080/",
     "height": 182
    },
    "id": "vTOmHgH_0_Rg",
    "outputId": "9df5812c-f1aa-47d6-a280-d91eb2e3827e"
   },
   "outputs": [
    {
     "name": "stdout",
     "output_type": "stream",
     "text": [
      " * sqlite:///cloud1.db\n",
      "Done.\n"
     ]
    },
    {
     "data": {
      "text/html": [
       "<table>\n",
       "    <tr>\n",
       "        <th>Artist_Name</th>\n",
       "        <th>Album_Name</th>\n",
       "        <th>Song</th>\n",
       "        <th>Year_recorded</th>\n",
       "        <th>Duration</th>\n",
       "    </tr>\n",
       "    <tr>\n",
       "        <td>Lynyrd Skynyrd</td>\n",
       "        <td>All-Time Greatest Hits</td>\n",
       "        <td>Free Bird</td>\n",
       "        <td>1975</td>\n",
       "        <td>14.23</td>\n",
       "    </tr>\n",
       "    <tr>\n",
       "        <td>Aerosmith</td>\n",
       "        <td>Master of Puppets</td>\n",
       "        <td>Master of Puppets</td>\n",
       "        <td>1986</td>\n",
       "        <td>8.35</td>\n",
       "    </tr>\n",
       "    <tr>\n",
       "        <td>Anastacia</td>\n",
       "        <td>Ultimate Collection</td>\n",
       "        <td>A Day in the Life</td>\n",
       "        <td>2015</td>\n",
       "        <td>5.65</td>\n",
       "    </tr>\n",
       "    <tr>\n",
       "        <td>Christina</td>\n",
       "        <td>Endgame</td>\n",
       "        <td>Endgame</td>\n",
       "        <td>2009</td>\n",
       "        <td>5.57</td>\n",
       "    </tr>\n",
       "    <tr>\n",
       "        <td>Aerosmith</td>\n",
       "        <td>Keeps getting better</td>\n",
       "        <td>Genie in a Bottle</td>\n",
       "        <td>2008</td>\n",
       "        <td>5.3</td>\n",
       "    </tr>\n",
       "</table>"
      ],
      "text/plain": [
       "[('Lynyrd Skynyrd', 'All-Time Greatest Hits', 'Free Bird', 1975, 14.23),\n",
       " ('Aerosmith', 'Master of Puppets', 'Master of Puppets', 1986, 8.35),\n",
       " ('Anastacia', 'Ultimate Collection', 'A Day in the Life', 2015, 5.65),\n",
       " ('Christina', 'Endgame', 'Endgame', 2009, 5.57),\n",
       " ('Aerosmith', 'Keeps getting better', 'Genie in a Bottle', 2008, 5.3)]"
      ]
     },
     "execution_count": 99,
     "metadata": {},
     "output_type": "execute_result"
    }
   ],
   "source": [
    "%%sql\n",
    "select artist.name as Artist_Name , album.name as Album_Name ,Song.name as Song , album.year as Year_recorded, \n",
    "song.duration as Duration\n",
    "from ((album join artist on album.artist_id = artist.id) join song on song.album_id = album.id ) \n",
    "order by song.duration desc limit 5 \n",
    "\n",
    "\n",
    "\n"
   ]
  },
  {
   "cell_type": "markdown",
   "metadata": {
    "id": "0dRU3geH0_Rg"
   },
   "source": [
    "<b>11.Number of albums recorded for each year</b>"
   ]
  },
  {
   "cell_type": "code",
   "execution_count": 101,
   "metadata": {
    "colab": {
     "base_uri": "https://localhost:8080/",
     "height": 331
    },
    "id": "odH4bZtj0_Rh",
    "outputId": "37cf10bc-185a-4497-ba99-2cda8ca7a465"
   },
   "outputs": [
    {
     "name": "stdout",
     "output_type": "stream",
     "text": [
      " * sqlite:///cloud1.db\n",
      "Done.\n"
     ]
    },
    {
     "data": {
      "text/html": [
       "<table>\n",
       "    <tr>\n",
       "        <th>year</th>\n",
       "        <th>Number_of_Albums_Recorded</th>\n",
       "    </tr>\n",
       "    <tr>\n",
       "        <td>1975</td>\n",
       "        <td>1</td>\n",
       "    </tr>\n",
       "    <tr>\n",
       "        <td>1983</td>\n",
       "        <td>1</td>\n",
       "    </tr>\n",
       "    <tr>\n",
       "        <td>1986</td>\n",
       "        <td>1</td>\n",
       "    </tr>\n",
       "    <tr>\n",
       "        <td>2000</td>\n",
       "        <td>2</td>\n",
       "    </tr>\n",
       "    <tr>\n",
       "        <td>2003</td>\n",
       "        <td>1</td>\n",
       "    </tr>\n",
       "    <tr>\n",
       "        <td>2004</td>\n",
       "        <td>1</td>\n",
       "    </tr>\n",
       "    <tr>\n",
       "        <td>2005</td>\n",
       "        <td>1</td>\n",
       "    </tr>\n",
       "    <tr>\n",
       "        <td>2006</td>\n",
       "        <td>1</td>\n",
       "    </tr>\n",
       "    <tr>\n",
       "        <td>2008</td>\n",
       "        <td>1</td>\n",
       "    </tr>\n",
       "    <tr>\n",
       "        <td>2009</td>\n",
       "        <td>1</td>\n",
       "    </tr>\n",
       "    <tr>\n",
       "        <td>2012</td>\n",
       "        <td>1</td>\n",
       "    </tr>\n",
       "    <tr>\n",
       "        <td>2015</td>\n",
       "        <td>1</td>\n",
       "    </tr>\n",
       "</table>"
      ],
      "text/plain": [
       "[(1975, 1),\n",
       " (1983, 1),\n",
       " (1986, 1),\n",
       " (2000, 2),\n",
       " (2003, 1),\n",
       " (2004, 1),\n",
       " (2005, 1),\n",
       " (2006, 1),\n",
       " (2008, 1),\n",
       " (2009, 1),\n",
       " (2012, 1),\n",
       " (2015, 1)]"
      ]
     },
     "execution_count": 101,
     "metadata": {},
     "output_type": "execute_result"
    }
   ],
   "source": [
    "%%sql\n",
    "\n",
    "select year , count(name) as Number_of_Albums_Recorded from album group by year\n",
    "\n",
    "\n",
    "\n"
   ]
  },
  {
   "cell_type": "markdown",
   "metadata": {
    "id": "0q0JEmwN0_Rh"
   },
   "source": [
    "<b>12. What is the max number of recorded albums across all the years?\n",
    "\n",
    "-- Hint:  using the above sql as a temp table</b>"
   ]
  },
  {
   "cell_type": "code",
   "execution_count": 109,
   "metadata": {},
   "outputs": [
    {
     "name": "stdout",
     "output_type": "stream",
     "text": [
      " * sqlite:///cloud1.db\n",
      "Done.\n"
     ]
    },
    {
     "data": {
      "text/plain": [
       "[]"
      ]
     },
     "execution_count": 109,
     "metadata": {},
     "output_type": "execute_result"
    }
   ],
   "source": [
    "%%sql \n",
    "CREATE TEMP TABLE  temp_table_album_recorded (Year int(5) NOT NULL PRIMARY KEY,\n",
    "Number_of_Albums_Recorded int(5))"
   ]
  },
  {
   "cell_type": "code",
   "execution_count": 110,
   "metadata": {},
   "outputs": [
    {
     "name": "stdout",
     "output_type": "stream",
     "text": [
      " * sqlite:///cloud1.db\n",
      "12 rows affected.\n"
     ]
    },
    {
     "data": {
      "text/plain": [
       "[]"
      ]
     },
     "execution_count": 110,
     "metadata": {},
     "output_type": "execute_result"
    }
   ],
   "source": [
    "%%sql\n",
    "INSERT INTO  temp_table_album_recorded \n",
    "select year ,count(name) from album group by year"
   ]
  },
  {
   "cell_type": "code",
   "execution_count": 112,
   "metadata": {
    "colab": {
     "base_uri": "https://localhost:8080/",
     "height": 97
    },
    "id": "x8WDzDa50_Ri",
    "outputId": "8a1af64f-c75a-4bc9-c8d3-d8147b37ffa1"
   },
   "outputs": [
    {
     "name": "stdout",
     "output_type": "stream",
     "text": [
      " * sqlite:///cloud1.db\n",
      "Done.\n"
     ]
    },
    {
     "data": {
      "text/html": [
       "<table>\n",
       "    <tr>\n",
       "        <th>Max_Number_of_Albums_Recorded_in_a_Year</th>\n",
       "    </tr>\n",
       "    <tr>\n",
       "        <td>2</td>\n",
       "    </tr>\n",
       "</table>"
      ],
      "text/plain": [
       "[(2,)]"
      ]
     },
     "execution_count": 112,
     "metadata": {},
     "output_type": "execute_result"
    }
   ],
   "source": [
    "%%sql\n",
    "\n",
    "\n",
    "select max(Number_of_Albums_Recorded) as Max_Number_of_Albums_Recorded_in_a_Year from temp_table_album_recorded\n",
    "\n",
    "\n"
   ]
  },
  {
   "cell_type": "markdown",
   "metadata": {
    "id": "V_gfXo9K0_Ri"
   },
   "source": [
    "<b>13. In which year (or years) were the most (max) number of albums recorded, and how many were recorded?\n",
    "\n",
    "-- Hint: using the above sql as a sub-select</b>"
   ]
  },
  {
   "cell_type": "code",
   "execution_count": 128,
   "metadata": {
    "colab": {
     "base_uri": "https://localhost:8080/",
     "height": 97
    },
    "id": "S_-n3elf0_Rj",
    "outputId": "36017145-ba4e-4760-e57b-efa8892f0f60"
   },
   "outputs": [
    {
     "name": "stdout",
     "output_type": "stream",
     "text": [
      " * sqlite:///cloud1.db\n",
      "Done.\n"
     ]
    },
    {
     "data": {
      "text/html": [
       "<table>\n",
       "    <tr>\n",
       "        <th>Year</th>\n",
       "        <th>Max_Number_of_Albums_Recorded_in_a_Year</th>\n",
       "    </tr>\n",
       "    <tr>\n",
       "        <td>2000</td>\n",
       "        <td>2</td>\n",
       "    </tr>\n",
       "</table>"
      ],
      "text/plain": [
       "[(2000, 2)]"
      ]
     },
     "execution_count": 128,
     "metadata": {},
     "output_type": "execute_result"
    }
   ],
   "source": [
    "%%sql\n",
    "\n",
    "select year, Number_of_Albums_Recorded as Max_Number_of_Albums_Recorded_in_a_Year from temp_table_album_recorded\n",
    "where Number_of_Albums_Recorded = \n",
    "(select max(Number_of_Albums_Recorded) as Max_Number_of_Albums_Recorded_in_a_Year from temp_table_album_recorded)\n"
   ]
  },
  {
   "cell_type": "markdown",
   "metadata": {
    "id": "PqL_QuJR0_Rj"
   },
   "source": [
    "<b>14. total duration of all songs recorded by each artist in descending order</b>"
   ]
  },
  {
   "cell_type": "code",
   "execution_count": 131,
   "metadata": {
    "colab": {
     "base_uri": "https://localhost:8080/",
     "height": 267
    },
    "id": "SHs-3Y7i0_Rk",
    "outputId": "7bf5d4d6-e5a2-4166-a9c2-57b4223703ad"
   },
   "outputs": [
    {
     "name": "stdout",
     "output_type": "stream",
     "text": [
      " * sqlite:///cloud1.db\n",
      "Done.\n"
     ]
    },
    {
     "data": {
      "text/html": [
       "<table>\n",
       "    <tr>\n",
       "        <th>Artist_Name</th>\n",
       "        <th>Total_duration_of_Songs</th>\n",
       "    </tr>\n",
       "    <tr>\n",
       "        <td>Anastacia</td>\n",
       "        <td>39.87</td>\n",
       "    </tr>\n",
       "    <tr>\n",
       "        <td>Aerosmith</td>\n",
       "        <td>32.73</td>\n",
       "    </tr>\n",
       "    <tr>\n",
       "        <td>Lynyrd Skynyrd</td>\n",
       "        <td>18.68</td>\n",
       "    </tr>\n",
       "    <tr>\n",
       "        <td>Eric Clapton</td>\n",
       "        <td>15.47</td>\n",
       "    </tr>\n",
       "    <tr>\n",
       "        <td>Christina</td>\n",
       "        <td>15.27</td>\n",
       "    </tr>\n",
       "    <tr>\n",
       "        <td>AC/DC</td>\n",
       "        <td>7.87</td>\n",
       "    </tr>\n",
       "    <tr>\n",
       "        <td>Anthrax</td>\n",
       "        <td>7.52</td>\n",
       "    </tr>\n",
       "    <tr>\n",
       "        <td>Gary Allan</td>\n",
       "        <td>7.22</td>\n",
       "    </tr>\n",
       "    <tr>\n",
       "        <td>Amorphis</td>\n",
       "        <td>5.86</td>\n",
       "    </tr>\n",
       "</table>"
      ],
      "text/plain": [
       "[('Anastacia', 39.87),\n",
       " ('Aerosmith', 32.73),\n",
       " ('Lynyrd Skynyrd', 18.68),\n",
       " ('Eric Clapton', 15.47),\n",
       " ('Christina', 15.27),\n",
       " ('AC/DC', 7.87),\n",
       " ('Anthrax', 7.52),\n",
       " ('Gary Allan', 7.22),\n",
       " ('Amorphis', 5.86)]"
      ]
     },
     "execution_count": 131,
     "metadata": {},
     "output_type": "execute_result"
    }
   ],
   "source": [
    "%%sql\n",
    "select artist.name as Artist_Name , round(sum(Song.duration),2) as Total_duration_of_Songs\n",
    "from ((album join artist on album.artist_id = artist.id) join song on song.album_id = album.id) group by artist.name\n",
    "order by Total_duration_of_Songs DESC , Artist_Name\n",
    "\n",
    "\n",
    "\n"
   ]
  },
  {
   "cell_type": "markdown",
   "metadata": {
    "id": "7QSNv0Ac0_Rk"
   },
   "source": [
    "<b>15.for which artist and album are there no songs less than 5 minutes long?</b>"
   ]
  },
  {
   "cell_type": "code",
   "execution_count": 58,
   "metadata": {
    "colab": {
     "base_uri": "https://localhost:8080/",
     "height": 118
    },
    "id": "TNOiqga20_Rl",
    "outputId": "46cb512d-a6ab-450a-b676-24bce7a2716c",
    "scrolled": true
   },
   "outputs": [
    {
     "name": "stdout",
     "output_type": "stream",
     "text": [
      " * sqlite:///cloud1.db\n",
      "Done.\n"
     ]
    },
    {
     "data": {
      "text/html": [
       "<table>\n",
       "    <tr>\n",
       "        <th>Artist_Name</th>\n",
       "        <th>Album_Name</th>\n",
       "    </tr>\n",
       "    <tr>\n",
       "        <td>Aerosmith</td>\n",
       "        <td>Keeps getting better</td>\n",
       "    </tr>\n",
       "    <tr>\n",
       "        <td>Aerosmith</td>\n",
       "        <td>Master of Puppets</td>\n",
       "    </tr>\n",
       "</table>"
      ],
      "text/plain": [
       "[('Aerosmith', 'Keeps getting better'), ('Aerosmith', 'Master of Puppets')]"
      ]
     },
     "execution_count": 58,
     "metadata": {},
     "output_type": "execute_result"
    }
   ],
   "source": [
    "%%sql\n",
    "\n",
    "select artist.name as Artist_Name , album.name as Album_Name\n",
    "from ((album left join artist on album.artist_id = artist.id)\n",
    "      join song on song.album_id = album.id )group by album.id having min(song.duration) > 5 \n",
    "\n",
    "\n",
    "\n"
   ]
  },
  {
   "cell_type": "markdown",
   "metadata": {
    "id": "DWqkjPnt0_Rl"
   },
   "source": [
    "<b>16. Display a table of all artists, albums, songs and song duration \n",
    "--     all ordered in ascending order by artist, album and song  </b>"
   ]
  },
  {
   "cell_type": "code",
   "execution_count": 152,
   "metadata": {
    "colab": {
     "base_uri": "https://localhost:8080/",
     "height": 865
    },
    "id": "-ZrRN8vU0_Rm",
    "outputId": "a27d1711-911a-4507-9304-d547ac1d88d8"
   },
   "outputs": [
    {
     "name": "stdout",
     "output_type": "stream",
     "text": [
      " * sqlite:///cloud1.db\n",
      "Done.\n"
     ]
    },
    {
     "data": {
      "text/html": [
       "<table>\n",
       "    <tr>\n",
       "        <th>Artist_Name</th>\n",
       "        <th>Album_Name</th>\n",
       "        <th>Song</th>\n",
       "        <th>Duration</th>\n",
       "    </tr>\n",
       "    <tr>\n",
       "        <td>AC/DC</td>\n",
       "        <td>Greatest Hits</td>\n",
       "        <td>T.N.T</td>\n",
       "        <td>3.35</td>\n",
       "    </tr>\n",
       "    <tr>\n",
       "        <td>AC/DC</td>\n",
       "        <td>Greatest Hits</td>\n",
       "        <td>Thunderstruck</td>\n",
       "        <td>4.52</td>\n",
       "    </tr>\n",
       "    <tr>\n",
       "        <td>Aerosmith</td>\n",
       "        <td>Devils got a new disguise</td>\n",
       "        <td>Back in the Saddle</td>\n",
       "        <td>4.4</td>\n",
       "    </tr>\n",
       "    <tr>\n",
       "        <td>Aerosmith</td>\n",
       "        <td>Devils got a new disguise</td>\n",
       "        <td>Dream On</td>\n",
       "        <td>4.26</td>\n",
       "    </tr>\n",
       "    <tr>\n",
       "        <td>Aerosmith</td>\n",
       "        <td>Keeps getting better</td>\n",
       "        <td>Beautiful</td>\n",
       "        <td>5.29</td>\n",
       "    </tr>\n",
       "    <tr>\n",
       "        <td>Aerosmith</td>\n",
       "        <td>Keeps getting better</td>\n",
       "        <td>Genie in a Bottle</td>\n",
       "        <td>5.3</td>\n",
       "    </tr>\n",
       "    <tr>\n",
       "        <td>Aerosmith</td>\n",
       "        <td>Master of Puppets</td>\n",
       "        <td>Battery</td>\n",
       "        <td>5.13</td>\n",
       "    </tr>\n",
       "    <tr>\n",
       "        <td>Aerosmith</td>\n",
       "        <td>Master of Puppets</td>\n",
       "        <td>Master of Puppets</td>\n",
       "        <td>8.35</td>\n",
       "    </tr>\n",
       "    <tr>\n",
       "        <td>Amorphis</td>\n",
       "        <td>Greatest Hits</td>\n",
       "        <td>Eruption</td>\n",
       "        <td>1.43</td>\n",
       "    </tr>\n",
       "    <tr>\n",
       "        <td>Amorphis</td>\n",
       "        <td>Greatest Hits</td>\n",
       "        <td>Hot For Teacher</td>\n",
       "        <td>4.43</td>\n",
       "    </tr>\n",
       "    <tr>\n",
       "        <td>Anastacia</td>\n",
       "        <td>Ultimate Collection</td>\n",
       "        <td>A Day in the Life</td>\n",
       "        <td>5.65</td>\n",
       "    </tr>\n",
       "    <tr>\n",
       "        <td>Anastacia</td>\n",
       "        <td>Ultimate Collection</td>\n",
       "        <td>Being for the Benefit of Mr. Kite!</td>\n",
       "        <td>2.6166</td>\n",
       "    </tr>\n",
       "    <tr>\n",
       "        <td>Anastacia</td>\n",
       "        <td>Ultimate Collection</td>\n",
       "        <td>Fixing a Hole</td>\n",
       "        <td>2.6</td>\n",
       "    </tr>\n",
       "    <tr>\n",
       "        <td>Anastacia</td>\n",
       "        <td>Ultimate Collection</td>\n",
       "        <td>Getting Better</td>\n",
       "        <td>2.8</td>\n",
       "    </tr>\n",
       "    <tr>\n",
       "        <td>Anastacia</td>\n",
       "        <td>Ultimate Collection</td>\n",
       "        <td>Good Morning Good Morning</td>\n",
       "        <td>2.6833</td>\n",
       "    </tr>\n",
       "    <tr>\n",
       "        <td>Anastacia</td>\n",
       "        <td>Ultimate Collection</td>\n",
       "        <td>Lovely Rita</td>\n",
       "        <td>2.7</td>\n",
       "    </tr>\n",
       "    <tr>\n",
       "        <td>Anastacia</td>\n",
       "        <td>Ultimate Collection</td>\n",
       "        <td>Lucy in the Sky with Diamonds</td>\n",
       "        <td>3.4666</td>\n",
       "    </tr>\n",
       "    <tr>\n",
       "        <td>Anastacia</td>\n",
       "        <td>Ultimate Collection</td>\n",
       "        <td>Sgt. Pepper&#x27;s Lonely Hearts Club Band</td>\n",
       "        <td>2.0333</td>\n",
       "    </tr>\n",
       "    <tr>\n",
       "        <td>Anastacia</td>\n",
       "        <td>Ultimate Collection</td>\n",
       "        <td>Sgt. Pepper&#x27;s Lonely Hearts Club Band (Reprise)</td>\n",
       "        <td>1.3166</td>\n",
       "    </tr>\n",
       "    <tr>\n",
       "        <td>Anastacia</td>\n",
       "        <td>Ultimate Collection</td>\n",
       "        <td>She&#x27;s Leaving Home</td>\n",
       "        <td>3.5833</td>\n",
       "    </tr>\n",
       "    <tr>\n",
       "        <td>Anastacia</td>\n",
       "        <td>Ultimate Collection</td>\n",
       "        <td>When I&#x27;m Sixty-Four</td>\n",
       "        <td>2.6166</td>\n",
       "    </tr>\n",
       "    <tr>\n",
       "        <td>Anastacia</td>\n",
       "        <td>Ultimate Collection</td>\n",
       "        <td>With a Little Help from My Friends</td>\n",
       "        <td>2.7333</td>\n",
       "    </tr>\n",
       "    <tr>\n",
       "        <td>Anastacia</td>\n",
       "        <td>Ultimate Collection</td>\n",
       "        <td>Within You Without You</td>\n",
       "        <td>5.066</td>\n",
       "    </tr>\n",
       "    <tr>\n",
       "        <td>Anthrax</td>\n",
       "        <td>Story</td>\n",
       "        <td>Against Widows</td>\n",
       "        <td>4.04</td>\n",
       "    </tr>\n",
       "    <tr>\n",
       "        <td>Anthrax</td>\n",
       "        <td>Story</td>\n",
       "        <td>Balck Winter Day</td>\n",
       "        <td>3.48</td>\n",
       "    </tr>\n",
       "    <tr>\n",
       "        <td>Christina</td>\n",
       "        <td>Endgame</td>\n",
       "        <td>Dialectic Chaos</td>\n",
       "        <td>2.26</td>\n",
       "    </tr>\n",
       "    <tr>\n",
       "        <td>Christina</td>\n",
       "        <td>Endgame</td>\n",
       "        <td>Endgame</td>\n",
       "        <td>5.57</td>\n",
       "    </tr>\n",
       "    <tr>\n",
       "        <td>Christina</td>\n",
       "        <td>Icon</td>\n",
       "        <td>Man to Man</td>\n",
       "        <td>3.41</td>\n",
       "    </tr>\n",
       "    <tr>\n",
       "        <td>Christina</td>\n",
       "        <td>Icon</td>\n",
       "        <td>Watching Airplanes</td>\n",
       "        <td>4.03</td>\n",
       "    </tr>\n",
       "    <tr>\n",
       "        <td>Eric Clapton</td>\n",
       "        <td>Chapters</td>\n",
       "        <td>Modern Girl</td>\n",
       "        <td>4.49</td>\n",
       "    </tr>\n",
       "    <tr>\n",
       "        <td>Eric Clapton</td>\n",
       "        <td>Chapters</td>\n",
       "        <td>Reptile</td>\n",
       "        <td>3.36</td>\n",
       "    </tr>\n",
       "    <tr>\n",
       "        <td>Eric Clapton</td>\n",
       "        <td>Riding with the King</td>\n",
       "        <td>Key to the Highway</td>\n",
       "        <td>3.39</td>\n",
       "    </tr>\n",
       "    <tr>\n",
       "        <td>Eric Clapton</td>\n",
       "        <td>Riding with the King</td>\n",
       "        <td>Riding with the King</td>\n",
       "        <td>4.23</td>\n",
       "    </tr>\n",
       "    <tr>\n",
       "        <td>Gary Allan</td>\n",
       "        <td>Pieces of a Dream</td>\n",
       "        <td>Im Outta Love</td>\n",
       "        <td>4.02</td>\n",
       "    </tr>\n",
       "    <tr>\n",
       "        <td>Gary Allan</td>\n",
       "        <td>Pieces of a Dream</td>\n",
       "        <td>Not That Kind</td>\n",
       "        <td>3.2</td>\n",
       "    </tr>\n",
       "    <tr>\n",
       "        <td>Lynyrd Skynyrd</td>\n",
       "        <td>All-Time Greatest Hits</td>\n",
       "        <td>Free Bird</td>\n",
       "        <td>14.23</td>\n",
       "    </tr>\n",
       "    <tr>\n",
       "        <td>Lynyrd Skynyrd</td>\n",
       "        <td>All-Time Greatest Hits</td>\n",
       "        <td>Sweet Home Alabama</td>\n",
       "        <td>4.45</td>\n",
       "    </tr>\n",
       "</table>"
      ],
      "text/plain": [
       "[('AC/DC', 'Greatest Hits', 'T.N.T', 3.35),\n",
       " ('AC/DC', 'Greatest Hits', 'Thunderstruck', 4.52),\n",
       " ('Aerosmith', 'Devils got a new disguise', 'Back in the Saddle', 4.4),\n",
       " ('Aerosmith', 'Devils got a new disguise', 'Dream On', 4.26),\n",
       " ('Aerosmith', 'Keeps getting better', 'Beautiful', 5.29),\n",
       " ('Aerosmith', 'Keeps getting better', 'Genie in a Bottle', 5.3),\n",
       " ('Aerosmith', 'Master of Puppets', 'Battery', 5.13),\n",
       " ('Aerosmith', 'Master of Puppets', 'Master of Puppets', 8.35),\n",
       " ('Amorphis', 'Greatest Hits', 'Eruption', 1.43),\n",
       " ('Amorphis', 'Greatest Hits', 'Hot For Teacher', 4.43),\n",
       " ('Anastacia', 'Ultimate Collection', 'A Day in the Life', 5.65),\n",
       " ('Anastacia', 'Ultimate Collection', 'Being for the Benefit of Mr. Kite!', 2.6166),\n",
       " ('Anastacia', 'Ultimate Collection', 'Fixing a Hole', 2.6),\n",
       " ('Anastacia', 'Ultimate Collection', 'Getting Better', 2.8),\n",
       " ('Anastacia', 'Ultimate Collection', 'Good Morning Good Morning', 2.6833),\n",
       " ('Anastacia', 'Ultimate Collection', 'Lovely Rita', 2.7),\n",
       " ('Anastacia', 'Ultimate Collection', 'Lucy in the Sky with Diamonds', 3.4666),\n",
       " ('Anastacia', 'Ultimate Collection', \"Sgt. Pepper's Lonely Hearts Club Band\", 2.0333),\n",
       " ('Anastacia', 'Ultimate Collection', \"Sgt. Pepper's Lonely Hearts Club Band (Reprise)\", 1.3166),\n",
       " ('Anastacia', 'Ultimate Collection', \"She's Leaving Home\", 3.5833),\n",
       " ('Anastacia', 'Ultimate Collection', \"When I'm Sixty-Four\", 2.6166),\n",
       " ('Anastacia', 'Ultimate Collection', 'With a Little Help from My Friends', 2.7333),\n",
       " ('Anastacia', 'Ultimate Collection', 'Within You Without You', 5.066),\n",
       " ('Anthrax', 'Story', 'Against Widows', 4.04),\n",
       " ('Anthrax', 'Story', 'Balck Winter Day', 3.48),\n",
       " ('Christina', 'Endgame', 'Dialectic Chaos', 2.26),\n",
       " ('Christina', 'Endgame', 'Endgame', 5.57),\n",
       " ('Christina', 'Icon', 'Man to Man', 3.41),\n",
       " ('Christina', 'Icon', 'Watching Airplanes', 4.03),\n",
       " ('Eric Clapton', 'Chapters', 'Modern Girl', 4.49),\n",
       " ('Eric Clapton', 'Chapters', 'Reptile', 3.36),\n",
       " ('Eric Clapton', 'Riding with the King', 'Key to the Highway', 3.39),\n",
       " ('Eric Clapton', 'Riding with the King', 'Riding with the King', 4.23),\n",
       " ('Gary Allan', 'Pieces of a Dream', 'Im Outta Love', 4.02),\n",
       " ('Gary Allan', 'Pieces of a Dream', 'Not That Kind', 3.2),\n",
       " ('Lynyrd Skynyrd', 'All-Time Greatest Hits', 'Free Bird', 14.23),\n",
       " ('Lynyrd Skynyrd', 'All-Time Greatest Hits', 'Sweet Home Alabama', 4.45)]"
      ]
     },
     "execution_count": 152,
     "metadata": {},
     "output_type": "execute_result"
    }
   ],
   "source": [
    "%%sql\n",
    "select artist.name as Artist_Name , album.name as Album_Name ,Song.name as Song ,\n",
    "song.duration as Duration\n",
    "from ((album join artist on album.artist_id = artist.id) join song on song.album_id = album.id ) \n",
    "order by Artist_Name,Album_Name,Song ASC\n",
    "\n",
    "\n",
    "\n",
    "\n",
    "\n"
   ]
  },
  {
   "cell_type": "markdown",
   "metadata": {
    "id": "pppbznRF0_Rm"
   },
   "source": [
    "<b>18. Total album length for all songs on the Greatest hits album - in minutes and seconds</b>"
   ]
  },
  {
   "cell_type": "code",
   "execution_count": 6,
   "metadata": {
    "colab": {
     "base_uri": "https://localhost:8080/",
     "height": 97
    },
    "id": "HRx_LpAj0_Rn",
    "outputId": "af2d3619-524b-4c7f-c73f-d7e54160fad2"
   },
   "outputs": [
    {
     "name": "stdout",
     "output_type": "stream",
     "text": [
      " * sqlite:///cloud1.db\n",
      "Done.\n"
     ]
    },
    {
     "data": {
      "text/html": [
       "<table>\n",
       "    <tr>\n",
       "        <th>Album_Name</th>\n",
       "        <th>Mins</th>\n",
       "        <th>Secs</th>\n",
       "    </tr>\n",
       "    <tr>\n",
       "        <td>Greatest Hits</td>\n",
       "        <td>13</td>\n",
       "        <td>73</td>\n",
       "    </tr>\n",
       "</table>"
      ],
      "text/plain": [
       "[('Greatest Hits', '13', '73')]"
      ]
     },
     "execution_count": 6,
     "metadata": {},
     "output_type": "execute_result"
    }
   ],
   "source": [
    "%%sql\n",
    "    \n",
    "select album.name as Album_Name, SUBSTR(Sum(Song.duration), 0,3) as Mins,  SUBSTR(Sum(Song.duration), 4) as Secs \n",
    "from (song join album on song.album_id = album.id) where Album_name = 'Greatest Hits' group by album.name\n",
    "\n",
    "\n",
    "\n"
   ]
  },
  {
   "cell_type": "markdown",
   "metadata": {
    "id": "S0XJYx5U0_Rn"
   },
   "source": [
    "<b>19. Which artists did not release an album during the decades of the 1980's and the 1990's?</b>"
   ]
  },
  {
   "cell_type": "code",
   "execution_count": 11,
   "metadata": {
    "colab": {
     "base_uri": "https://localhost:8080/",
     "height": 225
    },
    "id": "OtWpmHtw0_Rn",
    "outputId": "1a73f8cf-e20e-410f-a574-54cc914ffaa3",
    "scrolled": false
   },
   "outputs": [
    {
     "name": "stdout",
     "output_type": "stream",
     "text": [
      " * sqlite:///cloud1.db\n",
      "Done.\n"
     ]
    },
    {
     "data": {
      "text/html": [
       "<table>\n",
       "    <tr>\n",
       "        <th>Artist_Name</th>\n",
       "    </tr>\n",
       "    <tr>\n",
       "        <td>Amorphis</td>\n",
       "    </tr>\n",
       "    <tr>\n",
       "        <td>Anastacia</td>\n",
       "    </tr>\n",
       "    <tr>\n",
       "        <td>Anthrax</td>\n",
       "    </tr>\n",
       "    <tr>\n",
       "        <td>Christina</td>\n",
       "    </tr>\n",
       "    <tr>\n",
       "        <td>Eric Clapton</td>\n",
       "    </tr>\n",
       "    <tr>\n",
       "        <td>Gary Allan</td>\n",
       "    </tr>\n",
       "    <tr>\n",
       "        <td>Lynyrd Skynyrd</td>\n",
       "    </tr>\n",
       "</table>"
      ],
      "text/plain": [
       "[('Amorphis',),\n",
       " ('Anastacia',),\n",
       " ('Anthrax',),\n",
       " ('Christina',),\n",
       " ('Eric Clapton',),\n",
       " ('Gary Allan',),\n",
       " ('Lynyrd Skynyrd',)]"
      ]
     },
     "execution_count": 11,
     "metadata": {},
     "output_type": "execute_result"
    }
   ],
   "source": [
    "%%sql\n",
    "select artist.name as Artist_Name from artist join album on album.artist_id = artist.id \n",
    "group by  artist.name having album.year Not Between 1980 and 1990\n",
    "\n",
    "\n",
    "\n",
    "\n"
   ]
  },
  {
   "cell_type": "markdown",
   "metadata": {
    "id": "KkW8ibGO0_Ro"
   },
   "source": [
    "<b>20. Which artists did release an album during the decades of the 1980's and the 1990's?</b>"
   ]
  },
  {
   "cell_type": "code",
   "execution_count": 10,
   "metadata": {
    "colab": {
     "base_uri": "https://localhost:8080/",
     "height": 118
    },
    "id": "2cAcYUNQ0_Ro",
    "outputId": "6d506923-227c-46c7-fb18-91a20f0e1226"
   },
   "outputs": [
    {
     "name": "stdout",
     "output_type": "stream",
     "text": [
      " * sqlite:///cloud1.db\n",
      "Done.\n"
     ]
    },
    {
     "data": {
      "text/html": [
       "<table>\n",
       "    <tr>\n",
       "        <th>Artist_Name</th>\n",
       "    </tr>\n",
       "    <tr>\n",
       "        <td>AC/DC</td>\n",
       "    </tr>\n",
       "    <tr>\n",
       "        <td>Aerosmith</td>\n",
       "    </tr>\n",
       "</table>"
      ],
      "text/plain": [
       "[('AC/DC',), ('Aerosmith',)]"
      ]
     },
     "execution_count": 10,
     "metadata": {},
     "output_type": "execute_result"
    }
   ],
   "source": [
    "%%sql\n",
    "\n",
    "select artist.name as Artist_Name from artist join album on album.artist_id = artist.id \n",
    "group by  artist.name having album.year Between 1980 and 1990\n",
    "\n",
    "\n",
    "\n",
    "\n",
    "\n"
   ]
  },
  {
   "cell_type": "markdown",
   "metadata": {
    "id": "cxv8O9Q_Ao8h"
   },
   "source": [
    "# **FEEDBACK FORM**\n",
    "\n",
    "https://docs.google.com/forms/d/e/1FAIpQLScnAaAKvph9R3vINyCtOOMiav-tSMsRGlJReMaHyPjsXDlTIA/viewform"
   ]
  }
 ],
 "metadata": {
  "colab": {
   "collapsed_sections": [],
   "name": "Join_queries_withoutcode.ipynb",
   "provenance": []
  },
  "kernelspec": {
   "display_name": "Python 3 (ipykernel)",
   "language": "python",
   "name": "python3"
  },
  "language_info": {
   "codemirror_mode": {
    "name": "ipython",
    "version": 3
   },
   "file_extension": ".py",
   "mimetype": "text/x-python",
   "name": "python",
   "nbconvert_exporter": "python",
   "pygments_lexer": "ipython3",
   "version": "3.9.12"
  }
 },
 "nbformat": 4,
 "nbformat_minor": 1
}
