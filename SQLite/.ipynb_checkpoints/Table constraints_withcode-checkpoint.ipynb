{
 "cells": [
  {
   "cell_type": "markdown",
   "metadata": {
    "id": "3oX6MvzyC71P"
   },
   "source": [
    "<h1><u><center>Table Constraints</h1></u></center>\n",
    "\n",
    "Constraints are the rules that we can apply on the type of data in a table. That is, we can specify the limit on the type of data that can be stored in a particular column in a table using constraints. \n",
    "\n",
    "![](https://cdn.educba.com/academy/wp-content/uploads/2019/10/SQL-Constraints.png)"
   ]
  },
  {
   "cell_type": "markdown",
   "metadata": {
    "id": "9sbOj4TBccTN"
   },
   "source": [
    "1. <b><u>NOT NULL:</b></u>\n",
    "\n",
    "This constraint tells that we cannot store a null value in a column. That is, if a column is specified as NOT NULL then we will not be able to store null in this particular column any more.\n",
    "\n",
    "Example:<br>\n",
    "CREATE TABLE Student<br>\n",
    "(<br>\n",
    "ID int(6) NOT NULL,<br>\n",
    "ADDRESS varchar(20)<br>\n",
    ");<br>"
   ]
  },
  {
   "cell_type": "markdown",
   "metadata": {
    "id": "DltVAWJOETyl"
   },
   "source": [
    "# `CHECK THIS FOR MORE EXAMPLES`: https://www.w3schools.com/sql/sql_notnull.asp"
   ]
  },
  {
   "cell_type": "markdown",
   "metadata": {
    "id": "-pmNVVD9ZEol"
   },
   "source": [
    "### **DATABASE CREATION AND CONNECTING IT**\n",
    "\n",
    "Run the cell given below for creating a database and connecting it.\n",
    "\n",
    "\n",
    "\n"
   ]
  },
  {
   "cell_type": "code",
   "execution_count": 1,
   "metadata": {
    "colab": {
     "base_uri": "https://localhost:8080/",
     "height": 35
    },
    "executionInfo": {
     "elapsed": 1002,
     "status": "ok",
     "timestamp": 1648608599697,
     "user": {
      "displayName": "Simran Surve",
      "userId": "08759634073497249150"
     },
     "user_tz": 420
    },
    "id": "-OjGcCwnTmvd",
    "outputId": "14ef8aa1-4ab4-43ef-c083-44bc93127079"
   },
   "outputs": [],
   "source": [
    "import pandas as pd\n",
    "import sqlite3\n",
    "sql=sqlite3.connect('table_constraints1.db')\n",
    "%reload_ext sql\n",
    "%sql sqlite:///table_constraints1.db"
   ]
  },
  {
   "cell_type": "markdown",
   "metadata": {
    "id": "KQYrCrVH_yXZ"
   },
   "source": [
    "# **`Let's Learn Constraints Now`**"
   ]
  },
  {
   "cell_type": "markdown",
   "metadata": {
    "id": "wuYggkv0djLQ"
   },
   "source": [
    "### 1. Create a table \"Students\" having columns like ID, Name, Class, DOB, etc. using the not null constraint on ID, Name and DOB Column."
   ]
  },
  {
   "cell_type": "code",
   "execution_count": 2,
   "metadata": {
    "colab": {
     "base_uri": "https://localhost:8080/"
    },
    "executionInfo": {
     "elapsed": 24,
     "status": "ok",
     "timestamp": 1648608600802,
     "user": {
      "displayName": "Simran Surve",
      "userId": "08759634073497249150"
     },
     "user_tz": 420
    },
    "id": "0XNh-_0vd3Ku",
    "outputId": "e0378259-bd18-4670-b17f-e10abf6b2a1f"
   },
   "outputs": [
    {
     "name": "stdout",
     "output_type": "stream",
     "text": [
      " * sqlite:///table_constraints1.db\n",
      "Done.\n"
     ]
    },
    {
     "data": {
      "text/plain": [
       "[]"
      ]
     },
     "execution_count": 2,
     "metadata": {},
     "output_type": "execute_result"
    }
   ],
   "source": [
    "%%sql\n",
    "Create table Students (\n",
    "    ID int(10) NOT NULL,\n",
    "    Name Varchar(20) NOT NULL,\n",
    "    Class varchar (20),\n",
    "    DOB DATE NOT NULL\n",
    ")"
   ]
  },
  {
   "cell_type": "markdown",
   "metadata": {
    "id": "18lnkzpKeffX"
   },
   "source": [
    "### 2. Add records in Students table with ID as NULL."
   ]
  },
  {
   "cell_type": "code",
   "execution_count": 3,
   "metadata": {
    "colab": {
     "base_uri": "https://localhost:8080/",
     "height": 571
    },
    "executionInfo": {
     "elapsed": 731,
     "status": "error",
     "timestamp": 1648608607844,
     "user": {
      "displayName": "Simran Surve",
      "userId": "08759634073497249150"
     },
     "user_tz": 420
    },
    "id": "99HdNzm6en69",
    "outputId": "a2825720-18ad-4c8a-8f86-17fd3ce3b462"
   },
   "outputs": [
    {
     "name": "stdout",
     "output_type": "stream",
     "text": [
      " * sqlite:///table_constraints1.db\n",
      "(sqlite3.IntegrityError) NOT NULL constraint failed: Students.ID\n",
      "[SQL: Insert into Students values (null , 'Deepan' , 'CSE' , 12-11-1994)]\n",
      "(Background on this error at: https://sqlalche.me/e/14/gkpj)\n"
     ]
    }
   ],
   "source": [
    "%%sql\n",
    "Insert into Students values (null , 'Deepan' , 'CSE' , 12-11-1994)"
   ]
  },
  {
   "cell_type": "markdown",
   "metadata": {
    "id": "FlBSui3wgCL3"
   },
   "source": [
    "Hence, you get the error as IntegrityError: (sqlite3.IntegrityError) NOT NULL constraint failed: students.ID\n",
    "\n",
    "### 3. Now add certain records in the students table."
   ]
  },
  {
   "cell_type": "code",
   "execution_count": 4,
   "metadata": {
    "colab": {
     "base_uri": "https://localhost:8080/"
    },
    "executionInfo": {
     "elapsed": 24,
     "status": "ok",
     "timestamp": 1648608608677,
     "user": {
      "displayName": "Simran Surve",
      "userId": "08759634073497249150"
     },
     "user_tz": 420
    },
    "id": "VXBbYb8ugRtt",
    "outputId": "de4ad15d-962e-4df9-fba5-355dcc057795"
   },
   "outputs": [
    {
     "name": "stdout",
     "output_type": "stream",
     "text": [
      " * sqlite:///table_constraints1.db\n",
      "3 rows affected.\n"
     ]
    },
    {
     "data": {
      "text/plain": [
       "[]"
      ]
     },
     "execution_count": 4,
     "metadata": {},
     "output_type": "execute_result"
    }
   ],
   "source": [
    "%%sql\n",
    "Insert into Students values (10001 , 'Deepan' , 'CSE' , 12-11-1994) , (10002 , 'Deepa' , 'CSE' , 22-09-1994), (10003 , 'Deepaika' , 'CSE' , 13-08-1995)"
   ]
  },
  {
   "cell_type": "markdown",
   "metadata": {
    "id": "Lpa4sv-Jg3qL"
   },
   "source": [
    "2. <b><u>UNIQUE:</b></u>\n",
    "\n",
    "This constraint helps to uniquely identify each row in the table. i.e. for a particular column, all the rows should have unique values.\n",
    "\n",
    "Example:<br>\n",
    "CREATE TABLE Student<br>\n",
    "(<br>\n",
    "ID int(6) NOT NULL UNIQUE,<br>\n",
    "NAME varchar(10),<br>\n",
    ");<br>"
   ]
  },
  {
   "cell_type": "markdown",
   "metadata": {
    "id": "OU6f3swME6p0"
   },
   "source": [
    "# `CHECK THIS FOR UNIQUE CONSTRAINT`: https://www.w3schools.com/sql/sql_unique.asp"
   ]
  },
  {
   "cell_type": "markdown",
   "metadata": {
    "id": "wBGvfCG1hVl_"
   },
   "source": [
    "### 4. Create a table Teachers having columns ID, Name, Salary, Address by applying the unique constraint on ID and Address Columns."
   ]
  },
  {
   "cell_type": "code",
   "execution_count": 5,
   "metadata": {
    "colab": {
     "base_uri": "https://localhost:8080/"
    },
    "executionInfo": {
     "elapsed": 24,
     "status": "ok",
     "timestamp": 1648608608679,
     "user": {
      "displayName": "Simran Surve",
      "userId": "08759634073497249150"
     },
     "user_tz": 420
    },
    "id": "I80F8dLghoz0",
    "outputId": "ed9a84b8-bc1e-4d59-88f1-0417392a1fc8"
   },
   "outputs": [
    {
     "name": "stdout",
     "output_type": "stream",
     "text": [
      " * sqlite:///table_constraints1.db\n",
      "Done.\n"
     ]
    },
    {
     "data": {
      "text/plain": [
       "[]"
      ]
     },
     "execution_count": 5,
     "metadata": {},
     "output_type": "execute_result"
    }
   ],
   "source": [
    "%%sql\n",
    "Create Table Teachers (\n",
    "    ID int(10) NOT NULL UNIQUE,\n",
    "    Name Varchar(20) NOT NULL,\n",
    "    Salary int (20),\n",
    "    Address NOT NULL UNIQUE\n",
    ")"
   ]
  },
  {
   "cell_type": "markdown",
   "metadata": {
    "id": "Py9UxUjch9Vb"
   },
   "source": [
    "### 5. Add any record in the teachers table having ID 001."
   ]
  },
  {
   "cell_type": "code",
   "execution_count": 16,
   "metadata": {
    "colab": {
     "base_uri": "https://localhost:8080/"
    },
    "executionInfo": {
     "elapsed": 21,
     "status": "ok",
     "timestamp": 1648608608680,
     "user": {
      "displayName": "Simran Surve",
      "userId": "08759634073497249150"
     },
     "user_tz": 420
    },
    "id": "EVLLQ71siF2v",
    "outputId": "f3c7567b-9005-4067-a75a-aabe3c8a46f3"
   },
   "outputs": [
    {
     "name": "stdout",
     "output_type": "stream",
     "text": [
      " * sqlite:///table_constraints1.db\n",
      "1 rows affected.\n"
     ]
    },
    {
     "data": {
      "text/plain": [
       "[]"
      ]
     },
     "execution_count": 16,
     "metadata": {},
     "output_type": "execute_result"
    }
   ],
   "source": [
    "%%sql\n",
    "Insert into Teachers values (1001 , 'Prasanna' , 29000 , 'Villupuram')"
   ]
  },
  {
   "cell_type": "markdown",
   "metadata": {
    "id": "9U6eV336iR6D"
   },
   "source": [
    "### 6. Add record having the same ID 001 in teachers table."
   ]
  },
  {
   "cell_type": "code",
   "execution_count": 17,
   "metadata": {
    "colab": {
     "base_uri": "https://localhost:8080/",
     "height": 571
    },
    "executionInfo": {
     "elapsed": 594,
     "status": "error",
     "timestamp": 1648608614118,
     "user": {
      "displayName": "Simran Surve",
      "userId": "08759634073497249150"
     },
     "user_tz": 420
    },
    "id": "Nwj-pnC8iXVV",
    "outputId": "d94451f0-0ab0-4279-a754-9b0e93ee07bf"
   },
   "outputs": [
    {
     "name": "stdout",
     "output_type": "stream",
     "text": [
      " * sqlite:///table_constraints1.db\n",
      "(sqlite3.IntegrityError) UNIQUE constraint failed: Teachers.ID\n",
      "[SQL: Insert into Teachers values (1001 , 'Agilam' , 29000 , 'Tanjore')]\n",
      "(Background on this error at: https://sqlalche.me/e/14/gkpj)\n"
     ]
    }
   ],
   "source": [
    "%%sql\n",
    "Insert into Teachers values (1001 , 'Agilam' , 29000 , 'Tanjore')"
   ]
  },
  {
   "cell_type": "markdown",
   "metadata": {
    "id": "DsBqa5WAie5B"
   },
   "source": [
    "Hence you get the error as IntegrityError: (sqlite3.IntegrityError) UNIQUE constraint failed: teachers.ID which means that non unique values are being inserted in the ID column of teachers table.\n"
   ]
  },
  {
   "cell_type": "markdown",
   "metadata": {
    "id": "BNzrRq0Hi85h"
   },
   "source": [
    "3. <b><u>PRIMARY KEY:</b></u>\n",
    "\n",
    "Primary Key is a field which uniquely identifies each row in the table. If a field in a table as primary key, then the field will not be able to contain NULL values as well as all the rows should have unique values for this field. So, in other words we can say that this is combination of NOT NULL and UNIQUE constraints. \n",
    "A table can have only one field as primary key. \n",
    "\n",
    "Example:<br>\n",
    "CREATE TABLE Student<br>\n",
    "(<br>\n",
    "ID int(6) NOT NULL UNIQUE,<br>\n",
    "NAME varchar(10),<br>\n",
    "PRIMARY KEY(ID)<br>\n",
    ");<br>"
   ]
  },
  {
   "cell_type": "markdown",
   "metadata": {
    "id": "_VrJ04dMFPT6"
   },
   "source": [
    "# `CHECK THIS FOR PRIMARY KEY`: https://www.w3schools.com/sql/sql_primarykey.ASP"
   ]
  },
  {
   "cell_type": "markdown",
   "metadata": {
    "id": "8iXN25G7jvL8"
   },
   "source": [
    "### 7. Create a table Employee having ID, Name, Salary, Designation and ID as the primary key."
   ]
  },
  {
   "cell_type": "code",
   "execution_count": 18,
   "metadata": {
    "colab": {
     "base_uri": "https://localhost:8080/"
    },
    "executionInfo": {
     "elapsed": 19,
     "status": "ok",
     "timestamp": 1648608614690,
     "user": {
      "displayName": "Simran Surve",
      "userId": "08759634073497249150"
     },
     "user_tz": 420
    },
    "id": "rkx8JDSEj52q",
    "outputId": "39ed66ea-3d91-4d90-af50-811fd8dd4aa7"
   },
   "outputs": [
    {
     "name": "stdout",
     "output_type": "stream",
     "text": [
      " * sqlite:///table_constraints1.db\n",
      "Done.\n"
     ]
    },
    {
     "data": {
      "text/plain": [
       "[]"
      ]
     },
     "execution_count": 18,
     "metadata": {},
     "output_type": "execute_result"
    }
   ],
   "source": [
    "%%sql\n",
    "CREATE TABLE Employee\n",
    "(\n",
    "ID int(6) NOT NULL UNIQUE,\n",
    "NAME varchar(10),\n",
    "Salary int(10), \n",
    "Designation varchar(20), \n",
    "PRIMARY KEY(ID)\n",
    ");"
   ]
  },
  {
   "cell_type": "markdown",
   "metadata": {
    "id": "TFpQ9zugkjGj"
   },
   "source": [
    "### 8. Insert any records in the Employee table."
   ]
  },
  {
   "cell_type": "code",
   "execution_count": 19,
   "metadata": {
    "colab": {
     "base_uri": "https://localhost:8080/"
    },
    "executionInfo": {
     "elapsed": 17,
     "status": "ok",
     "timestamp": 1648608614691,
     "user": {
      "displayName": "Simran Surve",
      "userId": "08759634073497249150"
     },
     "user_tz": 420
    },
    "id": "sJOWn-HOknO5",
    "outputId": "d065da8e-b723-4259-a970-631273af9f95"
   },
   "outputs": [
    {
     "name": "stdout",
     "output_type": "stream",
     "text": [
      " * sqlite:///table_constraints1.db\n",
      "3 rows affected.\n"
     ]
    },
    {
     "data": {
      "text/plain": [
       "[]"
      ]
     },
     "execution_count": 19,
     "metadata": {},
     "output_type": "execute_result"
    }
   ],
   "source": [
    "%%sql\n",
    "Insert into Employee values (501 , 'Prasanna' , 29000 , 'TL'),(502 , 'Agilan' , 29000 , 'TL'), \n",
    "(503 , 'Vijay' , 29000 , 'TL')"
   ]
  },
  {
   "cell_type": "markdown",
   "metadata": {
    "id": "b92Uejukk9SX"
   },
   "source": [
    "### 9. Try inserting null record in ID column."
   ]
  },
  {
   "cell_type": "code",
   "execution_count": 21,
   "metadata": {
    "colab": {
     "base_uri": "https://localhost:8080/",
     "height": 571
    },
    "executionInfo": {
     "elapsed": 598,
     "status": "error",
     "timestamp": 1648608623923,
     "user": {
      "displayName": "Simran Surve",
      "userId": "08759634073497249150"
     },
     "user_tz": 420
    },
    "id": "MbzeKON1lEog",
    "outputId": "8101afe7-ec10-489f-d4a4-02255e24d13b"
   },
   "outputs": [
    {
     "name": "stdout",
     "output_type": "stream",
     "text": [
      " * sqlite:///table_constraints1.db\n",
      "(sqlite3.IntegrityError) NOT NULL constraint failed: Employee.ID\n",
      "[SQL: Insert into Employee values (null , 'Tamil' , 29000 , 'TL')]\n",
      "(Background on this error at: https://sqlalche.me/e/14/gkpj)\n"
     ]
    }
   ],
   "source": [
    "%%sql\n",
    "Insert into Employee values (null , 'Tamil' , 29000 , 'TL')"
   ]
  },
  {
   "cell_type": "markdown",
   "metadata": {
    "id": "zuCIqYHrmJF2"
   },
   "source": [
    "Hence an error message popped up saying IntegrityError: (sqlite3.IntegrityError) NOT NULL constraint failed: employee.ID\n"
   ]
  },
  {
   "cell_type": "markdown",
   "metadata": {
    "id": "MfQjC0ButL_S"
   },
   "source": [
    "4. <b><u>FOREIGN KEY:</b></u>\n",
    "\n",
    "Foreign Key is a field in a table which uniquely identifies each row of a another table. That is, this field points to primary key of another table.\n",
    "\n",
    "\n"
   ]
  },
  {
   "cell_type": "markdown",
   "metadata": {
    "id": "ruaDNIlcFjb3"
   },
   "source": [
    "# `CHECK THIS FOR FOREIGN KEY`: https://www.w3schools.com/sql/sql_foreignkey.asp"
   ]
  },
  {
   "cell_type": "markdown",
   "metadata": {
    "id": "EGNnzYGbF3GF"
   },
   "source": [
    "### 10. Create a table teacher1 having various columns t_ID, Name, Subject, Salary and t_ID as Primary key."
   ]
  },
  {
   "cell_type": "code",
   "execution_count": 23,
   "metadata": {
    "colab": {
     "base_uri": "https://localhost:8080/"
    },
    "executionInfo": {
     "elapsed": 609,
     "status": "ok",
     "timestamp": 1648608636769,
     "user": {
      "displayName": "Simran Surve",
      "userId": "08759634073497249150"
     },
     "user_tz": 420
    },
    "id": "V7GAB9sAtv7q",
    "outputId": "79472e2a-4b47-413c-9d6d-77c71864bce1"
   },
   "outputs": [
    {
     "name": "stdout",
     "output_type": "stream",
     "text": [
      " * sqlite:///table_constraints1.db\n",
      "Done.\n"
     ]
    },
    {
     "data": {
      "text/plain": [
       "[]"
      ]
     },
     "execution_count": 23,
     "metadata": {},
     "output_type": "execute_result"
    }
   ],
   "source": [
    "%%sql\n",
    "Create Table Teachers1 (\n",
    "    t_ID int(10) NOT NULL UNIQUE,\n",
    "    Name Varchar(20) NOT NULL,\n",
    "    Sunbject Varchar(20) NOT NULL,\n",
    "    Salary int (20),\n",
    "    PRIMARY KEY(t_ID)\n",
    ")"
   ]
  },
  {
   "cell_type": "markdown",
   "metadata": {
    "id": "YwTjgt_Ku4if"
   },
   "source": [
    "### 11. Create a table students1 having columns s_ID, Name, class, t_ID and keep s_ID as Primary key."
   ]
  },
  {
   "cell_type": "code",
   "execution_count": 24,
   "metadata": {
    "colab": {
     "base_uri": "https://localhost:8080/"
    },
    "executionInfo": {
     "elapsed": 578,
     "status": "ok",
     "timestamp": 1648608757823,
     "user": {
      "displayName": "Simran Surve",
      "userId": "08759634073497249150"
     },
     "user_tz": 420
    },
    "id": "7RniVKR5u_fr",
    "outputId": "89198fa4-e74b-4888-9a87-942c759ee4bd"
   },
   "outputs": [
    {
     "name": "stdout",
     "output_type": "stream",
     "text": [
      " * sqlite:///table_constraints1.db\n",
      "Done.\n"
     ]
    },
    {
     "data": {
      "text/plain": [
       "[]"
      ]
     },
     "execution_count": 24,
     "metadata": {},
     "output_type": "execute_result"
    }
   ],
   "source": [
    "%%sql\n",
    "Create Table Students1 (\n",
    "    s_ID int(10) NOT NULL UNIQUE,\n",
    "    Name Varchar(20) NOT NULL,\n",
    "    Class Varchar(20) ,\n",
    "    t_ID int (20) NOT NULL,\n",
    "    PRIMARY KEY(s_ID)\n",
    ")"
   ]
  },
  {
   "cell_type": "markdown",
   "metadata": {
    "id": "5lVyqM9MvW9U"
   },
   "source": [
    "From the above tables we can observe that the teacher's ID is also a column in the students table. Hence teacher's ID is a foreign key in the students table as it is the primary key in the teachers table and has been referenced in students table."
   ]
  },
  {
   "cell_type": "markdown",
   "metadata": {
    "id": "-xP1SiqWwEkZ"
   },
   "source": [
    "5. <b><u>CHECK:</b></u>\n",
    "\n",
    "Using the CHECK constraint we can specify a condition for a field, which should be satisfied at the time of entering values for this field.\n",
    "\n",
    "Example:<br>\n",
    "CREATE TABLE Student<br>\n",
    "(<br>\n",
    "ID int(6) NOT NULL,<br>\n",
    "AGE int NOT NULL CHECK (AGE >= 18)<br>\n",
    ");"
   ]
  },
  {
   "cell_type": "markdown",
   "metadata": {
    "id": "40BsS2cZGBcQ"
   },
   "source": [
    "# `CHECK THIS FOR CHECK CONSTRAINT`: https://www.w3schools.com/sql/sql_check.asp"
   ]
  },
  {
   "cell_type": "markdown",
   "metadata": {
    "id": "M6eHqaacwjER"
   },
   "source": [
    "### 12. Create a table students2 having columns s_ID, Name, Marks. Use check constraint in marks column, restrict marks to 35."
   ]
  },
  {
   "cell_type": "code",
   "execution_count": 25,
   "metadata": {
    "colab": {
     "base_uri": "https://localhost:8080/"
    },
    "executionInfo": {
     "elapsed": 649,
     "status": "ok",
     "timestamp": 1648609246793,
     "user": {
      "displayName": "Simran Surve",
      "userId": "08759634073497249150"
     },
     "user_tz": 420
    },
    "id": "M-igrQRbw1ku",
    "outputId": "c435d709-f851-4dc0-9430-435dcca90858"
   },
   "outputs": [
    {
     "name": "stdout",
     "output_type": "stream",
     "text": [
      " * sqlite:///table_constraints1.db\n",
      "Done.\n"
     ]
    },
    {
     "data": {
      "text/plain": [
       "[]"
      ]
     },
     "execution_count": 25,
     "metadata": {},
     "output_type": "execute_result"
    }
   ],
   "source": [
    "%%sql\n",
    "Create Table Students2 (\n",
    "    s_ID int(10) NOT NULL UNIQUE,\n",
    "    Name Varchar(20) NOT NULL,\n",
    "    Marks int(5) NOT NULL check(Marks > 35),\n",
    "    PRIMARY KEY(s_ID)\n",
    ")"
   ]
  },
  {
   "cell_type": "markdown",
   "metadata": {
    "id": "if_FwnTKxMrr"
   },
   "source": [
    "Here we created a table that accepts values of marks column only whose value is greater than equal to 35. \n",
    "\n",
    "### 13. Insert record into the students2 table by violating the check constraint (enter 25 marks)."
   ]
  },
  {
   "cell_type": "code",
   "execution_count": 26,
   "metadata": {
    "colab": {
     "base_uri": "https://localhost:8080/",
     "height": 571
    },
    "executionInfo": {
     "elapsed": 959,
     "status": "error",
     "timestamp": 1648609376333,
     "user": {
      "displayName": "Simran Surve",
      "userId": "08759634073497249150"
     },
     "user_tz": 420
    },
    "id": "vsLUMTIPxfG3",
    "outputId": "55894867-362c-4dae-9670-e4d250f070a5"
   },
   "outputs": [
    {
     "name": "stdout",
     "output_type": "stream",
     "text": [
      " * sqlite:///table_constraints1.db\n",
      "(sqlite3.IntegrityError) CHECK constraint failed: Marks > 35\n",
      "[SQL: Insert into Students2 values (401 , 'Tamil' , 29 )]\n",
      "(Background on this error at: https://sqlalche.me/e/14/gkpj)\n"
     ]
    }
   ],
   "source": [
    "%%sql\n",
    "Insert into Students2 values (401 , 'Tamil' , 29 )"
   ]
  },
  {
   "cell_type": "markdown",
   "metadata": {
    "id": "v1BISio-xtH3"
   },
   "source": [
    "Hence you get ann error which says IntegrityError: (sqlite3.IntegrityError) CHECK constraint failed: students2 this means that the value passed in the marks column is not as specified in the check constraint.\n",
    "\n",
    "### 14. Insert correct records in the students2 table (having marks greater than 35).\n"
   ]
  },
  {
   "cell_type": "code",
   "execution_count": 28,
   "metadata": {
    "colab": {
     "base_uri": "https://localhost:8080/"
    },
    "executionInfo": {
     "elapsed": 727,
     "status": "ok",
     "timestamp": 1648609491682,
     "user": {
      "displayName": "Simran Surve",
      "userId": "08759634073497249150"
     },
     "user_tz": 420
    },
    "id": "tO_YGLLYx8eE",
    "outputId": "d3c5cee7-9d37-41fd-e4fa-675642fecfb6"
   },
   "outputs": [
    {
     "name": "stdout",
     "output_type": "stream",
     "text": [
      " * sqlite:///table_constraints1.db\n",
      "3 rows affected.\n"
     ]
    },
    {
     "data": {
      "text/plain": [
       "[]"
      ]
     },
     "execution_count": 28,
     "metadata": {},
     "output_type": "execute_result"
    }
   ],
   "source": [
    "%%sql\n",
    "Insert into Students2 values (401 , 'Tamil' , 99 ),(402 , 'Ramesh' , 76 ),(403, 'aravind' , 92 )"
   ]
  },
  {
   "cell_type": "markdown",
   "metadata": {
    "id": "sm9zyNUSyIjC"
   },
   "source": [
    "6. <b><u>DEFAULT</b></u>\n",
    "\n",
    "This constraint is used to provide a default value for the fields. \n",
    "\n",
    "\n",
    "Example:<br>\n",
    "CREATE TABLE Student<br>\n",
    "(<br>\n",
    "ID int(6) NOT NULL,<br>\n",
    "AGE int DEFAULT 18<br>\n",
    ");\n",
    "\n"
   ]
  },
  {
   "cell_type": "markdown",
   "metadata": {
    "id": "fw9qNfBcGILv"
   },
   "source": [
    "# `CHECK THIS FOR DEFAULT CONSTRAINT`: https://www.w3schools.com/sql/sql_check.asp"
   ]
  },
  {
   "cell_type": "markdown",
   "metadata": {
    "id": "FPuCdC16GRSM"
   },
   "source": [
    "### 15. Create a table customer having c_ID, Name, Country with default country name as \"India\"."
   ]
  },
  {
   "cell_type": "code",
   "execution_count": 47,
   "metadata": {
    "colab": {
     "base_uri": "https://localhost:8080/"
    },
    "executionInfo": {
     "elapsed": 612,
     "status": "ok",
     "timestamp": 1648609685927,
     "user": {
      "displayName": "Simran Surve",
      "userId": "08759634073497249150"
     },
     "user_tz": 420
    },
    "id": "1c_X9GR_yrNv",
    "outputId": "4db19ea9-5b83-4343-f0bd-64294adaf2f7"
   },
   "outputs": [
    {
     "name": "stdout",
     "output_type": "stream",
     "text": [
      " * sqlite:///table_constraints1.db\n",
      "Done.\n"
     ]
    },
    {
     "data": {
      "text/plain": [
       "[]"
      ]
     },
     "execution_count": 47,
     "metadata": {},
     "output_type": "execute_result"
    }
   ],
   "source": [
    "%%sql\n",
    "CREATE TABLE customer\n",
    "(\n",
    "c_ID int(6) NOT NULL,\n",
    "Name varchar(20) NOT NULL,\n",
    "Country varchar(20) DEFAULT 'India'\n",
    ");"
   ]
  },
  {
   "cell_type": "markdown",
   "metadata": {
    "id": "48Jy2nNky31w"
   },
   "source": [
    "### 16. Insert record in customer table leaving the country value empty and visualize the record using select statement."
   ]
  },
  {
   "cell_type": "code",
   "execution_count": 54,
   "metadata": {
    "colab": {
     "base_uri": "https://localhost:8080/"
    },
    "executionInfo": {
     "elapsed": 558,
     "status": "ok",
     "timestamp": 1648609844957,
     "user": {
      "displayName": "Simran Surve",
      "userId": "08759634073497249150"
     },
     "user_tz": 420
    },
    "id": "mp_GHEH1y-1U",
    "outputId": "1fae5951-874d-4f84-cb9b-837542935cd4"
   },
   "outputs": [
    {
     "name": "stdout",
     "output_type": "stream",
     "text": [
      " * sqlite:///table_constraints1.db\n",
      "1 rows affected.\n"
     ]
    },
    {
     "data": {
      "text/plain": [
       "[]"
      ]
     },
     "execution_count": 54,
     "metadata": {},
     "output_type": "execute_result"
    }
   ],
   "source": [
    "%%sql\n",
    "INSERT INTO customer (c_ID, Name) VALUES (1001,'Deepan')"
   ]
  },
  {
   "cell_type": "code",
   "execution_count": 58,
   "metadata": {
    "colab": {
     "base_uri": "https://localhost:8080/",
     "height": 96
    },
    "executionInfo": {
     "elapsed": 548,
     "status": "ok",
     "timestamp": 1648609922488,
     "user": {
      "displayName": "Simran Surve",
      "userId": "08759634073497249150"
     },
     "user_tz": 420
    },
    "id": "iuSYYl_QzHQl",
    "outputId": "6ecd20e2-0833-48ca-ce30-666edd0cbe7b"
   },
   "outputs": [
    {
     "name": "stdout",
     "output_type": "stream",
     "text": [
      " * sqlite:///table_constraints1.db\n",
      "Done.\n"
     ]
    },
    {
     "data": {
      "text/html": [
       "<table>\n",
       "    <tr>\n",
       "        <th>c_ID</th>\n",
       "        <th>Name</th>\n",
       "        <th>Country</th>\n",
       "    </tr>\n",
       "    <tr>\n",
       "        <td>1001</td>\n",
       "        <td>Deepan</td>\n",
       "        <td>India</td>\n",
       "    </tr>\n",
       "</table>"
      ],
      "text/plain": [
       "[(1001, 'Deepan', 'India')]"
      ]
     },
     "execution_count": 58,
     "metadata": {},
     "output_type": "execute_result"
    }
   ],
   "source": [
    "%%sql\n",
    "select * from customer"
   ]
  },
  {
   "cell_type": "markdown",
   "metadata": {
    "id": "Vou254IIzyGX"
   },
   "source": [
    "Hence yoy can see that even when the country name is not inserted in the query, it is by default added to the table."
   ]
  },
  {
   "cell_type": "markdown",
   "metadata": {
    "id": "2_J_ePCr2vQM"
   },
   "source": [
    "<b>Congratulations !! You Have Just completed an assignment!!</b>\n",
    "\n",
    "![](https://sayingimages.com/wp-content/uploads/a-man-like-a-gay-congratulations-meme.jpg)\n",
    "\n",
    "# **FEEDBACK FORM**\n",
    "\n",
    "https://docs.google.com/forms/d/e/1FAIpQLScnAaAKvph9R3vINyCtOOMiav-tSMsRGlJReMaHyPjsXDlTIA/viewform"
   ]
  }
 ],
 "metadata": {
  "colab": {
   "collapsed_sections": [],
   "name": "Table constraints_withoutcode.ipynb",
   "provenance": [
    {
     "file_id": "14Akm7h2LQS4_c5PkJJTtoQDe-F9Udi32",
     "timestamp": 1648656158479
    },
    {
     "file_id": "1dKP-giflW1GpKoOIkQsSu4s-iOb5SbHf",
     "timestamp": 1648536310402
    }
   ]
  },
  "kernelspec": {
   "display_name": "Python 3 (ipykernel)",
   "language": "python",
   "name": "python3"
  },
  "language_info": {
   "codemirror_mode": {
    "name": "ipython",
    "version": 3
   },
   "file_extension": ".py",
   "mimetype": "text/x-python",
   "name": "python",
   "nbconvert_exporter": "python",
   "pygments_lexer": "ipython3",
   "version": "3.9.12"
  }
 },
 "nbformat": 4,
 "nbformat_minor": 1
}
