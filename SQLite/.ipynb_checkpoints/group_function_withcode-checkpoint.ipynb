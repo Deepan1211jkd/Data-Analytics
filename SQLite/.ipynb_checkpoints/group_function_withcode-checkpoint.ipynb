{
 "cells": [
  {
   "cell_type": "markdown",
   "metadata": {
    "id": "xmbsPpLxxGY0"
   },
   "source": [
    "![](https://assets.datacamp.com/production/course_13367/shields/original/shield_image_course_13367_20200118-1-cwkw1p?1579372751)"
   ]
  },
  {
   "cell_type": "markdown",
   "metadata": {
    "id": "fam7BuNN0QsQ"
   },
   "source": [
    "### **DATABASE CREATION AND CONNECTING IT**\n",
    "\n",
    "#### **Just run next 4 cells**"
   ]
  },
  {
   "cell_type": "code",
   "execution_count": 1,
   "metadata": {
    "id": "m42emBW7NthI"
   },
   "outputs": [],
   "source": [
    "## JUST RUN THIS CELL\n",
    "import sqlite3\n",
    "import pandas as pd "
   ]
  },
  {
   "cell_type": "code",
   "execution_count": 2,
   "metadata": {
    "id": "5xFR29ou5Gop"
   },
   "outputs": [],
   "source": [
    "# run this to create and connect to database\n",
    "connection = sqlite3.connect('cloud.db')"
   ]
  },
  {
   "cell_type": "code",
   "execution_count": 3,
   "metadata": {
    "id": "KKgQq_M55Mps"
   },
   "outputs": [],
   "source": [
    "# load sql extension\n",
    "%load_ext sql"
   ]
  },
  {
   "cell_type": "code",
   "execution_count": 4,
   "metadata": {
    "colab": {
     "base_uri": "https://localhost:8080/",
     "height": 35
    },
    "id": "2UZHerXV5SBY",
    "outputId": "1738b076-c5e1-42eb-8685-dd0832e3d7ab"
   },
   "outputs": [],
   "source": [
    "# connecting to cloud.db\n",
    "%sql sqlite:///cloud.db"
   ]
  },
  {
   "cell_type": "markdown",
   "metadata": {
    "id": "xHqwsjIlNthR"
   },
   "source": [
    "## **NOW WE WILL CREATE TABLES AND INSERT DATA**"
   ]
  },
  {
   "cell_type": "markdown",
   "metadata": {
    "id": "tAFTMWVhx1dF"
   },
   "source": [
    "##### **RUN NEXT 6 CELLS TO CREATE TABLE AND INSERT DATA**"
   ]
  },
  {
   "cell_type": "code",
   "execution_count": 5,
   "metadata": {
    "colab": {
     "base_uri": "https://localhost:8080/"
    },
    "id": "-PngdY0E5s3l",
    "outputId": "ec8a545b-dd18-4bc0-a236-226a24a9c14b"
   },
   "outputs": [
    {
     "name": "stdout",
     "output_type": "stream",
     "text": [
      " * sqlite:///cloud.db\n",
      "Done.\n"
     ]
    },
    {
     "data": {
      "text/plain": [
       "[]"
      ]
     },
     "execution_count": 5,
     "metadata": {},
     "output_type": "execute_result"
    }
   ],
   "source": [
    "%%sql\n",
    "\n",
    "CREATE table pieces (Code int(16), Name varchar(25))"
   ]
  },
  {
   "cell_type": "code",
   "execution_count": 6,
   "metadata": {
    "colab": {
     "base_uri": "https://localhost:8080/"
    },
    "id": "AlwpNjpy6WAD",
    "outputId": "532ce0f7-5ab4-4998-ec96-e506d951a521"
   },
   "outputs": [
    {
     "name": "stdout",
     "output_type": "stream",
     "text": [
      " * sqlite:///cloud.db\n",
      "9 rows affected.\n"
     ]
    },
    {
     "data": {
      "text/plain": [
       "[]"
      ]
     },
     "execution_count": 6,
     "metadata": {},
     "output_type": "execute_result"
    }
   ],
   "source": [
    "%%sql\n",
    "\n",
    "INSERT INTO pieces (Code, Name) VALUES(1, 'Sprocket'), (2, 'Screw'), (3, 'Nut'), (4, 'Bolt'), (5, 'Bat'), (6, 'Ball'), (7, 'Wood'), (8, 'Bed'), (9, 'Plate')"
   ]
  },
  {
   "cell_type": "code",
   "execution_count": 7,
   "metadata": {
    "colab": {
     "base_uri": "https://localhost:8080/"
    },
    "id": "36fYdj0PdwgB",
    "outputId": "227f6b7d-da72-4189-b3d4-593b75673436"
   },
   "outputs": [
    {
     "name": "stdout",
     "output_type": "stream",
     "text": [
      " * sqlite:///cloud.db\n",
      "Done.\n"
     ]
    },
    {
     "data": {
      "text/plain": [
       "[]"
      ]
     },
     "execution_count": 7,
     "metadata": {},
     "output_type": "execute_result"
    }
   ],
   "source": [
    "%%sql\n",
    "\n",
    "CREATE table providers (Code varchar(10), Name varchar(50))"
   ]
  },
  {
   "cell_type": "code",
   "execution_count": 8,
   "metadata": {
    "colab": {
     "base_uri": "https://localhost:8080/"
    },
    "id": "Clcu4MCJd9Mw",
    "outputId": "a439bd02-1a31-457d-99c1-575c9bce9afe"
   },
   "outputs": [
    {
     "name": "stdout",
     "output_type": "stream",
     "text": [
      " * sqlite:///cloud.db\n",
      "5 rows affected.\n"
     ]
    },
    {
     "data": {
      "text/plain": [
       "[]"
      ]
     },
     "execution_count": 8,
     "metadata": {},
     "output_type": "execute_result"
    }
   ],
   "source": [
    "%%sql\n",
    "\n",
    "INSERT INTO providers (Code, Name) VALUES('HAL', 'Clarke Enterprises'), ('RBT', 'Susan Calvin Corp.'),\n",
    " ('SNBC', 'Bellington Supplies'), ('TNBC', 'Skellington Supplies'), ('TNPSC', 'Tellington Supplies')"
   ]
  },
  {
   "cell_type": "code",
   "execution_count": 9,
   "metadata": {
    "colab": {
     "base_uri": "https://localhost:8080/"
    },
    "id": "IUVfifK9eu_Z",
    "outputId": "8eaa3acb-3003-4165-84b8-6b383e5ab30c"
   },
   "outputs": [
    {
     "name": "stdout",
     "output_type": "stream",
     "text": [
      " * sqlite:///cloud.db\n",
      "Done.\n"
     ]
    },
    {
     "data": {
      "text/plain": [
       "[]"
      ]
     },
     "execution_count": 9,
     "metadata": {},
     "output_type": "execute_result"
    }
   ],
   "source": [
    "%%sql\n",
    "\n",
    "CREATE table provides (Piece int, Provider varchar(25), Price int)"
   ]
  },
  {
   "cell_type": "code",
   "execution_count": 10,
   "metadata": {
    "colab": {
     "base_uri": "https://localhost:8080/"
    },
    "id": "WDZj7jb6fdwl",
    "outputId": "148dbdab-3639-4680-a76f-40cb26ad4491"
   },
   "outputs": [
    {
     "name": "stdout",
     "output_type": "stream",
     "text": [
      " * sqlite:///cloud.db\n",
      "9 rows affected.\n"
     ]
    },
    {
     "data": {
      "text/plain": [
       "[]"
      ]
     },
     "execution_count": 10,
     "metadata": {},
     "output_type": "execute_result"
    }
   ],
   "source": [
    "%%sql\n",
    "\n",
    "INSERT INTO provides (Piece, Provider, Price) VALUES(1, 'HAL', 10), (1, 'RBT', 15), (2, 'HAL', 20),\n",
    " (2, 'RBT', 15), (2, 'TNBC', 14), (3, 'RBT', 50), (3, 'SNBC', 45), (4, 'HAL', 5), (4, 'TNPSC', 7)"
   ]
  },
  {
   "cell_type": "markdown",
   "metadata": {
    "id": "A4op-_oI0d6Z"
   },
   "source": [
    "#### **YOUR TASK STARTS FROM HERE**"
   ]
  },
  {
   "cell_type": "markdown",
   "metadata": {
    "id": "xwDCNz531QFr"
   },
   "source": [
    "##### **NOTE** - Do not remove magic command %%sql as it will throw error without it."
   ]
  },
  {
   "cell_type": "markdown",
   "metadata": {
    "id": "YJMrGBkENthS"
   },
   "source": [
    "<b>1. display the  table \"pieces\" </b>."
   ]
  },
  {
   "cell_type": "code",
   "execution_count": 11,
   "metadata": {
    "colab": {
     "base_uri": "https://localhost:8080/",
     "height": 263
    },
    "id": "xb2lZK-Q7qKt",
    "outputId": "716ea6a7-96a2-4ebf-b790-7f8afa3f3478"
   },
   "outputs": [
    {
     "name": "stdout",
     "output_type": "stream",
     "text": [
      " * sqlite:///cloud.db\n",
      "Done.\n"
     ]
    },
    {
     "data": {
      "text/html": [
       "<table>\n",
       "    <tr>\n",
       "        <th>Code</th>\n",
       "        <th>Name</th>\n",
       "    </tr>\n",
       "    <tr>\n",
       "        <td>1</td>\n",
       "        <td>Sprocket</td>\n",
       "    </tr>\n",
       "    <tr>\n",
       "        <td>2</td>\n",
       "        <td>Screw</td>\n",
       "    </tr>\n",
       "    <tr>\n",
       "        <td>3</td>\n",
       "        <td>Nut</td>\n",
       "    </tr>\n",
       "    <tr>\n",
       "        <td>4</td>\n",
       "        <td>Bolt</td>\n",
       "    </tr>\n",
       "    <tr>\n",
       "        <td>5</td>\n",
       "        <td>Bat</td>\n",
       "    </tr>\n",
       "    <tr>\n",
       "        <td>6</td>\n",
       "        <td>Ball</td>\n",
       "    </tr>\n",
       "    <tr>\n",
       "        <td>7</td>\n",
       "        <td>Wood</td>\n",
       "    </tr>\n",
       "    <tr>\n",
       "        <td>8</td>\n",
       "        <td>Bed</td>\n",
       "    </tr>\n",
       "    <tr>\n",
       "        <td>9</td>\n",
       "        <td>Plate</td>\n",
       "    </tr>\n",
       "</table>"
      ],
      "text/plain": [
       "[(1, 'Sprocket'),\n",
       " (2, 'Screw'),\n",
       " (3, 'Nut'),\n",
       " (4, 'Bolt'),\n",
       " (5, 'Bat'),\n",
       " (6, 'Ball'),\n",
       " (7, 'Wood'),\n",
       " (8, 'Bed'),\n",
       " (9, 'Plate')]"
      ]
     },
     "execution_count": 11,
     "metadata": {},
     "output_type": "execute_result"
    }
   ],
   "source": [
    "%%sql\n",
    "select * from pieces\n",
    "\n"
   ]
  },
  {
   "cell_type": "markdown",
   "metadata": {
    "id": "QZRlGWvvNthT"
   },
   "source": [
    "<b>2.display the table \"providers\"</b>"
   ]
  },
  {
   "cell_type": "code",
   "execution_count": 12,
   "metadata": {
    "colab": {
     "base_uri": "https://localhost:8080/",
     "height": 179
    },
    "id": "5xsGMM-VNthT",
    "outputId": "284b2dc5-23b3-41f2-cd33-d94071b832fa"
   },
   "outputs": [
    {
     "name": "stdout",
     "output_type": "stream",
     "text": [
      " * sqlite:///cloud.db\n",
      "Done.\n"
     ]
    },
    {
     "data": {
      "text/html": [
       "<table>\n",
       "    <tr>\n",
       "        <th>Code</th>\n",
       "        <th>Name</th>\n",
       "    </tr>\n",
       "    <tr>\n",
       "        <td>HAL</td>\n",
       "        <td>Clarke Enterprises</td>\n",
       "    </tr>\n",
       "    <tr>\n",
       "        <td>RBT</td>\n",
       "        <td>Susan Calvin Corp.</td>\n",
       "    </tr>\n",
       "    <tr>\n",
       "        <td>SNBC</td>\n",
       "        <td>Bellington Supplies</td>\n",
       "    </tr>\n",
       "    <tr>\n",
       "        <td>TNBC</td>\n",
       "        <td>Skellington Supplies</td>\n",
       "    </tr>\n",
       "    <tr>\n",
       "        <td>TNPSC</td>\n",
       "        <td>Tellington Supplies</td>\n",
       "    </tr>\n",
       "</table>"
      ],
      "text/plain": [
       "[('HAL', 'Clarke Enterprises'),\n",
       " ('RBT', 'Susan Calvin Corp.'),\n",
       " ('SNBC', 'Bellington Supplies'),\n",
       " ('TNBC', 'Skellington Supplies'),\n",
       " ('TNPSC', 'Tellington Supplies')]"
      ]
     },
     "execution_count": 12,
     "metadata": {},
     "output_type": "execute_result"
    }
   ],
   "source": [
    "%%sql\n",
    "select * from providers\n",
    "\n"
   ]
  },
  {
   "cell_type": "markdown",
   "metadata": {
    "id": "X5eL_pMVNthU"
   },
   "source": [
    "<b>3.diplay the table \"provides\"</b>"
   ]
  },
  {
   "cell_type": "code",
   "execution_count": 13,
   "metadata": {
    "colab": {
     "base_uri": "https://localhost:8080/",
     "height": 263
    },
    "id": "To937puMNthU",
    "outputId": "851cb69f-5976-469a-8b8e-2263f9ecfa33"
   },
   "outputs": [
    {
     "name": "stdout",
     "output_type": "stream",
     "text": [
      " * sqlite:///cloud.db\n",
      "Done.\n"
     ]
    },
    {
     "data": {
      "text/html": [
       "<table>\n",
       "    <tr>\n",
       "        <th>Piece</th>\n",
       "        <th>Provider</th>\n",
       "        <th>Price</th>\n",
       "    </tr>\n",
       "    <tr>\n",
       "        <td>1</td>\n",
       "        <td>HAL</td>\n",
       "        <td>10</td>\n",
       "    </tr>\n",
       "    <tr>\n",
       "        <td>1</td>\n",
       "        <td>RBT</td>\n",
       "        <td>15</td>\n",
       "    </tr>\n",
       "    <tr>\n",
       "        <td>2</td>\n",
       "        <td>HAL</td>\n",
       "        <td>20</td>\n",
       "    </tr>\n",
       "    <tr>\n",
       "        <td>2</td>\n",
       "        <td>RBT</td>\n",
       "        <td>15</td>\n",
       "    </tr>\n",
       "    <tr>\n",
       "        <td>2</td>\n",
       "        <td>TNBC</td>\n",
       "        <td>14</td>\n",
       "    </tr>\n",
       "    <tr>\n",
       "        <td>3</td>\n",
       "        <td>RBT</td>\n",
       "        <td>50</td>\n",
       "    </tr>\n",
       "    <tr>\n",
       "        <td>3</td>\n",
       "        <td>SNBC</td>\n",
       "        <td>45</td>\n",
       "    </tr>\n",
       "    <tr>\n",
       "        <td>4</td>\n",
       "        <td>HAL</td>\n",
       "        <td>5</td>\n",
       "    </tr>\n",
       "    <tr>\n",
       "        <td>4</td>\n",
       "        <td>TNPSC</td>\n",
       "        <td>7</td>\n",
       "    </tr>\n",
       "</table>"
      ],
      "text/plain": [
       "[(1, 'HAL', 10),\n",
       " (1, 'RBT', 15),\n",
       " (2, 'HAL', 20),\n",
       " (2, 'RBT', 15),\n",
       " (2, 'TNBC', 14),\n",
       " (3, 'RBT', 50),\n",
       " (3, 'SNBC', 45),\n",
       " (4, 'HAL', 5),\n",
       " (4, 'TNPSC', 7)]"
      ]
     },
     "execution_count": 13,
     "metadata": {},
     "output_type": "execute_result"
    }
   ],
   "source": [
    "%%sql\n",
    "select * from provides\n",
    "\n"
   ]
  },
  {
   "cell_type": "markdown",
   "metadata": {
    "id": "nsLd3YVrNthU"
   },
   "source": [
    "<b>4. select the name of all the pieces</b>"
   ]
  },
  {
   "cell_type": "code",
   "execution_count": 14,
   "metadata": {
    "colab": {
     "base_uri": "https://localhost:8080/",
     "height": 263
    },
    "id": "Xib4NsAjNthU",
    "outputId": "5be5f27b-4ecb-4d32-e6f7-e1130f419ecb",
    "scrolled": true
   },
   "outputs": [
    {
     "name": "stdout",
     "output_type": "stream",
     "text": [
      " * sqlite:///cloud.db\n",
      "Done.\n"
     ]
    },
    {
     "data": {
      "text/html": [
       "<table>\n",
       "    <tr>\n",
       "        <th>Name</th>\n",
       "    </tr>\n",
       "    <tr>\n",
       "        <td>Sprocket</td>\n",
       "    </tr>\n",
       "    <tr>\n",
       "        <td>Screw</td>\n",
       "    </tr>\n",
       "    <tr>\n",
       "        <td>Nut</td>\n",
       "    </tr>\n",
       "    <tr>\n",
       "        <td>Bolt</td>\n",
       "    </tr>\n",
       "    <tr>\n",
       "        <td>Bat</td>\n",
       "    </tr>\n",
       "    <tr>\n",
       "        <td>Ball</td>\n",
       "    </tr>\n",
       "    <tr>\n",
       "        <td>Wood</td>\n",
       "    </tr>\n",
       "    <tr>\n",
       "        <td>Bed</td>\n",
       "    </tr>\n",
       "    <tr>\n",
       "        <td>Plate</td>\n",
       "    </tr>\n",
       "</table>"
      ],
      "text/plain": [
       "[('Sprocket',),\n",
       " ('Screw',),\n",
       " ('Nut',),\n",
       " ('Bolt',),\n",
       " ('Bat',),\n",
       " ('Ball',),\n",
       " ('Wood',),\n",
       " ('Bed',),\n",
       " ('Plate',)]"
      ]
     },
     "execution_count": 14,
     "metadata": {},
     "output_type": "execute_result"
    }
   ],
   "source": [
    "%%sql\n",
    "select name from pieces\n",
    "\n"
   ]
  },
  {
   "cell_type": "markdown",
   "metadata": {
    "id": "NIYcfMcVNthU"
   },
   "source": [
    "<b>5.Obtain the average price of each piece (show only the piece code and the average price)</b>"
   ]
  },
  {
   "cell_type": "markdown",
   "metadata": {
    "id": "zepqLIe1VlWs"
   },
   "source": [
    "#### **`Check this to see about avg keyword`**-https://www.w3schools.com/sql/sql_count_avg_sum.asp"
   ]
  },
  {
   "cell_type": "code",
   "execution_count": 15,
   "metadata": {
    "colab": {
     "base_uri": "https://localhost:8080/",
     "height": 158
    },
    "id": "OPn-1VclNthV",
    "outputId": "0b1346e8-21ea-4430-8f7f-f1101d1c061f"
   },
   "outputs": [
    {
     "name": "stdout",
     "output_type": "stream",
     "text": [
      " * sqlite:///cloud.db\n",
      "Done.\n"
     ]
    },
    {
     "data": {
      "text/html": [
       "<table>\n",
       "    <tr>\n",
       "        <th>Piece</th>\n",
       "        <th>Avg_Price</th>\n",
       "    </tr>\n",
       "    <tr>\n",
       "        <td>1</td>\n",
       "        <td>12.5</td>\n",
       "    </tr>\n",
       "    <tr>\n",
       "        <td>2</td>\n",
       "        <td>16.333333333333332</td>\n",
       "    </tr>\n",
       "    <tr>\n",
       "        <td>3</td>\n",
       "        <td>47.5</td>\n",
       "    </tr>\n",
       "    <tr>\n",
       "        <td>4</td>\n",
       "        <td>6.0</td>\n",
       "    </tr>\n",
       "</table>"
      ],
      "text/plain": [
       "[(1, 12.5), (2, 16.333333333333332), (3, 47.5), (4, 6.0)]"
      ]
     },
     "execution_count": 15,
     "metadata": {},
     "output_type": "execute_result"
    }
   ],
   "source": [
    "%%sql\n",
    "select Piece , avg(Price) as Avg_Price from provides group by Piece\n",
    "\n"
   ]
  },
  {
   "cell_type": "markdown",
   "metadata": {
    "id": "L8i_Bq5UNthV"
   },
   "source": [
    "<b>6. Obtain the names of all providers who supply piece=1\n",
    "    \n",
    "  (i)using subquery</b>"
   ]
  },
  {
   "cell_type": "markdown",
   "metadata": {
    "id": "loyDzjhHlB4m"
   },
   "source": [
    "#### **`Check this for subquery in sql :`** https://www.w3resource.com/sql/subqueries/understanding-sql-subqueries.php"
   ]
  },
  {
   "cell_type": "code",
   "execution_count": 18,
   "metadata": {
    "colab": {
     "base_uri": "https://localhost:8080/",
     "height": 116
    },
    "id": "5InNnFzJNthV",
    "outputId": "f2bfacb5-089c-4864-d996-3d5fe68546e5"
   },
   "outputs": [
    {
     "name": "stdout",
     "output_type": "stream",
     "text": [
      " * sqlite:///cloud.db\n",
      "Done.\n"
     ]
    },
    {
     "data": {
      "text/html": [
       "<table>\n",
       "    <tr>\n",
       "        <th>Name</th>\n",
       "    </tr>\n",
       "    <tr>\n",
       "        <td>Clarke Enterprises</td>\n",
       "    </tr>\n",
       "    <tr>\n",
       "        <td>Susan Calvin Corp.</td>\n",
       "    </tr>\n",
       "</table>"
      ],
      "text/plain": [
       "[('Clarke Enterprises',), ('Susan Calvin Corp.',)]"
      ]
     },
     "execution_count": 18,
     "metadata": {},
     "output_type": "execute_result"
    }
   ],
   "source": [
    "%%sql\n",
    "\n",
    "select providers.name as Name from providers, provides where providers.code = provides.provider AND provides.piece = (select piece from provides where piece =1) \n"
   ]
  },
  {
   "cell_type": "markdown",
   "metadata": {
    "id": "gMiF38tMNthV"
   },
   "source": [
    "<b>\n",
    "\n",
    "(ii) without using subquery</b>"
   ]
  },
  {
   "cell_type": "code",
   "execution_count": 19,
   "metadata": {
    "colab": {
     "base_uri": "https://localhost:8080/",
     "height": 116
    },
    "id": "YCGdeJm2NthV",
    "outputId": "e3b6196e-4e8d-4249-99cb-62d1f6a6ad52"
   },
   "outputs": [
    {
     "name": "stdout",
     "output_type": "stream",
     "text": [
      " * sqlite:///cloud.db\n",
      "Done.\n"
     ]
    },
    {
     "data": {
      "text/html": [
       "<table>\n",
       "    <tr>\n",
       "        <th>Name</th>\n",
       "    </tr>\n",
       "    <tr>\n",
       "        <td>Clarke Enterprises</td>\n",
       "    </tr>\n",
       "    <tr>\n",
       "        <td>Susan Calvin Corp.</td>\n",
       "    </tr>\n",
       "</table>"
      ],
      "text/plain": [
       "[('Clarke Enterprises',), ('Susan Calvin Corp.',)]"
      ]
     },
     "execution_count": 19,
     "metadata": {},
     "output_type": "execute_result"
    }
   ],
   "source": [
    "%%sql\n",
    "select providers.name as Name from providers, provides where providers.code = provides.provider AND provides.piece = 1\n",
    "\n",
    "\n"
   ]
  },
  {
   "cell_type": "markdown",
   "metadata": {
    "id": "3N5BPzWhNthW"
   },
   "source": [
    "<b>7. Select the name of pieces provided by provider with code \"HAL\"\n",
    "    \n",
    "      (i) without using exists"
   ]
  },
  {
   "cell_type": "code",
   "execution_count": 21,
   "metadata": {
    "colab": {
     "base_uri": "https://localhost:8080/",
     "height": 137
    },
    "id": "DJ81q8gMNthW",
    "outputId": "7876ef5b-dbd8-4fa3-db86-99cc882c3173",
    "scrolled": true
   },
   "outputs": [
    {
     "name": "stdout",
     "output_type": "stream",
     "text": [
      " * sqlite:///cloud.db\n",
      "Done.\n"
     ]
    },
    {
     "data": {
      "text/html": [
       "<table>\n",
       "    <tr>\n",
       "        <th>Name</th>\n",
       "    </tr>\n",
       "    <tr>\n",
       "        <td>Sprocket</td>\n",
       "    </tr>\n",
       "    <tr>\n",
       "        <td>Screw</td>\n",
       "    </tr>\n",
       "    <tr>\n",
       "        <td>Bolt</td>\n",
       "    </tr>\n",
       "</table>"
      ],
      "text/plain": [
       "[('Sprocket',), ('Screw',), ('Bolt',)]"
      ]
     },
     "execution_count": 21,
     "metadata": {},
     "output_type": "execute_result"
    }
   ],
   "source": [
    "%%sql\n",
    "select p.name as Name from pieces p , provides pr where p.code = pr.piece AND pr.provider = 'HAL'\n",
    "\n",
    "\n"
   ]
  },
  {
   "cell_type": "markdown",
   "metadata": {
    "id": "qGiDJ9fKNthW"
   },
   "source": [
    "<b> (ii) using 'exists'</b>"
   ]
  },
  {
   "cell_type": "markdown",
   "metadata": {
    "id": "MeXvOgNglKbd"
   },
   "source": [
    "#### **`Check this for exists operator:`** https://www.w3schools.com/sql/sql_exists.asp"
   ]
  },
  {
   "cell_type": "code",
   "execution_count": 22,
   "metadata": {
    "colab": {
     "base_uri": "https://localhost:8080/",
     "height": 137
    },
    "id": "cSFNdWGtNthW",
    "outputId": "92899dde-3158-43fd-e403-6d8826869f17",
    "scrolled": true
   },
   "outputs": [
    {
     "name": "stdout",
     "output_type": "stream",
     "text": [
      " * sqlite:///cloud.db\n",
      "Done.\n"
     ]
    },
    {
     "data": {
      "text/html": [
       "<table>\n",
       "    <tr>\n",
       "        <th>Name</th>\n",
       "    </tr>\n",
       "    <tr>\n",
       "        <td>Sprocket</td>\n",
       "    </tr>\n",
       "    <tr>\n",
       "        <td>Screw</td>\n",
       "    </tr>\n",
       "    <tr>\n",
       "        <td>Bolt</td>\n",
       "    </tr>\n",
       "</table>"
      ],
      "text/plain": [
       "[('Sprocket',), ('Screw',), ('Bolt',)]"
      ]
     },
     "execution_count": 22,
     "metadata": {},
     "output_type": "execute_result"
    }
   ],
   "source": [
    "%%sql\n",
    "\n",
    "Select name as Name from pieces where Exists(select provider from provides where provides.piece = pieces.code AND provides.provider = 'HAL')\n",
    "\n"
   ]
  },
  {
   "cell_type": "markdown",
   "metadata": {
    "id": "4C2oq2DtNthW"
   },
   "source": [
    "<b>8.For each piece, find the most expensive offering of that piece and include the piece name, provider name, and price \n",
    "\n",
    "  (note that there could be two providers who supply the same piece at the most expensive price).</b>"
   ]
  },
  {
   "cell_type": "markdown",
   "metadata": {
    "id": "3qHEHvwdlmx-"
   },
   "source": [
    "#### **`Check this for inner join in sql:`** https://www.w3schools.com/sql/sql_join_inner.asp"
   ]
  },
  {
   "cell_type": "code",
   "execution_count": 29,
   "metadata": {
    "colab": {
     "base_uri": "https://localhost:8080/",
     "height": 158
    },
    "id": "jIreRtd5NthW",
    "outputId": "3981f08d-e73d-48c8-d629-b8b88fc11c11"
   },
   "outputs": [
    {
     "name": "stdout",
     "output_type": "stream",
     "text": [
      " * sqlite:///cloud.db\n",
      "Done.\n"
     ]
    },
    {
     "data": {
      "text/html": [
       "<table>\n",
       "    <tr>\n",
       "        <th>Name</th>\n",
       "        <th>Name_1</th>\n",
       "        <th>Price</th>\n",
       "    </tr>\n",
       "    <tr>\n",
       "        <td>Sprocket</td>\n",
       "        <td>Susan Calvin Corp.</td>\n",
       "        <td>15</td>\n",
       "    </tr>\n",
       "    <tr>\n",
       "        <td>Screw</td>\n",
       "        <td>Clarke Enterprises</td>\n",
       "        <td>20</td>\n",
       "    </tr>\n",
       "    <tr>\n",
       "        <td>Nut</td>\n",
       "        <td>Susan Calvin Corp.</td>\n",
       "        <td>50</td>\n",
       "    </tr>\n",
       "    <tr>\n",
       "        <td>Bolt</td>\n",
       "        <td>Tellington Supplies</td>\n",
       "        <td>7</td>\n",
       "    </tr>\n",
       "</table>"
      ],
      "text/plain": [
       "[('Sprocket', 'Susan Calvin Corp.', 15),\n",
       " ('Screw', 'Clarke Enterprises', 20),\n",
       " ('Nut', 'Susan Calvin Corp.', 50),\n",
       " ('Bolt', 'Tellington Supplies', 7)]"
      ]
     },
     "execution_count": 29,
     "metadata": {},
     "output_type": "execute_result"
    }
   ],
   "source": [
    "%%sql\n",
    "select pieces.Name as Name, providers.Name as Name_1 , max(provides.Price) as Price from ((pieces inner join provides on  \n",
    "provides.piece = pieces.code) inner join providers on providers.code = provides.provider) group by pieces.Name \n",
    "order by pieces.Name desc\n",
    "\n"
   ]
  },
  {
   "cell_type": "markdown",
   "metadata": {
    "id": "buDc5xBENthX"
   },
   "source": [
    "<b>9.Add an entry to the database to indicate that \"Skellington Supplies\" (code \"TNBC\") will provide sprockets (code \"1\") for 7 cents each</b>"
   ]
  },
  {
   "cell_type": "code",
   "execution_count": 30,
   "metadata": {
    "colab": {
     "base_uri": "https://localhost:8080/"
    },
    "id": "maO9YQkJNthX",
    "outputId": "11d3be44-eaf4-421b-898d-0998c3eafb2e"
   },
   "outputs": [
    {
     "name": "stdout",
     "output_type": "stream",
     "text": [
      " * sqlite:///cloud.db\n",
      "1 rows affected.\n"
     ]
    },
    {
     "data": {
      "text/plain": [
       "[]"
      ]
     },
     "execution_count": 30,
     "metadata": {},
     "output_type": "execute_result"
    }
   ],
   "source": [
    "%%sql\n",
    "\n",
    "Insert into provides values (1 , \"TNBC\" , 7)\n"
   ]
  },
  {
   "cell_type": "markdown",
   "metadata": {
    "id": "y-5Zz1A7NthX"
   },
   "source": [
    "<b>10.Increase all prices by one cent.</b>"
   ]
  },
  {
   "cell_type": "code",
   "execution_count": 31,
   "metadata": {
    "colab": {
     "base_uri": "https://localhost:8080/"
    },
    "id": "bSgdjt_qNthX",
    "outputId": "fe2087dc-3694-4724-d6b3-3b310865c15e"
   },
   "outputs": [
    {
     "name": "stdout",
     "output_type": "stream",
     "text": [
      " * sqlite:///cloud.db\n",
      "10 rows affected.\n"
     ]
    },
    {
     "data": {
      "text/plain": [
       "[]"
      ]
     },
     "execution_count": 31,
     "metadata": {},
     "output_type": "execute_result"
    }
   ],
   "source": [
    "%%sql\n",
    "update provides set price = price + 1 \n",
    "\n"
   ]
  },
  {
   "cell_type": "markdown",
   "metadata": {
    "id": "LLdeYDwQNthX"
   },
   "source": [
    "<b>11 Update the database to reflect that \"Susan Calvin Corp.\" (code \"RBT\") will not supply bolts (code 4).\n"
   ]
  },
  {
   "cell_type": "code",
   "execution_count": 50,
   "metadata": {
    "colab": {
     "base_uri": "https://localhost:8080/"
    },
    "id": "cJW5Fh6-NthX",
    "outputId": "4a14b574-47e8-4d77-e797-911a60b25db1"
   },
   "outputs": [
    {
     "name": "stdout",
     "output_type": "stream",
     "text": [
      " * sqlite:///cloud.db\n",
      "0 rows affected.\n"
     ]
    },
    {
     "data": {
      "text/plain": [
       "[]"
      ]
     },
     "execution_count": 50,
     "metadata": {},
     "output_type": "execute_result"
    }
   ],
   "source": [
    "%%sql\n",
    "DELETE FROM provides WHERE provider = \"RBT\" and piece = 4;\n"
   ]
  },
  {
   "cell_type": "code",
   "execution_count": 55,
   "metadata": {},
   "outputs": [
    {
     "name": "stdout",
     "output_type": "stream",
     "text": [
      " * sqlite:///cloud.db\n",
      "Done.\n"
     ]
    },
    {
     "data": {
      "text/html": [
       "<table>\n",
       "    <tr>\n",
       "        <th>Piece</th>\n",
       "        <th>Provider</th>\n",
       "        <th>Price</th>\n",
       "    </tr>\n",
       "    <tr>\n",
       "        <td>1</td>\n",
       "        <td>HAL</td>\n",
       "        <td>11</td>\n",
       "    </tr>\n",
       "    <tr>\n",
       "        <td>2</td>\n",
       "        <td>HAL</td>\n",
       "        <td>21</td>\n",
       "    </tr>\n",
       "    <tr>\n",
       "        <td>2</td>\n",
       "        <td>TNBC</td>\n",
       "        <td>15</td>\n",
       "    </tr>\n",
       "    <tr>\n",
       "        <td>3</td>\n",
       "        <td>SNBC</td>\n",
       "        <td>46</td>\n",
       "    </tr>\n",
       "    <tr>\n",
       "        <td>4</td>\n",
       "        <td>HAL</td>\n",
       "        <td>6</td>\n",
       "    </tr>\n",
       "    <tr>\n",
       "        <td>4</td>\n",
       "        <td>TNPSC</td>\n",
       "        <td>8</td>\n",
       "    </tr>\n",
       "    <tr>\n",
       "        <td>1</td>\n",
       "        <td>TNBC</td>\n",
       "        <td>8</td>\n",
       "    </tr>\n",
       "</table>"
      ],
      "text/plain": [
       "[(1, 'HAL', 11),\n",
       " (2, 'HAL', 21),\n",
       " (2, 'TNBC', 15),\n",
       " (3, 'SNBC', 46),\n",
       " (4, 'HAL', 6),\n",
       " (4, 'TNPSC', 8),\n",
       " (1, 'TNBC', 8)]"
      ]
     },
     "execution_count": 55,
     "metadata": {},
     "output_type": "execute_result"
    }
   ],
   "source": [
    "%%sql\n",
    "select * from provides"
   ]
  },
  {
   "cell_type": "markdown",
   "metadata": {
    "id": "Ywa-Nmy_NthY"
   },
   "source": [
    "<b>12.Update the database to reflect that \"Susan Calvin Corp.\" (code \"RBT\") will not supply any pieces(the provider should still remain in the database).</b>\n"
   ]
  },
  {
   "cell_type": "code",
   "execution_count": 51,
   "metadata": {
    "colab": {
     "base_uri": "https://localhost:8080/"
    },
    "id": "juoXIdj1NthY",
    "outputId": "65da4432-d17b-4923-b096-8570a18668bd"
   },
   "outputs": [
    {
     "name": "stdout",
     "output_type": "stream",
     "text": [
      " * sqlite:///cloud.db\n",
      "3 rows affected.\n"
     ]
    },
    {
     "data": {
      "text/plain": [
       "[]"
      ]
     },
     "execution_count": 51,
     "metadata": {},
     "output_type": "execute_result"
    }
   ],
   "source": [
    "%%sql\n",
    "\n",
    "DELETE FROM provides WHERE provider = \"RBT\"\n"
   ]
  },
  {
   "cell_type": "markdown",
   "metadata": {
    "id": "AM0GZDD_NthY"
   },
   "source": [
    "<b>13 combine column \"code\" from pieces and \"name\" from providers using union </B>"
   ]
  },
  {
   "cell_type": "markdown",
   "metadata": {
    "id": "_RZof2zWlVrD"
   },
   "source": [
    "#### **`Check this for union operator:`** https://www.w3schools.com/sql/sql_union.asp"
   ]
  },
  {
   "cell_type": "code",
   "execution_count": 52,
   "metadata": {
    "colab": {
     "base_uri": "https://localhost:8080/",
     "height": 367
    },
    "id": "RGtVVsodNthY",
    "outputId": "90ee8bce-2a99-4315-989d-c602dcc2a9f3"
   },
   "outputs": [
    {
     "name": "stdout",
     "output_type": "stream",
     "text": [
      " * sqlite:///cloud.db\n",
      "Done.\n"
     ]
    },
    {
     "data": {
      "text/html": [
       "<table>\n",
       "    <tr>\n",
       "        <th>Code</th>\n",
       "    </tr>\n",
       "    <tr>\n",
       "        <td>1</td>\n",
       "    </tr>\n",
       "    <tr>\n",
       "        <td>2</td>\n",
       "    </tr>\n",
       "    <tr>\n",
       "        <td>3</td>\n",
       "    </tr>\n",
       "    <tr>\n",
       "        <td>4</td>\n",
       "    </tr>\n",
       "    <tr>\n",
       "        <td>5</td>\n",
       "    </tr>\n",
       "    <tr>\n",
       "        <td>6</td>\n",
       "    </tr>\n",
       "    <tr>\n",
       "        <td>7</td>\n",
       "    </tr>\n",
       "    <tr>\n",
       "        <td>8</td>\n",
       "    </tr>\n",
       "    <tr>\n",
       "        <td>9</td>\n",
       "    </tr>\n",
       "    <tr>\n",
       "        <td>Bellington Supplies</td>\n",
       "    </tr>\n",
       "    <tr>\n",
       "        <td>Clarke Enterprises</td>\n",
       "    </tr>\n",
       "    <tr>\n",
       "        <td>Skellington Supplies</td>\n",
       "    </tr>\n",
       "    <tr>\n",
       "        <td>Susan Calvin Corp.</td>\n",
       "    </tr>\n",
       "    <tr>\n",
       "        <td>Tellington Supplies</td>\n",
       "    </tr>\n",
       "</table>"
      ],
      "text/plain": [
       "[(1,),\n",
       " (2,),\n",
       " (3,),\n",
       " (4,),\n",
       " (5,),\n",
       " (6,),\n",
       " (7,),\n",
       " (8,),\n",
       " (9,),\n",
       " ('Bellington Supplies',),\n",
       " ('Clarke Enterprises',),\n",
       " ('Skellington Supplies',),\n",
       " ('Susan Calvin Corp.',),\n",
       " ('Tellington Supplies',)]"
      ]
     },
     "execution_count": 52,
     "metadata": {},
     "output_type": "execute_result"
    }
   ],
   "source": [
    "%%sql\n",
    "SELECT code FROM pieces\n",
    "UNION\n",
    "SELECT name FROM providers;\n",
    "\n"
   ]
  },
  {
   "cell_type": "markdown",
   "metadata": {
    "id": "JWhxs_xWNthY"
   },
   "source": [
    "<b>14.select column piece and provider and groupby piece </b>"
   ]
  },
  {
   "cell_type": "code",
   "execution_count": 79,
   "metadata": {
    "colab": {
     "base_uri": "https://localhost:8080/",
     "height": 158
    },
    "id": "PaS5sOFFNthY",
    "outputId": "2ac962ac-7491-4986-82af-b1dc721f80c7",
    "scrolled": true
   },
   "outputs": [
    {
     "name": "stdout",
     "output_type": "stream",
     "text": [
      " * sqlite:///cloud.db\n",
      "Done.\n"
     ]
    },
    {
     "data": {
      "text/html": [
       "<table>\n",
       "    <tr>\n",
       "        <th>count(piece)</th>\n",
       "        <th>Provider</th>\n",
       "    </tr>\n",
       "    <tr>\n",
       "        <td>2</td>\n",
       "        <td>HAL</td>\n",
       "    </tr>\n",
       "    <tr>\n",
       "        <td>2</td>\n",
       "        <td>HAL</td>\n",
       "    </tr>\n",
       "    <tr>\n",
       "        <td>1</td>\n",
       "        <td>SNBC</td>\n",
       "    </tr>\n",
       "    <tr>\n",
       "        <td>2</td>\n",
       "        <td>HAL</td>\n",
       "    </tr>\n",
       "</table>"
      ],
      "text/plain": [
       "[(2, 'HAL'), (2, 'HAL'), (1, 'SNBC'), (2, 'HAL')]"
      ]
     },
     "execution_count": 79,
     "metadata": {},
     "output_type": "execute_result"
    }
   ],
   "source": [
    "%%sql\n",
    "select count(piece), provider from provides  group by piece \n",
    "\n"
   ]
  },
  {
   "cell_type": "markdown",
   "metadata": {
    "id": "uNhZQy13NthY"
   },
   "source": [
    "<b>15. write a query to select codes, name, price of company whose piece prices are more than 20 cents. </b>"
   ]
  },
  {
   "cell_type": "code",
   "execution_count": 81,
   "metadata": {
    "colab": {
     "base_uri": "https://localhost:8080/",
     "height": 116
    },
    "id": "XF3q13H7NthZ",
    "outputId": "ff719eca-bf90-4add-b12e-1bd1e08cb748"
   },
   "outputs": [
    {
     "name": "stdout",
     "output_type": "stream",
     "text": [
      " * sqlite:///cloud.db\n",
      "Done.\n"
     ]
    },
    {
     "data": {
      "text/html": [
       "<table>\n",
       "    <tr>\n",
       "        <th>Code</th>\n",
       "        <th>Name</th>\n",
       "        <th>Price</th>\n",
       "    </tr>\n",
       "    <tr>\n",
       "        <td>HAL</td>\n",
       "        <td>Clarke Enterprises</td>\n",
       "        <td>21</td>\n",
       "    </tr>\n",
       "    <tr>\n",
       "        <td>SNBC</td>\n",
       "        <td>Bellington Supplies</td>\n",
       "        <td>46</td>\n",
       "    </tr>\n",
       "</table>"
      ],
      "text/plain": [
       "[('HAL', 'Clarke Enterprises', 21), ('SNBC', 'Bellington Supplies', 46)]"
      ]
     },
     "execution_count": 81,
     "metadata": {},
     "output_type": "execute_result"
    }
   ],
   "source": [
    "%%sql\n",
    "select providers.code as Code , providers.Name as Name , provides.Price as Price from providers , provides where provides.Price > 20 and\n",
    "provides.provider = providers.code\n"
   ]
  },
  {
   "cell_type": "markdown",
   "metadata": {
    "id": "TQEdMonsOInd"
   },
   "source": [
    "# **Feedback Form** #\n",
    "https://docs.google.com/forms/d/e/1FAIpQLScnAaAKvph9R3vINyCtOOMiav-tSMsRGlJReMaHyPjsXDlTIA/viewform"
   ]
  }
 ],
 "metadata": {
  "colab": {
   "collapsed_sections": [],
   "name": "group_function_withoutcode.ipynb",
   "provenance": []
  },
  "kernelspec": {
   "display_name": "Python 3 (ipykernel)",
   "language": "python",
   "name": "python3"
  },
  "language_info": {
   "codemirror_mode": {
    "name": "ipython",
    "version": 3
   },
   "file_extension": ".py",
   "mimetype": "text/x-python",
   "name": "python",
   "nbconvert_exporter": "python",
   "pygments_lexer": "ipython3",
   "version": "3.9.12"
  }
 },
 "nbformat": 4,
 "nbformat_minor": 1
}
