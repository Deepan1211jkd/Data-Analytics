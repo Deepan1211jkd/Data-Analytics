{
 "cells": [
  {
   "cell_type": "markdown",
   "metadata": {
    "id": "rC5dTmT4Ljf6"
   },
   "source": [
    "# SQL - (Structured Query Language) \n",
    "It is the language that we use when we try to interact with the database or we can say that SQL is basically a standard that all relational DBMS like Mysql implement.\n",
    "\n",
    "Mysql\n",
    "\n",
    "we will be using mysql throughout these tutorial but the concepts that we will learn can be applied to pretty much any relational databases."
   ]
  },
  {
   "cell_type": "markdown",
   "metadata": {
    "id": "Ga2axL6xLjf7"
   },
   "source": [
    "# Working with Databases\n",
    "in order to start working with databases, we first need to create them and then select them to use that databases, after that we can make table in those databases to store the various data in tabular format as per our requirement.\n",
    "- to create a database we use - \n",
    "**CREATE DATABASE mydb**(we have already created a database)\n",
    "<p>once the database is created , we can select that databases, by doing this we explicitly tell mysql that out of all the available databases which one of them we want to work upon.</p>\n",
    "- to select a database\n",
    "**\"USE mydb\"**\n"
   ]
  },
  {
   "cell_type": "markdown",
   "metadata": {
    "id": "orGusXKvLjf7"
   },
   "source": [
    "# Why SQL is so important?\n",
    "[Why SQL is in demand](https://www.freecodecamp.org/news/why-learn-sql/)\n",
    "\n",
    "---\n",
    "[Why you Should Learn SQL](https://www.youtube.com/watch?v=wr7Qwp0cBzI)\n"
   ]
  },
  {
   "cell_type": "markdown",
   "metadata": {
    "id": "Z6kE0veFzWfo"
   },
   "source": [
    "### **RUN NEXT 5 CELLS TO CREATE DATABASE, TABLE AND TO INSERT DATA**"
   ]
  },
  {
   "cell_type": "code",
   "execution_count": 1,
   "metadata": {
    "id": "NtA0LkJp3PfT"
   },
   "outputs": [],
   "source": [
    "## JUST RUN THIS CELL\n",
    "import sqlite3\n",
    "import pandas as pd\n",
    "\n",
    "df = pd.DataFrame({\"id\": [1, 2, 3, 4, 5],\n",
    "    \"name\": [\"David Beggam\", \"Rahul Josh\",\n",
    "                            \"Joe Kamal\", \"Micheal John\", \"Sarath Kumar\"],\n",
    "                  \"address\": [\"California\", \"Mumbai\",\n",
    "                              \"Banglore\", \"Delhi\", \"Chennai\"]})\n",
    "\n",
    "df.set_index(\"id\", inplace=True)"
   ]
  },
  {
   "cell_type": "code",
   "execution_count": 2,
   "metadata": {
    "id": "wUfxjmFq3PfV",
    "outputId": "7618c426-4135-4f47-de37-1beacef1d306"
   },
   "outputs": [
    {
     "data": {
      "text/html": [
       "<div>\n",
       "<style scoped>\n",
       "    .dataframe tbody tr th:only-of-type {\n",
       "        vertical-align: middle;\n",
       "    }\n",
       "\n",
       "    .dataframe tbody tr th {\n",
       "        vertical-align: top;\n",
       "    }\n",
       "\n",
       "    .dataframe thead th {\n",
       "        text-align: right;\n",
       "    }\n",
       "</style>\n",
       "<table border=\"1\" class=\"dataframe\">\n",
       "  <thead>\n",
       "    <tr style=\"text-align: right;\">\n",
       "      <th></th>\n",
       "      <th>name</th>\n",
       "      <th>address</th>\n",
       "    </tr>\n",
       "    <tr>\n",
       "      <th>id</th>\n",
       "      <th></th>\n",
       "      <th></th>\n",
       "    </tr>\n",
       "  </thead>\n",
       "  <tbody>\n",
       "    <tr>\n",
       "      <th>1</th>\n",
       "      <td>David Beggam</td>\n",
       "      <td>California</td>\n",
       "    </tr>\n",
       "    <tr>\n",
       "      <th>2</th>\n",
       "      <td>Rahul Josh</td>\n",
       "      <td>Mumbai</td>\n",
       "    </tr>\n",
       "    <tr>\n",
       "      <th>3</th>\n",
       "      <td>Joe Kamal</td>\n",
       "      <td>Banglore</td>\n",
       "    </tr>\n",
       "    <tr>\n",
       "      <th>4</th>\n",
       "      <td>Micheal John</td>\n",
       "      <td>Delhi</td>\n",
       "    </tr>\n",
       "    <tr>\n",
       "      <th>5</th>\n",
       "      <td>Sarath Kumar</td>\n",
       "      <td>Chennai</td>\n",
       "    </tr>\n",
       "  </tbody>\n",
       "</table>\n",
       "</div>"
      ],
      "text/plain": [
       "            name     address\n",
       "id                          \n",
       "1   David Beggam  California\n",
       "2     Rahul Josh      Mumbai\n",
       "3      Joe Kamal    Banglore\n",
       "4   Micheal John       Delhi\n",
       "5   Sarath Kumar     Chennai"
      ]
     },
     "execution_count": 2,
     "metadata": {},
     "output_type": "execute_result"
    }
   ],
   "source": [
    "# Run this and look at your dataframe which you will pass into database\n",
    "df.head()"
   ]
  },
  {
   "cell_type": "code",
   "execution_count": 3,
   "metadata": {
    "id": "VOfSaB8_3PfW"
   },
   "outputs": [
    {
     "data": {
      "text/plain": [
       "5"
      ]
     },
     "execution_count": 3,
     "metadata": {},
     "output_type": "execute_result"
    }
   ],
   "source": [
    "# run this to create and connect to database\n",
    "connection = sqlite3.connect('cloud.db')\n",
    "df.to_sql('customers', connection)"
   ]
  },
  {
   "cell_type": "code",
   "execution_count": 4,
   "metadata": {
    "id": "Wf6YGN4Y3PfW",
    "outputId": "b7f2d823-aab1-4611-a477-7128c5aa1df7"
   },
   "outputs": [],
   "source": [
    "# load sql extension\n",
    "%load_ext sql"
   ]
  },
  {
   "cell_type": "code",
   "execution_count": 5,
   "metadata": {
    "id": "XcEgvw8I3PfX"
   },
   "outputs": [],
   "source": [
    "# connecting to cloud.db\n",
    "%sql sqlite:///cloud.db"
   ]
  },
  {
   "cell_type": "markdown",
   "metadata": {
    "id": "y0rd5DAuLjf9"
   },
   "source": [
    "## Hoorayy!!Now it's time to check your skill on sql . Write a code for below questions\n",
    "\n",
    "##### **NOTE** : Do not remove %%sql magic command as it will throw error if you run sql query without it."
   ]
  },
  {
   "cell_type": "markdown",
   "metadata": {
    "id": "yOxU1NiNLjf9"
   },
   "source": [
    "### 1.Show all the data inside the table\"customers\""
   ]
  },
  {
   "cell_type": "code",
   "execution_count": 7,
   "metadata": {
    "id": "J9GwxDdFLjf-",
    "outputId": "fa5f33e2-6146-47ef-a4c3-45302bdfd9c1",
    "scrolled": false
   },
   "outputs": [
    {
     "name": "stdout",
     "output_type": "stream",
     "text": [
      " * sqlite:///cloud.db\n",
      "Done.\n"
     ]
    },
    {
     "data": {
      "text/html": [
       "<table>\n",
       "    <tr>\n",
       "        <th>id</th>\n",
       "        <th>name</th>\n",
       "        <th>address</th>\n",
       "    </tr>\n",
       "    <tr>\n",
       "        <td>1</td>\n",
       "        <td>David Beggam</td>\n",
       "        <td>California</td>\n",
       "    </tr>\n",
       "    <tr>\n",
       "        <td>2</td>\n",
       "        <td>Rahul Josh</td>\n",
       "        <td>Mumbai</td>\n",
       "    </tr>\n",
       "    <tr>\n",
       "        <td>3</td>\n",
       "        <td>Joe Kamal</td>\n",
       "        <td>Banglore</td>\n",
       "    </tr>\n",
       "    <tr>\n",
       "        <td>4</td>\n",
       "        <td>Micheal John</td>\n",
       "        <td>Delhi</td>\n",
       "    </tr>\n",
       "    <tr>\n",
       "        <td>5</td>\n",
       "        <td>Sarath Kumar</td>\n",
       "        <td>Chennai</td>\n",
       "    </tr>\n",
       "</table>"
      ],
      "text/plain": [
       "[(1, 'David Beggam', 'California'),\n",
       " (2, 'Rahul Josh', 'Mumbai'),\n",
       " (3, 'Joe Kamal', 'Banglore'),\n",
       " (4, 'Micheal John', 'Delhi'),\n",
       " (5, 'Sarath Kumar', 'Chennai')]"
      ]
     },
     "execution_count": 7,
     "metadata": {},
     "output_type": "execute_result"
    }
   ],
   "source": [
    "%%sql\n",
    "select * from customers\n"
   ]
  },
  {
   "cell_type": "markdown",
   "metadata": {
    "id": "G85ZNIKQQ8AG"
   },
   "source": [
    "### **Check This link to See How to Limit Customer Data**\n",
    "\n",
    "https://www.w3schools.com/sql/sql_top.asp"
   ]
  },
  {
   "cell_type": "markdown",
   "metadata": {
    "id": "sYDL_XYxLjf-"
   },
   "source": [
    "<b>##2. LIMIT CUSTOMERS DATA TO 3</b>"
   ]
  },
  {
   "cell_type": "code",
   "execution_count": 8,
   "metadata": {
    "id": "FnLpWeRPLjf-",
    "outputId": "d92eb88e-3c57-4ee8-a568-4cdab30db82f",
    "scrolled": true
   },
   "outputs": [
    {
     "name": "stdout",
     "output_type": "stream",
     "text": [
      " * sqlite:///cloud.db\n",
      "Done.\n"
     ]
    },
    {
     "data": {
      "text/html": [
       "<table>\n",
       "    <tr>\n",
       "        <th>id</th>\n",
       "        <th>name</th>\n",
       "        <th>address</th>\n",
       "    </tr>\n",
       "    <tr>\n",
       "        <td>1</td>\n",
       "        <td>David Beggam</td>\n",
       "        <td>California</td>\n",
       "    </tr>\n",
       "    <tr>\n",
       "        <td>2</td>\n",
       "        <td>Rahul Josh</td>\n",
       "        <td>Mumbai</td>\n",
       "    </tr>\n",
       "    <tr>\n",
       "        <td>3</td>\n",
       "        <td>Joe Kamal</td>\n",
       "        <td>Banglore</td>\n",
       "    </tr>\n",
       "</table>"
      ],
      "text/plain": [
       "[(1, 'David Beggam', 'California'),\n",
       " (2, 'Rahul Josh', 'Mumbai'),\n",
       " (3, 'Joe Kamal', 'Banglore')]"
      ]
     },
     "execution_count": 8,
     "metadata": {},
     "output_type": "execute_result"
    }
   ],
   "source": [
    "%%sql\n",
    "select * from customers limit 3\n"
   ]
  },
  {
   "cell_type": "markdown",
   "metadata": {
    "id": "Laz8Riy7Ljf_"
   },
   "source": [
    "<b>3.Select all the data of employees that work in Chennai and Mumbai </b>"
   ]
  },
  {
   "cell_type": "code",
   "execution_count": 11,
   "metadata": {
    "id": "JYtI6A7bLjf_",
    "outputId": "a6576ce1-a2c9-4d72-e29e-d8d9189f88ce",
    "scrolled": false
   },
   "outputs": [
    {
     "name": "stdout",
     "output_type": "stream",
     "text": [
      " * sqlite:///cloud.db\n",
      "Done.\n"
     ]
    },
    {
     "data": {
      "text/html": [
       "<table>\n",
       "    <tr>\n",
       "        <th>id</th>\n",
       "        <th>name</th>\n",
       "        <th>address</th>\n",
       "    </tr>\n",
       "    <tr>\n",
       "        <td>2</td>\n",
       "        <td>Rahul Josh</td>\n",
       "        <td>Mumbai</td>\n",
       "    </tr>\n",
       "    <tr>\n",
       "        <td>5</td>\n",
       "        <td>Sarath Kumar</td>\n",
       "        <td>Chennai</td>\n",
       "    </tr>\n",
       "</table>"
      ],
      "text/plain": [
       "[(2, 'Rahul Josh', 'Mumbai'), (5, 'Sarath Kumar', 'Chennai')]"
      ]
     },
     "execution_count": 11,
     "metadata": {},
     "output_type": "execute_result"
    }
   ],
   "source": [
    "%%sql\n",
    "\n",
    "select * from customers where address = 'Mumbai' or address = 'Chennai'\n"
   ]
  },
  {
   "cell_type": "markdown",
   "metadata": {
    "id": "yNOnlJW0Ljf_"
   },
   "source": [
    "<b>4. select name starting with letter S</b>"
   ]
  },
  {
   "cell_type": "code",
   "execution_count": 12,
   "metadata": {
    "id": "956qOvmkLjf_",
    "outputId": "2482a382-e9a8-4a77-9b9d-39139817a62e",
    "scrolled": false
   },
   "outputs": [
    {
     "name": "stdout",
     "output_type": "stream",
     "text": [
      " * sqlite:///cloud.db\n",
      "Done.\n"
     ]
    },
    {
     "data": {
      "text/html": [
       "<table>\n",
       "    <tr>\n",
       "        <th>id</th>\n",
       "        <th>name</th>\n",
       "        <th>address</th>\n",
       "    </tr>\n",
       "    <tr>\n",
       "        <td>5</td>\n",
       "        <td>Sarath Kumar</td>\n",
       "        <td>Chennai</td>\n",
       "    </tr>\n",
       "</table>"
      ],
      "text/plain": [
       "[(5, 'Sarath Kumar', 'Chennai')]"
      ]
     },
     "execution_count": 12,
     "metadata": {},
     "output_type": "execute_result"
    }
   ],
   "source": [
    "%%sql\n",
    "select * from customers where name like 'S%'\n",
    "\n"
   ]
  },
  {
   "cell_type": "markdown",
   "metadata": {
    "id": "a4F2MbGVLjf_"
   },
   "source": [
    "<b>##5. select the col\"address\" from the table\"customers\" </b>"
   ]
  },
  {
   "cell_type": "code",
   "execution_count": 13,
   "metadata": {
    "id": "DhyB5kUbLjgA",
    "outputId": "e1e6d34a-55e3-4679-b5e4-6919582bd10a",
    "scrolled": true
   },
   "outputs": [
    {
     "name": "stdout",
     "output_type": "stream",
     "text": [
      " * sqlite:///cloud.db\n",
      "Done.\n"
     ]
    },
    {
     "data": {
      "text/html": [
       "<table>\n",
       "    <tr>\n",
       "        <th>address</th>\n",
       "    </tr>\n",
       "    <tr>\n",
       "        <td>California</td>\n",
       "    </tr>\n",
       "    <tr>\n",
       "        <td>Mumbai</td>\n",
       "    </tr>\n",
       "    <tr>\n",
       "        <td>Banglore</td>\n",
       "    </tr>\n",
       "    <tr>\n",
       "        <td>Delhi</td>\n",
       "    </tr>\n",
       "    <tr>\n",
       "        <td>Chennai</td>\n",
       "    </tr>\n",
       "</table>"
      ],
      "text/plain": [
       "[('California',), ('Mumbai',), ('Banglore',), ('Delhi',), ('Chennai',)]"
      ]
     },
     "execution_count": 13,
     "metadata": {},
     "output_type": "execute_result"
    }
   ],
   "source": [
    "%%sql\n",
    "select address from customers\n"
   ]
  },
  {
   "cell_type": "markdown",
   "metadata": {
    "id": "2is1BoOBLjgA"
   },
   "source": [
    "<b>##6.select column \"address\" where city not in delhi</b>"
   ]
  },
  {
   "cell_type": "code",
   "execution_count": 16,
   "metadata": {
    "id": "pQ91gfkwLjgA",
    "outputId": "f5ebfa6b-bee2-49de-8ccc-f8201e44bf2f",
    "scrolled": true
   },
   "outputs": [
    {
     "name": "stdout",
     "output_type": "stream",
     "text": [
      " * sqlite:///cloud.db\n",
      "Done.\n"
     ]
    },
    {
     "data": {
      "text/html": [
       "<table>\n",
       "    <tr>\n",
       "        <th>id</th>\n",
       "        <th>name</th>\n",
       "        <th>address</th>\n",
       "    </tr>\n",
       "    <tr>\n",
       "        <td>1</td>\n",
       "        <td>David Beggam</td>\n",
       "        <td>California</td>\n",
       "    </tr>\n",
       "    <tr>\n",
       "        <td>2</td>\n",
       "        <td>Rahul Josh</td>\n",
       "        <td>Mumbai</td>\n",
       "    </tr>\n",
       "    <tr>\n",
       "        <td>3</td>\n",
       "        <td>Joe Kamal</td>\n",
       "        <td>Banglore</td>\n",
       "    </tr>\n",
       "    <tr>\n",
       "        <td>5</td>\n",
       "        <td>Sarath Kumar</td>\n",
       "        <td>Chennai</td>\n",
       "    </tr>\n",
       "</table>"
      ],
      "text/plain": [
       "[(1, 'David Beggam', 'California'),\n",
       " (2, 'Rahul Josh', 'Mumbai'),\n",
       " (3, 'Joe Kamal', 'Banglore'),\n",
       " (5, 'Sarath Kumar', 'Chennai')]"
      ]
     },
     "execution_count": 16,
     "metadata": {},
     "output_type": "execute_result"
    }
   ],
   "source": [
    "%%sql\n",
    "select * from customers where address is not 'Delhi'\n",
    "\n"
   ]
  },
  {
   "cell_type": "markdown",
   "metadata": {
    "id": "y0fmnqe4Uyy3"
   },
   "source": [
    "### **Check this to see how to use asc, desc in SQL**\n",
    "\n",
    "https://www.w3schools.com/sql/sql_ref_asc.asp\n",
    "\n",
    "https://www.w3schools.com/sql/sql_ref_desc.asp"
   ]
  },
  {
   "cell_type": "markdown",
   "metadata": {
    "id": "7OuFnJ9LLjgA"
   },
   "source": [
    "<b>7. sort the column: name in asc and addrress in desc</b>"
   ]
  },
  {
   "cell_type": "code",
   "execution_count": 17,
   "metadata": {
    "id": "9umkztFJLjgB",
    "outputId": "ddfd8a4f-8bfb-4b85-ef89-ebab0f128462",
    "scrolled": true
   },
   "outputs": [
    {
     "name": "stdout",
     "output_type": "stream",
     "text": [
      " * sqlite:///cloud.db\n",
      "Done.\n"
     ]
    },
    {
     "data": {
      "text/html": [
       "<table>\n",
       "    <tr>\n",
       "        <th>id</th>\n",
       "        <th>name</th>\n",
       "        <th>address</th>\n",
       "    </tr>\n",
       "    <tr>\n",
       "        <td>1</td>\n",
       "        <td>David Beggam</td>\n",
       "        <td>California</td>\n",
       "    </tr>\n",
       "    <tr>\n",
       "        <td>3</td>\n",
       "        <td>Joe Kamal</td>\n",
       "        <td>Banglore</td>\n",
       "    </tr>\n",
       "    <tr>\n",
       "        <td>4</td>\n",
       "        <td>Micheal John</td>\n",
       "        <td>Delhi</td>\n",
       "    </tr>\n",
       "    <tr>\n",
       "        <td>2</td>\n",
       "        <td>Rahul Josh</td>\n",
       "        <td>Mumbai</td>\n",
       "    </tr>\n",
       "    <tr>\n",
       "        <td>5</td>\n",
       "        <td>Sarath Kumar</td>\n",
       "        <td>Chennai</td>\n",
       "    </tr>\n",
       "</table>"
      ],
      "text/plain": [
       "[(1, 'David Beggam', 'California'),\n",
       " (3, 'Joe Kamal', 'Banglore'),\n",
       " (4, 'Micheal John', 'Delhi'),\n",
       " (2, 'Rahul Josh', 'Mumbai'),\n",
       " (5, 'Sarath Kumar', 'Chennai')]"
      ]
     },
     "execution_count": 17,
     "metadata": {},
     "output_type": "execute_result"
    }
   ],
   "source": [
    "%%sql\n",
    "select * from customers order by name asc , address desc\n"
   ]
  },
  {
   "cell_type": "markdown",
   "metadata": {
    "id": "qhybMo0ELjgB"
   },
   "source": [
    "<b>8.  Add an customer name  called \"Mary\" ,with address in 'Goa'</b>"
   ]
  },
  {
   "cell_type": "code",
   "execution_count": 20,
   "metadata": {
    "id": "gEOyLV0mLjgB",
    "outputId": "be676c4e-48c7-43a4-fb29-c334ff9e47d7",
    "scrolled": true
   },
   "outputs": [
    {
     "name": "stdout",
     "output_type": "stream",
     "text": [
      " * sqlite:///cloud.db\n",
      "1 rows affected.\n"
     ]
    },
    {
     "data": {
      "text/plain": [
       "[]"
      ]
     },
     "execution_count": 20,
     "metadata": {},
     "output_type": "execute_result"
    }
   ],
   "source": [
    "%%sql\n",
    "\n",
    "insert into customers values (6,'Mary' , 'Goa')\n"
   ]
  },
  {
   "cell_type": "markdown",
   "metadata": {
    "id": "F20SEsJAV4g2"
   },
   "source": [
    "### **Check this how to use update keyword in sql**\n",
    "\n",
    "https://www.w3schools.com/sql/sql_update.asp"
   ]
  },
  {
   "cell_type": "markdown",
   "metadata": {
    "id": "Z7CA_MLKLjgB"
   },
   "source": [
    "<b>9. update address to gujarat where id is 1</b>"
   ]
  },
  {
   "cell_type": "code",
   "execution_count": 22,
   "metadata": {
    "id": "pLIum-Hw3Pfd",
    "outputId": "f754890e-21b1-4080-f982-40b9e679d843"
   },
   "outputs": [
    {
     "name": "stdout",
     "output_type": "stream",
     "text": [
      " * sqlite:///cloud.db\n",
      "1 rows affected.\n"
     ]
    },
    {
     "data": {
      "text/plain": [
       "[]"
      ]
     },
     "execution_count": 22,
     "metadata": {},
     "output_type": "execute_result"
    }
   ],
   "source": [
    "%%sql\n",
    "update customers set address = 'gujarat' where id =1\n"
   ]
  },
  {
   "cell_type": "markdown",
   "metadata": {
    "id": "GcctJlvWWC-5"
   },
   "source": [
    "### **Check this how you to use delete keyword in sql**\n",
    "\n",
    "https://www.w3schools.com/sql/sql_delete.asp"
   ]
  },
  {
   "cell_type": "markdown",
   "metadata": {
    "id": "WyKYppVDLjgC"
   },
   "source": [
    "<b>10.delete the record where address='mumbai'</b>"
   ]
  },
  {
   "cell_type": "code",
   "execution_count": 24,
   "metadata": {
    "id": "SE5b9b2kLjgC",
    "outputId": "71f21076-0bb5-4db9-8474-ad7658bb0d0a",
    "scrolled": false
   },
   "outputs": [
    {
     "name": "stdout",
     "output_type": "stream",
     "text": [
      " * sqlite:///cloud.db\n",
      "1 rows affected.\n"
     ]
    },
    {
     "data": {
      "text/plain": [
       "[]"
      ]
     },
     "execution_count": 24,
     "metadata": {},
     "output_type": "execute_result"
    }
   ],
   "source": [
    "%%sql\n",
    "delete from customers where address = 'Mumbai'\n"
   ]
  },
  {
   "cell_type": "markdown",
   "metadata": {
    "id": "KqBZGKRuVInS"
   },
   "source": [
    "### **Check this to see how you create temporary name for the column**\n",
    "\n",
    "https://www.w3schools.com/sql/sql_alias.asp#:~:text=SQL%20aliases%20are%20used%20to,created%20with%20the%20AS%20keyword."
   ]
  },
  {
   "cell_type": "markdown",
   "metadata": {
    "id": "Bt6BCu11LjgC"
   },
   "source": [
    "<b>11.create a temporary name for the column \"name\"with 'N' and \"address\"as 'A'</b>"
   ]
  },
  {
   "cell_type": "code",
   "execution_count": 30,
   "metadata": {
    "id": "SBpN142pLjgC",
    "outputId": "1c741185-b813-40fc-e22f-49e778aef77d",
    "scrolled": false
   },
   "outputs": [
    {
     "name": "stdout",
     "output_type": "stream",
     "text": [
      " * sqlite:///cloud.db\n",
      "Done.\n"
     ]
    },
    {
     "data": {
      "text/html": [
       "<table>\n",
       "    <tr>\n",
       "        <th>N</th>\n",
       "        <th>A</th>\n",
       "    </tr>\n",
       "    <tr>\n",
       "        <td>David Beggam</td>\n",
       "        <td>gujarat</td>\n",
       "    </tr>\n",
       "    <tr>\n",
       "        <td>Joe Kamal</td>\n",
       "        <td>Banglore</td>\n",
       "    </tr>\n",
       "    <tr>\n",
       "        <td>Micheal John</td>\n",
       "        <td>Delhi</td>\n",
       "    </tr>\n",
       "    <tr>\n",
       "        <td>Sarath Kumar</td>\n",
       "        <td>Chennai</td>\n",
       "    </tr>\n",
       "    <tr>\n",
       "        <td>Mary</td>\n",
       "        <td>Goa</td>\n",
       "    </tr>\n",
       "</table>"
      ],
      "text/plain": [
       "[('David Beggam', 'gujarat'),\n",
       " ('Joe Kamal', 'Banglore'),\n",
       " ('Micheal John', 'Delhi'),\n",
       " ('Sarath Kumar', 'Chennai'),\n",
       " ('Mary', 'Goa')]"
      ]
     },
     "execution_count": 30,
     "metadata": {},
     "output_type": "execute_result"
    }
   ],
   "source": [
    "%%sql \n",
    "select name as N , address as A from customers\n"
   ]
  },
  {
   "cell_type": "markdown",
   "metadata": {
    "id": "Lw3FBmlJVY1z"
   },
   "source": [
    "### **Check this to see how to concat in sqlite**\n",
    "\n",
    "https://www.sqlitetutorial.net/sqlite-string-functions/sqlite-concat/"
   ]
  },
  {
   "cell_type": "markdown",
   "metadata": {
    "id": "xSYS6d1JLjgC"
   },
   "source": [
    "<b>12. concat column's \"name\" and \"address\" and name it as customerdb</b>"
   ]
  },
  {
   "cell_type": "code",
   "execution_count": 32,
   "metadata": {
    "id": "hInKNTIrLjgC",
    "outputId": "6d13a86d-df4c-4df2-ab91-5676d874fb63",
    "scrolled": true
   },
   "outputs": [
    {
     "name": "stdout",
     "output_type": "stream",
     "text": [
      " * sqlite:///cloud.db\n",
      "Done.\n"
     ]
    },
    {
     "data": {
      "text/html": [
       "<table>\n",
       "    <tr>\n",
       "        <th>id</th>\n",
       "        <th>CustomerDB</th>\n",
       "    </tr>\n",
       "    <tr>\n",
       "        <td>1</td>\n",
       "        <td>David Beggam,gujarat</td>\n",
       "    </tr>\n",
       "    <tr>\n",
       "        <td>3</td>\n",
       "        <td>Joe Kamal,Banglore</td>\n",
       "    </tr>\n",
       "    <tr>\n",
       "        <td>4</td>\n",
       "        <td>Micheal John,Delhi</td>\n",
       "    </tr>\n",
       "    <tr>\n",
       "        <td>5</td>\n",
       "        <td>Sarath Kumar,Chennai</td>\n",
       "    </tr>\n",
       "    <tr>\n",
       "        <td>6</td>\n",
       "        <td>Mary,Goa</td>\n",
       "    </tr>\n",
       "</table>"
      ],
      "text/plain": [
       "[(1, 'David Beggam,gujarat'),\n",
       " (3, 'Joe Kamal,Banglore'),\n",
       " (4, 'Micheal John,Delhi'),\n",
       " (5, 'Sarath Kumar,Chennai'),\n",
       " (6, 'Mary,Goa')]"
      ]
     },
     "execution_count": 32,
     "metadata": {},
     "output_type": "execute_result"
    }
   ],
   "source": [
    "%%sql\n",
    "select id , name || ',' || address as CustomerDB from customers\n"
   ]
  },
  {
   "cell_type": "markdown",
   "metadata": {
    "id": "QPOXAevaVtzD"
   },
   "source": [
    "### **Check this how to use group by**\n",
    "\n",
    "https://www.w3schools.com/sql/sql_groupby.asp"
   ]
  },
  {
   "cell_type": "markdown",
   "metadata": {
    "id": "mDnHPfHTLjgC"
   },
   "source": [
    "<b>##13 select address and also count the column \"name\" and group by address </b> "
   ]
  },
  {
   "cell_type": "code",
   "execution_count": 33,
   "metadata": {
    "id": "k8oUNVj6LjgD",
    "outputId": "6a49f705-0589-4da7-9f02-f28e09f95005",
    "scrolled": true
   },
   "outputs": [
    {
     "name": "stdout",
     "output_type": "stream",
     "text": [
      " * sqlite:///cloud.db\n",
      "Done.\n"
     ]
    },
    {
     "data": {
      "text/html": [
       "<table>\n",
       "    <tr>\n",
       "        <th>address</th>\n",
       "        <th>count(name)</th>\n",
       "    </tr>\n",
       "    <tr>\n",
       "        <td>Banglore</td>\n",
       "        <td>1</td>\n",
       "    </tr>\n",
       "    <tr>\n",
       "        <td>Chennai</td>\n",
       "        <td>1</td>\n",
       "    </tr>\n",
       "    <tr>\n",
       "        <td>Delhi</td>\n",
       "        <td>1</td>\n",
       "    </tr>\n",
       "    <tr>\n",
       "        <td>Goa</td>\n",
       "        <td>1</td>\n",
       "    </tr>\n",
       "    <tr>\n",
       "        <td>gujarat</td>\n",
       "        <td>1</td>\n",
       "    </tr>\n",
       "</table>"
      ],
      "text/plain": [
       "[('Banglore', 1), ('Chennai', 1), ('Delhi', 1), ('Goa', 1), ('gujarat', 1)]"
      ]
     },
     "execution_count": 33,
     "metadata": {},
     "output_type": "execute_result"
    }
   ],
   "source": [
    "%%sql\n",
    "select address , count(name) from customers group by address\n",
    "\n"
   ]
  },
  {
   "cell_type": "markdown",
   "metadata": {
    "id": "irGeDjEaLjgD"
   },
   "source": [
    "<b>Congratulations !! You Have Just Completed your first step towards becoming an SQL Ninja!</b>"
   ]
  },
  {
   "cell_type": "markdown",
   "metadata": {
    "id": "ynFRizm4Lsy2"
   },
   "source": [
    "# **FEEDBACK FORM** #\n",
    "https://docs.google.com/forms/d/e/1FAIpQLScnAaAKvph9R3vINyCtOOMiav-tSMsRGlJReMaHyPjsXDlTIA/viewform"
   ]
  }
 ],
 "metadata": {
  "colab": {
   "collapsed_sections": [],
   "name": "SQL_CRUD_nocode.ipynb",
   "provenance": []
  },
  "kernelspec": {
   "display_name": "Python 3 (ipykernel)",
   "language": "python",
   "name": "python3"
  },
  "language_info": {
   "codemirror_mode": {
    "name": "ipython",
    "version": 3
   },
   "file_extension": ".py",
   "mimetype": "text/x-python",
   "name": "python",
   "nbconvert_exporter": "python",
   "pygments_lexer": "ipython3",
   "version": "3.9.12"
  }
 },
 "nbformat": 4,
 "nbformat_minor": 1
}
