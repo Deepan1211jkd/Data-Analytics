{
 "cells": [
  {
   "cell_type": "code",
   "execution_count": 1,
   "id": "1e583e60",
   "metadata": {},
   "outputs": [],
   "source": [
    "import warnings\n",
    "warnings.filterwarnings('ignore')\n",
    "\n",
    "import pandas as pd\n",
    "import numpy as np\n",
    "\n",
    "import matplotlib.pyplot as plt\n",
    "\n",
    "pd.set_option('display.max_rows', None)\n",
    "pd.set_option('display.max_columns', None)\n",
    "pd.set_option('display.expand_frame_repr', False)\n",
    "pd.set_option('max_colWidth', -1)"
   ]
  },
  {
   "cell_type": "code",
   "execution_count": 2,
   "id": "e1bf8217",
   "metadata": {},
   "outputs": [],
   "source": [
    "main_df = pd.read_csv('E:/Data Analytics/workshop/ABD vs Bumrah-20220218T052448Z-001/ABD vs Bumrah/IPL_ball_by_ball_updated.csv')"
   ]
  },
  {
   "cell_type": "code",
   "execution_count": 3,
   "id": "648d3d15",
   "metadata": {
    "scrolled": true
   },
   "outputs": [
    {
     "data": {
      "text/plain": [
       "match_id                  int64  \n",
       "season                    int64  \n",
       "start_date                object \n",
       "venue                     object \n",
       "innings                   int64  \n",
       "ball                      float64\n",
       "batting_team              object \n",
       "bowling_team              object \n",
       "striker                   object \n",
       "non_striker               object \n",
       "bowler                    object \n",
       "runs_off_bat              int64  \n",
       "extras                    int64  \n",
       "wides                     float64\n",
       "noballs                   float64\n",
       "byes                      float64\n",
       "legbyes                   float64\n",
       "penalty                   float64\n",
       "wicket_type               object \n",
       "player_dismissed          object \n",
       "other_wicket_type         float64\n",
       "other_player_dismissed    float64\n",
       "dtype: object"
      ]
     },
     "execution_count": 3,
     "metadata": {},
     "output_type": "execute_result"
    }
   ],
   "source": [
    "main_df.dtypes"
   ]
  },
  {
   "cell_type": "code",
   "execution_count": 4,
   "id": "a7dcc36f",
   "metadata": {},
   "outputs": [
    {
     "data": {
      "text/html": [
       "<div>\n",
       "<style scoped>\n",
       "    .dataframe tbody tr th:only-of-type {\n",
       "        vertical-align: middle;\n",
       "    }\n",
       "\n",
       "    .dataframe tbody tr th {\n",
       "        vertical-align: top;\n",
       "    }\n",
       "\n",
       "    .dataframe thead th {\n",
       "        text-align: right;\n",
       "    }\n",
       "</style>\n",
       "<table border=\"1\" class=\"dataframe\">\n",
       "  <thead>\n",
       "    <tr style=\"text-align: right;\">\n",
       "      <th></th>\n",
       "      <th>match_id</th>\n",
       "      <th>season</th>\n",
       "      <th>start_date</th>\n",
       "      <th>venue</th>\n",
       "      <th>innings</th>\n",
       "      <th>ball</th>\n",
       "      <th>batting_team</th>\n",
       "      <th>bowling_team</th>\n",
       "      <th>striker</th>\n",
       "      <th>non_striker</th>\n",
       "      <th>bowler</th>\n",
       "      <th>runs_off_bat</th>\n",
       "      <th>extras</th>\n",
       "      <th>wides</th>\n",
       "      <th>noballs</th>\n",
       "      <th>byes</th>\n",
       "      <th>legbyes</th>\n",
       "      <th>penalty</th>\n",
       "      <th>wicket_type</th>\n",
       "      <th>player_dismissed</th>\n",
       "      <th>other_wicket_type</th>\n",
       "      <th>other_player_dismissed</th>\n",
       "    </tr>\n",
       "  </thead>\n",
       "  <tbody>\n",
       "    <tr>\n",
       "      <th>0</th>\n",
       "      <td>335982</td>\n",
       "      <td>2008</td>\n",
       "      <td>2008-04-18</td>\n",
       "      <td>M Chinnaswamy Stadium</td>\n",
       "      <td>2</td>\n",
       "      <td>6.8</td>\n",
       "      <td>Royal Challengers Bangalore</td>\n",
       "      <td>Kolkata Knight Riders</td>\n",
       "      <td>MV Boucher</td>\n",
       "      <td>CL White</td>\n",
       "      <td>AB Agarkar</td>\n",
       "      <td>4</td>\n",
       "      <td>0</td>\n",
       "      <td>NaN</td>\n",
       "      <td>NaN</td>\n",
       "      <td>NaN</td>\n",
       "      <td>NaN</td>\n",
       "      <td>NaN</td>\n",
       "      <td>NaN</td>\n",
       "      <td>NaN</td>\n",
       "      <td>NaN</td>\n",
       "      <td>NaN</td>\n",
       "    </tr>\n",
       "    <tr>\n",
       "      <th>1</th>\n",
       "      <td>335982</td>\n",
       "      <td>2008</td>\n",
       "      <td>2008-04-18</td>\n",
       "      <td>M Chinnaswamy Stadium</td>\n",
       "      <td>2</td>\n",
       "      <td>2.7</td>\n",
       "      <td>Royal Challengers Bangalore</td>\n",
       "      <td>Kolkata Knight Riders</td>\n",
       "      <td>W Jaffer</td>\n",
       "      <td>JH Kallis</td>\n",
       "      <td>AB Dinda</td>\n",
       "      <td>1</td>\n",
       "      <td>0</td>\n",
       "      <td>NaN</td>\n",
       "      <td>NaN</td>\n",
       "      <td>NaN</td>\n",
       "      <td>NaN</td>\n",
       "      <td>NaN</td>\n",
       "      <td>NaN</td>\n",
       "      <td>NaN</td>\n",
       "      <td>NaN</td>\n",
       "      <td>NaN</td>\n",
       "    </tr>\n",
       "    <tr>\n",
       "      <th>2</th>\n",
       "      <td>335982</td>\n",
       "      <td>2008</td>\n",
       "      <td>2008-04-18</td>\n",
       "      <td>M Chinnaswamy Stadium</td>\n",
       "      <td>2</td>\n",
       "      <td>3.1</td>\n",
       "      <td>Royal Challengers Bangalore</td>\n",
       "      <td>Kolkata Knight Riders</td>\n",
       "      <td>W Jaffer</td>\n",
       "      <td>JH Kallis</td>\n",
       "      <td>I Sharma</td>\n",
       "      <td>2</td>\n",
       "      <td>0</td>\n",
       "      <td>NaN</td>\n",
       "      <td>NaN</td>\n",
       "      <td>NaN</td>\n",
       "      <td>NaN</td>\n",
       "      <td>NaN</td>\n",
       "      <td>NaN</td>\n",
       "      <td>NaN</td>\n",
       "      <td>NaN</td>\n",
       "      <td>NaN</td>\n",
       "    </tr>\n",
       "    <tr>\n",
       "      <th>3</th>\n",
       "      <td>335982</td>\n",
       "      <td>2008</td>\n",
       "      <td>2008-04-18</td>\n",
       "      <td>M Chinnaswamy Stadium</td>\n",
       "      <td>2</td>\n",
       "      <td>3.2</td>\n",
       "      <td>Royal Challengers Bangalore</td>\n",
       "      <td>Kolkata Knight Riders</td>\n",
       "      <td>W Jaffer</td>\n",
       "      <td>JH Kallis</td>\n",
       "      <td>I Sharma</td>\n",
       "      <td>1</td>\n",
       "      <td>0</td>\n",
       "      <td>NaN</td>\n",
       "      <td>NaN</td>\n",
       "      <td>NaN</td>\n",
       "      <td>NaN</td>\n",
       "      <td>NaN</td>\n",
       "      <td>NaN</td>\n",
       "      <td>NaN</td>\n",
       "      <td>NaN</td>\n",
       "      <td>NaN</td>\n",
       "    </tr>\n",
       "    <tr>\n",
       "      <th>4</th>\n",
       "      <td>335982</td>\n",
       "      <td>2008</td>\n",
       "      <td>2008-04-18</td>\n",
       "      <td>M Chinnaswamy Stadium</td>\n",
       "      <td>2</td>\n",
       "      <td>3.3</td>\n",
       "      <td>Royal Challengers Bangalore</td>\n",
       "      <td>Kolkata Knight Riders</td>\n",
       "      <td>JH Kallis</td>\n",
       "      <td>W Jaffer</td>\n",
       "      <td>I Sharma</td>\n",
       "      <td>0</td>\n",
       "      <td>0</td>\n",
       "      <td>NaN</td>\n",
       "      <td>NaN</td>\n",
       "      <td>NaN</td>\n",
       "      <td>NaN</td>\n",
       "      <td>NaN</td>\n",
       "      <td>NaN</td>\n",
       "      <td>NaN</td>\n",
       "      <td>NaN</td>\n",
       "      <td>NaN</td>\n",
       "    </tr>\n",
       "  </tbody>\n",
       "</table>\n",
       "</div>"
      ],
      "text/plain": [
       "   match_id  season  start_date                  venue  innings  ball                 batting_team           bowling_team     striker non_striker      bowler  runs_off_bat  extras  wides  noballs  byes  legbyes  penalty wicket_type player_dismissed  other_wicket_type  other_player_dismissed\n",
       "0  335982    2008    2008-04-18  M Chinnaswamy Stadium  2        6.8   Royal Challengers Bangalore  Kolkata Knight Riders  MV Boucher  CL White    AB Agarkar  4             0      NaN    NaN      NaN   NaN      NaN       NaN         NaN             NaN                NaN                    \n",
       "1  335982    2008    2008-04-18  M Chinnaswamy Stadium  2        2.7   Royal Challengers Bangalore  Kolkata Knight Riders  W Jaffer    JH Kallis   AB Dinda    1             0      NaN    NaN      NaN   NaN      NaN       NaN         NaN             NaN                NaN                    \n",
       "2  335982    2008    2008-04-18  M Chinnaswamy Stadium  2        3.1   Royal Challengers Bangalore  Kolkata Knight Riders  W Jaffer    JH Kallis   I Sharma    2             0      NaN    NaN      NaN   NaN      NaN       NaN         NaN             NaN                NaN                    \n",
       "3  335982    2008    2008-04-18  M Chinnaswamy Stadium  2        3.2   Royal Challengers Bangalore  Kolkata Knight Riders  W Jaffer    JH Kallis   I Sharma    1             0      NaN    NaN      NaN   NaN      NaN       NaN         NaN             NaN                NaN                    \n",
       "4  335982    2008    2008-04-18  M Chinnaswamy Stadium  2        3.3   Royal Challengers Bangalore  Kolkata Knight Riders  JH Kallis   W Jaffer    I Sharma    0             0      NaN    NaN      NaN   NaN      NaN       NaN         NaN             NaN                NaN                    "
      ]
     },
     "execution_count": 4,
     "metadata": {},
     "output_type": "execute_result"
    }
   ],
   "source": [
    "main_df = main_df[(main_df.innings == 1) | (main_df.innings == 2)]\n",
    "main_df.head()"
   ]
  },
  {
   "cell_type": "code",
   "execution_count": 5,
   "id": "aac335a7",
   "metadata": {},
   "outputs": [],
   "source": [
    "season_2008_df = main_df[main_df.season == 2008].reset_index(drop= True)\n",
    "season_2009_df = main_df[main_df.season == 2009].reset_index(drop= True)\n",
    "season_2010_df = main_df[main_df.season == 2010].reset_index(drop= True)\n",
    "season_2011_df = main_df[main_df.season == 2011].reset_index(drop= True)\n",
    "season_2012_df = main_df[main_df.season == 2012].reset_index(drop= True)\n",
    "season_2013_df = main_df[main_df.season == 2013].reset_index(drop= True)\n",
    "season_2014_df = main_df[main_df.season == 2014].reset_index(drop= True)\n",
    "season_2015_df = main_df[main_df.season == 2015].reset_index(drop= True)\n",
    "season_2016_df = main_df[main_df.season == 2016].reset_index(drop= True)\n",
    "season_2017_df = main_df[main_df.season == 2017].reset_index(drop= True)\n",
    "season_2018_df = main_df[main_df.season == 2018].reset_index(drop= True)\n",
    "season_2019_df = main_df[main_df.season == 2019].reset_index(drop= True)\n",
    "season_2020_df = main_df[main_df.season == 2020].reset_index(drop= True)\n",
    "season_2021_df = main_df[main_df.season == 2021].reset_index(drop= True)"
   ]
  },
  {
   "cell_type": "code",
   "execution_count": 6,
   "id": "b9e1affa",
   "metadata": {},
   "outputs": [
    {
     "data": {
      "text/html": [
       "<div>\n",
       "<style scoped>\n",
       "    .dataframe tbody tr th:only-of-type {\n",
       "        vertical-align: middle;\n",
       "    }\n",
       "\n",
       "    .dataframe tbody tr th {\n",
       "        vertical-align: top;\n",
       "    }\n",
       "\n",
       "    .dataframe thead th {\n",
       "        text-align: right;\n",
       "    }\n",
       "</style>\n",
       "<table border=\"1\" class=\"dataframe\">\n",
       "  <thead>\n",
       "    <tr style=\"text-align: right;\">\n",
       "      <th></th>\n",
       "      <th>match_id</th>\n",
       "      <th>season</th>\n",
       "      <th>start_date</th>\n",
       "      <th>venue</th>\n",
       "      <th>innings</th>\n",
       "      <th>ball</th>\n",
       "      <th>batting_team</th>\n",
       "      <th>bowling_team</th>\n",
       "      <th>striker</th>\n",
       "      <th>non_striker</th>\n",
       "      <th>bowler</th>\n",
       "      <th>runs_off_bat</th>\n",
       "      <th>extras</th>\n",
       "      <th>wides</th>\n",
       "      <th>noballs</th>\n",
       "      <th>byes</th>\n",
       "      <th>legbyes</th>\n",
       "      <th>penalty</th>\n",
       "      <th>wicket_type</th>\n",
       "      <th>player_dismissed</th>\n",
       "      <th>other_wicket_type</th>\n",
       "      <th>other_player_dismissed</th>\n",
       "    </tr>\n",
       "  </thead>\n",
       "  <tbody>\n",
       "    <tr>\n",
       "      <th>0</th>\n",
       "      <td>335982</td>\n",
       "      <td>2008</td>\n",
       "      <td>2008-04-18</td>\n",
       "      <td>M Chinnaswamy Stadium</td>\n",
       "      <td>2</td>\n",
       "      <td>6.8</td>\n",
       "      <td>Royal Challengers Bangalore</td>\n",
       "      <td>Kolkata Knight Riders</td>\n",
       "      <td>MV Boucher</td>\n",
       "      <td>CL White</td>\n",
       "      <td>AB Agarkar</td>\n",
       "      <td>4</td>\n",
       "      <td>0</td>\n",
       "      <td>NaN</td>\n",
       "      <td>NaN</td>\n",
       "      <td>NaN</td>\n",
       "      <td>NaN</td>\n",
       "      <td>NaN</td>\n",
       "      <td>NaN</td>\n",
       "      <td>NaN</td>\n",
       "      <td>NaN</td>\n",
       "      <td>NaN</td>\n",
       "    </tr>\n",
       "  </tbody>\n",
       "</table>\n",
       "</div>"
      ],
      "text/plain": [
       "   match_id  season  start_date                  venue  innings  ball                 batting_team           bowling_team     striker non_striker      bowler  runs_off_bat  extras  wides  noballs  byes  legbyes  penalty wicket_type player_dismissed  other_wicket_type  other_player_dismissed\n",
       "0  335982    2008    2008-04-18  M Chinnaswamy Stadium  2        6.8   Royal Challengers Bangalore  Kolkata Knight Riders  MV Boucher  CL White    AB Agarkar  4             0      NaN    NaN      NaN   NaN      NaN       NaN         NaN             NaN                NaN                    "
      ]
     },
     "execution_count": 6,
     "metadata": {},
     "output_type": "execute_result"
    }
   ],
   "source": [
    "season_2008_df.head(1)"
   ]
  },
  {
   "cell_type": "code",
   "execution_count": 7,
   "id": "c7bcff05",
   "metadata": {},
   "outputs": [],
   "source": [
    "#season 2008\n",
    "season_2008_top_run_off_df = pd.DataFrame(season_2008_df.groupby('striker')['runs_off_bat'].sum()).sort_values(by = ['runs_off_bat'] , ascending=False).reset_index()\n",
    "season_2008_balls_df = pd.DataFrame(season_2008_df.groupby('striker')['ball'].count()).sort_values(by = ['ball'] , ascending=False).reset_index()\n",
    "season_2008_top_run_scorer_df = season_2008_top_run_off_df.merge(season_2008_balls_df, on ='striker', how='left')\n",
    "season_2008_top_run_scorer_df['Strike_rate'] = 100* season_2008_top_run_scorer_df.runs_off_bat/season_2008_top_run_scorer_df.ball\n",
    "\n",
    "#season 2009\n",
    "season_2009_top_run_off_df = pd.DataFrame(season_2009_df.groupby('striker')['runs_off_bat'].sum()).sort_values(by = ['runs_off_bat'] , ascending=False).reset_index()\n",
    "season_2009_balls_df = pd.DataFrame(season_2009_df.groupby('striker')['ball'].count()).sort_values(by = ['ball'] , ascending=False).reset_index()\n",
    "season_2009_top_run_scorer_df = season_2009_top_run_off_df.merge(season_2009_balls_df, on ='striker', how='left')\n",
    "season_2009_top_run_scorer_df['Strike_rate'] = 100* season_2009_top_run_scorer_df.runs_off_bat/season_2009_top_run_scorer_df.ball\n",
    "\n"
   ]
  },
  {
   "cell_type": "code",
   "execution_count": 8,
   "id": "13a79d71",
   "metadata": {},
   "outputs": [],
   "source": [
    "#season 2010\n",
    "season_2010_top_run_off_df = pd.DataFrame(season_2010_df.groupby('striker')['runs_off_bat'].sum()).sort_values(by = ['runs_off_bat'] , ascending=False).reset_index()\n",
    "season_2010_balls_df = pd.DataFrame(season_2010_df.groupby('striker')['ball'].count()).sort_values(by = ['ball'] , ascending=False).reset_index()\n",
    "season_2010_top_run_scorer_df = season_2010_top_run_off_df.merge(season_2010_balls_df, on ='striker', how='left')\n",
    "season_2010_top_run_scorer_df['Strike_rate'] = 100* season_2010_top_run_scorer_df.runs_off_bat/season_2010_top_run_scorer_df.ball\n",
    "\n",
    "#season 2011\n",
    "season_2011_top_run_off_df = pd.DataFrame(season_2011_df.groupby('striker')['runs_off_bat'].sum()).sort_values(by = ['runs_off_bat'] , ascending=False).reset_index()\n",
    "season_2011_balls_df = pd.DataFrame(season_2011_df.groupby('striker')['ball'].count()).sort_values(by = ['ball'] , ascending=False).reset_index()\n",
    "season_2011_top_run_scorer_df = season_2011_top_run_off_df.merge(season_2011_balls_df, on ='striker', how='left')\n",
    "season_2011_top_run_scorer_df['Strike_rate'] = 100* season_2011_top_run_scorer_df.runs_off_bat/season_2011_top_run_scorer_df.ball\n",
    "\n"
   ]
  },
  {
   "cell_type": "code",
   "execution_count": 9,
   "id": "8400b224",
   "metadata": {},
   "outputs": [],
   "source": [
    "#season 2012\n",
    "season_2012_top_run_off_df = pd.DataFrame(season_2012_df.groupby('striker')['runs_off_bat'].sum()).sort_values(by = ['runs_off_bat'] , ascending=False).reset_index()\n",
    "season_2012_balls_df = pd.DataFrame(season_2012_df.groupby('striker')['ball'].count()).sort_values(by = ['ball'] , ascending=False).reset_index()\n",
    "season_2012_top_run_scorer_df = season_2012_top_run_off_df.merge(season_2012_balls_df, on ='striker', how='left')\n",
    "season_2012_top_run_scorer_df['Strike_rate'] = 100* season_2012_top_run_scorer_df.runs_off_bat/season_2012_top_run_scorer_df.ball\n",
    "\n",
    "#season 2013\n",
    "season_2013_top_run_off_df = pd.DataFrame(season_2013_df.groupby('striker')['runs_off_bat'].sum()).sort_values(by = ['runs_off_bat'] , ascending=False).reset_index()\n",
    "season_2013_balls_df = pd.DataFrame(season_2013_df.groupby('striker')['ball'].count()).sort_values(by = ['ball'] , ascending=False).reset_index()\n",
    "season_2013_top_run_scorer_df = season_2013_top_run_off_df.merge(season_2013_balls_df, on ='striker', how='left')\n",
    "season_2013_top_run_scorer_df['Strike_rate'] = 100* season_2013_top_run_scorer_df.runs_off_bat/season_2013_top_run_scorer_df.ball\n",
    "\n"
   ]
  },
  {
   "cell_type": "code",
   "execution_count": 10,
   "id": "7f97a4f5",
   "metadata": {},
   "outputs": [],
   "source": [
    "#season 2012\n",
    "season_2012_top_run_off_df = pd.DataFrame(season_2012_df.groupby('striker')['runs_off_bat'].sum()).sort_values(by = ['runs_off_bat'] , ascending=False).reset_index()\n",
    "season_2012_balls_df = pd.DataFrame(season_2012_df.groupby('striker')['ball'].count()).sort_values(by = ['ball'] , ascending=False).reset_index()\n",
    "season_2012_top_run_scorer_df = season_2012_top_run_off_df.merge(season_2012_balls_df, on ='striker', how='left')\n",
    "season_2012_top_run_scorer_df['Strike_rate'] = 100* season_2012_top_run_scorer_df.runs_off_bat/season_2012_top_run_scorer_df.ball\n",
    "\n",
    "#season 2013\n",
    "season_2013_top_run_off_df = pd.DataFrame(season_2013_df.groupby('striker')['runs_off_bat'].sum()).sort_values(by = ['runs_off_bat'] , ascending=False).reset_index()\n",
    "season_2013_balls_df = pd.DataFrame(season_2013_df.groupby('striker')['ball'].count()).sort_values(by = ['ball'] , ascending=False).reset_index()\n",
    "season_2013_top_run_scorer_df = season_2013_top_run_off_df.merge(season_2013_balls_df, on ='striker', how='left')\n",
    "season_2013_top_run_scorer_df['Strike_rate'] = 100* season_2013_top_run_scorer_df.runs_off_bat/season_2013_top_run_scorer_df.ball\n",
    "\n"
   ]
  },
  {
   "cell_type": "code",
   "execution_count": 11,
   "id": "abb8ea63",
   "metadata": {},
   "outputs": [],
   "source": [
    "#season 2014\n",
    "season_2014_top_run_off_df = pd.DataFrame(season_2014_df.groupby('striker')['runs_off_bat'].sum()).sort_values(by = ['runs_off_bat'] , ascending=False).reset_index()\n",
    "season_2014_balls_df = pd.DataFrame(season_2014_df.groupby('striker')['ball'].count()).sort_values(by = ['ball'] , ascending=False).reset_index()\n",
    "season_2014_top_run_scorer_df = season_2014_top_run_off_df.merge(season_2014_balls_df, on ='striker', how='left')\n",
    "season_2014_top_run_scorer_df['Strike_rate'] = 100* season_2014_top_run_scorer_df.runs_off_bat/season_2014_top_run_scorer_df.ball\n",
    "\n",
    "#season 2015\n",
    "season_2015_top_run_off_df = pd.DataFrame(season_2015_df.groupby('striker')['runs_off_bat'].sum()).sort_values(by = ['runs_off_bat'] , ascending=False).reset_index()\n",
    "season_2015_balls_df = pd.DataFrame(season_2015_df.groupby('striker')['ball'].count()).sort_values(by = ['ball'] , ascending=False).reset_index()\n",
    "season_2015_top_run_scorer_df = season_2015_top_run_off_df.merge(season_2015_balls_df, on ='striker', how='left')\n",
    "season_2015_top_run_scorer_df['Strike_rate'] = 100* season_2015_top_run_scorer_df.runs_off_bat/season_2015_top_run_scorer_df.ball\n",
    "\n"
   ]
  },
  {
   "cell_type": "code",
   "execution_count": 12,
   "id": "62e22e19",
   "metadata": {},
   "outputs": [],
   "source": [
    "#season 2016\n",
    "season_2016_top_run_off_df = pd.DataFrame(season_2016_df.groupby('striker')['runs_off_bat'].sum()).sort_values(by = ['runs_off_bat'] , ascending=False).reset_index()\n",
    "season_2016_balls_df = pd.DataFrame(season_2016_df.groupby('striker')['ball'].count()).sort_values(by = ['ball'] , ascending=False).reset_index()\n",
    "season_2016_top_run_scorer_df = season_2016_top_run_off_df.merge(season_2016_balls_df, on ='striker', how='left')\n",
    "season_2016_top_run_scorer_df['Strike_rate'] = 100* season_2016_top_run_scorer_df.runs_off_bat/season_2016_top_run_scorer_df.ball\n",
    "\n",
    "#season 2017\n",
    "season_2017_top_run_off_df = pd.DataFrame(season_2017_df.groupby('striker')['runs_off_bat'].sum()).sort_values(by = ['runs_off_bat'] , ascending=False).reset_index()\n",
    "season_2017_balls_df = pd.DataFrame(season_2017_df.groupby('striker')['ball'].count()).sort_values(by = ['ball'] , ascending=False).reset_index()\n",
    "season_2017_top_run_scorer_df = season_2017_top_run_off_df.merge(season_2017_balls_df, on ='striker', how='left')\n",
    "season_2017_top_run_scorer_df['Strike_rate'] = 100* season_2017_top_run_scorer_df.runs_off_bat/season_2017_top_run_scorer_df.ball\n",
    "\n"
   ]
  },
  {
   "cell_type": "code",
   "execution_count": 13,
   "id": "ddb19382",
   "metadata": {},
   "outputs": [],
   "source": [
    "#season 2018\n",
    "season_2018_top_run_off_df = pd.DataFrame(season_2018_df.groupby('striker')['runs_off_bat'].sum()).sort_values(by = ['runs_off_bat'] , ascending=False).reset_index()\n",
    "season_2018_balls_df = pd.DataFrame(season_2018_df.groupby('striker')['ball'].count()).sort_values(by = ['ball'] , ascending=False).reset_index()\n",
    "season_2018_top_run_scorer_df = season_2018_top_run_off_df.merge(season_2018_balls_df, on ='striker', how='left')\n",
    "season_2018_top_run_scorer_df['Strike_rate'] = 100* season_2018_top_run_scorer_df.runs_off_bat/season_2018_top_run_scorer_df.ball\n",
    "\n",
    "#season 2019\n",
    "season_2019_top_run_off_df = pd.DataFrame(season_2019_df.groupby('striker')['runs_off_bat'].sum()).sort_values(by = ['runs_off_bat'] , ascending=False).reset_index()\n",
    "season_2019_balls_df = pd.DataFrame(season_2019_df.groupby('striker')['ball'].count()).sort_values(by = ['ball'] , ascending=False).reset_index()\n",
    "season_2019_top_run_scorer_df = season_2019_top_run_off_df.merge(season_2019_balls_df, on ='striker', how='left')\n",
    "season_2019_top_run_scorer_df['Strike_rate'] = 100* season_2019_top_run_scorer_df.runs_off_bat/season_2019_top_run_scorer_df.ball\n",
    "\n"
   ]
  },
  {
   "cell_type": "code",
   "execution_count": 14,
   "id": "b5b5e218",
   "metadata": {},
   "outputs": [],
   "source": [
    "#season 2020\n",
    "season_2020_top_run_off_df = pd.DataFrame(season_2020_df.groupby('striker')['runs_off_bat'].sum()).sort_values(by = ['runs_off_bat'] , ascending=False).reset_index()\n",
    "season_2020_balls_df = pd.DataFrame(season_2020_df.groupby('striker')['ball'].count()).sort_values(by = ['ball'] , ascending=False).reset_index()\n",
    "season_2020_top_run_scorer_df = season_2020_top_run_off_df.merge(season_2020_balls_df, on ='striker', how='left')\n",
    "season_2020_top_run_scorer_df['Strike_rate'] = 100* season_2020_top_run_scorer_df.runs_off_bat/season_2020_top_run_scorer_df.ball\n",
    "\n",
    "#season 2021\n",
    "season_2021_top_run_off_df = pd.DataFrame(season_2021_df.groupby('striker')['runs_off_bat'].sum()).sort_values(by = ['runs_off_bat'] , ascending=False).reset_index()\n",
    "season_2021_balls_df = pd.DataFrame(season_2021_df.groupby('striker')['ball'].count()).sort_values(by = ['ball'] , ascending=False).reset_index()\n",
    "season_2021_top_run_scorer_df = season_2021_top_run_off_df.merge(season_2021_balls_df, on ='striker', how='left')\n",
    "season_2021_top_run_scorer_df['Strike_rate'] = 100* season_2021_top_run_scorer_df.runs_off_bat/season_2021_top_run_scorer_df.ball\n"
   ]
  },
  {
   "cell_type": "code",
   "execution_count": 15,
   "id": "9258b640",
   "metadata": {},
   "outputs": [
    {
     "data": {
      "text/html": [
       "<div>\n",
       "<style scoped>\n",
       "    .dataframe tbody tr th:only-of-type {\n",
       "        vertical-align: middle;\n",
       "    }\n",
       "\n",
       "    .dataframe tbody tr th {\n",
       "        vertical-align: top;\n",
       "    }\n",
       "\n",
       "    .dataframe thead th {\n",
       "        text-align: right;\n",
       "    }\n",
       "</style>\n",
       "<table border=\"1\" class=\"dataframe\">\n",
       "  <thead>\n",
       "    <tr style=\"text-align: right;\">\n",
       "      <th></th>\n",
       "      <th>striker</th>\n",
       "      <th>runs_off_bat</th>\n",
       "      <th>ball</th>\n",
       "      <th>Strike_rate</th>\n",
       "    </tr>\n",
       "  </thead>\n",
       "  <tbody>\n",
       "    <tr>\n",
       "      <th>0</th>\n",
       "      <td>SE Marsh</td>\n",
       "      <td>616</td>\n",
       "      <td>452</td>\n",
       "      <td>136.283186</td>\n",
       "    </tr>\n",
       "    <tr>\n",
       "      <th>1</th>\n",
       "      <td>G Gambhir</td>\n",
       "      <td>534</td>\n",
       "      <td>394</td>\n",
       "      <td>135.532995</td>\n",
       "    </tr>\n",
       "  </tbody>\n",
       "</table>\n",
       "</div>"
      ],
      "text/plain": [
       "     striker  runs_off_bat  ball  Strike_rate\n",
       "0  SE Marsh   616           452   136.283186 \n",
       "1  G Gambhir  534           394   135.532995 "
      ]
     },
     "execution_count": 15,
     "metadata": {},
     "output_type": "execute_result"
    }
   ],
   "source": [
    "season_2008_top_run_scorer_df.head(2)"
   ]
  },
  {
   "cell_type": "code",
   "execution_count": 16,
   "id": "2a35b45d",
   "metadata": {},
   "outputs": [
    {
     "data": {
      "text/html": [
       "<div>\n",
       "<style scoped>\n",
       "    .dataframe tbody tr th:only-of-type {\n",
       "        vertical-align: middle;\n",
       "    }\n",
       "\n",
       "    .dataframe tbody tr th {\n",
       "        vertical-align: top;\n",
       "    }\n",
       "\n",
       "    .dataframe thead th {\n",
       "        text-align: right;\n",
       "    }\n",
       "</style>\n",
       "<table border=\"1\" class=\"dataframe\">\n",
       "  <thead>\n",
       "    <tr style=\"text-align: right;\">\n",
       "      <th></th>\n",
       "      <th>striker</th>\n",
       "      <th>runs_off_bat</th>\n",
       "      <th>ball</th>\n",
       "      <th>Strike_rate</th>\n",
       "    </tr>\n",
       "  </thead>\n",
       "  <tbody>\n",
       "    <tr>\n",
       "      <th>0</th>\n",
       "      <td>ML Hayden</td>\n",
       "      <td>572</td>\n",
       "      <td>409</td>\n",
       "      <td>139.853301</td>\n",
       "    </tr>\n",
       "    <tr>\n",
       "      <th>1</th>\n",
       "      <td>AC Gilchrist</td>\n",
       "      <td>495</td>\n",
       "      <td>337</td>\n",
       "      <td>146.884273</td>\n",
       "    </tr>\n",
       "  </tbody>\n",
       "</table>\n",
       "</div>"
      ],
      "text/plain": [
       "        striker  runs_off_bat  ball  Strike_rate\n",
       "0  ML Hayden     572           409   139.853301 \n",
       "1  AC Gilchrist  495           337   146.884273 "
      ]
     },
     "execution_count": 16,
     "metadata": {},
     "output_type": "execute_result"
    }
   ],
   "source": [
    "season_2009_top_run_scorer_df.head(2)"
   ]
  },
  {
   "cell_type": "code",
   "execution_count": 17,
   "id": "cbb40b35",
   "metadata": {},
   "outputs": [
    {
     "data": {
      "text/html": [
       "<div>\n",
       "<style scoped>\n",
       "    .dataframe tbody tr th:only-of-type {\n",
       "        vertical-align: middle;\n",
       "    }\n",
       "\n",
       "    .dataframe tbody tr th {\n",
       "        vertical-align: top;\n",
       "    }\n",
       "\n",
       "    .dataframe thead th {\n",
       "        text-align: right;\n",
       "    }\n",
       "</style>\n",
       "<table border=\"1\" class=\"dataframe\">\n",
       "  <thead>\n",
       "    <tr style=\"text-align: right;\">\n",
       "      <th></th>\n",
       "      <th>striker</th>\n",
       "      <th>runs_off_bat</th>\n",
       "      <th>ball</th>\n",
       "      <th>Strike_rate</th>\n",
       "    </tr>\n",
       "  </thead>\n",
       "  <tbody>\n",
       "    <tr>\n",
       "      <th>0</th>\n",
       "      <td>SR Tendulkar</td>\n",
       "      <td>617</td>\n",
       "      <td>488</td>\n",
       "      <td>126.434426</td>\n",
       "    </tr>\n",
       "    <tr>\n",
       "      <th>1</th>\n",
       "      <td>JH Kallis</td>\n",
       "      <td>572</td>\n",
       "      <td>517</td>\n",
       "      <td>110.638298</td>\n",
       "    </tr>\n",
       "  </tbody>\n",
       "</table>\n",
       "</div>"
      ],
      "text/plain": [
       "        striker  runs_off_bat  ball  Strike_rate\n",
       "0  SR Tendulkar  617           488   126.434426 \n",
       "1  JH Kallis     572           517   110.638298 "
      ]
     },
     "execution_count": 17,
     "metadata": {},
     "output_type": "execute_result"
    }
   ],
   "source": [
    "season_2010_top_run_scorer_df.head(2)"
   ]
  },
  {
   "cell_type": "code",
   "execution_count": 18,
   "id": "7fbc581c",
   "metadata": {},
   "outputs": [
    {
     "data": {
      "text/html": [
       "<div>\n",
       "<style scoped>\n",
       "    .dataframe tbody tr th:only-of-type {\n",
       "        vertical-align: middle;\n",
       "    }\n",
       "\n",
       "    .dataframe tbody tr th {\n",
       "        vertical-align: top;\n",
       "    }\n",
       "\n",
       "    .dataframe thead th {\n",
       "        text-align: right;\n",
       "    }\n",
       "</style>\n",
       "<table border=\"1\" class=\"dataframe\">\n",
       "  <thead>\n",
       "    <tr style=\"text-align: right;\">\n",
       "      <th></th>\n",
       "      <th>striker</th>\n",
       "      <th>runs_off_bat</th>\n",
       "      <th>ball</th>\n",
       "      <th>Strike_rate</th>\n",
       "    </tr>\n",
       "  </thead>\n",
       "  <tbody>\n",
       "    <tr>\n",
       "      <th>0</th>\n",
       "      <td>CH Gayle</td>\n",
       "      <td>608</td>\n",
       "      <td>342</td>\n",
       "      <td>177.777778</td>\n",
       "    </tr>\n",
       "    <tr>\n",
       "      <th>1</th>\n",
       "      <td>V Kohli</td>\n",
       "      <td>557</td>\n",
       "      <td>473</td>\n",
       "      <td>117.758985</td>\n",
       "    </tr>\n",
       "  </tbody>\n",
       "</table>\n",
       "</div>"
      ],
      "text/plain": [
       "    striker  runs_off_bat  ball  Strike_rate\n",
       "0  CH Gayle  608           342   177.777778 \n",
       "1  V Kohli   557           473   117.758985 "
      ]
     },
     "execution_count": 18,
     "metadata": {},
     "output_type": "execute_result"
    }
   ],
   "source": [
    "season_2011_top_run_scorer_df.head(2)"
   ]
  },
  {
   "cell_type": "code",
   "execution_count": 19,
   "id": "2ccc9a06",
   "metadata": {},
   "outputs": [
    {
     "data": {
      "text/html": [
       "<div>\n",
       "<style scoped>\n",
       "    .dataframe tbody tr th:only-of-type {\n",
       "        vertical-align: middle;\n",
       "    }\n",
       "\n",
       "    .dataframe tbody tr th {\n",
       "        vertical-align: top;\n",
       "    }\n",
       "\n",
       "    .dataframe thead th {\n",
       "        text-align: right;\n",
       "    }\n",
       "</style>\n",
       "<table border=\"1\" class=\"dataframe\">\n",
       "  <thead>\n",
       "    <tr style=\"text-align: right;\">\n",
       "      <th></th>\n",
       "      <th>striker</th>\n",
       "      <th>runs_off_bat</th>\n",
       "      <th>ball</th>\n",
       "      <th>Strike_rate</th>\n",
       "    </tr>\n",
       "  </thead>\n",
       "  <tbody>\n",
       "    <tr>\n",
       "      <th>0</th>\n",
       "      <td>CH Gayle</td>\n",
       "      <td>733</td>\n",
       "      <td>472</td>\n",
       "      <td>155.296610</td>\n",
       "    </tr>\n",
       "    <tr>\n",
       "      <th>1</th>\n",
       "      <td>G Gambhir</td>\n",
       "      <td>590</td>\n",
       "      <td>429</td>\n",
       "      <td>137.529138</td>\n",
       "    </tr>\n",
       "  </tbody>\n",
       "</table>\n",
       "</div>"
      ],
      "text/plain": [
       "     striker  runs_off_bat  ball  Strike_rate\n",
       "0  CH Gayle   733           472   155.296610 \n",
       "1  G Gambhir  590           429   137.529138 "
      ]
     },
     "execution_count": 19,
     "metadata": {},
     "output_type": "execute_result"
    }
   ],
   "source": [
    "season_2012_top_run_scorer_df.head(2)"
   ]
  },
  {
   "cell_type": "code",
   "execution_count": 20,
   "id": "b6a62de0",
   "metadata": {},
   "outputs": [
    {
     "data": {
      "text/html": [
       "<div>\n",
       "<style scoped>\n",
       "    .dataframe tbody tr th:only-of-type {\n",
       "        vertical-align: middle;\n",
       "    }\n",
       "\n",
       "    .dataframe tbody tr th {\n",
       "        vertical-align: top;\n",
       "    }\n",
       "\n",
       "    .dataframe thead th {\n",
       "        text-align: right;\n",
       "    }\n",
       "</style>\n",
       "<table border=\"1\" class=\"dataframe\">\n",
       "  <thead>\n",
       "    <tr style=\"text-align: right;\">\n",
       "      <th></th>\n",
       "      <th>striker</th>\n",
       "      <th>runs_off_bat</th>\n",
       "      <th>ball</th>\n",
       "      <th>Strike_rate</th>\n",
       "    </tr>\n",
       "  </thead>\n",
       "  <tbody>\n",
       "    <tr>\n",
       "      <th>0</th>\n",
       "      <td>MEK Hussey</td>\n",
       "      <td>733</td>\n",
       "      <td>580</td>\n",
       "      <td>126.379310</td>\n",
       "    </tr>\n",
       "    <tr>\n",
       "      <th>1</th>\n",
       "      <td>CH Gayle</td>\n",
       "      <td>708</td>\n",
       "      <td>478</td>\n",
       "      <td>148.117155</td>\n",
       "    </tr>\n",
       "  </tbody>\n",
       "</table>\n",
       "</div>"
      ],
      "text/plain": [
       "      striker  runs_off_bat  ball  Strike_rate\n",
       "0  MEK Hussey  733           580   126.379310 \n",
       "1  CH Gayle    708           478   148.117155 "
      ]
     },
     "execution_count": 20,
     "metadata": {},
     "output_type": "execute_result"
    }
   ],
   "source": [
    "season_2013_top_run_scorer_df.head(2)"
   ]
  },
  {
   "cell_type": "code",
   "execution_count": 21,
   "id": "adb4717c",
   "metadata": {},
   "outputs": [
    {
     "data": {
      "text/html": [
       "<div>\n",
       "<style scoped>\n",
       "    .dataframe tbody tr th:only-of-type {\n",
       "        vertical-align: middle;\n",
       "    }\n",
       "\n",
       "    .dataframe tbody tr th {\n",
       "        vertical-align: top;\n",
       "    }\n",
       "\n",
       "    .dataframe thead th {\n",
       "        text-align: right;\n",
       "    }\n",
       "</style>\n",
       "<table border=\"1\" class=\"dataframe\">\n",
       "  <thead>\n",
       "    <tr style=\"text-align: right;\">\n",
       "      <th></th>\n",
       "      <th>striker</th>\n",
       "      <th>runs_off_bat</th>\n",
       "      <th>ball</th>\n",
       "      <th>Strike_rate</th>\n",
       "    </tr>\n",
       "  </thead>\n",
       "  <tbody>\n",
       "    <tr>\n",
       "      <th>0</th>\n",
       "      <td>RV Uthappa</td>\n",
       "      <td>660</td>\n",
       "      <td>485</td>\n",
       "      <td>136.082474</td>\n",
       "    </tr>\n",
       "    <tr>\n",
       "      <th>1</th>\n",
       "      <td>DR Smith</td>\n",
       "      <td>566</td>\n",
       "      <td>425</td>\n",
       "      <td>133.176471</td>\n",
       "    </tr>\n",
       "  </tbody>\n",
       "</table>\n",
       "</div>"
      ],
      "text/plain": [
       "      striker  runs_off_bat  ball  Strike_rate\n",
       "0  RV Uthappa  660           485   136.082474 \n",
       "1  DR Smith    566           425   133.176471 "
      ]
     },
     "execution_count": 21,
     "metadata": {},
     "output_type": "execute_result"
    }
   ],
   "source": [
    "season_2014_top_run_scorer_df.head(2)"
   ]
  },
  {
   "cell_type": "code",
   "execution_count": 22,
   "id": "1719c027",
   "metadata": {},
   "outputs": [
    {
     "data": {
      "text/html": [
       "<div>\n",
       "<style scoped>\n",
       "    .dataframe tbody tr th:only-of-type {\n",
       "        vertical-align: middle;\n",
       "    }\n",
       "\n",
       "    .dataframe tbody tr th {\n",
       "        vertical-align: top;\n",
       "    }\n",
       "\n",
       "    .dataframe thead th {\n",
       "        text-align: right;\n",
       "    }\n",
       "</style>\n",
       "<table border=\"1\" class=\"dataframe\">\n",
       "  <thead>\n",
       "    <tr style=\"text-align: right;\">\n",
       "      <th></th>\n",
       "      <th>striker</th>\n",
       "      <th>runs_off_bat</th>\n",
       "      <th>ball</th>\n",
       "      <th>Strike_rate</th>\n",
       "    </tr>\n",
       "  </thead>\n",
       "  <tbody>\n",
       "    <tr>\n",
       "      <th>0</th>\n",
       "      <td>DA Warner</td>\n",
       "      <td>562</td>\n",
       "      <td>368</td>\n",
       "      <td>152.717391</td>\n",
       "    </tr>\n",
       "    <tr>\n",
       "      <th>1</th>\n",
       "      <td>AM Rahane</td>\n",
       "      <td>540</td>\n",
       "      <td>423</td>\n",
       "      <td>127.659574</td>\n",
       "    </tr>\n",
       "  </tbody>\n",
       "</table>\n",
       "</div>"
      ],
      "text/plain": [
       "     striker  runs_off_bat  ball  Strike_rate\n",
       "0  DA Warner  562           368   152.717391 \n",
       "1  AM Rahane  540           423   127.659574 "
      ]
     },
     "execution_count": 22,
     "metadata": {},
     "output_type": "execute_result"
    }
   ],
   "source": [
    "season_2015_top_run_scorer_df.head(2)"
   ]
  },
  {
   "cell_type": "code",
   "execution_count": 23,
   "id": "51307922",
   "metadata": {},
   "outputs": [
    {
     "data": {
      "text/html": [
       "<div>\n",
       "<style scoped>\n",
       "    .dataframe tbody tr th:only-of-type {\n",
       "        vertical-align: middle;\n",
       "    }\n",
       "\n",
       "    .dataframe tbody tr th {\n",
       "        vertical-align: top;\n",
       "    }\n",
       "\n",
       "    .dataframe thead th {\n",
       "        text-align: right;\n",
       "    }\n",
       "</style>\n",
       "<table border=\"1\" class=\"dataframe\">\n",
       "  <thead>\n",
       "    <tr style=\"text-align: right;\">\n",
       "      <th></th>\n",
       "      <th>striker</th>\n",
       "      <th>runs_off_bat</th>\n",
       "      <th>ball</th>\n",
       "      <th>Strike_rate</th>\n",
       "    </tr>\n",
       "  </thead>\n",
       "  <tbody>\n",
       "    <tr>\n",
       "      <th>0</th>\n",
       "      <td>V Kohli</td>\n",
       "      <td>973</td>\n",
       "      <td>655</td>\n",
       "      <td>148.549618</td>\n",
       "    </tr>\n",
       "    <tr>\n",
       "      <th>1</th>\n",
       "      <td>DA Warner</td>\n",
       "      <td>848</td>\n",
       "      <td>579</td>\n",
       "      <td>146.459413</td>\n",
       "    </tr>\n",
       "  </tbody>\n",
       "</table>\n",
       "</div>"
      ],
      "text/plain": [
       "     striker  runs_off_bat  ball  Strike_rate\n",
       "0  V Kohli    973           655   148.549618 \n",
       "1  DA Warner  848           579   146.459413 "
      ]
     },
     "execution_count": 23,
     "metadata": {},
     "output_type": "execute_result"
    }
   ],
   "source": [
    "season_2016_top_run_scorer_df.head(2)"
   ]
  },
  {
   "cell_type": "code",
   "execution_count": 24,
   "id": "98ef8f72",
   "metadata": {},
   "outputs": [
    {
     "data": {
      "text/html": [
       "<div>\n",
       "<style scoped>\n",
       "    .dataframe tbody tr th:only-of-type {\n",
       "        vertical-align: middle;\n",
       "    }\n",
       "\n",
       "    .dataframe tbody tr th {\n",
       "        vertical-align: top;\n",
       "    }\n",
       "\n",
       "    .dataframe thead th {\n",
       "        text-align: right;\n",
       "    }\n",
       "</style>\n",
       "<table border=\"1\" class=\"dataframe\">\n",
       "  <thead>\n",
       "    <tr style=\"text-align: right;\">\n",
       "      <th></th>\n",
       "      <th>striker</th>\n",
       "      <th>runs_off_bat</th>\n",
       "      <th>ball</th>\n",
       "      <th>Strike_rate</th>\n",
       "    </tr>\n",
       "  </thead>\n",
       "  <tbody>\n",
       "    <tr>\n",
       "      <th>0</th>\n",
       "      <td>DA Warner</td>\n",
       "      <td>641</td>\n",
       "      <td>462</td>\n",
       "      <td>138.744589</td>\n",
       "    </tr>\n",
       "    <tr>\n",
       "      <th>1</th>\n",
       "      <td>G Gambhir</td>\n",
       "      <td>498</td>\n",
       "      <td>405</td>\n",
       "      <td>122.962963</td>\n",
       "    </tr>\n",
       "  </tbody>\n",
       "</table>\n",
       "</div>"
      ],
      "text/plain": [
       "     striker  runs_off_bat  ball  Strike_rate\n",
       "0  DA Warner  641           462   138.744589 \n",
       "1  G Gambhir  498           405   122.962963 "
      ]
     },
     "execution_count": 24,
     "metadata": {},
     "output_type": "execute_result"
    }
   ],
   "source": [
    "season_2017_top_run_scorer_df.head(2)"
   ]
  },
  {
   "cell_type": "code",
   "execution_count": 25,
   "id": "352da122",
   "metadata": {},
   "outputs": [
    {
     "data": {
      "text/html": [
       "<div>\n",
       "<style scoped>\n",
       "    .dataframe tbody tr th:only-of-type {\n",
       "        vertical-align: middle;\n",
       "    }\n",
       "\n",
       "    .dataframe tbody tr th {\n",
       "        vertical-align: top;\n",
       "    }\n",
       "\n",
       "    .dataframe thead th {\n",
       "        text-align: right;\n",
       "    }\n",
       "</style>\n",
       "<table border=\"1\" class=\"dataframe\">\n",
       "  <thead>\n",
       "    <tr style=\"text-align: right;\">\n",
       "      <th></th>\n",
       "      <th>striker</th>\n",
       "      <th>runs_off_bat</th>\n",
       "      <th>ball</th>\n",
       "      <th>Strike_rate</th>\n",
       "    </tr>\n",
       "  </thead>\n",
       "  <tbody>\n",
       "    <tr>\n",
       "      <th>0</th>\n",
       "      <td>KS Williamson</td>\n",
       "      <td>735</td>\n",
       "      <td>522</td>\n",
       "      <td>140.804598</td>\n",
       "    </tr>\n",
       "    <tr>\n",
       "      <th>1</th>\n",
       "      <td>RR Pant</td>\n",
       "      <td>684</td>\n",
       "      <td>412</td>\n",
       "      <td>166.019417</td>\n",
       "    </tr>\n",
       "  </tbody>\n",
       "</table>\n",
       "</div>"
      ],
      "text/plain": [
       "         striker  runs_off_bat  ball  Strike_rate\n",
       "0  KS Williamson  735           522   140.804598 \n",
       "1  RR Pant        684           412   166.019417 "
      ]
     },
     "execution_count": 25,
     "metadata": {},
     "output_type": "execute_result"
    }
   ],
   "source": [
    "season_2018_top_run_scorer_df.head(2)"
   ]
  },
  {
   "cell_type": "code",
   "execution_count": 26,
   "id": "01d3f2f3",
   "metadata": {},
   "outputs": [
    {
     "data": {
      "text/html": [
       "<div>\n",
       "<style scoped>\n",
       "    .dataframe tbody tr th:only-of-type {\n",
       "        vertical-align: middle;\n",
       "    }\n",
       "\n",
       "    .dataframe tbody tr th {\n",
       "        vertical-align: top;\n",
       "    }\n",
       "\n",
       "    .dataframe thead th {\n",
       "        text-align: right;\n",
       "    }\n",
       "</style>\n",
       "<table border=\"1\" class=\"dataframe\">\n",
       "  <thead>\n",
       "    <tr style=\"text-align: right;\">\n",
       "      <th></th>\n",
       "      <th>striker</th>\n",
       "      <th>runs_off_bat</th>\n",
       "      <th>ball</th>\n",
       "      <th>Strike_rate</th>\n",
       "    </tr>\n",
       "  </thead>\n",
       "  <tbody>\n",
       "    <tr>\n",
       "      <th>0</th>\n",
       "      <td>DA Warner</td>\n",
       "      <td>692</td>\n",
       "      <td>496</td>\n",
       "      <td>139.516129</td>\n",
       "    </tr>\n",
       "    <tr>\n",
       "      <th>1</th>\n",
       "      <td>KL Rahul</td>\n",
       "      <td>593</td>\n",
       "      <td>447</td>\n",
       "      <td>132.662192</td>\n",
       "    </tr>\n",
       "  </tbody>\n",
       "</table>\n",
       "</div>"
      ],
      "text/plain": [
       "     striker  runs_off_bat  ball  Strike_rate\n",
       "0  DA Warner  692           496   139.516129 \n",
       "1  KL Rahul   593           447   132.662192 "
      ]
     },
     "execution_count": 26,
     "metadata": {},
     "output_type": "execute_result"
    }
   ],
   "source": [
    "season_2019_top_run_scorer_df.head(2)"
   ]
  },
  {
   "cell_type": "code",
   "execution_count": 27,
   "id": "6fc7b3bb",
   "metadata": {},
   "outputs": [
    {
     "data": {
      "text/html": [
       "<div>\n",
       "<style scoped>\n",
       "    .dataframe tbody tr th:only-of-type {\n",
       "        vertical-align: middle;\n",
       "    }\n",
       "\n",
       "    .dataframe tbody tr th {\n",
       "        vertical-align: top;\n",
       "    }\n",
       "\n",
       "    .dataframe thead th {\n",
       "        text-align: right;\n",
       "    }\n",
       "</style>\n",
       "<table border=\"1\" class=\"dataframe\">\n",
       "  <thead>\n",
       "    <tr style=\"text-align: right;\">\n",
       "      <th></th>\n",
       "      <th>striker</th>\n",
       "      <th>runs_off_bat</th>\n",
       "      <th>ball</th>\n",
       "      <th>Strike_rate</th>\n",
       "    </tr>\n",
       "  </thead>\n",
       "  <tbody>\n",
       "    <tr>\n",
       "      <th>0</th>\n",
       "      <td>KL Rahul</td>\n",
       "      <td>670</td>\n",
       "      <td>525</td>\n",
       "      <td>127.619048</td>\n",
       "    </tr>\n",
       "    <tr>\n",
       "      <th>1</th>\n",
       "      <td>S Dhawan</td>\n",
       "      <td>618</td>\n",
       "      <td>433</td>\n",
       "      <td>142.725173</td>\n",
       "    </tr>\n",
       "  </tbody>\n",
       "</table>\n",
       "</div>"
      ],
      "text/plain": [
       "    striker  runs_off_bat  ball  Strike_rate\n",
       "0  KL Rahul  670           525   127.619048 \n",
       "1  S Dhawan  618           433   142.725173 "
      ]
     },
     "execution_count": 27,
     "metadata": {},
     "output_type": "execute_result"
    }
   ],
   "source": [
    "season_2020_top_run_scorer_df.head(2)"
   ]
  },
  {
   "cell_type": "code",
   "execution_count": 28,
   "id": "a8eea079",
   "metadata": {},
   "outputs": [
    {
     "data": {
      "text/html": [
       "<div>\n",
       "<style scoped>\n",
       "    .dataframe tbody tr th:only-of-type {\n",
       "        vertical-align: middle;\n",
       "    }\n",
       "\n",
       "    .dataframe tbody tr th {\n",
       "        vertical-align: top;\n",
       "    }\n",
       "\n",
       "    .dataframe thead th {\n",
       "        text-align: right;\n",
       "    }\n",
       "</style>\n",
       "<table border=\"1\" class=\"dataframe\">\n",
       "  <thead>\n",
       "    <tr style=\"text-align: right;\">\n",
       "      <th></th>\n",
       "      <th>striker</th>\n",
       "      <th>runs_off_bat</th>\n",
       "      <th>ball</th>\n",
       "      <th>Strike_rate</th>\n",
       "    </tr>\n",
       "  </thead>\n",
       "  <tbody>\n",
       "    <tr>\n",
       "      <th>0</th>\n",
       "      <td>RD Gaikwad</td>\n",
       "      <td>635</td>\n",
       "      <td>474</td>\n",
       "      <td>133.966245</td>\n",
       "    </tr>\n",
       "    <tr>\n",
       "      <th>1</th>\n",
       "      <td>F du Plessis</td>\n",
       "      <td>633</td>\n",
       "      <td>471</td>\n",
       "      <td>134.394904</td>\n",
       "    </tr>\n",
       "  </tbody>\n",
       "</table>\n",
       "</div>"
      ],
      "text/plain": [
       "        striker  runs_off_bat  ball  Strike_rate\n",
       "0  RD Gaikwad    635           474   133.966245 \n",
       "1  F du Plessis  633           471   134.394904 "
      ]
     },
     "execution_count": 28,
     "metadata": {},
     "output_type": "execute_result"
    }
   ],
   "source": [
    "\n",
    "season_2021_top_run_scorer_df.head(2)"
   ]
  },
  {
   "cell_type": "code",
   "execution_count": 29,
   "id": "a9ecaa7d",
   "metadata": {},
   "outputs": [
    {
     "data": {
      "text/plain": [
       "array([nan, 'caught', 'bowled', 'run out', 'lbw', 'stumped',\n",
       "       'retired hurt', 'caught and bowled', 'hit wicket'], dtype=object)"
      ]
     },
     "execution_count": 29,
     "metadata": {},
     "output_type": "execute_result"
    }
   ],
   "source": [
    "season_2008_df.wicket_type.unique()"
   ]
  },
  {
   "cell_type": "code",
   "execution_count": null,
   "id": "d25bd1f8",
   "metadata": {},
   "outputs": [],
   "source": [
    "def top_wicket_getter(dataFrame):\n",
    "    season_bowl_df = dataFrame\n",
    "    season_bowl_df = season_bowl_df[season_bowl_df.wicket_type != 'retired hurt']\n",
    "    season_bowl_df = season_bowl_df[season_bowl_df.wicket_type != 'run out']\n",
    "    season_bowl_df = season_bowl_df.dropna(subset = ['wicket_type'])\n",
    "    season_bowler_df = pd.DataFrame(season_bowl_df.groupby('bowler')['wicket_type'].count()).sort_values(by = ['wicket_type'] , ascending=False).reset_index()\n",
    "    season_ball_df = pd.DataFrame(dataFrame.groupby('bowler')['ball'].count()).sort_values(by = ['ball'] , ascending=False).reset_index()\n",
    "    season_top_bowler_df = season_bowler_df.merge(season_ball_df , on = 'bowler' , how = 'left')\n",
    "    season_top_bowler_df['Strike_rate'] = season_top_bowler_df.ball / season_top_bowler_df.wicket_type\n",
    "    season_top_bowler_df = season_top_bowler_df.rename(columns={\"wicket_type\":\"wickets\"})\n",
    "    return season_top_bowler_df"
   ]
  },
  {
   "cell_type": "code",
   "execution_count": 30,
   "id": "ef2cddcd",
   "metadata": {},
   "outputs": [],
   "source": [
    "season_2008_bowl_df = season_2008_df\n",
    "season_2008_bowl_df = season_2008_bowl_df[season_2008_bowl_df.wicket_type != 'retired hurt']\n",
    "season_2008_bowl_df = season_2008_bowl_df[season_2008_bowl_df.wicket_type != 'run out']\n",
    "season_2008_bowl_df = season_2008_bowl_df.dropna(subset = ['wicket_type'])\n",
    "season_2008_bowler_df = pd.DataFrame(season_2008_bowl_df.groupby('bowler')['wicket_type'].count()).sort_values(by = ['wicket_type'] , ascending=False).reset_index()\n",
    "season_2008_ball_df = pd.DataFrame(season_2008_df.groupby('bowler')['ball'].count()).sort_values(by = ['ball'] , ascending=False).reset_index()\n",
    "season_2008_top_bowler_df = season_2008_bowler_df.merge(season_2008_ball_df , on = 'bowler' , how = 'left')\n",
    "season_2008_top_bowler_df['Strike_rate'] = season_2008_top_bowler_df.ball / season_2008_top_bowler_df.wicket_type\n",
    "season_2008_top_bowler_df = season_2008_top_bowler_df.rename(columns={\"wicket_type\":\"wickets\"})"
   ]
  },
  {
   "cell_type": "code",
   "execution_count": 31,
   "id": "9b98103b",
   "metadata": {},
   "outputs": [],
   "source": [
    "season_2009_bowl_df = season_2009_df\n",
    "season_2009_bowl_df = season_2009_bowl_df[season_2009_bowl_df.wicket_type != 'retired hurt']\n",
    "season_2009_bowl_df = season_2009_bowl_df[season_2009_bowl_df.wicket_type != 'run out']\n",
    "season_2009_bowl_df = season_2009_bowl_df.dropna(subset = ['wicket_type'])\n",
    "season_2009_bowler_df = pd.DataFrame(season_2009_bowl_df.groupby('bowler')['wicket_type'].count()).sort_values(by = ['wicket_type'] , ascending=False).reset_index()\n",
    "season_2009_ball_df = pd.DataFrame(season_2009_df.groupby('bowler')['ball'].count()).sort_values(by = ['ball'] , ascending=False).reset_index()\n",
    "season_2009_top_bowler_df = season_2009_bowler_df.merge(season_2009_ball_df , on = 'bowler' , how = 'left')\n",
    "season_2009_top_bowler_df['Strike_rate'] = season_2009_top_bowler_df.ball / season_2009_top_bowler_df.wicket_type\n",
    "season_2009_top_bowler_df = season_2009_top_bowler_df.rename(columns={\"wicket_type\":\"wickets\"})"
   ]
  },
  {
   "cell_type": "code",
   "execution_count": 32,
   "id": "f6692cd6",
   "metadata": {},
   "outputs": [],
   "source": [
    "season_2010_bowl_df = season_2010_df\n",
    "season_2010_bowl_df = season_2010_bowl_df[season_2010_bowl_df.wicket_type != 'retired hurt']\n",
    "season_2010_bowl_df = season_2010_bowl_df[season_2010_bowl_df.wicket_type != 'run out']\n",
    "season_2010_bowl_df = season_2010_bowl_df.dropna(subset = ['wicket_type'])\n",
    "season_2010_bowler_df = pd.DataFrame(season_2010_bowl_df.groupby('bowler')['wicket_type'].count()).sort_values(by = ['wicket_type'] , ascending=False).reset_index()\n",
    "season_2010_ball_df = pd.DataFrame(season_2010_df.groupby('bowler')['ball'].count()).sort_values(by = ['ball'] , ascending=False).reset_index()\n",
    "season_2010_top_bowler_df = season_2010_bowler_df.merge(season_2010_ball_df , on = 'bowler' , how = 'left')\n",
    "season_2010_top_bowler_df['Strike_rate'] = season_2010_top_bowler_df.ball / season_2010_top_bowler_df.wicket_type\n",
    "season_2010_top_bowler_df = season_2010_top_bowler_df.rename(columns={\"wicket_type\":\"wickets\"})"
   ]
  },
  {
   "cell_type": "code",
   "execution_count": 33,
   "id": "0559035f",
   "metadata": {},
   "outputs": [],
   "source": [
    "season_2011_bowl_df = season_2011_df\n",
    "season_2011_bowl_df = season_2011_bowl_df[season_2011_bowl_df.wicket_type != 'retired hurt']\n",
    "season_2011_bowl_df = season_2011_bowl_df[season_2011_bowl_df.wicket_type != 'run out']\n",
    "season_2011_bowl_df = season_2011_bowl_df.dropna(subset = ['wicket_type'])\n",
    "season_2011_bowler_df = pd.DataFrame(season_2011_bowl_df.groupby('bowler')['wicket_type'].count()).sort_values(by = ['wicket_type'] , ascending=False).reset_index()\n",
    "season_2011_ball_df = pd.DataFrame(season_2011_df.groupby('bowler')['ball'].count()).sort_values(by = ['ball'] , ascending=False).reset_index()\n",
    "season_2011_top_bowler_df = season_2011_bowler_df.merge(season_2011_ball_df , on = 'bowler' , how = 'left')\n",
    "season_2011_top_bowler_df['Strike_rate'] = season_2011_top_bowler_df.ball / season_2011_top_bowler_df.wicket_type\n",
    "season_2011_top_bowler_df = season_2011_top_bowler_df.rename(columns={\"wicket_type\":\"wickets\"})"
   ]
  },
  {
   "cell_type": "code",
   "execution_count": 34,
   "id": "44bfd244",
   "metadata": {},
   "outputs": [],
   "source": [
    "season_2012_bowl_df = season_2012_df\n",
    "season_2012_bowl_df = season_2012_bowl_df[season_2012_bowl_df.wicket_type != 'retired hurt']\n",
    "season_2012_bowl_df = season_2012_bowl_df[season_2012_bowl_df.wicket_type != 'run out']\n",
    "season_2012_bowl_df = season_2012_bowl_df.dropna(subset = ['wicket_type'])\n",
    "season_2012_bowler_df = pd.DataFrame(season_2012_bowl_df.groupby('bowler')['wicket_type'].count()).sort_values(by = ['wicket_type'] , ascending=False).reset_index()\n",
    "season_2012_ball_df = pd.DataFrame(season_2012_df.groupby('bowler')['ball'].count()).sort_values(by = ['ball'] , ascending=False).reset_index()\n",
    "season_2012_top_bowler_df = season_2012_bowler_df.merge(season_2012_ball_df , on = 'bowler' , how = 'left')\n",
    "season_2012_top_bowler_df['Strike_rate'] = season_2012_top_bowler_df.ball / season_2012_top_bowler_df.wicket_type\n",
    "season_2012_top_bowler_df = season_2012_top_bowler_df.rename(columns={\"wicket_type\":\"wickets\"})"
   ]
  },
  {
   "cell_type": "code",
   "execution_count": 35,
   "id": "45b214d8",
   "metadata": {},
   "outputs": [],
   "source": [
    "season_2013_bowl_df = season_2013_df\n",
    "season_2013_bowl_df = season_2013_bowl_df[season_2013_bowl_df.wicket_type != 'retired hurt']\n",
    "season_2013_bowl_df = season_2013_bowl_df[season_2013_bowl_df.wicket_type != 'run out']\n",
    "season_2013_bowl_df = season_2013_bowl_df.dropna(subset = ['wicket_type'])\n",
    "season_2013_bowler_df = pd.DataFrame(season_2013_bowl_df.groupby('bowler')['wicket_type'].count()).sort_values(by = ['wicket_type'] , ascending=False).reset_index()\n",
    "season_2013_ball_df = pd.DataFrame(season_2013_df.groupby('bowler')['ball'].count()).sort_values(by = ['ball'] , ascending=False).reset_index()\n",
    "season_2013_top_bowler_df = season_2013_bowler_df.merge(season_2013_ball_df , on = 'bowler' , how = 'left')\n",
    "season_2013_top_bowler_df['Strike_rate'] = season_2013_top_bowler_df.ball / season_2013_top_bowler_df.wicket_type\n",
    "season_2013_top_bowler_df = season_2013_top_bowler_df.rename(columns={\"wicket_type\":\"wickets\"})"
   ]
  },
  {
   "cell_type": "code",
   "execution_count": 36,
   "id": "9fa6c9a7",
   "metadata": {},
   "outputs": [],
   "source": [
    "season_2014_bowl_df = season_2014_df\n",
    "season_2014_bowl_df = season_2014_bowl_df[(season_2014_bowl_df.innings == 1) | (season_2014_bowl_df.innings == 2)]\n",
    "season_2014_bowl_df = season_2014_bowl_df[season_2014_bowl_df.wicket_type != 'retired hurt']\n",
    "season_2014_bowl_df = season_2014_bowl_df[season_2014_bowl_df.wicket_type != 'run out']\n",
    "season_2014_bowl_df = season_2014_bowl_df.dropna(subset = ['wicket_type'])\n",
    "season_2014_bowler_df = pd.DataFrame(season_2014_bowl_df.groupby('bowler')['wicket_type'].count()).sort_values(by = ['wicket_type'] , ascending=False).reset_index()\n",
    "season_2014_ball_df = pd.DataFrame(season_2014_df.groupby('bowler')['ball'].count()).sort_values(by = ['ball'] , ascending=False).reset_index()\n",
    "season_2014_top_bowler_df = season_2014_bowler_df.merge(season_2014_ball_df , on = 'bowler' , how = 'left')\n",
    "season_2014_top_bowler_df['Strike_rate'] = season_2014_top_bowler_df.ball / season_2014_top_bowler_df.wicket_type\n",
    "season_2014_top_bowler_df = season_2014_top_bowler_df.rename(columns={\"wicket_type\":\"wickets\"})"
   ]
  },
  {
   "cell_type": "code",
   "execution_count": 37,
   "id": "4353fac8",
   "metadata": {},
   "outputs": [],
   "source": [
    "season_2015_bowl_df = season_2015_df\n",
    "season_2015_bowl_df = season_2015_bowl_df[season_2015_bowl_df.wicket_type != 'retired hurt']\n",
    "season_2015_bowl_df = season_2015_bowl_df[season_2015_bowl_df.wicket_type != 'run out']\n",
    "season_2015_bowl_df = season_2015_bowl_df.dropna(subset = ['wicket_type'])\n",
    "season_2015_bowler_df = pd.DataFrame(season_2015_bowl_df.groupby('bowler')['wicket_type'].count()).sort_values(by = ['wicket_type'] , ascending=False).reset_index()\n",
    "season_2015_ball_df = pd.DataFrame(season_2015_df.groupby('bowler')['ball'].count()).sort_values(by = ['ball'] , ascending=False).reset_index()\n",
    "season_2015_top_bowler_df = season_2015_bowler_df.merge(season_2015_ball_df , on = 'bowler' , how = 'left')\n",
    "season_2015_top_bowler_df['Strike_rate'] = season_2015_top_bowler_df.ball / season_2015_top_bowler_df.wicket_type\n",
    "season_2015_top_bowler_df = season_2015_top_bowler_df.rename(columns={\"wicket_type\":\"wickets\"})"
   ]
  },
  {
   "cell_type": "code",
   "execution_count": 38,
   "id": "ebb2922e",
   "metadata": {},
   "outputs": [],
   "source": [
    "season_2016_bowl_df = season_2016_df\n",
    "season_2016_bowl_df = season_2016_bowl_df[season_2016_bowl_df.wicket_type != 'retired hurt']\n",
    "season_2016_bowl_df = season_2016_bowl_df[season_2016_bowl_df.wicket_type != 'run out']\n",
    "season_2016_bowl_df = season_2016_bowl_df.dropna(subset = ['wicket_type'])\n",
    "season_2016_bowler_df = pd.DataFrame(season_2016_bowl_df.groupby('bowler')['wicket_type'].count()).sort_values(by = ['wicket_type'] , ascending=False).reset_index()\n",
    "season_2016_ball_df = pd.DataFrame(season_2016_df.groupby('bowler')['ball'].count()).sort_values(by = ['ball'] , ascending=False).reset_index()\n",
    "season_2016_top_bowler_df = season_2016_bowler_df.merge(season_2016_ball_df , on = 'bowler' , how = 'left')\n",
    "season_2016_top_bowler_df['Strike_rate'] = season_2016_top_bowler_df.ball / season_2016_top_bowler_df.wicket_type\n",
    "season_2016_top_bowler_df = season_2016_top_bowler_df.rename(columns={\"wicket_type\":\"wickets\"})"
   ]
  },
  {
   "cell_type": "code",
   "execution_count": 39,
   "id": "5546c74f",
   "metadata": {},
   "outputs": [],
   "source": [
    "season_2017_bowl_df = season_2017_df\n",
    "season_2017_bowl_df = season_2017_bowl_df[season_2017_bowl_df.wicket_type != 'retired hurt']\n",
    "season_2017_bowl_df = season_2017_bowl_df[season_2017_bowl_df.wicket_type != 'run out']\n",
    "season_2017_bowl_df = season_2017_bowl_df.dropna(subset = ['wicket_type'])\n",
    "season_2017_bowler_df = pd.DataFrame(season_2017_bowl_df.groupby('bowler')['wicket_type'].count()).sort_values(by = ['wicket_type'] , ascending=False).reset_index()\n",
    "season_2017_ball_df = pd.DataFrame(season_2017_df.groupby('bowler')['ball'].count()).sort_values(by = ['ball'] , ascending=False).reset_index()\n",
    "season_2017_top_bowler_df = season_2017_bowler_df.merge(season_2017_ball_df , on = 'bowler' , how = 'left')\n",
    "season_2017_top_bowler_df['Strike_rate'] = season_2017_top_bowler_df.ball / season_2017_top_bowler_df.wicket_type\n",
    "season_2017_top_bowler_df = season_2017_top_bowler_df.rename(columns={\"wicket_type\":\"wickets\"})"
   ]
  },
  {
   "cell_type": "code",
   "execution_count": 40,
   "id": "f20363be",
   "metadata": {},
   "outputs": [],
   "source": [
    "season_2018_bowl_df = season_2018_df\n",
    "season_2018_bowl_df = season_2018_bowl_df[season_2018_bowl_df.wicket_type != 'retired hurt']\n",
    "season_2018_bowl_df = season_2018_bowl_df[season_2018_bowl_df.wicket_type != 'run out']\n",
    "season_2018_bowl_df = season_2018_bowl_df.dropna(subset = ['wicket_type'])\n",
    "season_2018_bowler_df = pd.DataFrame(season_2018_bowl_df.groupby('bowler')['wicket_type'].count()).sort_values(by = ['wicket_type'] , ascending=False).reset_index()\n",
    "season_2018_ball_df = pd.DataFrame(season_2018_df.groupby('bowler')['ball'].count()).sort_values(by = ['ball'] , ascending=False).reset_index()\n",
    "season_2018_top_bowler_df = season_2018_bowler_df.merge(season_2018_ball_df , on = 'bowler' , how = 'left')\n",
    "season_2018_top_bowler_df['Strike_rate'] = season_2018_top_bowler_df.ball / season_2018_top_bowler_df.wicket_type\n",
    "season_2018_top_bowler_df = season_2018_top_bowler_df.rename(columns={\"wicket_type\":\"wickets\"})"
   ]
  },
  {
   "cell_type": "code",
   "execution_count": 41,
   "id": "57f3c3fb",
   "metadata": {},
   "outputs": [],
   "source": [
    "season_2019_bowl_df = season_2019_df\n",
    "season_2019_bowl_df = season_2019_bowl_df[season_2019_bowl_df.wicket_type != 'retired hurt']\n",
    "season_2019_bowl_df = season_2019_bowl_df[season_2019_bowl_df.wicket_type != 'run out']\n",
    "season_2019_bowl_df = season_2019_bowl_df.dropna(subset = ['wicket_type'])\n",
    "season_2019_bowler_df = pd.DataFrame(season_2019_bowl_df.groupby('bowler')['wicket_type'].count()).sort_values(by = ['wicket_type'] , ascending=False).reset_index()\n",
    "season_2019_ball_df = pd.DataFrame(season_2019_df.groupby('bowler')['ball'].count()).sort_values(by = ['ball'] , ascending=False).reset_index()\n",
    "season_2019_top_bowler_df = season_2019_bowler_df.merge(season_2019_ball_df , on = 'bowler' , how = 'left')\n",
    "season_2019_top_bowler_df['Strike_rate'] = season_2019_top_bowler_df.ball / season_2019_top_bowler_df.wicket_type\n",
    "season_2019_top_bowler_df = season_2019_top_bowler_df.rename(columns={\"wicket_type\":\"wickets\"})"
   ]
  },
  {
   "cell_type": "code",
   "execution_count": 42,
   "id": "cbae2440",
   "metadata": {},
   "outputs": [],
   "source": [
    "season_2020_bowl_df = season_2020_df\n",
    "season_2020_bowl_df = season_2020_bowl_df[season_2020_bowl_df.wicket_type != 'retired hurt']\n",
    "season_2020_bowl_df = season_2020_bowl_df[season_2020_bowl_df.wicket_type != 'run out']\n",
    "season_2020_bowl_df = season_2020_bowl_df.dropna(subset = ['wicket_type'])\n",
    "season_2020_bowler_df = pd.DataFrame(season_2020_bowl_df.groupby('bowler')['wicket_type'].count()).sort_values(by = ['wicket_type'] , ascending=False).reset_index()\n",
    "season_2020_ball_df = pd.DataFrame(season_2020_df.groupby('bowler')['ball'].count()).sort_values(by = ['ball'] , ascending=False).reset_index()\n",
    "season_2020_top_bowler_df = season_2020_bowler_df.merge(season_2020_ball_df , on = 'bowler' , how = 'left')\n",
    "season_2020_top_bowler_df['Strike_rate'] = season_2020_top_bowler_df.ball / season_2020_top_bowler_df.wicket_type\n",
    "season_2020_top_bowler_df = season_2020_top_bowler_df.rename(columns={\"wicket_type\":\"wickets\"})"
   ]
  },
  {
   "cell_type": "code",
   "execution_count": 43,
   "id": "7d0bcc38",
   "metadata": {},
   "outputs": [],
   "source": [
    "season_2021_bowl_df = season_2021_df\n",
    "season_2021_bowl_df = season_2021_bowl_df[season_2021_bowl_df.wicket_type != 'retired hurt']\n",
    "season_2021_bowl_df = season_2021_bowl_df[season_2021_bowl_df.wicket_type != 'run out']\n",
    "season_2021_bowl_df = season_2021_bowl_df.dropna(subset = ['wicket_type'])\n",
    "season_2021_bowler_df = pd.DataFrame(season_2021_bowl_df.groupby('bowler')['wicket_type'].count()).sort_values(by = ['wicket_type'] , ascending=False).reset_index()\n",
    "season_2021_ball_df = pd.DataFrame(season_2021_df.groupby('bowler')['ball'].count()).sort_values(by = ['ball'] , ascending=False).reset_index()\n",
    "season_2021_top_bowler_df = season_2021_bowler_df.merge(season_2021_ball_df , on = 'bowler' , how = 'left')\n",
    "season_2021_top_bowler_df['Strike_rate'] = season_2021_top_bowler_df.ball / season_2021_top_bowler_df.wicket_type\n",
    "season_2021_top_bowler_df = season_2021_top_bowler_df.rename(columns={\"wicket_type\":\"wickets\"})"
   ]
  },
  {
   "cell_type": "code",
   "execution_count": 58,
   "id": "62535ee0",
   "metadata": {},
   "outputs": [],
   "source": []
  },
  {
   "cell_type": "code",
   "execution_count": 60,
   "id": "56ca30bf",
   "metadata": {},
   "outputs": [],
   "source": [
    "new_df = top_wicket_getter(season_2021_df)"
   ]
  },
  {
   "cell_type": "code",
   "execution_count": 61,
   "id": "86813d00",
   "metadata": {},
   "outputs": [
    {
     "data": {
      "text/html": [
       "<div>\n",
       "<style scoped>\n",
       "    .dataframe tbody tr th:only-of-type {\n",
       "        vertical-align: middle;\n",
       "    }\n",
       "\n",
       "    .dataframe tbody tr th {\n",
       "        vertical-align: top;\n",
       "    }\n",
       "\n",
       "    .dataframe thead th {\n",
       "        text-align: right;\n",
       "    }\n",
       "</style>\n",
       "<table border=\"1\" class=\"dataframe\">\n",
       "  <thead>\n",
       "    <tr style=\"text-align: right;\">\n",
       "      <th></th>\n",
       "      <th>bowler</th>\n",
       "      <th>wickets</th>\n",
       "      <th>ball</th>\n",
       "      <th>Strike_rate</th>\n",
       "    </tr>\n",
       "  </thead>\n",
       "  <tbody>\n",
       "    <tr>\n",
       "      <th>0</th>\n",
       "      <td>HV Patel</td>\n",
       "      <td>32</td>\n",
       "      <td>361</td>\n",
       "      <td>11.281250</td>\n",
       "    </tr>\n",
       "    <tr>\n",
       "      <th>1</th>\n",
       "      <td>Avesh Khan</td>\n",
       "      <td>24</td>\n",
       "      <td>383</td>\n",
       "      <td>15.958333</td>\n",
       "    </tr>\n",
       "  </tbody>\n",
       "</table>\n",
       "</div>"
      ],
      "text/plain": [
       "       bowler  wickets  ball  Strike_rate\n",
       "0  HV Patel    32       361   11.281250  \n",
       "1  Avesh Khan  24       383   15.958333  "
      ]
     },
     "execution_count": 61,
     "metadata": {},
     "output_type": "execute_result"
    }
   ],
   "source": [
    "new_df.head(2)"
   ]
  },
  {
   "cell_type": "code",
   "execution_count": 44,
   "id": "edcb1a31",
   "metadata": {},
   "outputs": [
    {
     "data": {
      "text/html": [
       "<div>\n",
       "<style scoped>\n",
       "    .dataframe tbody tr th:only-of-type {\n",
       "        vertical-align: middle;\n",
       "    }\n",
       "\n",
       "    .dataframe tbody tr th {\n",
       "        vertical-align: top;\n",
       "    }\n",
       "\n",
       "    .dataframe thead th {\n",
       "        text-align: right;\n",
       "    }\n",
       "</style>\n",
       "<table border=\"1\" class=\"dataframe\">\n",
       "  <thead>\n",
       "    <tr style=\"text-align: right;\">\n",
       "      <th></th>\n",
       "      <th>bowler</th>\n",
       "      <th>wickets</th>\n",
       "      <th>ball</th>\n",
       "      <th>Strike_rate</th>\n",
       "    </tr>\n",
       "  </thead>\n",
       "  <tbody>\n",
       "    <tr>\n",
       "      <th>0</th>\n",
       "      <td>Sohail Tanvir</td>\n",
       "      <td>22</td>\n",
       "      <td>265</td>\n",
       "      <td>12.045455</td>\n",
       "    </tr>\n",
       "    <tr>\n",
       "      <th>1</th>\n",
       "      <td>SK Warne</td>\n",
       "      <td>19</td>\n",
       "      <td>319</td>\n",
       "      <td>16.789474</td>\n",
       "    </tr>\n",
       "  </tbody>\n",
       "</table>\n",
       "</div>"
      ],
      "text/plain": [
       "          bowler  wickets  ball  Strike_rate\n",
       "0  Sohail Tanvir  22       265   12.045455  \n",
       "1  SK Warne       19       319   16.789474  "
      ]
     },
     "execution_count": 44,
     "metadata": {},
     "output_type": "execute_result"
    }
   ],
   "source": [
    "season_2008_top_bowler_df.head(2)"
   ]
  },
  {
   "cell_type": "code",
   "execution_count": 45,
   "id": "9f7d08e2",
   "metadata": {},
   "outputs": [
    {
     "data": {
      "text/html": [
       "<div>\n",
       "<style scoped>\n",
       "    .dataframe tbody tr th:only-of-type {\n",
       "        vertical-align: middle;\n",
       "    }\n",
       "\n",
       "    .dataframe tbody tr th {\n",
       "        vertical-align: top;\n",
       "    }\n",
       "\n",
       "    .dataframe thead th {\n",
       "        text-align: right;\n",
       "    }\n",
       "</style>\n",
       "<table border=\"1\" class=\"dataframe\">\n",
       "  <thead>\n",
       "    <tr style=\"text-align: right;\">\n",
       "      <th></th>\n",
       "      <th>bowler</th>\n",
       "      <th>wickets</th>\n",
       "      <th>ball</th>\n",
       "      <th>Strike_rate</th>\n",
       "    </tr>\n",
       "  </thead>\n",
       "  <tbody>\n",
       "    <tr>\n",
       "      <th>0</th>\n",
       "      <td>RP Singh</td>\n",
       "      <td>23</td>\n",
       "      <td>382</td>\n",
       "      <td>16.608696</td>\n",
       "    </tr>\n",
       "    <tr>\n",
       "      <th>1</th>\n",
       "      <td>A Kumble</td>\n",
       "      <td>21</td>\n",
       "      <td>358</td>\n",
       "      <td>17.047619</td>\n",
       "    </tr>\n",
       "  </tbody>\n",
       "</table>\n",
       "</div>"
      ],
      "text/plain": [
       "     bowler  wickets  ball  Strike_rate\n",
       "0  RP Singh  23       382   16.608696  \n",
       "1  A Kumble  21       358   17.047619  "
      ]
     },
     "execution_count": 45,
     "metadata": {},
     "output_type": "execute_result"
    }
   ],
   "source": [
    "season_2009_top_bowler_df.head(2)"
   ]
  },
  {
   "cell_type": "code",
   "execution_count": 46,
   "id": "d6bca74d",
   "metadata": {},
   "outputs": [
    {
     "data": {
      "text/html": [
       "<div>\n",
       "<style scoped>\n",
       "    .dataframe tbody tr th:only-of-type {\n",
       "        vertical-align: middle;\n",
       "    }\n",
       "\n",
       "    .dataframe tbody tr th {\n",
       "        vertical-align: top;\n",
       "    }\n",
       "\n",
       "    .dataframe thead th {\n",
       "        text-align: right;\n",
       "    }\n",
       "</style>\n",
       "<table border=\"1\" class=\"dataframe\">\n",
       "  <thead>\n",
       "    <tr style=\"text-align: right;\">\n",
       "      <th></th>\n",
       "      <th>bowler</th>\n",
       "      <th>wickets</th>\n",
       "      <th>ball</th>\n",
       "      <th>Strike_rate</th>\n",
       "    </tr>\n",
       "  </thead>\n",
       "  <tbody>\n",
       "    <tr>\n",
       "      <th>0</th>\n",
       "      <td>PP Ojha</td>\n",
       "      <td>21</td>\n",
       "      <td>360</td>\n",
       "      <td>17.142857</td>\n",
       "    </tr>\n",
       "    <tr>\n",
       "      <th>1</th>\n",
       "      <td>A Kumble</td>\n",
       "      <td>17</td>\n",
       "      <td>389</td>\n",
       "      <td>22.882353</td>\n",
       "    </tr>\n",
       "  </tbody>\n",
       "</table>\n",
       "</div>"
      ],
      "text/plain": [
       "     bowler  wickets  ball  Strike_rate\n",
       "0  PP Ojha   21       360   17.142857  \n",
       "1  A Kumble  17       389   22.882353  "
      ]
     },
     "execution_count": 46,
     "metadata": {},
     "output_type": "execute_result"
    }
   ],
   "source": [
    "season_2010_top_bowler_df.head(2)"
   ]
  },
  {
   "cell_type": "code",
   "execution_count": 47,
   "id": "39a0937a",
   "metadata": {},
   "outputs": [
    {
     "data": {
      "text/html": [
       "<div>\n",
       "<style scoped>\n",
       "    .dataframe tbody tr th:only-of-type {\n",
       "        vertical-align: middle;\n",
       "    }\n",
       "\n",
       "    .dataframe tbody tr th {\n",
       "        vertical-align: top;\n",
       "    }\n",
       "\n",
       "    .dataframe thead th {\n",
       "        text-align: right;\n",
       "    }\n",
       "</style>\n",
       "<table border=\"1\" class=\"dataframe\">\n",
       "  <thead>\n",
       "    <tr style=\"text-align: right;\">\n",
       "      <th></th>\n",
       "      <th>bowler</th>\n",
       "      <th>wickets</th>\n",
       "      <th>ball</th>\n",
       "      <th>Strike_rate</th>\n",
       "    </tr>\n",
       "  </thead>\n",
       "  <tbody>\n",
       "    <tr>\n",
       "      <th>0</th>\n",
       "      <td>SL Malinga</td>\n",
       "      <td>28</td>\n",
       "      <td>397</td>\n",
       "      <td>14.178571</td>\n",
       "    </tr>\n",
       "    <tr>\n",
       "      <th>1</th>\n",
       "      <td>MM Patel</td>\n",
       "      <td>22</td>\n",
       "      <td>329</td>\n",
       "      <td>14.954545</td>\n",
       "    </tr>\n",
       "  </tbody>\n",
       "</table>\n",
       "</div>"
      ],
      "text/plain": [
       "       bowler  wickets  ball  Strike_rate\n",
       "0  SL Malinga  28       397   14.178571  \n",
       "1  MM Patel    22       329   14.954545  "
      ]
     },
     "execution_count": 47,
     "metadata": {},
     "output_type": "execute_result"
    }
   ],
   "source": [
    "season_2011_top_bowler_df.head(2)"
   ]
  },
  {
   "cell_type": "code",
   "execution_count": 48,
   "id": "51b82f8e",
   "metadata": {},
   "outputs": [
    {
     "data": {
      "text/html": [
       "<div>\n",
       "<style scoped>\n",
       "    .dataframe tbody tr th:only-of-type {\n",
       "        vertical-align: middle;\n",
       "    }\n",
       "\n",
       "    .dataframe tbody tr th {\n",
       "        vertical-align: top;\n",
       "    }\n",
       "\n",
       "    .dataframe thead th {\n",
       "        text-align: right;\n",
       "    }\n",
       "</style>\n",
       "<table border=\"1\" class=\"dataframe\">\n",
       "  <thead>\n",
       "    <tr style=\"text-align: right;\">\n",
       "      <th></th>\n",
       "      <th>bowler</th>\n",
       "      <th>wickets</th>\n",
       "      <th>ball</th>\n",
       "      <th>Strike_rate</th>\n",
       "    </tr>\n",
       "  </thead>\n",
       "  <tbody>\n",
       "    <tr>\n",
       "      <th>0</th>\n",
       "      <td>M Morkel</td>\n",
       "      <td>25</td>\n",
       "      <td>389</td>\n",
       "      <td>15.560</td>\n",
       "    </tr>\n",
       "    <tr>\n",
       "      <th>1</th>\n",
       "      <td>SP Narine</td>\n",
       "      <td>24</td>\n",
       "      <td>357</td>\n",
       "      <td>14.875</td>\n",
       "    </tr>\n",
       "  </tbody>\n",
       "</table>\n",
       "</div>"
      ],
      "text/plain": [
       "      bowler  wickets  ball  Strike_rate\n",
       "0  M Morkel   25       389   15.560     \n",
       "1  SP Narine  24       357   14.875     "
      ]
     },
     "execution_count": 48,
     "metadata": {},
     "output_type": "execute_result"
    }
   ],
   "source": [
    "season_2012_top_bowler_df.head(2)"
   ]
  },
  {
   "cell_type": "code",
   "execution_count": 49,
   "id": "fd9062dc",
   "metadata": {},
   "outputs": [
    {
     "data": {
      "text/html": [
       "<div>\n",
       "<style scoped>\n",
       "    .dataframe tbody tr th:only-of-type {\n",
       "        vertical-align: middle;\n",
       "    }\n",
       "\n",
       "    .dataframe tbody tr th {\n",
       "        vertical-align: top;\n",
       "    }\n",
       "\n",
       "    .dataframe thead th {\n",
       "        text-align: right;\n",
       "    }\n",
       "</style>\n",
       "<table border=\"1\" class=\"dataframe\">\n",
       "  <thead>\n",
       "    <tr style=\"text-align: right;\">\n",
       "      <th></th>\n",
       "      <th>bowler</th>\n",
       "      <th>wickets</th>\n",
       "      <th>ball</th>\n",
       "      <th>Strike_rate</th>\n",
       "    </tr>\n",
       "  </thead>\n",
       "  <tbody>\n",
       "    <tr>\n",
       "      <th>0</th>\n",
       "      <td>DJ Bravo</td>\n",
       "      <td>32</td>\n",
       "      <td>392</td>\n",
       "      <td>12.250000</td>\n",
       "    </tr>\n",
       "    <tr>\n",
       "      <th>1</th>\n",
       "      <td>JP Faulkner</td>\n",
       "      <td>28</td>\n",
       "      <td>395</td>\n",
       "      <td>14.107143</td>\n",
       "    </tr>\n",
       "  </tbody>\n",
       "</table>\n",
       "</div>"
      ],
      "text/plain": [
       "        bowler  wickets  ball  Strike_rate\n",
       "0  DJ Bravo     32       392   12.250000  \n",
       "1  JP Faulkner  28       395   14.107143  "
      ]
     },
     "execution_count": 49,
     "metadata": {},
     "output_type": "execute_result"
    }
   ],
   "source": [
    "season_2013_top_bowler_df.head(2)"
   ]
  },
  {
   "cell_type": "code",
   "execution_count": 50,
   "id": "cf91d987",
   "metadata": {},
   "outputs": [
    {
     "data": {
      "text/html": [
       "<div>\n",
       "<style scoped>\n",
       "    .dataframe tbody tr th:only-of-type {\n",
       "        vertical-align: middle;\n",
       "    }\n",
       "\n",
       "    .dataframe tbody tr th {\n",
       "        vertical-align: top;\n",
       "    }\n",
       "\n",
       "    .dataframe thead th {\n",
       "        text-align: right;\n",
       "    }\n",
       "</style>\n",
       "<table border=\"1\" class=\"dataframe\">\n",
       "  <thead>\n",
       "    <tr style=\"text-align: right;\">\n",
       "      <th></th>\n",
       "      <th>bowler</th>\n",
       "      <th>wickets</th>\n",
       "      <th>ball</th>\n",
       "      <th>Strike_rate</th>\n",
       "    </tr>\n",
       "  </thead>\n",
       "  <tbody>\n",
       "    <tr>\n",
       "      <th>0</th>\n",
       "      <td>MM Sharma</td>\n",
       "      <td>23</td>\n",
       "      <td>324</td>\n",
       "      <td>14.086957</td>\n",
       "    </tr>\n",
       "    <tr>\n",
       "      <th>1</th>\n",
       "      <td>SP Narine</td>\n",
       "      <td>21</td>\n",
       "      <td>386</td>\n",
       "      <td>18.380952</td>\n",
       "    </tr>\n",
       "  </tbody>\n",
       "</table>\n",
       "</div>"
      ],
      "text/plain": [
       "      bowler  wickets  ball  Strike_rate\n",
       "0  MM Sharma  23       324   14.086957  \n",
       "1  SP Narine  21       386   18.380952  "
      ]
     },
     "execution_count": 50,
     "metadata": {},
     "output_type": "execute_result"
    }
   ],
   "source": [
    "season_2014_top_bowler_df.head(2)"
   ]
  },
  {
   "cell_type": "code",
   "execution_count": 51,
   "id": "bde1473e",
   "metadata": {},
   "outputs": [
    {
     "data": {
      "text/html": [
       "<div>\n",
       "<style scoped>\n",
       "    .dataframe tbody tr th:only-of-type {\n",
       "        vertical-align: middle;\n",
       "    }\n",
       "\n",
       "    .dataframe tbody tr th {\n",
       "        vertical-align: top;\n",
       "    }\n",
       "\n",
       "    .dataframe thead th {\n",
       "        text-align: right;\n",
       "    }\n",
       "</style>\n",
       "<table border=\"1\" class=\"dataframe\">\n",
       "  <thead>\n",
       "    <tr style=\"text-align: right;\">\n",
       "      <th></th>\n",
       "      <th>bowler</th>\n",
       "      <th>wickets</th>\n",
       "      <th>ball</th>\n",
       "      <th>Strike_rate</th>\n",
       "    </tr>\n",
       "  </thead>\n",
       "  <tbody>\n",
       "    <tr>\n",
       "      <th>0</th>\n",
       "      <td>DJ Bravo</td>\n",
       "      <td>26</td>\n",
       "      <td>324</td>\n",
       "      <td>12.461538</td>\n",
       "    </tr>\n",
       "    <tr>\n",
       "      <th>1</th>\n",
       "      <td>SL Malinga</td>\n",
       "      <td>24</td>\n",
       "      <td>378</td>\n",
       "      <td>15.750000</td>\n",
       "    </tr>\n",
       "  </tbody>\n",
       "</table>\n",
       "</div>"
      ],
      "text/plain": [
       "       bowler  wickets  ball  Strike_rate\n",
       "0  DJ Bravo    26       324   12.461538  \n",
       "1  SL Malinga  24       378   15.750000  "
      ]
     },
     "execution_count": 51,
     "metadata": {},
     "output_type": "execute_result"
    }
   ],
   "source": [
    "season_2015_top_bowler_df.head(2)"
   ]
  },
  {
   "cell_type": "code",
   "execution_count": 52,
   "id": "90ed8672",
   "metadata": {},
   "outputs": [
    {
     "data": {
      "text/html": [
       "<div>\n",
       "<style scoped>\n",
       "    .dataframe tbody tr th:only-of-type {\n",
       "        vertical-align: middle;\n",
       "    }\n",
       "\n",
       "    .dataframe tbody tr th {\n",
       "        vertical-align: top;\n",
       "    }\n",
       "\n",
       "    .dataframe thead th {\n",
       "        text-align: right;\n",
       "    }\n",
       "</style>\n",
       "<table border=\"1\" class=\"dataframe\">\n",
       "  <thead>\n",
       "    <tr style=\"text-align: right;\">\n",
       "      <th></th>\n",
       "      <th>bowler</th>\n",
       "      <th>wickets</th>\n",
       "      <th>ball</th>\n",
       "      <th>Strike_rate</th>\n",
       "    </tr>\n",
       "  </thead>\n",
       "  <tbody>\n",
       "    <tr>\n",
       "      <th>0</th>\n",
       "      <td>B Kumar</td>\n",
       "      <td>23</td>\n",
       "      <td>414</td>\n",
       "      <td>18.000000</td>\n",
       "    </tr>\n",
       "    <tr>\n",
       "      <th>1</th>\n",
       "      <td>YS Chahal</td>\n",
       "      <td>21</td>\n",
       "      <td>308</td>\n",
       "      <td>14.666667</td>\n",
       "    </tr>\n",
       "  </tbody>\n",
       "</table>\n",
       "</div>"
      ],
      "text/plain": [
       "      bowler  wickets  ball  Strike_rate\n",
       "0  B Kumar    23       414   18.000000  \n",
       "1  YS Chahal  21       308   14.666667  "
      ]
     },
     "execution_count": 52,
     "metadata": {},
     "output_type": "execute_result"
    }
   ],
   "source": [
    "season_2016_top_bowler_df.head(2)"
   ]
  },
  {
   "cell_type": "code",
   "execution_count": 53,
   "id": "463f7fcc",
   "metadata": {},
   "outputs": [
    {
     "data": {
      "text/html": [
       "<div>\n",
       "<style scoped>\n",
       "    .dataframe tbody tr th:only-of-type {\n",
       "        vertical-align: middle;\n",
       "    }\n",
       "\n",
       "    .dataframe tbody tr th {\n",
       "        vertical-align: top;\n",
       "    }\n",
       "\n",
       "    .dataframe thead th {\n",
       "        text-align: right;\n",
       "    }\n",
       "</style>\n",
       "<table border=\"1\" class=\"dataframe\">\n",
       "  <thead>\n",
       "    <tr style=\"text-align: right;\">\n",
       "      <th></th>\n",
       "      <th>bowler</th>\n",
       "      <th>wickets</th>\n",
       "      <th>ball</th>\n",
       "      <th>Strike_rate</th>\n",
       "    </tr>\n",
       "  </thead>\n",
       "  <tbody>\n",
       "    <tr>\n",
       "      <th>0</th>\n",
       "      <td>B Kumar</td>\n",
       "      <td>26</td>\n",
       "      <td>324</td>\n",
       "      <td>12.461538</td>\n",
       "    </tr>\n",
       "    <tr>\n",
       "      <th>1</th>\n",
       "      <td>JD Unadkat</td>\n",
       "      <td>24</td>\n",
       "      <td>279</td>\n",
       "      <td>11.625000</td>\n",
       "    </tr>\n",
       "  </tbody>\n",
       "</table>\n",
       "</div>"
      ],
      "text/plain": [
       "       bowler  wickets  ball  Strike_rate\n",
       "0  B Kumar     26       324   12.461538  \n",
       "1  JD Unadkat  24       279   11.625000  "
      ]
     },
     "execution_count": 53,
     "metadata": {},
     "output_type": "execute_result"
    }
   ],
   "source": [
    "season_2017_top_bowler_df.head(2)"
   ]
  },
  {
   "cell_type": "code",
   "execution_count": 54,
   "id": "4559261a",
   "metadata": {},
   "outputs": [
    {
     "data": {
      "text/html": [
       "<div>\n",
       "<style scoped>\n",
       "    .dataframe tbody tr th:only-of-type {\n",
       "        vertical-align: middle;\n",
       "    }\n",
       "\n",
       "    .dataframe tbody tr th {\n",
       "        vertical-align: top;\n",
       "    }\n",
       "\n",
       "    .dataframe thead th {\n",
       "        text-align: right;\n",
       "    }\n",
       "</style>\n",
       "<table border=\"1\" class=\"dataframe\">\n",
       "  <thead>\n",
       "    <tr style=\"text-align: right;\">\n",
       "      <th></th>\n",
       "      <th>bowler</th>\n",
       "      <th>wickets</th>\n",
       "      <th>ball</th>\n",
       "      <th>Strike_rate</th>\n",
       "    </tr>\n",
       "  </thead>\n",
       "  <tbody>\n",
       "    <tr>\n",
       "      <th>0</th>\n",
       "      <td>AJ Tye</td>\n",
       "      <td>24</td>\n",
       "      <td>353</td>\n",
       "      <td>14.708333</td>\n",
       "    </tr>\n",
       "    <tr>\n",
       "      <th>1</th>\n",
       "      <td>Rashid Khan</td>\n",
       "      <td>21</td>\n",
       "      <td>411</td>\n",
       "      <td>19.571429</td>\n",
       "    </tr>\n",
       "  </tbody>\n",
       "</table>\n",
       "</div>"
      ],
      "text/plain": [
       "        bowler  wickets  ball  Strike_rate\n",
       "0  AJ Tye       24       353   14.708333  \n",
       "1  Rashid Khan  21       411   19.571429  "
      ]
     },
     "execution_count": 54,
     "metadata": {},
     "output_type": "execute_result"
    }
   ],
   "source": [
    "season_2018_top_bowler_df.head(2)"
   ]
  },
  {
   "cell_type": "code",
   "execution_count": 55,
   "id": "0c2cfcab",
   "metadata": {},
   "outputs": [
    {
     "data": {
      "text/html": [
       "<div>\n",
       "<style scoped>\n",
       "    .dataframe tbody tr th:only-of-type {\n",
       "        vertical-align: middle;\n",
       "    }\n",
       "\n",
       "    .dataframe tbody tr th {\n",
       "        vertical-align: top;\n",
       "    }\n",
       "\n",
       "    .dataframe thead th {\n",
       "        text-align: right;\n",
       "    }\n",
       "</style>\n",
       "<table border=\"1\" class=\"dataframe\">\n",
       "  <thead>\n",
       "    <tr style=\"text-align: right;\">\n",
       "      <th></th>\n",
       "      <th>bowler</th>\n",
       "      <th>wickets</th>\n",
       "      <th>ball</th>\n",
       "      <th>Strike_rate</th>\n",
       "    </tr>\n",
       "  </thead>\n",
       "  <tbody>\n",
       "    <tr>\n",
       "      <th>0</th>\n",
       "      <td>Imran Tahir</td>\n",
       "      <td>26</td>\n",
       "      <td>388</td>\n",
       "      <td>14.923077</td>\n",
       "    </tr>\n",
       "    <tr>\n",
       "      <th>1</th>\n",
       "      <td>K Rabada</td>\n",
       "      <td>25</td>\n",
       "      <td>292</td>\n",
       "      <td>11.680000</td>\n",
       "    </tr>\n",
       "  </tbody>\n",
       "</table>\n",
       "</div>"
      ],
      "text/plain": [
       "        bowler  wickets  ball  Strike_rate\n",
       "0  Imran Tahir  26       388   14.923077  \n",
       "1  K Rabada     25       292   11.680000  "
      ]
     },
     "execution_count": 55,
     "metadata": {},
     "output_type": "execute_result"
    }
   ],
   "source": [
    "season_2019_top_bowler_df.head(2)"
   ]
  },
  {
   "cell_type": "code",
   "execution_count": 56,
   "id": "6e0d9189",
   "metadata": {},
   "outputs": [
    {
     "data": {
      "text/html": [
       "<div>\n",
       "<style scoped>\n",
       "    .dataframe tbody tr th:only-of-type {\n",
       "        vertical-align: middle;\n",
       "    }\n",
       "\n",
       "    .dataframe tbody tr th {\n",
       "        vertical-align: top;\n",
       "    }\n",
       "\n",
       "    .dataframe thead th {\n",
       "        text-align: right;\n",
       "    }\n",
       "</style>\n",
       "<table border=\"1\" class=\"dataframe\">\n",
       "  <thead>\n",
       "    <tr style=\"text-align: right;\">\n",
       "      <th></th>\n",
       "      <th>bowler</th>\n",
       "      <th>wickets</th>\n",
       "      <th>ball</th>\n",
       "      <th>Strike_rate</th>\n",
       "    </tr>\n",
       "  </thead>\n",
       "  <tbody>\n",
       "    <tr>\n",
       "      <th>0</th>\n",
       "      <td>K Rabada</td>\n",
       "      <td>30</td>\n",
       "      <td>411</td>\n",
       "      <td>13.700000</td>\n",
       "    </tr>\n",
       "    <tr>\n",
       "      <th>1</th>\n",
       "      <td>JJ Bumrah</td>\n",
       "      <td>27</td>\n",
       "      <td>372</td>\n",
       "      <td>13.777778</td>\n",
       "    </tr>\n",
       "  </tbody>\n",
       "</table>\n",
       "</div>"
      ],
      "text/plain": [
       "      bowler  wickets  ball  Strike_rate\n",
       "0  K Rabada   30       411   13.700000  \n",
       "1  JJ Bumrah  27       372   13.777778  "
      ]
     },
     "execution_count": 56,
     "metadata": {},
     "output_type": "execute_result"
    }
   ],
   "source": [
    "season_2020_top_bowler_df.head(2)"
   ]
  },
  {
   "cell_type": "code",
   "execution_count": 57,
   "id": "50e676da",
   "metadata": {},
   "outputs": [
    {
     "data": {
      "text/html": [
       "<div>\n",
       "<style scoped>\n",
       "    .dataframe tbody tr th:only-of-type {\n",
       "        vertical-align: middle;\n",
       "    }\n",
       "\n",
       "    .dataframe tbody tr th {\n",
       "        vertical-align: top;\n",
       "    }\n",
       "\n",
       "    .dataframe thead th {\n",
       "        text-align: right;\n",
       "    }\n",
       "</style>\n",
       "<table border=\"1\" class=\"dataframe\">\n",
       "  <thead>\n",
       "    <tr style=\"text-align: right;\">\n",
       "      <th></th>\n",
       "      <th>bowler</th>\n",
       "      <th>wickets</th>\n",
       "      <th>ball</th>\n",
       "      <th>Strike_rate</th>\n",
       "    </tr>\n",
       "  </thead>\n",
       "  <tbody>\n",
       "    <tr>\n",
       "      <th>0</th>\n",
       "      <td>HV Patel</td>\n",
       "      <td>32</td>\n",
       "      <td>361</td>\n",
       "      <td>11.281250</td>\n",
       "    </tr>\n",
       "    <tr>\n",
       "      <th>1</th>\n",
       "      <td>Avesh Khan</td>\n",
       "      <td>24</td>\n",
       "      <td>383</td>\n",
       "      <td>15.958333</td>\n",
       "    </tr>\n",
       "  </tbody>\n",
       "</table>\n",
       "</div>"
      ],
      "text/plain": [
       "       bowler  wickets  ball  Strike_rate\n",
       "0  HV Patel    32       361   11.281250  \n",
       "1  Avesh Khan  24       383   15.958333  "
      ]
     },
     "execution_count": 57,
     "metadata": {},
     "output_type": "execute_result"
    }
   ],
   "source": [
    "season_2021_top_bowler_df.head(2)"
   ]
  },
  {
   "cell_type": "code",
   "execution_count": null,
   "id": "5ddaff55",
   "metadata": {},
   "outputs": [],
   "source": []
  },
  {
   "cell_type": "code",
   "execution_count": null,
   "id": "9dde9c97",
   "metadata": {},
   "outputs": [],
   "source": []
  },
  {
   "cell_type": "code",
   "execution_count": null,
   "id": "a2bb7b49",
   "metadata": {},
   "outputs": [],
   "source": []
  },
  {
   "cell_type": "code",
   "execution_count": null,
   "id": "208ac381",
   "metadata": {},
   "outputs": [],
   "source": []
  },
  {
   "cell_type": "code",
   "execution_count": null,
   "id": "0e109fb5",
   "metadata": {},
   "outputs": [],
   "source": []
  },
  {
   "cell_type": "code",
   "execution_count": null,
   "id": "928edc02",
   "metadata": {},
   "outputs": [],
   "source": []
  },
  {
   "cell_type": "code",
   "execution_count": null,
   "id": "54e924ff",
   "metadata": {},
   "outputs": [],
   "source": []
  },
  {
   "cell_type": "code",
   "execution_count": null,
   "id": "50df8b41",
   "metadata": {},
   "outputs": [],
   "source": []
  },
  {
   "cell_type": "code",
   "execution_count": null,
   "id": "a275cca2",
   "metadata": {},
   "outputs": [],
   "source": []
  },
  {
   "cell_type": "code",
   "execution_count": null,
   "id": "572d873f",
   "metadata": {},
   "outputs": [],
   "source": []
  },
  {
   "cell_type": "code",
   "execution_count": null,
   "id": "56c08b8b",
   "metadata": {},
   "outputs": [],
   "source": []
  },
  {
   "cell_type": "code",
   "execution_count": null,
   "id": "83bb732e",
   "metadata": {},
   "outputs": [],
   "source": []
  },
  {
   "cell_type": "code",
   "execution_count": null,
   "id": "f598a4e3",
   "metadata": {},
   "outputs": [],
   "source": []
  },
  {
   "cell_type": "code",
   "execution_count": null,
   "id": "0af3edf0",
   "metadata": {},
   "outputs": [],
   "source": []
  },
  {
   "cell_type": "code",
   "execution_count": null,
   "id": "519a7818",
   "metadata": {},
   "outputs": [],
   "source": []
  },
  {
   "cell_type": "code",
   "execution_count": null,
   "id": "e8ee38b0",
   "metadata": {},
   "outputs": [],
   "source": []
  },
  {
   "cell_type": "code",
   "execution_count": null,
   "id": "5a151941",
   "metadata": {},
   "outputs": [],
   "source": []
  },
  {
   "cell_type": "code",
   "execution_count": null,
   "id": "5b9c3781",
   "metadata": {},
   "outputs": [],
   "source": []
  },
  {
   "cell_type": "code",
   "execution_count": null,
   "id": "d6136203",
   "metadata": {},
   "outputs": [],
   "source": []
  },
  {
   "cell_type": "code",
   "execution_count": null,
   "id": "b45d3992",
   "metadata": {},
   "outputs": [],
   "source": []
  },
  {
   "cell_type": "code",
   "execution_count": null,
   "id": "c687c3a2",
   "metadata": {},
   "outputs": [],
   "source": []
  },
  {
   "cell_type": "code",
   "execution_count": null,
   "id": "b4464eb9",
   "metadata": {},
   "outputs": [],
   "source": []
  },
  {
   "cell_type": "code",
   "execution_count": null,
   "id": "3214dfe9",
   "metadata": {},
   "outputs": [],
   "source": []
  },
  {
   "cell_type": "code",
   "execution_count": null,
   "id": "8f969999",
   "metadata": {},
   "outputs": [],
   "source": []
  },
  {
   "cell_type": "code",
   "execution_count": null,
   "id": "2c28e55c",
   "metadata": {},
   "outputs": [],
   "source": []
  },
  {
   "cell_type": "code",
   "execution_count": null,
   "id": "2f5238bf",
   "metadata": {},
   "outputs": [],
   "source": []
  },
  {
   "cell_type": "code",
   "execution_count": null,
   "id": "11865a77",
   "metadata": {},
   "outputs": [],
   "source": []
  },
  {
   "cell_type": "code",
   "execution_count": null,
   "id": "76a00d46",
   "metadata": {},
   "outputs": [],
   "source": []
  },
  {
   "cell_type": "code",
   "execution_count": null,
   "id": "af864f65",
   "metadata": {},
   "outputs": [],
   "source": []
  },
  {
   "cell_type": "code",
   "execution_count": null,
   "id": "74823962",
   "metadata": {},
   "outputs": [],
   "source": []
  },
  {
   "cell_type": "code",
   "execution_count": null,
   "id": "6efa0ae4",
   "metadata": {},
   "outputs": [],
   "source": []
  },
  {
   "cell_type": "code",
   "execution_count": null,
   "id": "756badf4",
   "metadata": {},
   "outputs": [],
   "source": []
  },
  {
   "cell_type": "code",
   "execution_count": null,
   "id": "3c08a37b",
   "metadata": {},
   "outputs": [],
   "source": []
  },
  {
   "cell_type": "code",
   "execution_count": null,
   "id": "31c6a017",
   "metadata": {},
   "outputs": [],
   "source": []
  },
  {
   "cell_type": "code",
   "execution_count": null,
   "id": "0113976e",
   "metadata": {},
   "outputs": [],
   "source": []
  },
  {
   "cell_type": "code",
   "execution_count": null,
   "id": "ed35885f",
   "metadata": {},
   "outputs": [],
   "source": []
  },
  {
   "cell_type": "code",
   "execution_count": null,
   "id": "c1e82479",
   "metadata": {},
   "outputs": [],
   "source": []
  }
 ],
 "metadata": {
  "kernelspec": {
   "display_name": "Python 3 (ipykernel)",
   "language": "python",
   "name": "python3"
  },
  "language_info": {
   "codemirror_mode": {
    "name": "ipython",
    "version": 3
   },
   "file_extension": ".py",
   "mimetype": "text/x-python",
   "name": "python",
   "nbconvert_exporter": "python",
   "pygments_lexer": "ipython3",
   "version": "3.9.7"
  }
 },
 "nbformat": 4,
 "nbformat_minor": 5
}
