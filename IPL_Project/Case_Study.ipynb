{
 "cells": [
  {
   "cell_type": "code",
   "execution_count": 1,
   "id": "89ba6c27",
   "metadata": {},
   "outputs": [],
   "source": [
    "import warnings\n",
    "warnings.filterwarnings('ignore')\n",
    "\n",
    "import pandas as pd\n",
    "import numpy as np\n",
    "\n",
    "import matplotlib.pyplot as plt\n",
    "\n",
    "#to display all rows columns \n",
    "pd.set_option('display.max_rows', None)\n",
    "pd.set_option('display.max_columns', None)  \n",
    "pd.set_option('display.expand_frame_repr', False)\n",
    "pd.set_option('max_colwidth', -1)"
   ]
  },
  {
   "cell_type": "code",
   "execution_count": 2,
   "id": "3f5eae90",
   "metadata": {},
   "outputs": [],
   "source": [
    "df = pd.read_csv('E:/Data Analytics/workshop/Kohli vs Sachin-20220217T094233Z-001/Kohli vs Sachin/ODI_data.csv')"
   ]
  },
  {
   "cell_type": "code",
   "execution_count": 3,
   "id": "20a56a7a",
   "metadata": {},
   "outputs": [
    {
     "data": {
      "text/html": [
       "<div>\n",
       "<style scoped>\n",
       "    .dataframe tbody tr th:only-of-type {\n",
       "        vertical-align: middle;\n",
       "    }\n",
       "\n",
       "    .dataframe tbody tr th {\n",
       "        vertical-align: top;\n",
       "    }\n",
       "\n",
       "    .dataframe thead th {\n",
       "        text-align: right;\n",
       "    }\n",
       "</style>\n",
       "<table border=\"1\" class=\"dataframe\">\n",
       "  <thead>\n",
       "    <tr style=\"text-align: right;\">\n",
       "      <th></th>\n",
       "      <th>Innings Player</th>\n",
       "      <th>Innings Runs Scored</th>\n",
       "      <th>Innings Runs Scored Num</th>\n",
       "      <th>Innings Minutes Batted</th>\n",
       "      <th>Innings Batted Flag</th>\n",
       "      <th>Innings Not Out Flag</th>\n",
       "      <th>Innings Balls Faced</th>\n",
       "      <th>Innings Boundary Fours</th>\n",
       "      <th>Innings Boundary Sixes</th>\n",
       "      <th>Innings Batting Strike Rate</th>\n",
       "      <th>Innings Number</th>\n",
       "      <th>Opposition</th>\n",
       "      <th>Ground</th>\n",
       "      <th>Innings Date</th>\n",
       "      <th>Country</th>\n",
       "      <th>50's</th>\n",
       "      <th>100's</th>\n",
       "      <th>Innings Runs Scored Buckets</th>\n",
       "      <th>Innings Overs Bowled</th>\n",
       "      <th>Innings Bowled Flag</th>\n",
       "      <th>Innings Maidens Bowled</th>\n",
       "      <th>Innings Runs Conceded</th>\n",
       "      <th>Innings Wickets Taken</th>\n",
       "      <th>4 Wickets</th>\n",
       "      <th>5 Wickets</th>\n",
       "      <th>10 Wickets</th>\n",
       "      <th>Innings Wickets Taken Buckets</th>\n",
       "      <th>Innings Economy Rate</th>\n",
       "    </tr>\n",
       "  </thead>\n",
       "  <tbody>\n",
       "    <tr>\n",
       "      <th>0</th>\n",
       "      <td>E Lewis</td>\n",
       "      <td>65</td>\n",
       "      <td>65</td>\n",
       "      <td>128</td>\n",
       "      <td>1.0</td>\n",
       "      <td>0.0</td>\n",
       "      <td>80</td>\n",
       "      <td>8</td>\n",
       "      <td>1</td>\n",
       "      <td>81.25</td>\n",
       "      <td>2</td>\n",
       "      <td>v India</td>\n",
       "      <td>Port of Spain</td>\n",
       "      <td>11-08-2019</td>\n",
       "      <td>West Indies</td>\n",
       "      <td>1.0</td>\n",
       "      <td>0.0</td>\n",
       "      <td>50-99</td>\n",
       "      <td>NaN</td>\n",
       "      <td>NaN</td>\n",
       "      <td>NaN</td>\n",
       "      <td>NaN</td>\n",
       "      <td>NaN</td>\n",
       "      <td>NaN</td>\n",
       "      <td>NaN</td>\n",
       "      <td>NaN</td>\n",
       "      <td>NaN</td>\n",
       "      <td>NaN</td>\n",
       "    </tr>\n",
       "    <tr>\n",
       "      <th>1</th>\n",
       "      <td>N Pooran</td>\n",
       "      <td>42</td>\n",
       "      <td>42</td>\n",
       "      <td>69</td>\n",
       "      <td>1.0</td>\n",
       "      <td>0.0</td>\n",
       "      <td>52</td>\n",
       "      <td>4</td>\n",
       "      <td>1</td>\n",
       "      <td>80.76</td>\n",
       "      <td>2</td>\n",
       "      <td>v India</td>\n",
       "      <td>Port of Spain</td>\n",
       "      <td>11-08-2019</td>\n",
       "      <td>West Indies</td>\n",
       "      <td>0.0</td>\n",
       "      <td>0.0</td>\n",
       "      <td>0-49</td>\n",
       "      <td>NaN</td>\n",
       "      <td>NaN</td>\n",
       "      <td>NaN</td>\n",
       "      <td>NaN</td>\n",
       "      <td>NaN</td>\n",
       "      <td>NaN</td>\n",
       "      <td>NaN</td>\n",
       "      <td>NaN</td>\n",
       "      <td>NaN</td>\n",
       "      <td>NaN</td>\n",
       "    </tr>\n",
       "  </tbody>\n",
       "</table>\n",
       "</div>"
      ],
      "text/plain": [
       "  Innings Player Innings Runs Scored Innings Runs Scored Num Innings Minutes Batted  Innings Batted Flag  Innings Not Out Flag Innings Balls Faced Innings Boundary Fours Innings Boundary Sixes Innings Batting Strike Rate Innings Number Opposition         Ground Innings Date      Country  50's  100's Innings Runs Scored Buckets Innings Overs Bowled  Innings Bowled Flag Innings Maidens Bowled Innings Runs Conceded Innings Wickets Taken  4 Wickets  5 Wickets  10 Wickets Innings Wickets Taken Buckets Innings Economy Rate\n",
       "0  E Lewis        65                  65                      128                    1.0                  0.0                   80                  8                      1                      81.25                       2              v India    Port of Spain  11-08-2019   West Indies  1.0   0.0    50-99                       NaN                 NaN                   NaN                    NaN                   NaN                  NaN        NaN        NaN          NaN                           NaN                \n",
       "1  N Pooran       42                  42                      69                     1.0                  0.0                   52                  4                      1                      80.76                       2              v India    Port of Spain  11-08-2019   West Indies  0.0   0.0    0-49                        NaN                 NaN                   NaN                    NaN                   NaN                  NaN        NaN        NaN          NaN                           NaN                "
      ]
     },
     "execution_count": 3,
     "metadata": {},
     "output_type": "execute_result"
    }
   ],
   "source": [
    "df.head(2)"
   ]
  },
  {
   "cell_type": "code",
   "execution_count": 4,
   "id": "beb4b097",
   "metadata": {},
   "outputs": [
    {
     "data": {
      "text/plain": [
       "(171968, 28)"
      ]
     },
     "execution_count": 4,
     "metadata": {},
     "output_type": "execute_result"
    }
   ],
   "source": [
    "len(df),len(df.columns) "
   ]
  },
  {
   "cell_type": "code",
   "execution_count": 5,
   "id": "eb0f9e1a",
   "metadata": {},
   "outputs": [
    {
     "data": {
      "text/plain": [
       "array(['65', '42', '18', '17', '13', '11', '5', '0', '120', '71', '20',\n",
       "       '16', '3', '2', '1', '-', nan, '40', '6', '4', '87', '54', '46',\n",
       "       '30', '12', '69', '39', '14', '10', '9', '8', '7', '82', '52',\n",
       "       '41', '15', '98', '43', '19', '111', '48', '36', '25', '67', '60',\n",
       "       '84', '59', '55', '47', '85', '49', '45', '34', '29', '22', '74',\n",
       "       '28', '77', '50', '32', '23', '35', '122', '100', '95', '103',\n",
       "       '113', '53', '96', '27', '64', '58', '33', '31', '73', '56', '86',\n",
       "       '62', '106', '24', '57', '104', '26', '66', '51', '118', '105',\n",
       "       '101', '21', '79', '44', '102', '88', '80', '72', '97', '68', '89',\n",
       "       '38', '83', '63', '148', '166', '90', '76', '37', '70', '124',\n",
       "       '94', '140', '153', '107', '117', '121', '92', '78', '75', '114',\n",
       "       '115', '130', '128', '151', '110', '138', '135', '109', '61',\n",
       "       '179', '170', '112', '116', '91', '143', '93', '123', '145', '81',\n",
       "       '150', '162', '108', '131', '133', '137', '146', '139', '125',\n",
       "       '129', '157', '152', '144', '99', '127', '210', '147', '126',\n",
       "       '181', '160', '180', '208', '176', '168', '141', '132', '119',\n",
       "       '154', '185', '134', '156', '164', '173', '178', '171', '149',\n",
       "       '237', '159', '161', '215', '264', '136', '169', '209', '174',\n",
       "       '189', '183', '163', '219', '158', '175', '177', '200', '194',\n",
       "       '142', '172', '186', '188', '167'], dtype=object)"
      ]
     },
     "execution_count": 5,
     "metadata": {},
     "output_type": "execute_result"
    }
   ],
   "source": [
    "df['Innings Runs Scored Num'].unique()"
   ]
  },
  {
   "cell_type": "code",
   "execution_count": 6,
   "id": "5476c53d",
   "metadata": {},
   "outputs": [],
   "source": [
    "df= df[df['Innings Runs Scored Num'] != '-']"
   ]
  },
  {
   "cell_type": "code",
   "execution_count": 7,
   "id": "4da4dcb3",
   "metadata": {},
   "outputs": [
    {
     "data": {
      "text/plain": [
       "array(['65', '42', '18', '17', '13', '11', '5', '0', '120', '71', '20',\n",
       "       '16', '3', '2', '1', nan, '40', '6', '4', '87', '54', '46', '30',\n",
       "       '12', '69', '39', '14', '10', '9', '8', '7', '82', '52', '41',\n",
       "       '15', '98', '43', '19', '111', '48', '36', '25', '67', '60', '84',\n",
       "       '59', '55', '47', '85', '49', '45', '34', '29', '22', '74', '28',\n",
       "       '77', '50', '32', '23', '35', '122', '100', '95', '103', '113',\n",
       "       '53', '96', '27', '64', '58', '33', '31', '73', '56', '86', '62',\n",
       "       '106', '24', '57', '104', '26', '66', '51', '118', '105', '101',\n",
       "       '21', '79', '44', '102', '88', '80', '72', '97', '68', '89', '38',\n",
       "       '83', '63', '148', '166', '90', '76', '37', '70', '124', '94',\n",
       "       '140', '153', '107', '117', '121', '92', '78', '75', '114', '115',\n",
       "       '130', '128', '151', '110', '138', '135', '109', '61', '179',\n",
       "       '170', '112', '116', '91', '143', '93', '123', '145', '81', '150',\n",
       "       '162', '108', '131', '133', '137', '146', '139', '125', '129',\n",
       "       '157', '152', '144', '99', '127', '210', '147', '126', '181',\n",
       "       '160', '180', '208', '176', '168', '141', '132', '119', '154',\n",
       "       '185', '134', '156', '164', '173', '178', '171', '149', '237',\n",
       "       '159', '161', '215', '264', '136', '169', '209', '174', '189',\n",
       "       '183', '163', '219', '158', '175', '177', '200', '194', '142',\n",
       "       '172', '186', '188', '167'], dtype=object)"
      ]
     },
     "execution_count": 7,
     "metadata": {},
     "output_type": "execute_result"
    }
   ],
   "source": [
    "df['Innings Runs Scored Num'].unique()\n"
   ]
  },
  {
   "cell_type": "code",
   "execution_count": 8,
   "id": "003d1bc0",
   "metadata": {},
   "outputs": [],
   "source": [
    "df = df.dropna(subset=['Innings Runs Scored Num'])"
   ]
  },
  {
   "cell_type": "code",
   "execution_count": 9,
   "id": "20edfe1c",
   "metadata": {},
   "outputs": [
    {
     "data": {
      "text/plain": [
       "array(['65', '42', '18', '17', '13', '11', '5', '0', '120', '71', '20',\n",
       "       '16', '3', '2', '1', '40', '6', '4', '87', '54', '46', '30', '12',\n",
       "       '69', '39', '14', '10', '9', '8', '7', '82', '52', '41', '15',\n",
       "       '98', '43', '19', '111', '48', '36', '25', '67', '60', '84', '59',\n",
       "       '55', '47', '85', '49', '45', '34', '29', '22', '74', '28', '77',\n",
       "       '50', '32', '23', '35', '122', '100', '95', '103', '113', '53',\n",
       "       '96', '27', '64', '58', '33', '31', '73', '56', '86', '62', '106',\n",
       "       '24', '57', '104', '26', '66', '51', '118', '105', '101', '21',\n",
       "       '79', '44', '102', '88', '80', '72', '97', '68', '89', '38', '83',\n",
       "       '63', '148', '166', '90', '76', '37', '70', '124', '94', '140',\n",
       "       '153', '107', '117', '121', '92', '78', '75', '114', '115', '130',\n",
       "       '128', '151', '110', '138', '135', '109', '61', '179', '170',\n",
       "       '112', '116', '91', '143', '93', '123', '145', '81', '150', '162',\n",
       "       '108', '131', '133', '137', '146', '139', '125', '129', '157',\n",
       "       '152', '144', '99', '127', '210', '147', '126', '181', '160',\n",
       "       '180', '208', '176', '168', '141', '132', '119', '154', '185',\n",
       "       '134', '156', '164', '173', '178', '171', '149', '237', '159',\n",
       "       '161', '215', '264', '136', '169', '209', '174', '189', '183',\n",
       "       '163', '219', '158', '175', '177', '200', '194', '142', '172',\n",
       "       '186', '188', '167'], dtype=object)"
      ]
     },
     "execution_count": 9,
     "metadata": {},
     "output_type": "execute_result"
    }
   ],
   "source": [
    "df['Innings Runs Scored Num'].unique()"
   ]
  },
  {
   "cell_type": "code",
   "execution_count": 10,
   "id": "b5b4fd17",
   "metadata": {},
   "outputs": [
    {
     "data": {
      "text/plain": [
       "array(['65', '42', '18', '17', '13', '11', '5', '0', '120', '71', '20',\n",
       "       '16', '3', '2', '1', '40', '6', '4', '87', '54', '46', '30', '12',\n",
       "       '69', '39', '14', '10', '9', '8', '7', '82', '52', '41', '15',\n",
       "       '98', '43', '19', '111', '48', '36', '25', '67', '60', '84', '59',\n",
       "       '55', '47', '85', '49', '45', '34', '29', '22', '74', '28', '77',\n",
       "       '50', '32', '23', '35', '122', '100', '95', '103', '113', '53',\n",
       "       '96', '27', '64', '58', '33', '31', '73', '56', '86', '62', '106',\n",
       "       '24', '57', '104', '26', '66', '51', '118', '105', '101', '21',\n",
       "       '79', '44', '102', '88', '80', '72', '97', '68', '89', '38', '83',\n",
       "       '63', '148', '166', '90', '76', '37', '70', '124', '94', '140',\n",
       "       '153', '107', '117', '121', '92', '78', '75', '114', '115', '130',\n",
       "       '128', '151', '110', '138', '135', '109', '61', '179', '170',\n",
       "       '112', '116', '91', '143', '93', '123', '145', '81', '150', '162',\n",
       "       '108', '131', '133', '137', '146', '139', '125', '129', '157',\n",
       "       '152', '144', '99', '127', '210', '147', '126', '181', '160',\n",
       "       '180', '208', '176', '168', '141', '132', '119', '154', '185',\n",
       "       '134', '156', '164', '173', '178', '171', '149', '237', '159',\n",
       "       '161', '215', '264', '136', '169', '209', '174', '189', '183',\n",
       "       '163', '219', '158', '175', '177', '200', '194', '142', '172',\n",
       "       '186', '188', '167'], dtype=object)"
      ]
     },
     "execution_count": 10,
     "metadata": {},
     "output_type": "execute_result"
    }
   ],
   "source": [
    "df['Innings Runs Scored Num'].unique()"
   ]
  },
  {
   "cell_type": "code",
   "execution_count": 11,
   "id": "fc53ccbd",
   "metadata": {},
   "outputs": [
    {
     "data": {
      "text/html": [
       "<div>\n",
       "<style scoped>\n",
       "    .dataframe tbody tr th:only-of-type {\n",
       "        vertical-align: middle;\n",
       "    }\n",
       "\n",
       "    .dataframe tbody tr th {\n",
       "        vertical-align: top;\n",
       "    }\n",
       "\n",
       "    .dataframe thead th {\n",
       "        text-align: right;\n",
       "    }\n",
       "</style>\n",
       "<table border=\"1\" class=\"dataframe\">\n",
       "  <thead>\n",
       "    <tr style=\"text-align: right;\">\n",
       "      <th></th>\n",
       "      <th>Innings Player</th>\n",
       "      <th>Innings Runs Scored</th>\n",
       "      <th>Innings Runs Scored Num</th>\n",
       "      <th>Innings Minutes Batted</th>\n",
       "      <th>Innings Batted Flag</th>\n",
       "      <th>Innings Not Out Flag</th>\n",
       "      <th>Innings Balls Faced</th>\n",
       "      <th>Innings Boundary Fours</th>\n",
       "      <th>Innings Boundary Sixes</th>\n",
       "      <th>Innings Batting Strike Rate</th>\n",
       "      <th>Innings Number</th>\n",
       "      <th>Opposition</th>\n",
       "      <th>Ground</th>\n",
       "      <th>Innings Date</th>\n",
       "      <th>Country</th>\n",
       "      <th>50's</th>\n",
       "      <th>100's</th>\n",
       "      <th>Innings Runs Scored Buckets</th>\n",
       "      <th>Innings Overs Bowled</th>\n",
       "      <th>Innings Bowled Flag</th>\n",
       "      <th>Innings Maidens Bowled</th>\n",
       "      <th>Innings Runs Conceded</th>\n",
       "      <th>Innings Wickets Taken</th>\n",
       "      <th>4 Wickets</th>\n",
       "      <th>5 Wickets</th>\n",
       "      <th>10 Wickets</th>\n",
       "      <th>Innings Wickets Taken Buckets</th>\n",
       "      <th>Innings Economy Rate</th>\n",
       "    </tr>\n",
       "  </thead>\n",
       "  <tbody>\n",
       "    <tr>\n",
       "      <th>0</th>\n",
       "      <td>E Lewis</td>\n",
       "      <td>65</td>\n",
       "      <td>65</td>\n",
       "      <td>128</td>\n",
       "      <td>1.0</td>\n",
       "      <td>0.0</td>\n",
       "      <td>80</td>\n",
       "      <td>8</td>\n",
       "      <td>1</td>\n",
       "      <td>81.25</td>\n",
       "      <td>2</td>\n",
       "      <td>v India</td>\n",
       "      <td>Port of Spain</td>\n",
       "      <td>11-08-2019</td>\n",
       "      <td>West Indies</td>\n",
       "      <td>1.0</td>\n",
       "      <td>0.0</td>\n",
       "      <td>50-99</td>\n",
       "      <td>NaN</td>\n",
       "      <td>NaN</td>\n",
       "      <td>NaN</td>\n",
       "      <td>NaN</td>\n",
       "      <td>NaN</td>\n",
       "      <td>NaN</td>\n",
       "      <td>NaN</td>\n",
       "      <td>NaN</td>\n",
       "      <td>NaN</td>\n",
       "      <td>NaN</td>\n",
       "    </tr>\n",
       "    <tr>\n",
       "      <th>1</th>\n",
       "      <td>N Pooran</td>\n",
       "      <td>42</td>\n",
       "      <td>42</td>\n",
       "      <td>69</td>\n",
       "      <td>1.0</td>\n",
       "      <td>0.0</td>\n",
       "      <td>52</td>\n",
       "      <td>4</td>\n",
       "      <td>1</td>\n",
       "      <td>80.76</td>\n",
       "      <td>2</td>\n",
       "      <td>v India</td>\n",
       "      <td>Port of Spain</td>\n",
       "      <td>11-08-2019</td>\n",
       "      <td>West Indies</td>\n",
       "      <td>0.0</td>\n",
       "      <td>0.0</td>\n",
       "      <td>0-49</td>\n",
       "      <td>NaN</td>\n",
       "      <td>NaN</td>\n",
       "      <td>NaN</td>\n",
       "      <td>NaN</td>\n",
       "      <td>NaN</td>\n",
       "      <td>NaN</td>\n",
       "      <td>NaN</td>\n",
       "      <td>NaN</td>\n",
       "      <td>NaN</td>\n",
       "      <td>NaN</td>\n",
       "    </tr>\n",
       "    <tr>\n",
       "      <th>2</th>\n",
       "      <td>SO Hetmyer</td>\n",
       "      <td>18</td>\n",
       "      <td>18</td>\n",
       "      <td>31</td>\n",
       "      <td>1.0</td>\n",
       "      <td>0.0</td>\n",
       "      <td>20</td>\n",
       "      <td>2</td>\n",
       "      <td>0</td>\n",
       "      <td>90</td>\n",
       "      <td>2</td>\n",
       "      <td>v India</td>\n",
       "      <td>Port of Spain</td>\n",
       "      <td>11-08-2019</td>\n",
       "      <td>West Indies</td>\n",
       "      <td>0.0</td>\n",
       "      <td>0.0</td>\n",
       "      <td>0-49</td>\n",
       "      <td>NaN</td>\n",
       "      <td>NaN</td>\n",
       "      <td>NaN</td>\n",
       "      <td>NaN</td>\n",
       "      <td>NaN</td>\n",
       "      <td>NaN</td>\n",
       "      <td>NaN</td>\n",
       "      <td>NaN</td>\n",
       "      <td>NaN</td>\n",
       "      <td>NaN</td>\n",
       "    </tr>\n",
       "    <tr>\n",
       "      <th>3</th>\n",
       "      <td>RL Chase</td>\n",
       "      <td>18</td>\n",
       "      <td>18</td>\n",
       "      <td>34</td>\n",
       "      <td>1.0</td>\n",
       "      <td>0.0</td>\n",
       "      <td>23</td>\n",
       "      <td>0</td>\n",
       "      <td>0</td>\n",
       "      <td>78.26</td>\n",
       "      <td>2</td>\n",
       "      <td>v India</td>\n",
       "      <td>Port of Spain</td>\n",
       "      <td>11-08-2019</td>\n",
       "      <td>West Indies</td>\n",
       "      <td>0.0</td>\n",
       "      <td>0.0</td>\n",
       "      <td>0-49</td>\n",
       "      <td>NaN</td>\n",
       "      <td>NaN</td>\n",
       "      <td>NaN</td>\n",
       "      <td>NaN</td>\n",
       "      <td>NaN</td>\n",
       "      <td>NaN</td>\n",
       "      <td>NaN</td>\n",
       "      <td>NaN</td>\n",
       "      <td>NaN</td>\n",
       "      <td>NaN</td>\n",
       "    </tr>\n",
       "    <tr>\n",
       "      <th>4</th>\n",
       "      <td>SS Cottrell</td>\n",
       "      <td>17</td>\n",
       "      <td>17</td>\n",
       "      <td>23</td>\n",
       "      <td>1.0</td>\n",
       "      <td>0.0</td>\n",
       "      <td>18</td>\n",
       "      <td>2</td>\n",
       "      <td>1</td>\n",
       "      <td>94.44</td>\n",
       "      <td>2</td>\n",
       "      <td>v India</td>\n",
       "      <td>Port of Spain</td>\n",
       "      <td>11-08-2019</td>\n",
       "      <td>West Indies</td>\n",
       "      <td>0.0</td>\n",
       "      <td>0.0</td>\n",
       "      <td>0-49</td>\n",
       "      <td>NaN</td>\n",
       "      <td>NaN</td>\n",
       "      <td>NaN</td>\n",
       "      <td>NaN</td>\n",
       "      <td>NaN</td>\n",
       "      <td>NaN</td>\n",
       "      <td>NaN</td>\n",
       "      <td>NaN</td>\n",
       "      <td>NaN</td>\n",
       "      <td>NaN</td>\n",
       "    </tr>\n",
       "  </tbody>\n",
       "</table>\n",
       "</div>"
      ],
      "text/plain": [
       "  Innings Player Innings Runs Scored Innings Runs Scored Num Innings Minutes Batted  Innings Batted Flag  Innings Not Out Flag Innings Balls Faced Innings Boundary Fours Innings Boundary Sixes Innings Batting Strike Rate Innings Number Opposition         Ground Innings Date      Country  50's  100's Innings Runs Scored Buckets Innings Overs Bowled  Innings Bowled Flag Innings Maidens Bowled Innings Runs Conceded Innings Wickets Taken  4 Wickets  5 Wickets  10 Wickets Innings Wickets Taken Buckets Innings Economy Rate\n",
       "0  E Lewis        65                  65                      128                    1.0                  0.0                   80                  8                      1                      81.25                       2              v India    Port of Spain  11-08-2019   West Indies  1.0   0.0    50-99                       NaN                 NaN                   NaN                    NaN                   NaN                  NaN        NaN        NaN          NaN                           NaN                \n",
       "1  N Pooran       42                  42                      69                     1.0                  0.0                   52                  4                      1                      80.76                       2              v India    Port of Spain  11-08-2019   West Indies  0.0   0.0    0-49                        NaN                 NaN                   NaN                    NaN                   NaN                  NaN        NaN        NaN          NaN                           NaN                \n",
       "2  SO Hetmyer     18                  18                      31                     1.0                  0.0                   20                  2                      0                      90                          2              v India    Port of Spain  11-08-2019   West Indies  0.0   0.0    0-49                        NaN                 NaN                   NaN                    NaN                   NaN                  NaN        NaN        NaN          NaN                           NaN                \n",
       "3  RL Chase       18                  18                      34                     1.0                  0.0                   23                  0                      0                      78.26                       2              v India    Port of Spain  11-08-2019   West Indies  0.0   0.0    0-49                        NaN                 NaN                   NaN                    NaN                   NaN                  NaN        NaN        NaN          NaN                           NaN                \n",
       "4  SS Cottrell    17                  17                      23                     1.0                  0.0                   18                  2                      1                      94.44                       2              v India    Port of Spain  11-08-2019   West Indies  0.0   0.0    0-49                        NaN                 NaN                   NaN                    NaN                   NaN                  NaN        NaN        NaN          NaN                           NaN                "
      ]
     },
     "execution_count": 11,
     "metadata": {},
     "output_type": "execute_result"
    }
   ],
   "source": [
    "df.head()"
   ]
  },
  {
   "cell_type": "code",
   "execution_count": 12,
   "id": "9d4c9c4e",
   "metadata": {},
   "outputs": [],
   "source": [
    "# to convert datetime"
   ]
  },
  {
   "cell_type": "code",
   "execution_count": 13,
   "id": "9d082f0c",
   "metadata": {},
   "outputs": [],
   "source": [
    "df['Innings Date'] = pd.to_datetime(df['Innings Date'])"
   ]
  },
  {
   "cell_type": "code",
   "execution_count": 14,
   "id": "a659485b",
   "metadata": {},
   "outputs": [
    {
     "data": {
      "text/html": [
       "<div>\n",
       "<style scoped>\n",
       "    .dataframe tbody tr th:only-of-type {\n",
       "        vertical-align: middle;\n",
       "    }\n",
       "\n",
       "    .dataframe tbody tr th {\n",
       "        vertical-align: top;\n",
       "    }\n",
       "\n",
       "    .dataframe thead th {\n",
       "        text-align: right;\n",
       "    }\n",
       "</style>\n",
       "<table border=\"1\" class=\"dataframe\">\n",
       "  <thead>\n",
       "    <tr style=\"text-align: right;\">\n",
       "      <th></th>\n",
       "      <th>Innings Player</th>\n",
       "      <th>Innings Runs Scored</th>\n",
       "      <th>Innings Runs Scored Num</th>\n",
       "      <th>Innings Minutes Batted</th>\n",
       "      <th>Innings Batted Flag</th>\n",
       "      <th>Innings Not Out Flag</th>\n",
       "      <th>Innings Balls Faced</th>\n",
       "      <th>Innings Boundary Fours</th>\n",
       "      <th>Innings Boundary Sixes</th>\n",
       "      <th>Innings Batting Strike Rate</th>\n",
       "      <th>Innings Number</th>\n",
       "      <th>Opposition</th>\n",
       "      <th>Ground</th>\n",
       "      <th>Innings Date</th>\n",
       "      <th>Country</th>\n",
       "      <th>50's</th>\n",
       "      <th>100's</th>\n",
       "      <th>Innings Runs Scored Buckets</th>\n",
       "      <th>Innings Overs Bowled</th>\n",
       "      <th>Innings Bowled Flag</th>\n",
       "      <th>Innings Maidens Bowled</th>\n",
       "      <th>Innings Runs Conceded</th>\n",
       "      <th>Innings Wickets Taken</th>\n",
       "      <th>4 Wickets</th>\n",
       "      <th>5 Wickets</th>\n",
       "      <th>10 Wickets</th>\n",
       "      <th>Innings Wickets Taken Buckets</th>\n",
       "      <th>Innings Economy Rate</th>\n",
       "    </tr>\n",
       "  </thead>\n",
       "  <tbody>\n",
       "    <tr>\n",
       "      <th>0</th>\n",
       "      <td>E Lewis</td>\n",
       "      <td>65</td>\n",
       "      <td>65</td>\n",
       "      <td>128</td>\n",
       "      <td>1.0</td>\n",
       "      <td>0.0</td>\n",
       "      <td>80</td>\n",
       "      <td>8</td>\n",
       "      <td>1</td>\n",
       "      <td>81.25</td>\n",
       "      <td>2</td>\n",
       "      <td>v India</td>\n",
       "      <td>Port of Spain</td>\n",
       "      <td>2019-11-08</td>\n",
       "      <td>West Indies</td>\n",
       "      <td>1.0</td>\n",
       "      <td>0.0</td>\n",
       "      <td>50-99</td>\n",
       "      <td>NaN</td>\n",
       "      <td>NaN</td>\n",
       "      <td>NaN</td>\n",
       "      <td>NaN</td>\n",
       "      <td>NaN</td>\n",
       "      <td>NaN</td>\n",
       "      <td>NaN</td>\n",
       "      <td>NaN</td>\n",
       "      <td>NaN</td>\n",
       "      <td>NaN</td>\n",
       "    </tr>\n",
       "  </tbody>\n",
       "</table>\n",
       "</div>"
      ],
      "text/plain": [
       "  Innings Player Innings Runs Scored Innings Runs Scored Num Innings Minutes Batted  Innings Batted Flag  Innings Not Out Flag Innings Balls Faced Innings Boundary Fours Innings Boundary Sixes Innings Batting Strike Rate Innings Number Opposition         Ground Innings Date      Country  50's  100's Innings Runs Scored Buckets Innings Overs Bowled  Innings Bowled Flag Innings Maidens Bowled Innings Runs Conceded Innings Wickets Taken  4 Wickets  5 Wickets  10 Wickets Innings Wickets Taken Buckets Innings Economy Rate\n",
       "0  E Lewis        65                  65                      128                    1.0                  0.0                   80                  8                      1                      81.25                       2              v India    Port of Spain 2019-11-08    West Indies  1.0   0.0    50-99                       NaN                 NaN                   NaN                    NaN                   NaN                  NaN        NaN        NaN          NaN                           NaN                "
      ]
     },
     "execution_count": 14,
     "metadata": {},
     "output_type": "execute_result"
    }
   ],
   "source": [
    "df.head(1)"
   ]
  },
  {
   "cell_type": "code",
   "execution_count": 15,
   "id": "a7b9359c",
   "metadata": {},
   "outputs": [],
   "source": [
    "df['Year'] = df['Innings Date'].dt.year"
   ]
  },
  {
   "cell_type": "code",
   "execution_count": 16,
   "id": "7f3b18a1",
   "metadata": {},
   "outputs": [
    {
     "data": {
      "text/html": [
       "<div>\n",
       "<style scoped>\n",
       "    .dataframe tbody tr th:only-of-type {\n",
       "        vertical-align: middle;\n",
       "    }\n",
       "\n",
       "    .dataframe tbody tr th {\n",
       "        vertical-align: top;\n",
       "    }\n",
       "\n",
       "    .dataframe thead th {\n",
       "        text-align: right;\n",
       "    }\n",
       "</style>\n",
       "<table border=\"1\" class=\"dataframe\">\n",
       "  <thead>\n",
       "    <tr style=\"text-align: right;\">\n",
       "      <th></th>\n",
       "      <th>Innings Player</th>\n",
       "      <th>Innings Runs Scored</th>\n",
       "      <th>Innings Runs Scored Num</th>\n",
       "      <th>Innings Minutes Batted</th>\n",
       "      <th>Innings Batted Flag</th>\n",
       "      <th>Innings Not Out Flag</th>\n",
       "      <th>Innings Balls Faced</th>\n",
       "      <th>Innings Boundary Fours</th>\n",
       "      <th>Innings Boundary Sixes</th>\n",
       "      <th>Innings Batting Strike Rate</th>\n",
       "      <th>Innings Number</th>\n",
       "      <th>Opposition</th>\n",
       "      <th>Ground</th>\n",
       "      <th>Innings Date</th>\n",
       "      <th>Country</th>\n",
       "      <th>50's</th>\n",
       "      <th>100's</th>\n",
       "      <th>Innings Runs Scored Buckets</th>\n",
       "      <th>Innings Overs Bowled</th>\n",
       "      <th>Innings Bowled Flag</th>\n",
       "      <th>Innings Maidens Bowled</th>\n",
       "      <th>Innings Runs Conceded</th>\n",
       "      <th>Innings Wickets Taken</th>\n",
       "      <th>4 Wickets</th>\n",
       "      <th>5 Wickets</th>\n",
       "      <th>10 Wickets</th>\n",
       "      <th>Innings Wickets Taken Buckets</th>\n",
       "      <th>Innings Economy Rate</th>\n",
       "      <th>Year</th>\n",
       "    </tr>\n",
       "  </thead>\n",
       "  <tbody>\n",
       "    <tr>\n",
       "      <th>0</th>\n",
       "      <td>E Lewis</td>\n",
       "      <td>65</td>\n",
       "      <td>65</td>\n",
       "      <td>128</td>\n",
       "      <td>1.0</td>\n",
       "      <td>0.0</td>\n",
       "      <td>80</td>\n",
       "      <td>8</td>\n",
       "      <td>1</td>\n",
       "      <td>81.25</td>\n",
       "      <td>2</td>\n",
       "      <td>v India</td>\n",
       "      <td>Port of Spain</td>\n",
       "      <td>2019-11-08</td>\n",
       "      <td>West Indies</td>\n",
       "      <td>1.0</td>\n",
       "      <td>0.0</td>\n",
       "      <td>50-99</td>\n",
       "      <td>NaN</td>\n",
       "      <td>NaN</td>\n",
       "      <td>NaN</td>\n",
       "      <td>NaN</td>\n",
       "      <td>NaN</td>\n",
       "      <td>NaN</td>\n",
       "      <td>NaN</td>\n",
       "      <td>NaN</td>\n",
       "      <td>NaN</td>\n",
       "      <td>NaN</td>\n",
       "      <td>2019</td>\n",
       "    </tr>\n",
       "  </tbody>\n",
       "</table>\n",
       "</div>"
      ],
      "text/plain": [
       "  Innings Player Innings Runs Scored Innings Runs Scored Num Innings Minutes Batted  Innings Batted Flag  Innings Not Out Flag Innings Balls Faced Innings Boundary Fours Innings Boundary Sixes Innings Batting Strike Rate Innings Number Opposition         Ground Innings Date      Country  50's  100's Innings Runs Scored Buckets Innings Overs Bowled  Innings Bowled Flag Innings Maidens Bowled Innings Runs Conceded Innings Wickets Taken  4 Wickets  5 Wickets  10 Wickets Innings Wickets Taken Buckets Innings Economy Rate  Year\n",
       "0  E Lewis        65                  65                      128                    1.0                  0.0                   80                  8                      1                      81.25                       2              v India    Port of Spain 2019-11-08    West Indies  1.0   0.0    50-99                       NaN                 NaN                   NaN                    NaN                   NaN                  NaN        NaN        NaN          NaN                           NaN                  2019"
      ]
     },
     "execution_count": 16,
     "metadata": {},
     "output_type": "execute_result"
    }
   ],
   "source": [
    "df.head(1)"
   ]
  },
  {
   "cell_type": "code",
   "execution_count": 17,
   "id": "5e33c9b8",
   "metadata": {},
   "outputs": [],
   "source": [
    "df['Innings Balls Faced'] = df['Innings Balls Faced'].astype(int)"
   ]
  },
  {
   "cell_type": "code",
   "execution_count": 18,
   "id": "ee3ada83",
   "metadata": {},
   "outputs": [],
   "source": [
    "df['Innings Batted Flag'] = df['Innings Batted Flag'].astype(int)"
   ]
  },
  {
   "cell_type": "code",
   "execution_count": 19,
   "id": "7866f46e",
   "metadata": {},
   "outputs": [],
   "source": [
    "df['Innings Runs Scored Num'] = df['Innings Runs Scored Num'].astype(int)"
   ]
  },
  {
   "cell_type": "code",
   "execution_count": 20,
   "id": "955853a4",
   "metadata": {},
   "outputs": [],
   "source": [
    "sdf = df[(df.Year >= 1994) & (df.Year <= 2004)]"
   ]
  },
  {
   "cell_type": "code",
   "execution_count": 21,
   "id": "3521b2c7",
   "metadata": {},
   "outputs": [
    {
     "data": {
      "text/plain": [
       "22207"
      ]
     },
     "execution_count": 21,
     "metadata": {},
     "output_type": "execute_result"
    }
   ],
   "source": [
    "len(sdf)"
   ]
  },
  {
   "cell_type": "code",
   "execution_count": 22,
   "id": "5425f2eb",
   "metadata": {},
   "outputs": [
    {
     "data": {
      "text/html": [
       "<div>\n",
       "<style scoped>\n",
       "    .dataframe tbody tr th:only-of-type {\n",
       "        vertical-align: middle;\n",
       "    }\n",
       "\n",
       "    .dataframe tbody tr th {\n",
       "        vertical-align: top;\n",
       "    }\n",
       "\n",
       "    .dataframe thead th {\n",
       "        text-align: right;\n",
       "    }\n",
       "</style>\n",
       "<table border=\"1\" class=\"dataframe\">\n",
       "  <thead>\n",
       "    <tr style=\"text-align: right;\">\n",
       "      <th></th>\n",
       "      <th>Innings Player</th>\n",
       "      <th>Innings Runs Scored</th>\n",
       "      <th>Innings Runs Scored Num</th>\n",
       "      <th>Innings Minutes Batted</th>\n",
       "      <th>Innings Batted Flag</th>\n",
       "      <th>Innings Not Out Flag</th>\n",
       "      <th>Innings Balls Faced</th>\n",
       "      <th>Innings Boundary Fours</th>\n",
       "      <th>Innings Boundary Sixes</th>\n",
       "      <th>Innings Batting Strike Rate</th>\n",
       "      <th>Innings Number</th>\n",
       "      <th>Opposition</th>\n",
       "      <th>Ground</th>\n",
       "      <th>Innings Date</th>\n",
       "      <th>Country</th>\n",
       "      <th>50's</th>\n",
       "      <th>100's</th>\n",
       "      <th>Innings Runs Scored Buckets</th>\n",
       "      <th>Innings Overs Bowled</th>\n",
       "      <th>Innings Bowled Flag</th>\n",
       "      <th>Innings Maidens Bowled</th>\n",
       "      <th>Innings Runs Conceded</th>\n",
       "      <th>Innings Wickets Taken</th>\n",
       "      <th>4 Wickets</th>\n",
       "      <th>5 Wickets</th>\n",
       "      <th>10 Wickets</th>\n",
       "      <th>Innings Wickets Taken Buckets</th>\n",
       "      <th>Innings Economy Rate</th>\n",
       "      <th>Year</th>\n",
       "    </tr>\n",
       "  </thead>\n",
       "  <tbody>\n",
       "    <tr>\n",
       "      <th>77610</th>\n",
       "      <td>V Sehwag</td>\n",
       "      <td>70</td>\n",
       "      <td>70</td>\n",
       "      <td>85</td>\n",
       "      <td>1</td>\n",
       "      <td>0.0</td>\n",
       "      <td>52</td>\n",
       "      <td>9</td>\n",
       "      <td>2</td>\n",
       "      <td>134.61</td>\n",
       "      <td>1</td>\n",
       "      <td>v Bangladesh</td>\n",
       "      <td>Dhaka</td>\n",
       "      <td>2004-12-27</td>\n",
       "      <td>India</td>\n",
       "      <td>1.0</td>\n",
       "      <td>0.0</td>\n",
       "      <td>50-99</td>\n",
       "      <td>NaN</td>\n",
       "      <td>NaN</td>\n",
       "      <td>NaN</td>\n",
       "      <td>NaN</td>\n",
       "      <td>NaN</td>\n",
       "      <td>NaN</td>\n",
       "      <td>NaN</td>\n",
       "      <td>NaN</td>\n",
       "      <td>NaN</td>\n",
       "      <td>NaN</td>\n",
       "      <td>2004</td>\n",
       "    </tr>\n",
       "    <tr>\n",
       "      <th>77611</th>\n",
       "      <td>Yuvraj Singh</td>\n",
       "      <td>69</td>\n",
       "      <td>69</td>\n",
       "      <td>34</td>\n",
       "      <td>1</td>\n",
       "      <td>0.0</td>\n",
       "      <td>32</td>\n",
       "      <td>8</td>\n",
       "      <td>3</td>\n",
       "      <td>215.62</td>\n",
       "      <td>1</td>\n",
       "      <td>v Bangladesh</td>\n",
       "      <td>Dhaka</td>\n",
       "      <td>2004-12-27</td>\n",
       "      <td>India</td>\n",
       "      <td>1.0</td>\n",
       "      <td>0.0</td>\n",
       "      <td>50-99</td>\n",
       "      <td>NaN</td>\n",
       "      <td>NaN</td>\n",
       "      <td>NaN</td>\n",
       "      <td>NaN</td>\n",
       "      <td>NaN</td>\n",
       "      <td>NaN</td>\n",
       "      <td>NaN</td>\n",
       "      <td>NaN</td>\n",
       "      <td>NaN</td>\n",
       "      <td>NaN</td>\n",
       "      <td>2004</td>\n",
       "    </tr>\n",
       "    <tr>\n",
       "      <th>77612</th>\n",
       "      <td>R Dravid</td>\n",
       "      <td>60</td>\n",
       "      <td>60</td>\n",
       "      <td>87</td>\n",
       "      <td>1</td>\n",
       "      <td>0.0</td>\n",
       "      <td>68</td>\n",
       "      <td>5</td>\n",
       "      <td>0</td>\n",
       "      <td>88.23</td>\n",
       "      <td>1</td>\n",
       "      <td>v Bangladesh</td>\n",
       "      <td>Dhaka</td>\n",
       "      <td>2004-12-27</td>\n",
       "      <td>India</td>\n",
       "      <td>1.0</td>\n",
       "      <td>0.0</td>\n",
       "      <td>50-99</td>\n",
       "      <td>NaN</td>\n",
       "      <td>NaN</td>\n",
       "      <td>NaN</td>\n",
       "      <td>NaN</td>\n",
       "      <td>NaN</td>\n",
       "      <td>NaN</td>\n",
       "      <td>NaN</td>\n",
       "      <td>NaN</td>\n",
       "      <td>NaN</td>\n",
       "      <td>NaN</td>\n",
       "      <td>2004</td>\n",
       "    </tr>\n",
       "    <tr>\n",
       "      <th>77613</th>\n",
       "      <td>SC Ganguly</td>\n",
       "      <td>55</td>\n",
       "      <td>55</td>\n",
       "      <td>98</td>\n",
       "      <td>1</td>\n",
       "      <td>0.0</td>\n",
       "      <td>80</td>\n",
       "      <td>2</td>\n",
       "      <td>2</td>\n",
       "      <td>68.75</td>\n",
       "      <td>1</td>\n",
       "      <td>v Bangladesh</td>\n",
       "      <td>Dhaka</td>\n",
       "      <td>2004-12-27</td>\n",
       "      <td>India</td>\n",
       "      <td>1.0</td>\n",
       "      <td>0.0</td>\n",
       "      <td>50-99</td>\n",
       "      <td>NaN</td>\n",
       "      <td>NaN</td>\n",
       "      <td>NaN</td>\n",
       "      <td>NaN</td>\n",
       "      <td>NaN</td>\n",
       "      <td>NaN</td>\n",
       "      <td>NaN</td>\n",
       "      <td>NaN</td>\n",
       "      <td>NaN</td>\n",
       "      <td>NaN</td>\n",
       "      <td>2004</td>\n",
       "    </tr>\n",
       "    <tr>\n",
       "      <th>77614</th>\n",
       "      <td>SR Tendulkar</td>\n",
       "      <td>47</td>\n",
       "      <td>47</td>\n",
       "      <td>60</td>\n",
       "      <td>1</td>\n",
       "      <td>0.0</td>\n",
       "      <td>42</td>\n",
       "      <td>9</td>\n",
       "      <td>0</td>\n",
       "      <td>111.9</td>\n",
       "      <td>1</td>\n",
       "      <td>v Bangladesh</td>\n",
       "      <td>Dhaka</td>\n",
       "      <td>2004-12-27</td>\n",
       "      <td>India</td>\n",
       "      <td>0.0</td>\n",
       "      <td>0.0</td>\n",
       "      <td>0-49</td>\n",
       "      <td>NaN</td>\n",
       "      <td>NaN</td>\n",
       "      <td>NaN</td>\n",
       "      <td>NaN</td>\n",
       "      <td>NaN</td>\n",
       "      <td>NaN</td>\n",
       "      <td>NaN</td>\n",
       "      <td>NaN</td>\n",
       "      <td>NaN</td>\n",
       "      <td>NaN</td>\n",
       "      <td>2004</td>\n",
       "    </tr>\n",
       "  </tbody>\n",
       "</table>\n",
       "</div>"
      ],
      "text/plain": [
       "      Innings Player Innings Runs Scored  Innings Runs Scored Num Innings Minutes Batted  Innings Batted Flag  Innings Not Out Flag  Innings Balls Faced Innings Boundary Fours Innings Boundary Sixes Innings Batting Strike Rate Innings Number    Opposition Ground Innings Date Country  50's  100's Innings Runs Scored Buckets Innings Overs Bowled  Innings Bowled Flag Innings Maidens Bowled Innings Runs Conceded Innings Wickets Taken  4 Wickets  5 Wickets  10 Wickets Innings Wickets Taken Buckets Innings Economy Rate  Year\n",
       "77610  V Sehwag       70                  70                       85                     1                    0.0                   52                   9                      2                      134.61                      1              v Bangladesh  Dhaka 2004-12-27    India   1.0   0.0    50-99                       NaN                 NaN                   NaN                    NaN                   NaN                  NaN        NaN        NaN          NaN                           NaN                  2004\n",
       "77611  Yuvraj Singh   69                  69                       34                     1                    0.0                   32                   8                      3                      215.62                      1              v Bangladesh  Dhaka 2004-12-27    India   1.0   0.0    50-99                       NaN                 NaN                   NaN                    NaN                   NaN                  NaN        NaN        NaN          NaN                           NaN                  2004\n",
       "77612  R Dravid       60                  60                       87                     1                    0.0                   68                   5                      0                      88.23                       1              v Bangladesh  Dhaka 2004-12-27    India   1.0   0.0    50-99                       NaN                 NaN                   NaN                    NaN                   NaN                  NaN        NaN        NaN          NaN                           NaN                  2004\n",
       "77613  SC Ganguly     55                  55                       98                     1                    0.0                   80                   2                      2                      68.75                       1              v Bangladesh  Dhaka 2004-12-27    India   1.0   0.0    50-99                       NaN                 NaN                   NaN                    NaN                   NaN                  NaN        NaN        NaN          NaN                           NaN                  2004\n",
       "77614  SR Tendulkar   47                  47                       60                     1                    0.0                   42                   9                      0                      111.9                       1              v Bangladesh  Dhaka 2004-12-27    India   0.0   0.0    0-49                        NaN                 NaN                   NaN                    NaN                   NaN                  NaN        NaN        NaN          NaN                           NaN                  2004"
      ]
     },
     "execution_count": 22,
     "metadata": {},
     "output_type": "execute_result"
    }
   ],
   "source": [
    "sdf.head()"
   ]
  },
  {
   "cell_type": "code",
   "execution_count": 23,
   "id": "bfe310f8",
   "metadata": {},
   "outputs": [],
   "source": [
    "kdf = df[(df.Year >= 2009) & (df.Year <= 2019)]"
   ]
  },
  {
   "cell_type": "code",
   "execution_count": 24,
   "id": "8b5b1e36",
   "metadata": {},
   "outputs": [
    {
     "data": {
      "text/plain": [
       "Innings Player                   object        \n",
       "Innings Runs Scored              object        \n",
       "Innings Runs Scored Num          int32         \n",
       "Innings Minutes Batted           object        \n",
       "Innings Batted Flag              int32         \n",
       "Innings Not Out Flag             float64       \n",
       "Innings Balls Faced              int32         \n",
       "Innings Boundary Fours           object        \n",
       "Innings Boundary Sixes           object        \n",
       "Innings Batting Strike Rate      object        \n",
       "Innings Number                   object        \n",
       "Opposition                       object        \n",
       "Ground                           object        \n",
       "Innings Date                     datetime64[ns]\n",
       "Country                          object        \n",
       "50's                             float64       \n",
       "100's                            float64       \n",
       "Innings Runs Scored Buckets      object        \n",
       "Innings Overs Bowled             object        \n",
       "Innings Bowled Flag              float64       \n",
       "Innings Maidens Bowled           object        \n",
       "Innings Runs Conceded            object        \n",
       "Innings Wickets Taken            object        \n",
       "4 Wickets                        float64       \n",
       "5 Wickets                        float64       \n",
       "10 Wickets                       float64       \n",
       "Innings Wickets Taken Buckets    object        \n",
       "Innings Economy Rate             object        \n",
       "Year                             int64         \n",
       "dtype: object"
      ]
     },
     "execution_count": 24,
     "metadata": {},
     "output_type": "execute_result"
    }
   ],
   "source": [
    "kdf.dtypes"
   ]
  },
  {
   "cell_type": "code",
   "execution_count": 25,
   "id": "02e48639",
   "metadata": {},
   "outputs": [
    {
     "data": {
      "text/plain": [
       "array(['E Lewis', 'N Pooran', 'SO Hetmyer', 'RL Chase', 'SS Cottrell',\n",
       "       'JO Holder', 'CH Gayle', 'SD Hope', 'CR Brathwaite', 'KAJ Roach',\n",
       "       'O Thomas', 'V Kohli', 'SS Iyer', 'RR Pant', 'RG Sharma',\n",
       "       'RA Jadeja', 'KM Jadhav', 'Mohammed Shami', 'S Dhawan', 'B Kumar',\n",
       "       'AD Mathews', 'BKG Mendis', 'FDM Karunaratne', 'MDKJ Perera',\n",
       "       'MD Shanaka', 'GSNFG Jayasuriya', 'PWH de Silva', 'WIA Fernando',\n",
       "       'CAK Rajitha', 'A Dananjaya', 'Soumya Sarkar', 'Taijul Islam',\n",
       "       'Anamul Haque', 'Mushfiqur Rahim', 'Mahmudullah',\n",
       "       'Mehidy Hasan Miraz', 'Sabbir Rahman', 'Mohammad Mithun',\n",
       "       'Tamim Iqbal', 'Rubel Hossain', 'Shafiul Islam',\n",
       "       'Mosaddek Hossain', 'Mustafizur Rahman', 'HDRL Thirimanne',\n",
       "       'DM de Silva', 'SL Malinga', 'NLTC Perera', 'N Pradeep',\n",
       "       'BA Stokes', 'JC Buttler', 'JM Bairstow', 'JJ Roy', 'LE Plunkett',\n",
       "       'EJG Morgan', 'JE Root', 'CR Woakes', 'JC Archer', 'AU Rashid',\n",
       "       'MA Wood', 'HM Nicholls', 'TWM Latham', 'KS Williamson',\n",
       "       'MJ Guptill', 'JDS Neesham', 'C de Grandhomme', 'LRPL Taylor',\n",
       "       'MJ Santner', 'MJ Henry', 'TA Boult', 'SPD Smith', 'AT Carey',\n",
       "       'MA Starc', 'GJ Maxwell', 'DA Warner', 'PJ Cummins', 'NM Lyon',\n",
       "       'PSP Handscomb', 'JP Behrendorff', 'AJ Finch', 'MP Stoinis',\n",
       "       'MS Dhoni', 'HH Pandya', 'KD Karthik', 'YS Chahal', 'KL Rahul',\n",
       "       'JJ Bumrah', 'SC Williams', 'R Mutumbami', 'KM Jarvis',\n",
       "       'H Masakadza', 'SF Mire', 'CR Ervine', 'Sikandar Raza',\n",
       "       'BRM Taylor', 'CB Mpofu', 'RP Burl', 'TL Chatara', 'JA McCollum',\n",
       "       'WTS Porterfield', \"KJ O'Brien\", 'PR Stirling', 'LJ Tucker',\n",
       "       'A Balbirnie', 'UT Khawaja', 'F du Plessis', 'HE van der Dussen',\n",
       "       'Q de Kock', 'AK Markram', 'JP Duminy', 'AL Phehlukwayo',\n",
       "       'D Pretorius', 'I Udana', 'Imam-ul-Haq', 'Babar Azam',\n",
       "       'Imad Wasim', 'Mohammad Hafeez', 'Fakhar Zaman', 'Mohammad Amir',\n",
       "       'Haris Sohail', 'Sarfaraz Ahmed', 'Wahab Riaz', 'Shadab Khan',\n",
       "       'Shaheen Shah Afridi', 'Shakib Al Hasan', 'Liton Das',\n",
       "       'Mashrafe Mortaza', 'Mohammad Saifuddin', 'FA Allen',\n",
       "       'DT Tiripano', 'SC Getkate', 'AR McBrine', 'MR Adair',\n",
       "       'TJ Murtagh', 'WB Rankin', 'Ikram Alikhil', 'Rahmat Shah',\n",
       "       'Asghar Afghan', 'Najibullah Zadran', 'Sayed Shirzad',\n",
       "       'Rashid Khan', 'Mujeeb Ur Rahman', 'Samiullah Shinwari',\n",
       "       'Gulbadin Naib', 'Mohammad Nabi', 'Dawlat Zadran', 'TG Southee',\n",
       "       'SW Ambris', 'ST Gabriel', 'PJ Moor', 'TS Kamunhukamwe',\n",
       "       'IS Sodhi', 'LH Ferguson', 'Hamid Hassan', 'Hashmatullah Shahidi',\n",
       "       'HM Amla', 'BMAJ Mendis', 'RAS Lakmal', 'V Shankar',\n",
       "       'Kuldeep Yadav', 'C Munro', 'MM Ali', 'JM Vince', 'DA Miller',\n",
       "       'CH Morris', 'K Rabada', 'Imran Tahir', 'L Ngidi', 'AR Nurse',\n",
       "       'Hazratullah Zazai', 'Aftab Alam', 'Noor Ali Zadran', 'DM Bravo',\n",
       "       'AD Russell', 'Shoaib Malik', 'SE Marsh', 'TAM Siriwardana',\n",
       "       'NM Coulter-Nile', 'KW Richardson', 'Hasan Ali', 'Asif Ali',\n",
       "       'A Zampa', 'Mohammad Shahzad', 'GC Wilson', 'BJ McCarthy',\n",
       "       'TK Curran', 'DJ Willey', 'Mohammad Hasnain', 'Abid Ali',\n",
       "       'GH Dockrell', 'JL Denly', 'Faheem Ashraf', 'Junaid Khan',\n",
       "       'RA Reifer', 'JL Carter', 'SO Dowrich', 'JD Campbell', 'JB Little',\n",
       "       'BT Foakes', 'DJ Malan', 'T Maruma', 'RW Chakabva', 'BB Chari',\n",
       "       'Shan Masood', 'Umar Akmal', 'Mohammad Rizwan', 'Yasir Shah',\n",
       "       'Saad Ali', 'Usman Shinwari', 'PARP Perera', 'AK Perera',\n",
       "       'BOP Fernando', 'WU Tharanga', 'JA Richardson', 'AJ Turner',\n",
       "       'RR Hendricks', 'PHKD Mendis', 'N Dickwella', 'Simi Singh',\n",
       "       'SW Poynter', 'Javed Ahmadi', 'AT Rayudu', 'J Cameron-Dow',\n",
       "       'PWA Mulder', 'A Nortje', 'MVT Fernando', 'PADLR Sandakan',\n",
       "       'AD Hales', 'D Bishoo', 'TD Astle', 'Shubman Gill', 'KK Ahmed',\n",
       "       'DAJ Bracewell', 'BE Hendricks', 'DW Steyn', 'H Klaasen',\n",
       "       'Hussain Talat', 'PM Siddle', 'B Stanlake', 'MD Gunathilaka',\n",
       "       'PVD Chameera', 'TL Seifert', 'DAS Gunaratne', 'LD Chandimal',\n",
       "       'S Prasanna', 'MN Samuels', 'KMA Paul', 'C Hemraj', 'R Powell',\n",
       "       'Imrul Kayes', 'KOA Powell', 'TM Head', 'JR Hazlewood', 'CA Lynn',\n",
       "       'GH Worker', 'DJM Short', 'OC McCoy', 'E Chigumbura', 'C Zhuwao',\n",
       "       'B Mavuta', 'Fazle Mahmud', 'SM Curran', 'S Samarawickrama',\n",
       "       'MA Aponso', 'OP Stone', 'LA Dawson', 'K Zondo', 'C Jonker',\n",
       "       'D Elgar', 'WP Masakadza', 'Nazmul Islam', 'Mohammad Nawaz (3)',\n",
       "       'Mominul Haque', 'DL Chahar', 'MK Pandey', 'S Kaul',\n",
       "       'Najmul Hossain Shanto', 'Ihsanullah', 'Abu Hider', 'SN Thakur',\n",
       "       'MDK Perera', 'PKD Chase', \"NJ O'Brien\", 'Shafiqullah',\n",
       "       'KA Maharaj', 'CJ Dala', 'CBRLS Kumara', 'NGRP Jayasuriya',\n",
       "       'JN Mohammed', 'AS Joseph', 'R Murray', 'PS Masvaure',\n",
       "       'TK Musakanda', 'B Muzarabani', 'TS Chisoro', 'R Ngarava',\n",
       "       'CJ Chibhabha', 'SK Raina', 'LN Roche', 'UT Yadav', 'JT Ball',\n",
       "       'TD Paine', 'AC Agar', 'MG Neser', 'AJ Tye', 'SW Billings',\n",
       "       'AG Cremer', 'EC Joyce', 'Sharafuddin Ashraf', 'MS Chapman',\n",
       "       'Shapoor Zadran', 'MN Waller', 'BV Vitori', 'Nasir Jamal',\n",
       "       'AB de Villiers', 'M Morkel', 'F Behardien', 'AM Rahane',\n",
       "       'T Shamsi', 'MR Marsh', 'DSK Madushanka', 'CL White', 'Abul Hasan',\n",
       "       'Nasir Hossain', 'Sunzamul Islam', 'Aamer Yamin', 'Rumman Raees',\n",
       "       'Umar Amin', 'Azhar Ali', 'NO Miller', 'KA Hope', 'CAK Walton',\n",
       "       'NT Broom', 'RR Beaton', 'KOK Williams', 'SS Pathirana',\n",
       "       'AF Milne', 'JDF Vandersay', 'T Bavuma', 'Taskin Ahmed',\n",
       "       'PLS Gamage', 'CK Kapugedera', 'Ahmed Shehzad', 'MS Wade',\n",
       "       'JP Faulkner', 'AR Patel', 'ML Cummins', 'JE Taylor',\n",
       "       'HWR Cartwright', 'PM Pushpakumara', 'EMDY Munaweera',\n",
       "       'KMDN Kulasekara', 'CT Mumba', 'Yuvraj Singh', 'LD Madushanka',\n",
       "       'R Ashwin', 'Afsar Zazai', 'Amir Hamza', 'MC Henriques',\n",
       "       'L Ronchi', 'CJ Anderson', 'WD Parnell', 'TS Roland-Jones',\n",
       "       'ST Finn', 'JS Patel', 'CA Young', 'SC Kuggeleijn', 'SR Thompson',\n",
       "       'V Permaul', 'Kamran Akmal', 'J Mulder', 'Najeeb Tarakai',\n",
       "       'Usman Ghani', 'KC Brathwaite', 'DG Brownlie', 'Karim Janat',\n",
       "       'Fareed Ahmad', 'DS Weerakkody', 'PC de Silva', 'SD Heazlett',\n",
       "       'Sharjeel Khan', 'Asad Shafiq', 'Nurul Hasan', 'Tanbir Hayder',\n",
       "       'Subashis Roy', 'GJ Bailey', 'BJ Watling', 'J Charles', 'SJ Benn',\n",
       "       'T Panyangara', 'J Yadav', 'AP Devcich', 'DS Kulkarni', 'A Mishra',\n",
       "       'BM Duckett', 'SM Boland', 'JM Mennie', 'CP Tremain', 'RR Rossouw',\n",
       "       'KJ Abbott', 'JW Hastings', 'Mosharraf Hossain', 'D Ramdin',\n",
       "       'KA Pollard', 'SP Narine', 'Nawroz Mangal', 'Mirwais Ashraf',\n",
       "       'DJ Worrall', 'J Anderson', 'SP Terry', 'Shabir Noori',\n",
       "       'Naveen-ul-Haq', 'CJ Jordan', 'Sami Aslam', 'Umar Gul',\n",
       "       'TM Dilshan', 'Yamin Ahmadzai', 'KMC Bandara', 'ADS Fletcher',\n",
       "       'MF Maharoof', 'S Randiv', 'RMS Eranga', 'MC Sorensen', 'FY Fazal',\n",
       "       'V Sibanda', 'N Madziva', 'T Mupariwa', 'KK Nair', 'T Muzarabani',\n",
       "       'AM Phangiso', 'SCJ Broad', 'RJW Topley', 'D Wiese', 'GD Elliott',\n",
       "       'BB McCullum', 'Mohammad Irfan', 'Rahat Ali', 'MJ McClenaghan',\n",
       "       'Anwar Ali', 'Sohaib Maqsood', 'Gurkeerat Singh', 'R Dhawan',\n",
       "       'I Sharma', 'LM Jongwe', 'Karim Sadiq', 'SMSM Senanayake',\n",
       "       'BAW Mendis', 'JWA Taylor', 'Zafar Gohar', 'Iftikhar Ahmed',\n",
       "       'Younis Khan', 'Bilal Asif', 'Arafat Sunny', 'Al-Amin Hossain',\n",
       "       'R Rampaul', 'J Blackwood', 'MM Sharma', 'Harbhajan Singh',\n",
       "       'CT Mutombodzi', 'J Nyumbu', 'STR Binny', 'JF Mooney', 'JA Burns',\n",
       "       'JL Pattinson', 'SR Watson', 'MN van Wyk', 'BM Wheeler',\n",
       "       'VD Philander', 'NL McCullum', 'P Utseya', 'SMA Priyanjan',\n",
       "       'RV Uthappa', 'M Vijay', 'MK Tiwary', 'Jubair Hossain',\n",
       "       'AW Mathieson', 'Hammad Azam', 'CK Coventry', 'Saad Nasim',\n",
       "       'Fawad Alam', 'Zulfiqar Babar', 'Saeed Ajmal', 'MJ Clarke',\n",
       "       'DL Vettori', 'MG Johnson', 'BJ Haddin', 'DJG Sammy',\n",
       "       'LMP Simmons', 'Misbah-ul-Haq', 'Shahid Afridi', 'Ehsan Adil',\n",
       "       'Sohail Khan', 'KC Sangakkara', 'DPMD Jayawardene', 'PHT Kaushal',\n",
       "       'DR Smith', 'AR Cusack', 'IR Bell', 'JM Anderson', 'XJ Doherty',\n",
       "       'Nasir Jamshed', 'GS Ballance', 'S Matsikenyeri', 'TP Kamungozi',\n",
       "       'HMRKB Herath', 'Bilawal Bhatti', 'RS Bopara', 'KD Mills',\n",
       "       'N Deonarine', 'LR Johnson', 'KTGD Prasad', 'Izatullah Dawlatzai',\n",
       "       'Sohail Tanvir', 'AN Cook', 'JC Tredwell', 'HF Gurney',\n",
       "       'SHT Kandamby', 'R McLaren', 'RJ Peterson', 'WP Saha', 'DJ Bravo',\n",
       "       'PJ Hughes', 'Raza Hasan', 'SA Abbott', 'AD Poynter', 'AR White',\n",
       "       'GJ McCarter', 'BCJ Cutting', 'TMK Mawoyo', 'Sohag Gazi',\n",
       "       'Abdur Razzak', 'KA Edwards', 'Shamsur Rahman', 'SW Masakadza',\n",
       "       \"N M'shangwe\", 'JH Kallis', 'CA Pujara', 'Ziaur Rahman',\n",
       "       'MA Carberry', 'KDK Vithanage', 'MJ Lumb', 'TT Bresnan',\n",
       "       'Abdur Rehman', 'LJ Wright', 'Mohammad Talha', 'Naeem Islam',\n",
       "       'JD Ryder', 'VR Aaron', 'CJ McKay', 'HK Bennett', 'DT Christian',\n",
       "       'LL Tsotsobe', 'H Davids', 'GC Smith', 'RJ Nicol', 'AC Voges',\n",
       "       'CA Ingram', 'HD Rutherford', 'R Vinay Kumar', 'KP Pietersen',\n",
       "       'Fawad Ahmed', 'IJL Trott', 'DT Johnston', 'EJ Richardson',\n",
       "       'MT Chinouya', 'RK Kleinveldt', 'AN Petersen', 'DS Smith',\n",
       "       'J Mubarak', 'Asad Ali', 'LHD Dilhara', 'TL Best', 'JEC Franklin',\n",
       "       'RR Sarwan', 'Imran Farhat', 'JW Dernbach', 'GP Swann',\n",
       "       'JNK Shannon', 'Mohammad Ashraful', 'Jahurul Islam',\n",
       "       'Robiul Islam', 'AM Ellis', 'DC Thomas', 'G Gambhir', 'SR Patel',\n",
       "       'DJ Hussey', 'C Kieswetter', 'AB Dinda', 'V Sehwag', 'Elias Sunny',\n",
       "       'JDP Oram', 'MEK Hussey', 'Aizaz Cheema', 'IK Pathan', 'PP Ojha',\n",
       "       'Z Khan', 'DR Flynn', 'PJ Forrest', 'B Lee', 'BW Hilfenhaus',\n",
       "       'TS Nethula', 'Zakiullah Zaki', 'AB Barath', 'CS Baugh',\n",
       "       'Nazimuddin', 'Shahadat Hossain', 'SR Tendulkar', 'JA Morkel',\n",
       "       'J Botha', 'MD Bates', 'AJ McKay', 'JL Ontong', 'P Kumar',\n",
       "       'PA Patel', 'Adnan Akmal', 'RT Ponting', 'RJ Harris', 'T Taibu',\n",
       "       'RW Price', 'R Sharma', 'KO Meth', 'CKB Kulasekara',\n",
       "       'CRD Fernando', 'A Martin', 'DP Hyatt', 'Shahriar Nafees',\n",
       "       'Farhad Reza', 'Alok Kapali', 'A Mithun', 'LPC Silva',\n",
       "       'Abdul Razzaq', 'MV Boucher', 'SC Meaker', 'N Ncube', 'F Mutizwa',\n",
       "       'SG Borthwick', 'DE Bollinger', 'R Dravid', 'GA Lamb', 'NG Jones',\n",
       "       'Shuvagata Hom', 'Junaid Siddique', 'Nazmul Hossain',\n",
       "       'Sohrawordi Shuvo', 'ST Jayasuriya', 'YK Pathan', 'S Badrinath',\n",
       "       'Taufeeq Umar', 'Mohammad Salman', 'Usman Salahuddin',\n",
       "       'Tanvir Ahmed', 'CJ Ferguson', 'Raqibul Hasan', 'TT Samaraweera',\n",
       "       'A Nehra', 'MM Patel', 'SB Styris', 'MJ Prior', 'AJ Strauss',\n",
       "       'LJ Woodcock', 'S Chanderpaul', 'JJ Krejza', 'SW Tait',\n",
       "       'M Muralitharan', 'CT Tremlett', 'PD Collingwood', 'A Shahzad',\n",
       "       'AC Botha', 'JM How', 'Shoaib Akhtar', 'MH Yardy', 'PP Chawla',\n",
       "       'SM Davies', 'NM Hauritz', 'KM Dabengwa', 'SS Tiwary',\n",
       "       'GJ Hopkins', 'DR Tuffey', 'S Sreesanth', 'Shahzaib Hasan',\n",
       "       'Mohammad Yousuf', 'Zulqarnain Haider', 'J Theron',\n",
       "       'CK Langeveldt', 'IA Nicolson', 'GW Flower', 'AJ Redmond',\n",
       "       'SL Stewart', 'Abdullah Mazari', 'Noor-ul-Haq', 'EC Rainsford',\n",
       "       'A van der Merwe', 'RD McCann', 'PJ Ingram', 'Syed Rasel',\n",
       "       'JD Hall', 'Khaliq Dad', 'Faisal Hossain', 'JR Hopes',\n",
       "       'Salman Butt', 'PC Connell', 'Mohammad Asif', 'T Thushara',\n",
       "       'Pankaj Singh', 'NV Ojha', 'RE van der Merwe', 'DM Richards',\n",
       "       'AM Blignaut', 'DE Bernard', 'WW Hinds', 'SE Bond', 'MJ Mason',\n",
       "       'Aftab Ahmed', 'LE Bosman', 'S Tyagi', 'HH Gibbs', 'TM Dowlin',\n",
       "       'Raees Ahmadzai', 'IG Butler', 'RS Morton', 'Iftikhar Anjum',\n",
       "       'Naved-ul-Hasan', 'Khalid Latif', 'UWMBCA Welegedara',\n",
       "       'M Pushpakumara', 'MA Vermeulen', 'Enamul Haque jnr', 'GA Manou',\n",
       "       'Dolar Mahmud', 'Imran Nazir', 'G Onions', 'OA Shah', 'RT Crandon',\n",
       "       'GC Tonge', 'FL Reifer', 'AM Nayar', 'RJ Sidebottom', 'RP Singh',\n",
       "       'AD Mascarenhas', 'Ahmed Shah', 'DP Nannes', 'WK McCallan',\n",
       "       'RM West', 'Mahbubul Alam', 'Mehrab Hossain jnr', 'HMCM Bandara',\n",
       "       'RN Lewis', 'NT Pascal', 'LS Baker', 'FH Edwards', 'A Symonds',\n",
       "       'MJ North', 'Yasir Arafat', 'NW Bracken', 'SR Clark', 'Hasti Gul',\n",
       "       'M Ntini', 'SM Harwood', 'B Geeves', 'B Laughlin', 'A Flintoff',\n",
       "       'GJ Batty', 'SJ Harmison', 'PD McGlashan', \"IE O'Brien\",\n",
       "       'BJ Diamanti', 'PG Fulton', 'CD Cumming', 'L Balaji',\n",
       "       'ND McKenzie', 'VB van Jaarsveld', 'Khurram Manzoor', 'DBL Powell',\n",
       "       'SE Findlay', 'BP Nash', 'S Chattergoon', 'MS Sinclair',\n",
       "       'XM Marshall'], dtype=object)"
      ]
     },
     "execution_count": 25,
     "metadata": {},
     "output_type": "execute_result"
    }
   ],
   "source": [
    " kdf['Innings Player'].unique()"
   ]
  },
  {
   "cell_type": "code",
   "execution_count": 26,
   "id": "a4cbad99",
   "metadata": {},
   "outputs": [],
   "source": [
    "Kholi_df = kdf[kdf['Innings Player'] == 'V Kohli']"
   ]
  },
  {
   "cell_type": "code",
   "execution_count": 27,
   "id": "e6d4ca55",
   "metadata": {},
   "outputs": [
    {
     "data": {
      "text/html": [
       "<div>\n",
       "<style scoped>\n",
       "    .dataframe tbody tr th:only-of-type {\n",
       "        vertical-align: middle;\n",
       "    }\n",
       "\n",
       "    .dataframe tbody tr th {\n",
       "        vertical-align: top;\n",
       "    }\n",
       "\n",
       "    .dataframe thead th {\n",
       "        text-align: right;\n",
       "    }\n",
       "</style>\n",
       "<table border=\"1\" class=\"dataframe\">\n",
       "  <thead>\n",
       "    <tr style=\"text-align: right;\">\n",
       "      <th></th>\n",
       "      <th>Innings Player</th>\n",
       "      <th>Innings Runs Scored</th>\n",
       "      <th>Innings Runs Scored Num</th>\n",
       "      <th>Innings Minutes Batted</th>\n",
       "      <th>Innings Batted Flag</th>\n",
       "      <th>Innings Not Out Flag</th>\n",
       "      <th>Innings Balls Faced</th>\n",
       "      <th>Innings Boundary Fours</th>\n",
       "      <th>Innings Boundary Sixes</th>\n",
       "      <th>Innings Batting Strike Rate</th>\n",
       "      <th>Innings Number</th>\n",
       "      <th>Opposition</th>\n",
       "      <th>Ground</th>\n",
       "      <th>Innings Date</th>\n",
       "      <th>Country</th>\n",
       "      <th>50's</th>\n",
       "      <th>100's</th>\n",
       "      <th>Innings Runs Scored Buckets</th>\n",
       "      <th>Innings Overs Bowled</th>\n",
       "      <th>Innings Bowled Flag</th>\n",
       "      <th>Innings Maidens Bowled</th>\n",
       "      <th>Innings Runs Conceded</th>\n",
       "      <th>Innings Wickets Taken</th>\n",
       "      <th>4 Wickets</th>\n",
       "      <th>5 Wickets</th>\n",
       "      <th>10 Wickets</th>\n",
       "      <th>Innings Wickets Taken Buckets</th>\n",
       "      <th>Innings Economy Rate</th>\n",
       "      <th>Year</th>\n",
       "    </tr>\n",
       "  </thead>\n",
       "  <tbody>\n",
       "    <tr>\n",
       "      <th>11</th>\n",
       "      <td>V Kohli</td>\n",
       "      <td>120</td>\n",
       "      <td>120</td>\n",
       "      <td>179</td>\n",
       "      <td>1</td>\n",
       "      <td>0.0</td>\n",
       "      <td>125</td>\n",
       "      <td>14</td>\n",
       "      <td>1</td>\n",
       "      <td>96</td>\n",
       "      <td>1</td>\n",
       "      <td>v West Indies</td>\n",
       "      <td>Port of Spain</td>\n",
       "      <td>2019-11-08</td>\n",
       "      <td>India</td>\n",
       "      <td>0.0</td>\n",
       "      <td>1.0</td>\n",
       "      <td>100-149</td>\n",
       "      <td>NaN</td>\n",
       "      <td>NaN</td>\n",
       "      <td>NaN</td>\n",
       "      <td>NaN</td>\n",
       "      <td>NaN</td>\n",
       "      <td>NaN</td>\n",
       "      <td>NaN</td>\n",
       "      <td>NaN</td>\n",
       "      <td>NaN</td>\n",
       "      <td>NaN</td>\n",
       "      <td>2019</td>\n",
       "    </tr>\n",
       "    <tr>\n",
       "      <th>327</th>\n",
       "      <td>V Kohli</td>\n",
       "      <td>1</td>\n",
       "      <td>1</td>\n",
       "      <td>8</td>\n",
       "      <td>1</td>\n",
       "      <td>0.0</td>\n",
       "      <td>6</td>\n",
       "      <td>0</td>\n",
       "      <td>0</td>\n",
       "      <td>16.66</td>\n",
       "      <td>2</td>\n",
       "      <td>v New Zealand</td>\n",
       "      <td>Manchester</td>\n",
       "      <td>2019-09-07</td>\n",
       "      <td>India</td>\n",
       "      <td>0.0</td>\n",
       "      <td>0.0</td>\n",
       "      <td>0-49</td>\n",
       "      <td>NaN</td>\n",
       "      <td>NaN</td>\n",
       "      <td>NaN</td>\n",
       "      <td>NaN</td>\n",
       "      <td>NaN</td>\n",
       "      <td>NaN</td>\n",
       "      <td>NaN</td>\n",
       "      <td>NaN</td>\n",
       "      <td>NaN</td>\n",
       "      <td>NaN</td>\n",
       "      <td>2019</td>\n",
       "    </tr>\n",
       "    <tr>\n",
       "      <th>420</th>\n",
       "      <td>V Kohli</td>\n",
       "      <td>34*</td>\n",
       "      <td>34</td>\n",
       "      <td>61</td>\n",
       "      <td>1</td>\n",
       "      <td>1.0</td>\n",
       "      <td>41</td>\n",
       "      <td>3</td>\n",
       "      <td>0</td>\n",
       "      <td>82.92</td>\n",
       "      <td>2</td>\n",
       "      <td>v Sri Lanka</td>\n",
       "      <td>Leeds</td>\n",
       "      <td>2019-06-07</td>\n",
       "      <td>India</td>\n",
       "      <td>0.0</td>\n",
       "      <td>0.0</td>\n",
       "      <td>0-49</td>\n",
       "      <td>NaN</td>\n",
       "      <td>NaN</td>\n",
       "      <td>NaN</td>\n",
       "      <td>NaN</td>\n",
       "      <td>NaN</td>\n",
       "      <td>NaN</td>\n",
       "      <td>NaN</td>\n",
       "      <td>NaN</td>\n",
       "      <td>NaN</td>\n",
       "      <td>NaN</td>\n",
       "      <td>2019</td>\n",
       "    </tr>\n",
       "    <tr>\n",
       "      <th>664</th>\n",
       "      <td>V Kohli</td>\n",
       "      <td>26</td>\n",
       "      <td>26</td>\n",
       "      <td>45</td>\n",
       "      <td>1</td>\n",
       "      <td>0.0</td>\n",
       "      <td>27</td>\n",
       "      <td>3</td>\n",
       "      <td>0</td>\n",
       "      <td>96.29</td>\n",
       "      <td>1</td>\n",
       "      <td>v Bangladesh</td>\n",
       "      <td>Birmingham</td>\n",
       "      <td>2019-02-07</td>\n",
       "      <td>India</td>\n",
       "      <td>0.0</td>\n",
       "      <td>0.0</td>\n",
       "      <td>0-49</td>\n",
       "      <td>NaN</td>\n",
       "      <td>NaN</td>\n",
       "      <td>NaN</td>\n",
       "      <td>NaN</td>\n",
       "      <td>NaN</td>\n",
       "      <td>NaN</td>\n",
       "      <td>NaN</td>\n",
       "      <td>NaN</td>\n",
       "      <td>NaN</td>\n",
       "      <td>NaN</td>\n",
       "      <td>2019</td>\n",
       "    </tr>\n",
       "    <tr>\n",
       "      <th>804</th>\n",
       "      <td>V Kohli</td>\n",
       "      <td>66</td>\n",
       "      <td>66</td>\n",
       "      <td>103</td>\n",
       "      <td>1</td>\n",
       "      <td>0.0</td>\n",
       "      <td>76</td>\n",
       "      <td>7</td>\n",
       "      <td>0</td>\n",
       "      <td>86.84</td>\n",
       "      <td>2</td>\n",
       "      <td>v England</td>\n",
       "      <td>Birmingham</td>\n",
       "      <td>2019-06-30</td>\n",
       "      <td>India</td>\n",
       "      <td>1.0</td>\n",
       "      <td>0.0</td>\n",
       "      <td>50-99</td>\n",
       "      <td>NaN</td>\n",
       "      <td>NaN</td>\n",
       "      <td>NaN</td>\n",
       "      <td>NaN</td>\n",
       "      <td>NaN</td>\n",
       "      <td>NaN</td>\n",
       "      <td>NaN</td>\n",
       "      <td>NaN</td>\n",
       "      <td>NaN</td>\n",
       "      <td>NaN</td>\n",
       "      <td>2019</td>\n",
       "    </tr>\n",
       "  </tbody>\n",
       "</table>\n",
       "</div>"
      ],
      "text/plain": [
       "    Innings Player Innings Runs Scored  Innings Runs Scored Num Innings Minutes Batted  Innings Batted Flag  Innings Not Out Flag  Innings Balls Faced Innings Boundary Fours Innings Boundary Sixes Innings Batting Strike Rate Innings Number     Opposition         Ground Innings Date Country  50's  100's Innings Runs Scored Buckets Innings Overs Bowled  Innings Bowled Flag Innings Maidens Bowled Innings Runs Conceded Innings Wickets Taken  4 Wickets  5 Wickets  10 Wickets Innings Wickets Taken Buckets Innings Economy Rate  Year\n",
       "11   V Kohli        120                 120                      179                    1                    0.0                   125                  14                     1                      96                          1              v West Indies  Port of Spain 2019-11-08    India   0.0   1.0    100-149                     NaN                 NaN                   NaN                    NaN                   NaN                  NaN        NaN        NaN          NaN                           NaN                  2019\n",
       "327  V Kohli        1                   1                        8                      1                    0.0                   6                    0                      0                      16.66                       2              v New Zealand  Manchester    2019-09-07    India   0.0   0.0    0-49                        NaN                 NaN                   NaN                    NaN                   NaN                  NaN        NaN        NaN          NaN                           NaN                  2019\n",
       "420  V Kohli        34*                 34                       61                     1                    1.0                   41                   3                      0                      82.92                       2              v Sri Lanka    Leeds         2019-06-07    India   0.0   0.0    0-49                        NaN                 NaN                   NaN                    NaN                   NaN                  NaN        NaN        NaN          NaN                           NaN                  2019\n",
       "664  V Kohli        26                  26                       45                     1                    0.0                   27                   3                      0                      96.29                       1              v Bangladesh   Birmingham    2019-02-07    India   0.0   0.0    0-49                        NaN                 NaN                   NaN                    NaN                   NaN                  NaN        NaN        NaN          NaN                           NaN                  2019\n",
       "804  V Kohli        66                  66                       103                    1                    0.0                   76                   7                      0                      86.84                       2              v England      Birmingham    2019-06-30    India   1.0   0.0    50-99                       NaN                 NaN                   NaN                    NaN                   NaN                  NaN        NaN        NaN          NaN                           NaN                  2019"
      ]
     },
     "execution_count": 27,
     "metadata": {},
     "output_type": "execute_result"
    }
   ],
   "source": [
    "Kholi_df.head()"
   ]
  },
  {
   "cell_type": "code",
   "execution_count": 28,
   "id": "506a3ab2",
   "metadata": {},
   "outputs": [],
   "source": [
    "Sachin_df = sdf[sdf['Innings Player'] == 'SR Tendulkar']"
   ]
  },
  {
   "cell_type": "code",
   "execution_count": 29,
   "id": "495a4a89",
   "metadata": {},
   "outputs": [
    {
     "data": {
      "text/html": [
       "<div>\n",
       "<style scoped>\n",
       "    .dataframe tbody tr th:only-of-type {\n",
       "        vertical-align: middle;\n",
       "    }\n",
       "\n",
       "    .dataframe tbody tr th {\n",
       "        vertical-align: top;\n",
       "    }\n",
       "\n",
       "    .dataframe thead th {\n",
       "        text-align: right;\n",
       "    }\n",
       "</style>\n",
       "<table border=\"1\" class=\"dataframe\">\n",
       "  <thead>\n",
       "    <tr style=\"text-align: right;\">\n",
       "      <th></th>\n",
       "      <th>Innings Player</th>\n",
       "      <th>Innings Runs Scored</th>\n",
       "      <th>Innings Runs Scored Num</th>\n",
       "      <th>Innings Minutes Batted</th>\n",
       "      <th>Innings Batted Flag</th>\n",
       "      <th>Innings Not Out Flag</th>\n",
       "      <th>Innings Balls Faced</th>\n",
       "      <th>Innings Boundary Fours</th>\n",
       "      <th>Innings Boundary Sixes</th>\n",
       "      <th>Innings Batting Strike Rate</th>\n",
       "      <th>Innings Number</th>\n",
       "      <th>Opposition</th>\n",
       "      <th>Ground</th>\n",
       "      <th>Innings Date</th>\n",
       "      <th>Country</th>\n",
       "      <th>50's</th>\n",
       "      <th>100's</th>\n",
       "      <th>Innings Runs Scored Buckets</th>\n",
       "      <th>Innings Overs Bowled</th>\n",
       "      <th>Innings Bowled Flag</th>\n",
       "      <th>Innings Maidens Bowled</th>\n",
       "      <th>Innings Runs Conceded</th>\n",
       "      <th>Innings Wickets Taken</th>\n",
       "      <th>4 Wickets</th>\n",
       "      <th>5 Wickets</th>\n",
       "      <th>10 Wickets</th>\n",
       "      <th>Innings Wickets Taken Buckets</th>\n",
       "      <th>Innings Economy Rate</th>\n",
       "      <th>Year</th>\n",
       "    </tr>\n",
       "  </thead>\n",
       "  <tbody>\n",
       "    <tr>\n",
       "      <th>77614</th>\n",
       "      <td>SR Tendulkar</td>\n",
       "      <td>47</td>\n",
       "      <td>47</td>\n",
       "      <td>60</td>\n",
       "      <td>1</td>\n",
       "      <td>0.0</td>\n",
       "      <td>42</td>\n",
       "      <td>9</td>\n",
       "      <td>0</td>\n",
       "      <td>111.9</td>\n",
       "      <td>1</td>\n",
       "      <td>v Bangladesh</td>\n",
       "      <td>Dhaka</td>\n",
       "      <td>2004-12-27</td>\n",
       "      <td>India</td>\n",
       "      <td>0.0</td>\n",
       "      <td>0.0</td>\n",
       "      <td>0-49</td>\n",
       "      <td>NaN</td>\n",
       "      <td>NaN</td>\n",
       "      <td>NaN</td>\n",
       "      <td>NaN</td>\n",
       "      <td>NaN</td>\n",
       "      <td>NaN</td>\n",
       "      <td>NaN</td>\n",
       "      <td>NaN</td>\n",
       "      <td>NaN</td>\n",
       "      <td>NaN</td>\n",
       "      <td>2004</td>\n",
       "    </tr>\n",
       "    <tr>\n",
       "      <th>77747</th>\n",
       "      <td>SR Tendulkar</td>\n",
       "      <td>19</td>\n",
       "      <td>19</td>\n",
       "      <td>46</td>\n",
       "      <td>1</td>\n",
       "      <td>0.0</td>\n",
       "      <td>32</td>\n",
       "      <td>3</td>\n",
       "      <td>0</td>\n",
       "      <td>59.37</td>\n",
       "      <td>1</td>\n",
       "      <td>v Bangladesh</td>\n",
       "      <td>Chattogram</td>\n",
       "      <td>2004-12-23</td>\n",
       "      <td>India</td>\n",
       "      <td>0.0</td>\n",
       "      <td>0.0</td>\n",
       "      <td>0-49</td>\n",
       "      <td>NaN</td>\n",
       "      <td>NaN</td>\n",
       "      <td>NaN</td>\n",
       "      <td>NaN</td>\n",
       "      <td>NaN</td>\n",
       "      <td>NaN</td>\n",
       "      <td>NaN</td>\n",
       "      <td>NaN</td>\n",
       "      <td>NaN</td>\n",
       "      <td>NaN</td>\n",
       "      <td>2004</td>\n",
       "    </tr>\n",
       "    <tr>\n",
       "      <th>78054</th>\n",
       "      <td>SR Tendulkar</td>\n",
       "      <td>16</td>\n",
       "      <td>16</td>\n",
       "      <td>30</td>\n",
       "      <td>1</td>\n",
       "      <td>0.0</td>\n",
       "      <td>17</td>\n",
       "      <td>2</td>\n",
       "      <td>0</td>\n",
       "      <td>94.11</td>\n",
       "      <td>1</td>\n",
       "      <td>v Pakistan</td>\n",
       "      <td>Kolkata</td>\n",
       "      <td>2004-11-13</td>\n",
       "      <td>India</td>\n",
       "      <td>0.0</td>\n",
       "      <td>0.0</td>\n",
       "      <td>0-49</td>\n",
       "      <td>NaN</td>\n",
       "      <td>NaN</td>\n",
       "      <td>NaN</td>\n",
       "      <td>NaN</td>\n",
       "      <td>NaN</td>\n",
       "      <td>NaN</td>\n",
       "      <td>NaN</td>\n",
       "      <td>NaN</td>\n",
       "      <td>NaN</td>\n",
       "      <td>NaN</td>\n",
       "      <td>2004</td>\n",
       "    </tr>\n",
       "    <tr>\n",
       "      <th>79590</th>\n",
       "      <td>SR Tendulkar</td>\n",
       "      <td>74</td>\n",
       "      <td>74</td>\n",
       "      <td>170</td>\n",
       "      <td>1</td>\n",
       "      <td>0.0</td>\n",
       "      <td>100</td>\n",
       "      <td>7</td>\n",
       "      <td>1</td>\n",
       "      <td>74</td>\n",
       "      <td>2</td>\n",
       "      <td>v Sri Lanka</td>\n",
       "      <td>Colombo (RPS)</td>\n",
       "      <td>2004-01-08</td>\n",
       "      <td>India</td>\n",
       "      <td>1.0</td>\n",
       "      <td>0.0</td>\n",
       "      <td>50-99</td>\n",
       "      <td>NaN</td>\n",
       "      <td>NaN</td>\n",
       "      <td>NaN</td>\n",
       "      <td>NaN</td>\n",
       "      <td>NaN</td>\n",
       "      <td>NaN</td>\n",
       "      <td>NaN</td>\n",
       "      <td>NaN</td>\n",
       "      <td>NaN</td>\n",
       "      <td>NaN</td>\n",
       "      <td>2004</td>\n",
       "    </tr>\n",
       "    <tr>\n",
       "      <th>79681</th>\n",
       "      <td>SR Tendulkar</td>\n",
       "      <td>18</td>\n",
       "      <td>18</td>\n",
       "      <td>30</td>\n",
       "      <td>1</td>\n",
       "      <td>0.0</td>\n",
       "      <td>21</td>\n",
       "      <td>3</td>\n",
       "      <td>0</td>\n",
       "      <td>85.71</td>\n",
       "      <td>1</td>\n",
       "      <td>v Sri Lanka</td>\n",
       "      <td>Colombo (RPS)</td>\n",
       "      <td>2004-07-27</td>\n",
       "      <td>India</td>\n",
       "      <td>0.0</td>\n",
       "      <td>0.0</td>\n",
       "      <td>0-49</td>\n",
       "      <td>NaN</td>\n",
       "      <td>NaN</td>\n",
       "      <td>NaN</td>\n",
       "      <td>NaN</td>\n",
       "      <td>NaN</td>\n",
       "      <td>NaN</td>\n",
       "      <td>NaN</td>\n",
       "      <td>NaN</td>\n",
       "      <td>NaN</td>\n",
       "      <td>NaN</td>\n",
       "      <td>2004</td>\n",
       "    </tr>\n",
       "  </tbody>\n",
       "</table>\n",
       "</div>"
      ],
      "text/plain": [
       "      Innings Player Innings Runs Scored  Innings Runs Scored Num Innings Minutes Batted  Innings Batted Flag  Innings Not Out Flag  Innings Balls Faced Innings Boundary Fours Innings Boundary Sixes Innings Batting Strike Rate Innings Number    Opposition         Ground Innings Date Country  50's  100's Innings Runs Scored Buckets Innings Overs Bowled  Innings Bowled Flag Innings Maidens Bowled Innings Runs Conceded Innings Wickets Taken  4 Wickets  5 Wickets  10 Wickets Innings Wickets Taken Buckets Innings Economy Rate  Year\n",
       "77614  SR Tendulkar   47                  47                       60                     1                    0.0                   42                   9                      0                      111.9                       1              v Bangladesh  Dhaka         2004-12-27    India   0.0   0.0    0-49                        NaN                 NaN                   NaN                    NaN                   NaN                  NaN        NaN        NaN          NaN                           NaN                  2004\n",
       "77747  SR Tendulkar   19                  19                       46                     1                    0.0                   32                   3                      0                      59.37                       1              v Bangladesh  Chattogram    2004-12-23    India   0.0   0.0    0-49                        NaN                 NaN                   NaN                    NaN                   NaN                  NaN        NaN        NaN          NaN                           NaN                  2004\n",
       "78054  SR Tendulkar   16                  16                       30                     1                    0.0                   17                   2                      0                      94.11                       1              v Pakistan    Kolkata       2004-11-13    India   0.0   0.0    0-49                        NaN                 NaN                   NaN                    NaN                   NaN                  NaN        NaN        NaN          NaN                           NaN                  2004\n",
       "79590  SR Tendulkar   74                  74                       170                    1                    0.0                   100                  7                      1                      74                          2              v Sri Lanka   Colombo (RPS) 2004-01-08    India   1.0   0.0    50-99                       NaN                 NaN                   NaN                    NaN                   NaN                  NaN        NaN        NaN          NaN                           NaN                  2004\n",
       "79681  SR Tendulkar   18                  18                       30                     1                    0.0                   21                   3                      0                      85.71                       1              v Sri Lanka   Colombo (RPS) 2004-07-27    India   0.0   0.0    0-49                        NaN                 NaN                   NaN                    NaN                   NaN                  NaN        NaN        NaN          NaN                           NaN                  2004"
      ]
     },
     "execution_count": 29,
     "metadata": {},
     "output_type": "execute_result"
    }
   ],
   "source": [
    "Sachin_df.head()"
   ]
  },
  {
   "cell_type": "code",
   "execution_count": 30,
   "id": "005f7c93",
   "metadata": {},
   "outputs": [],
   "source": [
    "kholi_SR = 100*(sum(Kholi_df['Innings Runs Scored Num'])/sum(Kholi_df['Innings Balls Faced']))"
   ]
  },
  {
   "cell_type": "code",
   "execution_count": 31,
   "id": "c2fd81b3",
   "metadata": {},
   "outputs": [
    {
     "data": {
      "text/plain": [
       "93.56126778138258"
      ]
     },
     "execution_count": 31,
     "metadata": {},
     "output_type": "execute_result"
    }
   ],
   "source": [
    "kholi_SR"
   ]
  },
  {
   "cell_type": "code",
   "execution_count": 32,
   "id": "1fb6cf87",
   "metadata": {},
   "outputs": [],
   "source": [
    "sachin_SR = 100*(sum(Sachin_df['Innings Runs Scored Num'])/sum(Sachin_df['Innings Balls Faced']))"
   ]
  },
  {
   "cell_type": "code",
   "execution_count": 33,
   "id": "90204f07",
   "metadata": {},
   "outputs": [
    {
     "data": {
      "text/plain": [
       "88.21377920429947"
      ]
     },
     "execution_count": 33,
     "metadata": {},
     "output_type": "execute_result"
    }
   ],
   "source": [
    "sachin_SR"
   ]
  },
  {
   "cell_type": "code",
   "execution_count": 34,
   "id": "fc322609",
   "metadata": {},
   "outputs": [],
   "source": [
    "kholi_100 = sum(Kholi_df['100\\'s'])"
   ]
  },
  {
   "cell_type": "code",
   "execution_count": 35,
   "id": "c2f6c79d",
   "metadata": {},
   "outputs": [
    {
     "data": {
      "text/plain": [
       "42.0"
      ]
     },
     "execution_count": 35,
     "metadata": {},
     "output_type": "execute_result"
    }
   ],
   "source": [
    "kholi_100"
   ]
  },
  {
   "cell_type": "code",
   "execution_count": 36,
   "id": "638e06c3",
   "metadata": {},
   "outputs": [],
   "source": [
    "sachin_100 = sum(Sachin_df['100\\'s'])"
   ]
  },
  {
   "cell_type": "code",
   "execution_count": 37,
   "id": "20c4a312",
   "metadata": {},
   "outputs": [
    {
     "data": {
      "text/plain": [
       "37.0"
      ]
     },
     "execution_count": 37,
     "metadata": {},
     "output_type": "execute_result"
    }
   ],
   "source": [
    "sachin_100"
   ]
  },
  {
   "cell_type": "code",
   "execution_count": 38,
   "id": "0276afa3",
   "metadata": {},
   "outputs": [],
   "source": [
    "kholi_50 = sum(Kholi_df['50\\'s'])"
   ]
  },
  {
   "cell_type": "code",
   "execution_count": 39,
   "id": "38f9c14a",
   "metadata": {},
   "outputs": [
    {
     "data": {
      "text/plain": [
       "53.0"
      ]
     },
     "execution_count": 39,
     "metadata": {},
     "output_type": "execute_result"
    }
   ],
   "source": [
    "kholi_50"
   ]
  },
  {
   "cell_type": "code",
   "execution_count": 40,
   "id": "f4df73c6",
   "metadata": {},
   "outputs": [],
   "source": [
    "sachin_50 = sum(Sachin_df['50\\'s'])"
   ]
  },
  {
   "cell_type": "code",
   "execution_count": 41,
   "id": "b38037cc",
   "metadata": {},
   "outputs": [
    {
     "data": {
      "text/plain": [
       "57.0"
      ]
     },
     "execution_count": 41,
     "metadata": {},
     "output_type": "execute_result"
    }
   ],
   "source": [
    "sachin_50"
   ]
  },
  {
   "cell_type": "code",
   "execution_count": 42,
   "id": "575a9e23",
   "metadata": {},
   "outputs": [
    {
     "data": {
      "text/html": [
       "<div>\n",
       "<style scoped>\n",
       "    .dataframe tbody tr th:only-of-type {\n",
       "        vertical-align: middle;\n",
       "    }\n",
       "\n",
       "    .dataframe tbody tr th {\n",
       "        vertical-align: top;\n",
       "    }\n",
       "\n",
       "    .dataframe thead th {\n",
       "        text-align: right;\n",
       "    }\n",
       "</style>\n",
       "<table border=\"1\" class=\"dataframe\">\n",
       "  <thead>\n",
       "    <tr style=\"text-align: right;\">\n",
       "      <th></th>\n",
       "      <th>Innings Player</th>\n",
       "      <th>Innings Runs Scored</th>\n",
       "      <th>Innings Runs Scored Num</th>\n",
       "      <th>Innings Minutes Batted</th>\n",
       "      <th>Innings Batted Flag</th>\n",
       "      <th>Innings Not Out Flag</th>\n",
       "      <th>Innings Balls Faced</th>\n",
       "      <th>Innings Boundary Fours</th>\n",
       "      <th>Innings Boundary Sixes</th>\n",
       "      <th>Innings Batting Strike Rate</th>\n",
       "      <th>Innings Number</th>\n",
       "      <th>Opposition</th>\n",
       "      <th>Ground</th>\n",
       "      <th>Innings Date</th>\n",
       "      <th>Country</th>\n",
       "      <th>50's</th>\n",
       "      <th>100's</th>\n",
       "      <th>Innings Runs Scored Buckets</th>\n",
       "      <th>Innings Overs Bowled</th>\n",
       "      <th>Innings Bowled Flag</th>\n",
       "      <th>Innings Maidens Bowled</th>\n",
       "      <th>Innings Runs Conceded</th>\n",
       "      <th>Innings Wickets Taken</th>\n",
       "      <th>4 Wickets</th>\n",
       "      <th>5 Wickets</th>\n",
       "      <th>10 Wickets</th>\n",
       "      <th>Innings Wickets Taken Buckets</th>\n",
       "      <th>Innings Economy Rate</th>\n",
       "      <th>Year</th>\n",
       "    </tr>\n",
       "  </thead>\n",
       "  <tbody>\n",
       "  </tbody>\n",
       "</table>\n",
       "</div>"
      ],
      "text/plain": [
       "Empty DataFrame\n",
       "Columns: [Innings Player, Innings Runs Scored, Innings Runs Scored Num, Innings Minutes Batted, Innings Batted Flag, Innings Not Out Flag, Innings Balls Faced, Innings Boundary Fours, Innings Boundary Sixes, Innings Batting Strike Rate, Innings Number, Opposition, Ground, Innings Date, Country, 50's, 100's, Innings Runs Scored Buckets, Innings Overs Bowled, Innings Bowled Flag, Innings Maidens Bowled, Innings Runs Conceded, Innings Wickets Taken, 4 Wickets, 5 Wickets, 10 Wickets, Innings Wickets Taken Buckets, Innings Economy Rate, Year]\n",
       "Index: []"
      ]
     },
     "execution_count": 42,
     "metadata": {},
     "output_type": "execute_result"
    }
   ],
   "source": [
    "kdf.head(0)"
   ]
  },
  {
   "cell_type": "code",
   "execution_count": 43,
   "id": "68146e89",
   "metadata": {},
   "outputs": [],
   "source": [
    "kholi_Avg = sum(Kholi_df['Innings Runs Scored Num'])/len(Kholi_df)"
   ]
  },
  {
   "cell_type": "code",
   "execution_count": 44,
   "id": "f9399f5d",
   "metadata": {},
   "outputs": [
    {
     "data": {
      "text/plain": [
       "50.20982142857143"
      ]
     },
     "execution_count": 44,
     "metadata": {},
     "output_type": "execute_result"
    }
   ],
   "source": [
    "kholi_Avg"
   ]
  },
  {
   "cell_type": "code",
   "execution_count": 45,
   "id": "d520c559",
   "metadata": {},
   "outputs": [],
   "source": [
    "sachin_Avg = sum(Sachin_df['Innings Runs Scored Num'])/len(Sachin_df)"
   ]
  },
  {
   "cell_type": "code",
   "execution_count": 46,
   "id": "98e5df3b",
   "metadata": {},
   "outputs": [
    {
     "data": {
      "text/plain": [
       "43.608856088560884"
      ]
     },
     "execution_count": 46,
     "metadata": {},
     "output_type": "execute_result"
    }
   ],
   "source": [
    "sachin_Avg"
   ]
  },
  {
   "cell_type": "code",
   "execution_count": 47,
   "id": "934ace26",
   "metadata": {},
   "outputs": [],
   "source": [
    "kholi_runs = sum(Kholi_df['Innings Runs Scored Num'])"
   ]
  },
  {
   "cell_type": "code",
   "execution_count": 48,
   "id": "b8816c1e",
   "metadata": {},
   "outputs": [],
   "source": [
    "sachin_runs = sum(Sachin_df['Innings Runs Scored Num'])"
   ]
  },
  {
   "cell_type": "code",
   "execution_count": 49,
   "id": "30cf91c0",
   "metadata": {},
   "outputs": [
    {
     "data": {
      "text/plain": [
       "(11247, 11818)"
      ]
     },
     "execution_count": 49,
     "metadata": {},
     "output_type": "execute_result"
    }
   ],
   "source": [
    "kholi_runs, sachin_runs"
   ]
  },
  {
   "cell_type": "code",
   "execution_count": 50,
   "id": "daec1fb2",
   "metadata": {},
   "outputs": [],
   "source": [
    "kdf_Indian_players = kdf[kdf['Country'] == 'India']"
   ]
  },
  {
   "cell_type": "code",
   "execution_count": 51,
   "id": "5dae295e",
   "metadata": {},
   "outputs": [
    {
     "data": {
      "text/html": [
       "<div>\n",
       "<style scoped>\n",
       "    .dataframe tbody tr th:only-of-type {\n",
       "        vertical-align: middle;\n",
       "    }\n",
       "\n",
       "    .dataframe tbody tr th {\n",
       "        vertical-align: top;\n",
       "    }\n",
       "\n",
       "    .dataframe thead th {\n",
       "        text-align: right;\n",
       "    }\n",
       "</style>\n",
       "<table border=\"1\" class=\"dataframe\">\n",
       "  <thead>\n",
       "    <tr style=\"text-align: right;\">\n",
       "      <th></th>\n",
       "      <th>Innings Player</th>\n",
       "      <th>Innings Runs Scored</th>\n",
       "      <th>Innings Runs Scored Num</th>\n",
       "      <th>Innings Minutes Batted</th>\n",
       "      <th>Innings Batted Flag</th>\n",
       "      <th>Innings Not Out Flag</th>\n",
       "      <th>Innings Balls Faced</th>\n",
       "      <th>Innings Boundary Fours</th>\n",
       "      <th>Innings Boundary Sixes</th>\n",
       "      <th>Innings Batting Strike Rate</th>\n",
       "      <th>Innings Number</th>\n",
       "      <th>Opposition</th>\n",
       "      <th>Ground</th>\n",
       "      <th>Innings Date</th>\n",
       "      <th>Country</th>\n",
       "      <th>50's</th>\n",
       "      <th>100's</th>\n",
       "      <th>Innings Runs Scored Buckets</th>\n",
       "      <th>Innings Overs Bowled</th>\n",
       "      <th>Innings Bowled Flag</th>\n",
       "      <th>Innings Maidens Bowled</th>\n",
       "      <th>Innings Runs Conceded</th>\n",
       "      <th>Innings Wickets Taken</th>\n",
       "      <th>4 Wickets</th>\n",
       "      <th>5 Wickets</th>\n",
       "      <th>10 Wickets</th>\n",
       "      <th>Innings Wickets Taken Buckets</th>\n",
       "      <th>Innings Economy Rate</th>\n",
       "      <th>Year</th>\n",
       "    </tr>\n",
       "  </thead>\n",
       "  <tbody>\n",
       "    <tr>\n",
       "      <th>11</th>\n",
       "      <td>V Kohli</td>\n",
       "      <td>120</td>\n",
       "      <td>120</td>\n",
       "      <td>179</td>\n",
       "      <td>1</td>\n",
       "      <td>0.0</td>\n",
       "      <td>125</td>\n",
       "      <td>14</td>\n",
       "      <td>1</td>\n",
       "      <td>96</td>\n",
       "      <td>1</td>\n",
       "      <td>v West Indies</td>\n",
       "      <td>Port of Spain</td>\n",
       "      <td>2019-11-08</td>\n",
       "      <td>India</td>\n",
       "      <td>0.0</td>\n",
       "      <td>1.0</td>\n",
       "      <td>100-149</td>\n",
       "      <td>NaN</td>\n",
       "      <td>NaN</td>\n",
       "      <td>NaN</td>\n",
       "      <td>NaN</td>\n",
       "      <td>NaN</td>\n",
       "      <td>NaN</td>\n",
       "      <td>NaN</td>\n",
       "      <td>NaN</td>\n",
       "      <td>NaN</td>\n",
       "      <td>NaN</td>\n",
       "      <td>2019</td>\n",
       "    </tr>\n",
       "    <tr>\n",
       "      <th>12</th>\n",
       "      <td>SS Iyer</td>\n",
       "      <td>71</td>\n",
       "      <td>71</td>\n",
       "      <td>101</td>\n",
       "      <td>1</td>\n",
       "      <td>0.0</td>\n",
       "      <td>68</td>\n",
       "      <td>5</td>\n",
       "      <td>1</td>\n",
       "      <td>104.41</td>\n",
       "      <td>1</td>\n",
       "      <td>v West Indies</td>\n",
       "      <td>Port of Spain</td>\n",
       "      <td>2019-11-08</td>\n",
       "      <td>India</td>\n",
       "      <td>1.0</td>\n",
       "      <td>0.0</td>\n",
       "      <td>50-99</td>\n",
       "      <td>NaN</td>\n",
       "      <td>NaN</td>\n",
       "      <td>NaN</td>\n",
       "      <td>NaN</td>\n",
       "      <td>NaN</td>\n",
       "      <td>NaN</td>\n",
       "      <td>NaN</td>\n",
       "      <td>NaN</td>\n",
       "      <td>NaN</td>\n",
       "      <td>NaN</td>\n",
       "      <td>2019</td>\n",
       "    </tr>\n",
       "    <tr>\n",
       "      <th>13</th>\n",
       "      <td>RR Pant</td>\n",
       "      <td>20</td>\n",
       "      <td>20</td>\n",
       "      <td>27</td>\n",
       "      <td>1</td>\n",
       "      <td>0.0</td>\n",
       "      <td>35</td>\n",
       "      <td>2</td>\n",
       "      <td>0</td>\n",
       "      <td>57.14</td>\n",
       "      <td>1</td>\n",
       "      <td>v West Indies</td>\n",
       "      <td>Port of Spain</td>\n",
       "      <td>2019-11-08</td>\n",
       "      <td>India</td>\n",
       "      <td>0.0</td>\n",
       "      <td>0.0</td>\n",
       "      <td>0-49</td>\n",
       "      <td>NaN</td>\n",
       "      <td>NaN</td>\n",
       "      <td>NaN</td>\n",
       "      <td>NaN</td>\n",
       "      <td>NaN</td>\n",
       "      <td>NaN</td>\n",
       "      <td>NaN</td>\n",
       "      <td>NaN</td>\n",
       "      <td>NaN</td>\n",
       "      <td>NaN</td>\n",
       "      <td>2019</td>\n",
       "    </tr>\n",
       "    <tr>\n",
       "      <th>14</th>\n",
       "      <td>RG Sharma</td>\n",
       "      <td>18</td>\n",
       "      <td>18</td>\n",
       "      <td>75</td>\n",
       "      <td>1</td>\n",
       "      <td>0.0</td>\n",
       "      <td>34</td>\n",
       "      <td>2</td>\n",
       "      <td>0</td>\n",
       "      <td>52.94</td>\n",
       "      <td>1</td>\n",
       "      <td>v West Indies</td>\n",
       "      <td>Port of Spain</td>\n",
       "      <td>2019-11-08</td>\n",
       "      <td>India</td>\n",
       "      <td>0.0</td>\n",
       "      <td>0.0</td>\n",
       "      <td>0-49</td>\n",
       "      <td>NaN</td>\n",
       "      <td>NaN</td>\n",
       "      <td>NaN</td>\n",
       "      <td>NaN</td>\n",
       "      <td>NaN</td>\n",
       "      <td>NaN</td>\n",
       "      <td>NaN</td>\n",
       "      <td>NaN</td>\n",
       "      <td>NaN</td>\n",
       "      <td>NaN</td>\n",
       "      <td>2019</td>\n",
       "    </tr>\n",
       "    <tr>\n",
       "      <th>15</th>\n",
       "      <td>RA Jadeja</td>\n",
       "      <td>16*</td>\n",
       "      <td>16</td>\n",
       "      <td>24</td>\n",
       "      <td>1</td>\n",
       "      <td>1.0</td>\n",
       "      <td>16</td>\n",
       "      <td>1</td>\n",
       "      <td>0</td>\n",
       "      <td>100</td>\n",
       "      <td>1</td>\n",
       "      <td>v West Indies</td>\n",
       "      <td>Port of Spain</td>\n",
       "      <td>2019-11-08</td>\n",
       "      <td>India</td>\n",
       "      <td>0.0</td>\n",
       "      <td>0.0</td>\n",
       "      <td>0-49</td>\n",
       "      <td>NaN</td>\n",
       "      <td>NaN</td>\n",
       "      <td>NaN</td>\n",
       "      <td>NaN</td>\n",
       "      <td>NaN</td>\n",
       "      <td>NaN</td>\n",
       "      <td>NaN</td>\n",
       "      <td>NaN</td>\n",
       "      <td>NaN</td>\n",
       "      <td>NaN</td>\n",
       "      <td>2019</td>\n",
       "    </tr>\n",
       "  </tbody>\n",
       "</table>\n",
       "</div>"
      ],
      "text/plain": [
       "   Innings Player Innings Runs Scored  Innings Runs Scored Num Innings Minutes Batted  Innings Batted Flag  Innings Not Out Flag  Innings Balls Faced Innings Boundary Fours Innings Boundary Sixes Innings Batting Strike Rate Innings Number     Opposition         Ground Innings Date Country  50's  100's Innings Runs Scored Buckets Innings Overs Bowled  Innings Bowled Flag Innings Maidens Bowled Innings Runs Conceded Innings Wickets Taken  4 Wickets  5 Wickets  10 Wickets Innings Wickets Taken Buckets Innings Economy Rate  Year\n",
       "11  V Kohli        120                 120                      179                    1                    0.0                   125                  14                     1                      96                          1              v West Indies  Port of Spain 2019-11-08    India   0.0   1.0    100-149                     NaN                 NaN                   NaN                    NaN                   NaN                  NaN        NaN        NaN          NaN                           NaN                  2019\n",
       "12  SS Iyer        71                  71                       101                    1                    0.0                   68                   5                      1                      104.41                      1              v West Indies  Port of Spain 2019-11-08    India   1.0   0.0    50-99                       NaN                 NaN                   NaN                    NaN                   NaN                  NaN        NaN        NaN          NaN                           NaN                  2019\n",
       "13  RR Pant        20                  20                       27                     1                    0.0                   35                   2                      0                      57.14                       1              v West Indies  Port of Spain 2019-11-08    India   0.0   0.0    0-49                        NaN                 NaN                   NaN                    NaN                   NaN                  NaN        NaN        NaN          NaN                           NaN                  2019\n",
       "14  RG Sharma      18                  18                       75                     1                    0.0                   34                   2                      0                      52.94                       1              v West Indies  Port of Spain 2019-11-08    India   0.0   0.0    0-49                        NaN                 NaN                   NaN                    NaN                   NaN                  NaN        NaN        NaN          NaN                           NaN                  2019\n",
       "15  RA Jadeja      16*                 16                       24                     1                    1.0                   16                   1                      0                      100                         1              v West Indies  Port of Spain 2019-11-08    India   0.0   0.0    0-49                        NaN                 NaN                   NaN                    NaN                   NaN                  NaN        NaN        NaN          NaN                           NaN                  2019"
      ]
     },
     "execution_count": 51,
     "metadata": {},
     "output_type": "execute_result"
    }
   ],
   "source": [
    "kdf_Indian_players.head(5)"
   ]
  },
  {
   "cell_type": "code",
   "execution_count": null,
   "id": "be8ea101",
   "metadata": {},
   "outputs": [],
   "source": []
  },
  {
   "cell_type": "code",
   "execution_count": 52,
   "id": "49ce7285",
   "metadata": {},
   "outputs": [
    {
     "data": {
      "text/plain": [
       "array(['V Kohli', 'SS Iyer', 'RR Pant', 'RG Sharma', 'RA Jadeja',\n",
       "       'KM Jadhav', 'Mohammed Shami', 'S Dhawan', 'B Kumar', 'MS Dhoni',\n",
       "       'HH Pandya', 'KD Karthik', 'YS Chahal', 'KL Rahul', 'JJ Bumrah',\n",
       "       'V Shankar', 'Kuldeep Yadav', 'AT Rayudu', 'Shubman Gill',\n",
       "       'KK Ahmed', 'DL Chahar', 'MK Pandey', 'S Kaul', 'SN Thakur',\n",
       "       'SK Raina', 'UT Yadav', 'AM Rahane', 'AR Patel', 'Yuvraj Singh',\n",
       "       'R Ashwin', 'J Yadav', 'DS Kulkarni', 'A Mishra', 'FY Fazal',\n",
       "       'KK Nair', 'Gurkeerat Singh', 'R Dhawan', 'I Sharma', 'MM Sharma',\n",
       "       'Harbhajan Singh', 'STR Binny', 'RV Uthappa', 'M Vijay',\n",
       "       'MK Tiwary', 'WP Saha', 'CA Pujara', 'VR Aaron', 'R Vinay Kumar',\n",
       "       'G Gambhir', 'AB Dinda', 'V Sehwag', 'IK Pathan', 'PP Ojha',\n",
       "       'Z Khan', 'SR Tendulkar', 'P Kumar', 'PA Patel', 'R Sharma',\n",
       "       'A Mithun', 'R Dravid', 'YK Pathan', 'S Badrinath', 'A Nehra',\n",
       "       'MM Patel', 'PP Chawla', 'SS Tiwary', 'S Sreesanth',\n",
       "       'Pankaj Singh', 'NV Ojha', 'S Tyagi', 'AM Nayar', 'RP Singh',\n",
       "       'L Balaji'], dtype=object)"
      ]
     },
     "execution_count": 52,
     "metadata": {},
     "output_type": "execute_result"
    }
   ],
   "source": [
    "kdf_Indian_players['Innings Player'].unique()"
   ]
  },
  {
   "cell_type": "code",
   "execution_count": 53,
   "id": "7bc11448",
   "metadata": {},
   "outputs": [],
   "source": [
    "kdf_Indian_players_runs = sum(kdf_Indian_players['Innings Runs Scored Num'])"
   ]
  },
  {
   "cell_type": "code",
   "execution_count": 54,
   "id": "b5ab7b8e",
   "metadata": {},
   "outputs": [
    {
     "data": {
      "text/plain": [
       "63867"
      ]
     },
     "execution_count": 54,
     "metadata": {},
     "output_type": "execute_result"
    }
   ],
   "source": [
    "kdf_Indian_players_runs"
   ]
  },
  {
   "cell_type": "code",
   "execution_count": 55,
   "id": "48d78e6a",
   "metadata": {},
   "outputs": [],
   "source": [
    "kholi_Team_Contribution =100 *(kholi_runs/kdf_Indian_players_runs)"
   ]
  },
  {
   "cell_type": "code",
   "execution_count": 56,
   "id": "542b4c99",
   "metadata": {},
   "outputs": [
    {
     "data": {
      "text/plain": [
       "17.610033350556627"
      ]
     },
     "execution_count": 56,
     "metadata": {},
     "output_type": "execute_result"
    }
   ],
   "source": [
    "kholi_Team_Contribution"
   ]
  },
  {
   "cell_type": "code",
   "execution_count": 57,
   "id": "0fb393d6",
   "metadata": {},
   "outputs": [],
   "source": [
    "sdf_Indian_players = sdf[sdf['Country'] == 'India']"
   ]
  },
  {
   "cell_type": "code",
   "execution_count": 58,
   "id": "a1255828",
   "metadata": {},
   "outputs": [
    {
     "data": {
      "text/html": [
       "<div>\n",
       "<style scoped>\n",
       "    .dataframe tbody tr th:only-of-type {\n",
       "        vertical-align: middle;\n",
       "    }\n",
       "\n",
       "    .dataframe tbody tr th {\n",
       "        vertical-align: top;\n",
       "    }\n",
       "\n",
       "    .dataframe thead th {\n",
       "        text-align: right;\n",
       "    }\n",
       "</style>\n",
       "<table border=\"1\" class=\"dataframe\">\n",
       "  <thead>\n",
       "    <tr style=\"text-align: right;\">\n",
       "      <th></th>\n",
       "      <th>Innings Player</th>\n",
       "      <th>Innings Runs Scored</th>\n",
       "      <th>Innings Runs Scored Num</th>\n",
       "      <th>Innings Minutes Batted</th>\n",
       "      <th>Innings Batted Flag</th>\n",
       "      <th>Innings Not Out Flag</th>\n",
       "      <th>Innings Balls Faced</th>\n",
       "      <th>Innings Boundary Fours</th>\n",
       "      <th>Innings Boundary Sixes</th>\n",
       "      <th>Innings Batting Strike Rate</th>\n",
       "      <th>Innings Number</th>\n",
       "      <th>Opposition</th>\n",
       "      <th>Ground</th>\n",
       "      <th>Innings Date</th>\n",
       "      <th>Country</th>\n",
       "      <th>50's</th>\n",
       "      <th>100's</th>\n",
       "      <th>Innings Runs Scored Buckets</th>\n",
       "      <th>Innings Overs Bowled</th>\n",
       "      <th>Innings Bowled Flag</th>\n",
       "      <th>Innings Maidens Bowled</th>\n",
       "      <th>Innings Runs Conceded</th>\n",
       "      <th>Innings Wickets Taken</th>\n",
       "      <th>4 Wickets</th>\n",
       "      <th>5 Wickets</th>\n",
       "      <th>10 Wickets</th>\n",
       "      <th>Innings Wickets Taken Buckets</th>\n",
       "      <th>Innings Economy Rate</th>\n",
       "      <th>Year</th>\n",
       "    </tr>\n",
       "  </thead>\n",
       "  <tbody>\n",
       "    <tr>\n",
       "      <th>77610</th>\n",
       "      <td>V Sehwag</td>\n",
       "      <td>70</td>\n",
       "      <td>70</td>\n",
       "      <td>85</td>\n",
       "      <td>1</td>\n",
       "      <td>0.0</td>\n",
       "      <td>52</td>\n",
       "      <td>9</td>\n",
       "      <td>2</td>\n",
       "      <td>134.61</td>\n",
       "      <td>1</td>\n",
       "      <td>v Bangladesh</td>\n",
       "      <td>Dhaka</td>\n",
       "      <td>2004-12-27</td>\n",
       "      <td>India</td>\n",
       "      <td>1.0</td>\n",
       "      <td>0.0</td>\n",
       "      <td>50-99</td>\n",
       "      <td>NaN</td>\n",
       "      <td>NaN</td>\n",
       "      <td>NaN</td>\n",
       "      <td>NaN</td>\n",
       "      <td>NaN</td>\n",
       "      <td>NaN</td>\n",
       "      <td>NaN</td>\n",
       "      <td>NaN</td>\n",
       "      <td>NaN</td>\n",
       "      <td>NaN</td>\n",
       "      <td>2004</td>\n",
       "    </tr>\n",
       "    <tr>\n",
       "      <th>77611</th>\n",
       "      <td>Yuvraj Singh</td>\n",
       "      <td>69</td>\n",
       "      <td>69</td>\n",
       "      <td>34</td>\n",
       "      <td>1</td>\n",
       "      <td>0.0</td>\n",
       "      <td>32</td>\n",
       "      <td>8</td>\n",
       "      <td>3</td>\n",
       "      <td>215.62</td>\n",
       "      <td>1</td>\n",
       "      <td>v Bangladesh</td>\n",
       "      <td>Dhaka</td>\n",
       "      <td>2004-12-27</td>\n",
       "      <td>India</td>\n",
       "      <td>1.0</td>\n",
       "      <td>0.0</td>\n",
       "      <td>50-99</td>\n",
       "      <td>NaN</td>\n",
       "      <td>NaN</td>\n",
       "      <td>NaN</td>\n",
       "      <td>NaN</td>\n",
       "      <td>NaN</td>\n",
       "      <td>NaN</td>\n",
       "      <td>NaN</td>\n",
       "      <td>NaN</td>\n",
       "      <td>NaN</td>\n",
       "      <td>NaN</td>\n",
       "      <td>2004</td>\n",
       "    </tr>\n",
       "    <tr>\n",
       "      <th>77612</th>\n",
       "      <td>R Dravid</td>\n",
       "      <td>60</td>\n",
       "      <td>60</td>\n",
       "      <td>87</td>\n",
       "      <td>1</td>\n",
       "      <td>0.0</td>\n",
       "      <td>68</td>\n",
       "      <td>5</td>\n",
       "      <td>0</td>\n",
       "      <td>88.23</td>\n",
       "      <td>1</td>\n",
       "      <td>v Bangladesh</td>\n",
       "      <td>Dhaka</td>\n",
       "      <td>2004-12-27</td>\n",
       "      <td>India</td>\n",
       "      <td>1.0</td>\n",
       "      <td>0.0</td>\n",
       "      <td>50-99</td>\n",
       "      <td>NaN</td>\n",
       "      <td>NaN</td>\n",
       "      <td>NaN</td>\n",
       "      <td>NaN</td>\n",
       "      <td>NaN</td>\n",
       "      <td>NaN</td>\n",
       "      <td>NaN</td>\n",
       "      <td>NaN</td>\n",
       "      <td>NaN</td>\n",
       "      <td>NaN</td>\n",
       "      <td>2004</td>\n",
       "    </tr>\n",
       "    <tr>\n",
       "      <th>77613</th>\n",
       "      <td>SC Ganguly</td>\n",
       "      <td>55</td>\n",
       "      <td>55</td>\n",
       "      <td>98</td>\n",
       "      <td>1</td>\n",
       "      <td>0.0</td>\n",
       "      <td>80</td>\n",
       "      <td>2</td>\n",
       "      <td>2</td>\n",
       "      <td>68.75</td>\n",
       "      <td>1</td>\n",
       "      <td>v Bangladesh</td>\n",
       "      <td>Dhaka</td>\n",
       "      <td>2004-12-27</td>\n",
       "      <td>India</td>\n",
       "      <td>1.0</td>\n",
       "      <td>0.0</td>\n",
       "      <td>50-99</td>\n",
       "      <td>NaN</td>\n",
       "      <td>NaN</td>\n",
       "      <td>NaN</td>\n",
       "      <td>NaN</td>\n",
       "      <td>NaN</td>\n",
       "      <td>NaN</td>\n",
       "      <td>NaN</td>\n",
       "      <td>NaN</td>\n",
       "      <td>NaN</td>\n",
       "      <td>NaN</td>\n",
       "      <td>2004</td>\n",
       "    </tr>\n",
       "    <tr>\n",
       "      <th>77614</th>\n",
       "      <td>SR Tendulkar</td>\n",
       "      <td>47</td>\n",
       "      <td>47</td>\n",
       "      <td>60</td>\n",
       "      <td>1</td>\n",
       "      <td>0.0</td>\n",
       "      <td>42</td>\n",
       "      <td>9</td>\n",
       "      <td>0</td>\n",
       "      <td>111.9</td>\n",
       "      <td>1</td>\n",
       "      <td>v Bangladesh</td>\n",
       "      <td>Dhaka</td>\n",
       "      <td>2004-12-27</td>\n",
       "      <td>India</td>\n",
       "      <td>0.0</td>\n",
       "      <td>0.0</td>\n",
       "      <td>0-49</td>\n",
       "      <td>NaN</td>\n",
       "      <td>NaN</td>\n",
       "      <td>NaN</td>\n",
       "      <td>NaN</td>\n",
       "      <td>NaN</td>\n",
       "      <td>NaN</td>\n",
       "      <td>NaN</td>\n",
       "      <td>NaN</td>\n",
       "      <td>NaN</td>\n",
       "      <td>NaN</td>\n",
       "      <td>2004</td>\n",
       "    </tr>\n",
       "  </tbody>\n",
       "</table>\n",
       "</div>"
      ],
      "text/plain": [
       "      Innings Player Innings Runs Scored  Innings Runs Scored Num Innings Minutes Batted  Innings Batted Flag  Innings Not Out Flag  Innings Balls Faced Innings Boundary Fours Innings Boundary Sixes Innings Batting Strike Rate Innings Number    Opposition Ground Innings Date Country  50's  100's Innings Runs Scored Buckets Innings Overs Bowled  Innings Bowled Flag Innings Maidens Bowled Innings Runs Conceded Innings Wickets Taken  4 Wickets  5 Wickets  10 Wickets Innings Wickets Taken Buckets Innings Economy Rate  Year\n",
       "77610  V Sehwag       70                  70                       85                     1                    0.0                   52                   9                      2                      134.61                      1              v Bangladesh  Dhaka 2004-12-27    India   1.0   0.0    50-99                       NaN                 NaN                   NaN                    NaN                   NaN                  NaN        NaN        NaN          NaN                           NaN                  2004\n",
       "77611  Yuvraj Singh   69                  69                       34                     1                    0.0                   32                   8                      3                      215.62                      1              v Bangladesh  Dhaka 2004-12-27    India   1.0   0.0    50-99                       NaN                 NaN                   NaN                    NaN                   NaN                  NaN        NaN        NaN          NaN                           NaN                  2004\n",
       "77612  R Dravid       60                  60                       87                     1                    0.0                   68                   5                      0                      88.23                       1              v Bangladesh  Dhaka 2004-12-27    India   1.0   0.0    50-99                       NaN                 NaN                   NaN                    NaN                   NaN                  NaN        NaN        NaN          NaN                           NaN                  2004\n",
       "77613  SC Ganguly     55                  55                       98                     1                    0.0                   80                   2                      2                      68.75                       1              v Bangladesh  Dhaka 2004-12-27    India   1.0   0.0    50-99                       NaN                 NaN                   NaN                    NaN                   NaN                  NaN        NaN        NaN          NaN                           NaN                  2004\n",
       "77614  SR Tendulkar   47                  47                       60                     1                    0.0                   42                   9                      0                      111.9                       1              v Bangladesh  Dhaka 2004-12-27    India   0.0   0.0    0-49                        NaN                 NaN                   NaN                    NaN                   NaN                  NaN        NaN        NaN          NaN                           NaN                  2004"
      ]
     },
     "execution_count": 58,
     "metadata": {},
     "output_type": "execute_result"
    }
   ],
   "source": [
    "sdf_Indian_players.head()"
   ]
  },
  {
   "cell_type": "code",
   "execution_count": 59,
   "id": "fb3b6746",
   "metadata": {},
   "outputs": [],
   "source": [
    "sdf_Indian_players_runs = sum(sdf_Indian_players['Innings Runs Scored Num'])"
   ]
  },
  {
   "cell_type": "code",
   "execution_count": 60,
   "id": "150d9f0b",
   "metadata": {},
   "outputs": [],
   "source": [
    "sachin_Team_Contribution =100 *(sachin_runs/sdf_Indian_players_runs)"
   ]
  },
  {
   "cell_type": "code",
   "execution_count": 61,
   "id": "f83b7df7",
   "metadata": {},
   "outputs": [
    {
     "data": {
      "text/plain": [
       "(17.610033350556627, 16.951875493078962)"
      ]
     },
     "execution_count": 61,
     "metadata": {},
     "output_type": "execute_result"
    }
   ],
   "source": [
    "kholi_Team_Contribution,sachin_Team_Contribution"
   ]
  },
  {
   "cell_type": "code",
   "execution_count": 62,
   "id": "0229b8d6",
   "metadata": {},
   "outputs": [],
   "source": [
    "sachin_Era_Top10 = sdf.groupby(['Innings Player'])['Innings Runs Scored Num'].sum().sort_values(ascending = False).head(10)"
   ]
  },
  {
   "cell_type": "code",
   "execution_count": 98,
   "id": "506a5006",
   "metadata": {},
   "outputs": [
    {
     "data": {
      "text/plain": [
       "Innings Player\n",
       "SR Tendulkar      11818\n",
       "SC Ganguly        9911 \n",
       "ST Jayasuriya     9297 \n",
       "Inzamam-ul-Haq    8561 \n",
       "R Dravid          7751 \n",
       "RT Ponting        7422 \n",
       "Saeed Anwar       7320 \n",
       "JH Kallis         7267 \n",
       "MS Atapattu       7253 \n",
       "MG Bevan          6912 \n",
       "Name: Innings Runs Scored Num, dtype: int32"
      ]
     },
     "execution_count": 98,
     "metadata": {},
     "output_type": "execute_result"
    }
   ],
   "source": [
    "sachin_Era_Top10"
   ]
  },
  {
   "cell_type": "code",
   "execution_count": 63,
   "id": "84ca7a3e",
   "metadata": {
    "scrolled": true
   },
   "outputs": [
    {
     "data": {
      "image/png": "[encoded data removed]",
      "text/plain": [
       "<Figure size 432x288 with 1 Axes>"
      ]
     },
     "metadata": {
      "needs_background": "light"
     },
     "output_type": "display_data"
    }
   ],
   "source": [
    "sachin_Era_Top10.plot(kind='barh')\n",
    "plt.show()"
   ]
  },
  {
   "cell_type": "code",
   "execution_count": 102,
   "id": "ed8ff6cb",
   "metadata": {},
   "outputs": [],
   "source": [
    "newDF = kdf[kdf.Year == 2009]"
   ]
  },
  {
   "cell_type": "code",
   "execution_count": 104,
   "id": "562cf33b",
   "metadata": {},
   "outputs": [
    {
     "data": {
      "text/plain": [
       "2236"
      ]
     },
     "execution_count": 104,
     "metadata": {},
     "output_type": "execute_result"
    }
   ],
   "source": [
    "len(newDF)"
   ]
  },
  {
   "cell_type": "code",
   "execution_count": null,
   "id": "d8e53990",
   "metadata": {},
   "outputs": [],
   "source": []
  },
  {
   "cell_type": "code",
   "execution_count": null,
   "id": "91daf9c1",
   "metadata": {},
   "outputs": [],
   "source": []
  },
  {
   "cell_type": "code",
   "execution_count": null,
   "id": "ab22c77d",
   "metadata": {},
   "outputs": [],
   "source": []
  },
  {
   "cell_type": "code",
   "execution_count": 64,
   "id": "93bbef48",
   "metadata": {},
   "outputs": [],
   "source": [
    "kohli_Era_Top10 = kdf.groupby(['Innings Player'])['Innings Runs Scored Num'].sum().sort_values(ascending = False).head(10)"
   ]
  },
  {
   "cell_type": "code",
   "execution_count": 65,
   "id": "e1ddf11c",
   "metadata": {},
   "outputs": [
    {
     "data": {
      "text/plain": [
       "Innings Player\n",
       "V Kohli           11247\n",
       "RG Sharma         8083 \n",
       "HM Amla           7745 \n",
       "TM Dilshan        7296 \n",
       "KC Sangakkara     7275 \n",
       "AB de Villiers    7247 \n",
       "LRPL Taylor       7059 \n",
       "MS Dhoni          6838 \n",
       "EJG Morgan        6748 \n",
       "MJ Guptill        6626 \n",
       "Name: Innings Runs Scored Num, dtype: int32"
      ]
     },
     "execution_count": 65,
     "metadata": {},
     "output_type": "execute_result"
    }
   ],
   "source": [
    "kohli_Era_Top10"
   ]
  },
  {
   "cell_type": "code",
   "execution_count": 66,
   "id": "04488f3b",
   "metadata": {
    "scrolled": true
   },
   "outputs": [
    {
     "data": {
      "image/png": "[encoded data removed]",
      "text/plain": [
       "<Figure size 432x288 with 1 Axes>"
      ]
     },
     "metadata": {
      "needs_background": "light"
     },
     "output_type": "display_data"
    }
   ],
   "source": [
    "kohli_Era_Top10.plot(kind='bar')\n",
    "plt.show()"
   ]
  },
  {
   "cell_type": "code",
   "execution_count": 67,
   "id": "d759515b",
   "metadata": {},
   "outputs": [],
   "source": [
    "non_kholi_team_india = kdf_Indian_players[kdf_Indian_players['Innings Player'] != 'V Kohli']"
   ]
  },
  {
   "cell_type": "code",
   "execution_count": 68,
   "id": "5bcc222e",
   "metadata": {},
   "outputs": [
    {
     "data": {
      "text/plain": [
       "1922"
      ]
     },
     "execution_count": 68,
     "metadata": {},
     "output_type": "execute_result"
    }
   ],
   "source": [
    "len(non_kholi_team_india)"
   ]
  },
  {
   "cell_type": "code",
   "execution_count": 69,
   "id": "7d0096c2",
   "metadata": {},
   "outputs": [],
   "source": [
    "non_kholi_team_india_Avg = sum(non_kholi_team_india['Innings Runs Scored Num'])/len(non_kholi_team_india)"
   ]
  },
  {
   "cell_type": "code",
   "execution_count": 70,
   "id": "5b89bf79",
   "metadata": {},
   "outputs": [
    {
     "data": {
      "text/plain": [
       "27.377731529656607"
      ]
     },
     "execution_count": 70,
     "metadata": {},
     "output_type": "execute_result"
    }
   ],
   "source": [
    "non_kholi_team_india_Avg"
   ]
  },
  {
   "cell_type": "code",
   "execution_count": 71,
   "id": "8b080914",
   "metadata": {
    "scrolled": true
   },
   "outputs": [
    {
     "data": {
      "text/plain": [
       "50.20982142857143"
      ]
     },
     "execution_count": 71,
     "metadata": {},
     "output_type": "execute_result"
    }
   ],
   "source": [
    "kholi_Avg"
   ]
  },
  {
   "cell_type": "code",
   "execution_count": 72,
   "id": "e5b295c0",
   "metadata": {},
   "outputs": [],
   "source": [
    "kohli_with_all_players_avg = sum(kdf['Innings Runs Scored Num'])/len(kdf)"
   ]
  },
  {
   "cell_type": "code",
   "execution_count": 73,
   "id": "6d2cae6e",
   "metadata": {},
   "outputs": [
    {
     "data": {
      "text/plain": [
       "24.99673202614379"
      ]
     },
     "execution_count": 73,
     "metadata": {},
     "output_type": "execute_result"
    }
   ],
   "source": [
    "kohli_with_all_players_avg"
   ]
  },
  {
   "cell_type": "code",
   "execution_count": 74,
   "id": "982d42a7",
   "metadata": {},
   "outputs": [],
   "source": [
    "non_kohli_with_all_players = kdf[kdf['Innings Player'] != 'V Kohli']"
   ]
  },
  {
   "cell_type": "code",
   "execution_count": 75,
   "id": "a4a7c927",
   "metadata": {},
   "outputs": [
    {
     "data": {
      "text/plain": [
       "21808"
      ]
     },
     "execution_count": 75,
     "metadata": {},
     "output_type": "execute_result"
    }
   ],
   "source": [
    "len(non_kohli_with_all_players)"
   ]
  },
  {
   "cell_type": "code",
   "execution_count": 76,
   "id": "5f543254",
   "metadata": {},
   "outputs": [],
   "source": [
    "non_kohli_with_all_players_avg =  sum(non_kohli_with_all_players['Innings Runs Scored Num'])/len(non_kohli_with_all_players)"
   ]
  },
  {
   "cell_type": "code",
   "execution_count": 77,
   "id": "187d9876",
   "metadata": {},
   "outputs": [
    {
     "data": {
      "text/plain": [
       "24.737756786500366"
      ]
     },
     "execution_count": 77,
     "metadata": {},
     "output_type": "execute_result"
    }
   ],
   "source": [
    "non_kohli_with_all_players_avg"
   ]
  },
  {
   "cell_type": "code",
   "execution_count": 78,
   "id": "8fc31c4e",
   "metadata": {},
   "outputs": [],
   "source": [
    "RPI_normalization_kohli = kholi_Avg/non_kohli_with_all_players_avg"
   ]
  },
  {
   "cell_type": "code",
   "execution_count": 79,
   "id": "9faccd84",
   "metadata": {},
   "outputs": [
    {
     "data": {
      "text/plain": [
       "2.029683688052565"
      ]
     },
     "execution_count": 79,
     "metadata": {},
     "output_type": "execute_result"
    }
   ],
   "source": [
    "RPI_normalization_kohli"
   ]
  },
  {
   "cell_type": "code",
   "execution_count": 80,
   "id": "1a0d7bcb",
   "metadata": {},
   "outputs": [],
   "source": [
    "non_sachin_team_india = sdf_Indian_players[sdf_Indian_players['Innings Player'] != 'SR Tendulkar']"
   ]
  },
  {
   "cell_type": "code",
   "execution_count": 81,
   "id": "38d88937",
   "metadata": {},
   "outputs": [],
   "source": [
    "non_Sachin_team_india_Avg = sum(non_sachin_team_india['Innings Runs Scored Num'])/len(non_sachin_team_india)"
   ]
  },
  {
   "cell_type": "code",
   "execution_count": 82,
   "id": "206ee972",
   "metadata": {},
   "outputs": [],
   "source": [
    "sachin_with_all_players_avg = sum(sdf['Innings Runs Scored Num'])/len(sdf)"
   ]
  },
  {
   "cell_type": "code",
   "execution_count": 83,
   "id": "ee9d0463",
   "metadata": {},
   "outputs": [
    {
     "data": {
      "text/plain": [
       "22.69352006124195"
      ]
     },
     "execution_count": 83,
     "metadata": {},
     "output_type": "execute_result"
    }
   ],
   "source": [
    "sachin_with_all_players_avg"
   ]
  },
  {
   "cell_type": "code",
   "execution_count": 84,
   "id": "43043995",
   "metadata": {},
   "outputs": [],
   "source": [
    "non_sachin_with_all_players = sdf[sdf['Innings Player'] != 'SR Tendulkar']"
   ]
  },
  {
   "cell_type": "code",
   "execution_count": 85,
   "id": "1ec93a2b",
   "metadata": {},
   "outputs": [],
   "source": [
    "non_sachin_with_all_players_avg = sum(non_sachin_with_all_players['Innings Runs Scored Num'])/len(non_sachin_with_all_players)"
   ]
  },
  {
   "cell_type": "code",
   "execution_count": 86,
   "id": "a10578c3",
   "metadata": {
    "scrolled": true
   },
   "outputs": [
    {
     "data": {
      "text/plain": [
       "22.43512946754194"
      ]
     },
     "execution_count": 86,
     "metadata": {},
     "output_type": "execute_result"
    }
   ],
   "source": [
    "non_sachin_with_all_players_avg "
   ]
  },
  {
   "cell_type": "code",
   "execution_count": 87,
   "id": "94ec1841",
   "metadata": {},
   "outputs": [],
   "source": [
    "RPI_normalization_sachin = sachin_Avg / non_sachin_with_all_players_avg"
   ]
  },
  {
   "cell_type": "code",
   "execution_count": 88,
   "id": "b77b62da",
   "metadata": {},
   "outputs": [
    {
     "data": {
      "text/plain": [
       "(2.029683688052565, 1.9437755485945407)"
      ]
     },
     "execution_count": 88,
     "metadata": {},
     "output_type": "execute_result"
    }
   ],
   "source": [
    "RPI_normalization_kohli, RPI_normalization_sachin"
   ]
  },
  {
   "cell_type": "code",
   "execution_count": null,
   "id": "d378b66a",
   "metadata": {},
   "outputs": [],
   "source": []
  },
  {
   "cell_type": "code",
   "execution_count": 89,
   "id": "7b864bea",
   "metadata": {},
   "outputs": [
    {
     "data": {
      "text/plain": [
       "(27.377731529656607, 22.34542647626399)"
      ]
     },
     "execution_count": 89,
     "metadata": {},
     "output_type": "execute_result"
    }
   ],
   "source": [
    "non_kholi_team_india_Avg,non_Sachin_team_india_Avg"
   ]
  },
  {
   "cell_type": "code",
   "execution_count": 90,
   "id": "10cdba50",
   "metadata": {},
   "outputs": [
    {
     "data": {
      "text/plain": [
       "(1.8339657313894773, 1.9515785986400203)"
      ]
     },
     "execution_count": 90,
     "metadata": {},
     "output_type": "execute_result"
    }
   ],
   "source": [
    "kholi_Avg/non_kholi_team_india_Avg , sachin_Avg/non_Sachin_team_india_Avg"
   ]
  },
  {
   "cell_type": "code",
   "execution_count": 91,
   "id": "ec828d03",
   "metadata": {},
   "outputs": [
    {
     "data": {
      "text/plain": [
       "(29.76095060577819, 27.377731529656607)"
      ]
     },
     "execution_count": 91,
     "metadata": {},
     "output_type": "execute_result"
    }
   ],
   "source": [
    "kdf_Indian_players_runs/len(kdf_Indian_players), sum(non_kholi_team_india['Innings Runs Scored Num'])/len(non_kholi_team_india)"
   ]
  },
  {
   "cell_type": "code",
   "execution_count": 92,
   "id": "df323665",
   "metadata": {},
   "outputs": [
    {
     "data": {
      "text/plain": [
       "1.8339657313894773"
      ]
     },
     "execution_count": 92,
     "metadata": {},
     "output_type": "execute_result"
    }
   ],
   "source": [
    "(kholi_runs/len(Kholi_df)) / (sum(non_kholi_team_india['Innings Runs Scored Num'])/len(non_kholi_team_india))"
   ]
  },
  {
   "cell_type": "code",
   "execution_count": 93,
   "id": "af0bd3e8",
   "metadata": {},
   "outputs": [],
   "source": [
    "kohli_100_per_inns = len(Kholi_df)/kholi_100"
   ]
  },
  {
   "cell_type": "code",
   "execution_count": 94,
   "id": "7ee26d16",
   "metadata": {},
   "outputs": [
    {
     "data": {
      "text/plain": [
       "5.333333333333333"
      ]
     },
     "execution_count": 94,
     "metadata": {},
     "output_type": "execute_result"
    }
   ],
   "source": [
    "kohli_100_per_inns"
   ]
  },
  {
   "cell_type": "code",
   "execution_count": 95,
   "id": "8eae3e40",
   "metadata": {},
   "outputs": [],
   "source": [
    "sachin_100_per_inns = len(Sachin_df)/sachin_100"
   ]
  },
  {
   "cell_type": "code",
   "execution_count": null,
   "id": "223bcc21",
   "metadata": {},
   "outputs": [],
   "source": []
  },
  {
   "cell_type": "code",
   "execution_count": 96,
   "id": "ade3c654",
   "metadata": {},
   "outputs": [
    {
     "data": {
      "text/plain": [
       "7.324324324324325"
      ]
     },
     "execution_count": 96,
     "metadata": {},
     "output_type": "execute_result"
    }
   ],
   "source": [
    "sachin_100_per_inns"
   ]
  },
  {
   "cell_type": "code",
   "execution_count": 97,
   "id": "62f3f2be",
   "metadata": {},
   "outputs": [
    {
     "data": {
      "text/plain": [
       "271"
      ]
     },
     "execution_count": 97,
     "metadata": {},
     "output_type": "execute_result"
    }
   ],
   "source": [
    "len(Sachin_df)"
   ]
  },
  {
   "cell_type": "code",
   "execution_count": null,
   "id": "fb699617",
   "metadata": {},
   "outputs": [],
   "source": []
  },
  {
   "cell_type": "code",
   "execution_count": null,
   "id": "14e18e1f",
   "metadata": {},
   "outputs": [],
   "source": []
  },
  {
   "cell_type": "code",
   "execution_count": null,
   "id": "6d96a8af",
   "metadata": {},
   "outputs": [],
   "source": []
  },
  {
   "cell_type": "code",
   "execution_count": null,
   "id": "e898507d",
   "metadata": {},
   "outputs": [],
   "source": []
  },
  {
   "cell_type": "code",
   "execution_count": null,
   "id": "15d71742",
   "metadata": {},
   "outputs": [],
   "source": []
  },
  {
   "cell_type": "code",
   "execution_count": null,
   "id": "17a01e99",
   "metadata": {},
   "outputs": [],
   "source": []
  },
  {
   "cell_type": "code",
   "execution_count": null,
   "id": "425217fc",
   "metadata": {},
   "outputs": [],
   "source": []
  },
  {
   "cell_type": "code",
   "execution_count": null,
   "id": "47c44568",
   "metadata": {},
   "outputs": [],
   "source": []
  },
  {
   "cell_type": "code",
   "execution_count": null,
   "id": "86627b95",
   "metadata": {},
   "outputs": [],
   "source": []
  },
  {
   "cell_type": "code",
   "execution_count": null,
   "id": "f226666a",
   "metadata": {},
   "outputs": [],
   "source": []
  },
  {
   "cell_type": "code",
   "execution_count": null,
   "id": "4dbbc38b",
   "metadata": {},
   "outputs": [],
   "source": []
  },
  {
   "cell_type": "code",
   "execution_count": null,
   "id": "ea12e0de",
   "metadata": {},
   "outputs": [],
   "source": []
  },
  {
   "cell_type": "code",
   "execution_count": null,
   "id": "5f1cc20d",
   "metadata": {},
   "outputs": [],
   "source": []
  },
  {
   "cell_type": "code",
   "execution_count": null,
   "id": "98474268",
   "metadata": {},
   "outputs": [],
   "source": []
  },
  {
   "cell_type": "code",
   "execution_count": null,
   "id": "f6860975",
   "metadata": {},
   "outputs": [],
   "source": []
  },
  {
   "cell_type": "code",
   "execution_count": null,
   "id": "2eadb481",
   "metadata": {},
   "outputs": [],
   "source": []
  },
  {
   "cell_type": "code",
   "execution_count": null,
   "id": "fcafa5c2",
   "metadata": {},
   "outputs": [],
   "source": []
  },
  {
   "cell_type": "code",
   "execution_count": null,
   "id": "5c14cf12",
   "metadata": {},
   "outputs": [],
   "source": []
  },
  {
   "cell_type": "code",
   "execution_count": null,
   "id": "eea260e5",
   "metadata": {},
   "outputs": [],
   "source": []
  },
  {
   "cell_type": "code",
   "execution_count": null,
   "id": "f6b9c3ae",
   "metadata": {},
   "outputs": [],
   "source": []
  },
  {
   "cell_type": "code",
   "execution_count": null,
   "id": "280eaf45",
   "metadata": {},
   "outputs": [],
   "source": []
  },
  {
   "cell_type": "code",
   "execution_count": null,
   "id": "e20a6bdf",
   "metadata": {},
   "outputs": [],
   "source": []
  },
  {
   "cell_type": "code",
   "execution_count": null,
   "id": "ae09ad9c",
   "metadata": {},
   "outputs": [],
   "source": []
  }
 ],
 "metadata": {
  "kernelspec": {
   "display_name": "Python 3 (ipykernel)",
   "language": "python",
   "name": "python3"
  },
  "language_info": {
   "codemirror_mode": {
    "name": "ipython",
    "version": 3
   },
   "file_extension": ".py",
   "mimetype": "text/x-python",
   "name": "python",
   "nbconvert_exporter": "python",
   "pygments_lexer": "ipython3",
   "version": "3.9.7"
  }
 },
 "nbformat": 4,
 "nbformat_minor": 5
}
