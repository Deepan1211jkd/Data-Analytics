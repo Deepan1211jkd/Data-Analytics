{
 "cells": [
  {
   "cell_type": "code",
   "execution_count": 1,
   "id": "f924678d",
   "metadata": {},
   "outputs": [],
   "source": [
    "import warnings\n",
    "warnings.filterwarnings('ignore')\n",
    "\n",
    "import pandas as pd\n",
    "import numpy as na\n",
    "\n",
    "import matplotlib.pyplot as plt\n",
    "\n",
    "pd.set_option('display.max_rows', None)\n",
    "pd.set_option('display.max_columns', None)\n",
    "pd.set_option('display.expand_frame_repr', False)\n",
    "pd.set_option('max_colwidth', -1)"
   ]
  },
  {
   "cell_type": "code",
   "execution_count": 2,
   "id": "c93f1235",
   "metadata": {},
   "outputs": [],
   "source": [
    "df = pd.read_csv('E:/Data Analytics/workshop/ABD vs Bumrah-20220218T052448Z-001/ABD vs Bumrah/IPL_ball_by_ball_updated.csv')"
   ]
  },
  {
   "cell_type": "code",
   "execution_count": 3,
   "id": "382d11de",
   "metadata": {},
   "outputs": [
    {
     "data": {
      "text/html": [
       "<div>\n",
       "<style scoped>\n",
       "    .dataframe tbody tr th:only-of-type {\n",
       "        vertical-align: middle;\n",
       "    }\n",
       "\n",
       "    .dataframe tbody tr th {\n",
       "        vertical-align: top;\n",
       "    }\n",
       "\n",
       "    .dataframe thead th {\n",
       "        text-align: right;\n",
       "    }\n",
       "</style>\n",
       "<table border=\"1\" class=\"dataframe\">\n",
       "  <thead>\n",
       "    <tr style=\"text-align: right;\">\n",
       "      <th></th>\n",
       "      <th>match_id</th>\n",
       "      <th>season</th>\n",
       "      <th>start_date</th>\n",
       "      <th>venue</th>\n",
       "      <th>innings</th>\n",
       "      <th>ball</th>\n",
       "      <th>batting_team</th>\n",
       "      <th>bowling_team</th>\n",
       "      <th>striker</th>\n",
       "      <th>non_striker</th>\n",
       "      <th>bowler</th>\n",
       "      <th>runs_off_bat</th>\n",
       "      <th>extras</th>\n",
       "      <th>wides</th>\n",
       "      <th>noballs</th>\n",
       "      <th>byes</th>\n",
       "      <th>legbyes</th>\n",
       "      <th>penalty</th>\n",
       "      <th>wicket_type</th>\n",
       "      <th>player_dismissed</th>\n",
       "      <th>other_wicket_type</th>\n",
       "      <th>other_player_dismissed</th>\n",
       "    </tr>\n",
       "  </thead>\n",
       "  <tbody>\n",
       "    <tr>\n",
       "      <th>0</th>\n",
       "      <td>335982</td>\n",
       "      <td>2008</td>\n",
       "      <td>2008-04-18</td>\n",
       "      <td>M Chinnaswamy Stadium</td>\n",
       "      <td>2</td>\n",
       "      <td>6.8</td>\n",
       "      <td>Royal Challengers Bangalore</td>\n",
       "      <td>Kolkata Knight Riders</td>\n",
       "      <td>MV Boucher</td>\n",
       "      <td>CL White</td>\n",
       "      <td>AB Agarkar</td>\n",
       "      <td>4</td>\n",
       "      <td>0</td>\n",
       "      <td>NaN</td>\n",
       "      <td>NaN</td>\n",
       "      <td>NaN</td>\n",
       "      <td>NaN</td>\n",
       "      <td>NaN</td>\n",
       "      <td>NaN</td>\n",
       "      <td>NaN</td>\n",
       "      <td>NaN</td>\n",
       "      <td>NaN</td>\n",
       "    </tr>\n",
       "  </tbody>\n",
       "</table>\n",
       "</div>"
      ],
      "text/plain": [
       "   match_id  season  start_date                  venue  innings  ball                 batting_team           bowling_team     striker non_striker      bowler  runs_off_bat  extras  wides  noballs  byes  legbyes  penalty wicket_type player_dismissed  other_wicket_type  other_player_dismissed\n",
       "0  335982    2008    2008-04-18  M Chinnaswamy Stadium  2        6.8   Royal Challengers Bangalore  Kolkata Knight Riders  MV Boucher  CL White    AB Agarkar  4             0      NaN    NaN      NaN   NaN      NaN       NaN         NaN             NaN                NaN                    "
      ]
     },
     "execution_count": 3,
     "metadata": {},
     "output_type": "execute_result"
    }
   ],
   "source": [
    "df.head(1)"
   ]
  },
  {
   "cell_type": "code",
   "execution_count": 4,
   "id": "993639dd",
   "metadata": {},
   "outputs": [
    {
     "data": {
      "text/plain": [
       "array([nan, 'caught', 'bowled', 'lbw', 'stumped', 'caught and bowled',\n",
       "       'hit wicket'], dtype=object)"
      ]
     },
     "execution_count": 4,
     "metadata": {},
     "output_type": "execute_result"
    }
   ],
   "source": [
    "df.innings.unique()\n",
    "\n",
    "df = df[(df.wicket_type != 'run out')]\n",
    "df = df[(df.wicket_type != 'retired hurt')]\n",
    "df = df[(df.wicket_type != 'obstructing the field')]\n",
    "\n",
    "df.wicket_type.unique()"
   ]
  },
  {
   "cell_type": "code",
   "execution_count": 5,
   "id": "8163d335",
   "metadata": {},
   "outputs": [
    {
     "data": {
      "text/plain": [
       "array([nan, 'JH Kallis', 'W Jaffer', 'V Kohli', 'R Dravid', 'Z Khan',\n",
       "       'SB Joshi', 'MV Boucher', 'B Akhil', 'CL White', 'SC Ganguly',\n",
       "       'DJ Hussey', 'RT Ponting', 'M Kaif', 'DS Lehmann', 'M Rawat',\n",
       "       'RA Jadeja', 'T Kohli', 'SK Warne', 'V Sehwag', 'KC Sangakkara',\n",
       "       'SK Raina', 'JDP Oram', 'PA Patel', 'MS Dhoni', 'ML Hayden',\n",
       "       'JR Hopes', 'Yuvraj Singh', 'K Goel', 'SB Styris', 'AS Yadav',\n",
       "       'SB Bangar', 'WPUJC Vaas', 'A Symonds', 'Y Venugopal Rao',\n",
       "       'RG Sharma', 'AC Gilchrist', 'VVS Laxman', 'Mohammad Hafeez',\n",
       "       'WP Saha', 'BB McCullum', 'PR Shah', 'AM Nayar', 'RV Uthappa',\n",
       "       'L Ronchi', 'SM Pollock', 'LRPL Taylor', 'S Chanderpaul',\n",
       "       'Kamran Akmal', 'YK Pathan', 'DPMD Jayawardene', 'IK Pathan',\n",
       "       'B Lee', 'G Gambhir', 'Shahid Afridi', 'ST Jayasuriya', 'MA Khote',\n",
       "       'Harbhajan Singh', 'DJ Bravo', 'MEK Hussey', 'GC Smith',\n",
       "       'SR Watson', 'SS Tiwary', 'S Sohal', 'PP Chawla', 'S Sreesanth',\n",
       "       'RR Sarwan', 'M Kartik', 'AB Agarkar', 'R Bhatia', 'MK Tiwary',\n",
       "       'Shoaib Malik', 'KD Karthik', 'TM Srivastava', 'AM Rahane',\n",
       "       'S Dhawan', 'B Chipli', 'DW Steyn', 'MK Pandey', 'DB Das',\n",
       "       'P Kumar', 'SA Asnodkar', 'AB Dinda', 'Salman Butt',\n",
       "       'D Kalyankrishna', 'DNT Zoysa', 'HH Gibbs', 'JA Morkel',\n",
       "       'SP Fleming', 'S Vidyut', 'SE Marsh', 'BJ Hodge', 'LR Shukla',\n",
       "       'Misbah-ul-Haq', 'Joginder Sharma', 'Mohammad Asif', 'PJ Sangwan',\n",
       "       'GD McGrath', 'S Badrinath', 'M Ntini', 'M Muralitharan',\n",
       "       'DJ Thornely', 'YV Takawale', 'S Anirudha', 'SK Trivedi',\n",
       "       'Sohail Tanvir', 'T Taibu', 'CK Kapugedera', 'A Chopra',\n",
       "       'AB de Villiers', 'DB Ravi Teja', 'VRV Singh', 'AD Mascarenhas',\n",
       "       'A Mishra', 'MF Maharoof', 'J Arunkumar', 'R Vinay Kumar',\n",
       "       'VY Mahesh', 'SR Tendulkar', 'RP Singh', 'PP Ojha',\n",
       "       'Shoaib Akhtar', 'I Sharma', 'TM Dilshan', 'DT Patil', 'A Kumble',\n",
       "       'LPC Silva', 'SP Goswami', 'Umar Gul', 'MS Gony', 'LA Pomersbach',\n",
       "       'A Mukund', 'DR Smith', 'SD Chitnis', 'D Salunkhe', 'Younis Khan',\n",
       "       'Niraj Patel', 'WA Mota', 'KP Pietersen', 'JD Ryder',\n",
       "       'T Henderson', 'Kamran Khan', 'MM Patel', 'JP Duminy',\n",
       "       'A Flintoff', 'MC Henriques', 'RS Bopara', 'CH Gayle', 'R Bishnoi',\n",
       "       'KV Sharma', 'RJ Quiney', 'Yashpal Singh', 'PC Valthaty',\n",
       "       'Pankaj Singh', 'FH Edwards', 'AS Raut', 'BAW Mendis', 'AN Ghosh',\n",
       "       'DL Vettori', 'RE van der Merwe', 'TL Suman', 'AA Bilakhia',\n",
       "       'GR Napier', 'MN van Wyk', 'L Balaji', 'M Vijay', 'SB Jakati',\n",
       "       'M Manhas', 'DA Warner', 'LA Carseldine', 'NV Ojha', 'SM Katich',\n",
       "       'RJ Harris', 'D du Preez', 'RR Raje', 'M Morkel', 'AD Mathews',\n",
       "       'Shoaib Ahmed', 'DS Kulkarni', 'A Singh', 'J Botha', 'Y Nagar',\n",
       "       'AB McDonald', 'R Ashwin', 'Mohammad Ashraful', 'Anirudh Singh',\n",
       "       'CA Pujara', 'RR Powar', 'A Uniyal', 'AT Rayudu', 'AP Tare',\n",
       "       'AA Jhunjhunwala', 'JM Kemp', 'EJG Morgan', 'SE Bond',\n",
       "       'RS Gavaskar', 'OA Shah', 'MS Bisla', 'KA Pollard', 'DP Nannes',\n",
       "       'DR Martyn', 'S Narwal', 'P Dogra', 'MJ Lumb', 'AB Barath',\n",
       "       'R Sathish', 'FY Fazal', 'MD Mishra', 'GJ Bailey', 'SJ Srivastava',\n",
       "       'J Theron', 'R Sharma', 'Mandeep Singh', 'KAJ Roach',\n",
       "       'Jaskaran Singh', 'AC Voges', 'CK Langeveldt', 'PD Collingwood',\n",
       "       'VS Malik', 'KM Jadhav', 'SW Tait', 'A Mithun', 'AP Dole',\n",
       "       'R McLaren', 'S Sriram', 'T Thushara', 'A Nehra', 'C Madan',\n",
       "       'AG Paunikar', 'MR Marsh', 'AJ Finch', 'STR Binny', 'B Sumanth',\n",
       "       'Harmeet Singh', 'RV Gomez', 'MA Agarwal', 'IR Jaggi',\n",
       "       'DT Christian', 'UT Yadav', 'UBT Chand', 'DJ Jacobs', 'AUK Pathan',\n",
       "       'AL Menaria', 'Sunny Singh', 'JJ van der Wath', 'R Ninan',\n",
       "       'MS Wade', 'Shakib Al Hasan', 'SB Wagh', 'WD Parnell', 'TD Paine',\n",
       "       'JEC Franklin', 'BJ Haddin', 'S Randiv', 'NLTC Perera',\n",
       "       'NL McCullum', 'TR Birt', 'RN ten Doeschate', 'SL Malinga',\n",
       "       'M Klinger', 'Harpreet Singh', 'Bipul Sharma', 'AC Blizzard',\n",
       "       'CA Ingram', 'S Nadeem', 'DH Yagnik', 'KB Arun Karthik',\n",
       "       'ND Doshi', 'CJ Ferguson', 'Y Gnaneswara Rao', 'S Rana',\n",
       "       'DE Bollinger', 'RE Levi', 'SPD Smith', 'B Kumar', 'MN Samuels',\n",
       "       'SA Yadav', 'F du Plessis', 'Ankit Sharma', 'DJ Harris',\n",
       "       'GJ Maxwell', 'HV Patel', 'JP Faulkner', 'SP Narine', 'KK Cooper',\n",
       "       'AA Chavan', 'GB Hogg', 'RR Bhatkal', 'CJ McKay', 'N Saini',\n",
       "       'DA Miller', 'Azhar Mahmood', 'A Ashish Reddy', 'V Pratap Singh',\n",
       "       'MJ Clarke', 'RJ Peterson', 'Gurkeerat Singh', 'PA Reddy',\n",
       "       'AP Majumdar', 'AC Thomas', 'AD Russell', 'CA Lynn', 'P Negi',\n",
       "       'Sunny Gupta', 'MC Juneja', 'KK Nair', 'GH Vihari', 'B Laughlin',\n",
       "       'MDKJ Perera', 'Mohammed Shami', 'BMAJ Mendis', 'M Vohra',\n",
       "       'R Rampaul', 'P Awana', 'J Syed Mohammad', 'KL Rahul', 'BJ Rohrer',\n",
       "       'R Dhawan', 'BB Samantray', 'Q de Kock', 'MG Johnson', 'LJ Wright',\n",
       "       'IC Pandey', 'AG Murtaza', 'X Thalaivan Sargunam', 'DJG Sammy',\n",
       "       'SV Samson', 'KW Richardson', 'CH Morris', 'MM Sharma',\n",
       "       'CM Gautam', 'UA Birla', 'Parvez Rasool', 'Sachin Baby',\n",
       "       'NM Coulter-Nile', 'CJ Anderson', 'NJ Maddinson', 'AR Patel',\n",
       "       'JDS Neesham', 'TG Southee', 'MA Starc', 'BR Dunk', 'RR Rossouw',\n",
       "       'PV Tambe', 'Shivam Sharma', 'LMP Simmons', 'VH Zol',\n",
       "       'Imran Tahir', 'R Shukla', 'BE Hendricks', 'R Tewatia',\n",
       "       'M de Lange', 'JD Unadkat', 'SS Iyer', 'DJ Hooda', 'SA Abbott',\n",
       "       'VR Aaron', 'AN Ahmed', 'KS Williamson', 'SN Khan', 'D Wiese',\n",
       "       'HH Pandya', 'MJ McClenaghan', 'Anureet Singh', 'PJ Cummins',\n",
       "       'Iqbal Abdulla', 'Karanveer Singh', 'Sandeep Sharma', 'J Suchith',\n",
       "       'S Gopal', 'JC Buttler', 'CR Brathwaite', 'Ishan Kishan',\n",
       "       'MP Stoinis', 'AD Nath', 'MJ Guptill', 'M Ashwin', 'NS Naik',\n",
       "       'RR Pant', 'KH Pandya', 'SW Billings', 'KC Cariappa',\n",
       "       'PSP Handscomb', 'Swapnil Singh', 'UT Khawaja', 'JJ Bumrah',\n",
       "       'TM Head', 'HM Amla', 'A Zampa', 'N Rana', 'S Kaushik',\n",
       "       'KJ Abbott', 'F Behardien', 'JO Holder', 'C Munro', 'ER Dwivedi',\n",
       "       'BCJ Cutting', 'S Aravind', 'TS Mills', 'BA Stokes', 'JJ Roy',\n",
       "       'CR Woakes', 'Vishnu Vinod', 'RA Tripathi', 'DL Chahar',\n",
       "       'Rashid Khan', 'V Shankar', 'SN Thakur', 'C de Grandhomme',\n",
       "       'AF Milne', 'S Badree', 'Mohammad Nabi', 'K Rabada', 'AJ Tye',\n",
       "       'YS Chahal', 'Kuldeep Yadav', 'SP Jackson', 'Ankit Soni',\n",
       "       'A Choudhary', 'CJ Jordan', 'AS Rajpoot', 'MA Wood', 'E Lewis',\n",
       "       'RK Singh', 'K Gowtham', 'S Kaul', 'Mujeeb Ur Rahman',\n",
       "       'Shubman Gill', 'Shivam Mavi', 'DJM Short', 'Washington Sundar',\n",
       "       'TK Curran', 'TA Boult', 'H Klaasen', 'JC Archer', 'RK Bhui',\n",
       "       'PP Shaw', 'LE Plunkett', 'M Markande', 'Mustafizur Rahman',\n",
       "       'Basil Thampi', 'AD Hales', 'MK Lomror', 'DR Shorey', 'MM Ali',\n",
       "       'P Chopra', 'IS Sodhi', 'Abhishek Sharma', 'Mohammed Siraj',\n",
       "       'JPR Scantlebury-Searles', 'S Dube', 'NA Saini', 'KMA Paul',\n",
       "       'JM Bairstow', 'N Pooran', 'SO Hetmyer', 'P Ray Barman',\n",
       "       'S Lamichhane', 'SM Curran', 'GC Viljoen', 'RD Chahar',\n",
       "       'M Prasidh Krishna', 'SD Lad', 'R Parag', 'JL Denly',\n",
       "       'LS Livingstone', 'KK Ahmed', 'AJ Turner', 'SE Rutherford',\n",
       "       'MJ Santner', 'P Simran Singh', 'JL Pattinson', 'PK Garg',\n",
       "       'D Padikkal', 'RD Gaikwad', 'YBK Jaiswal', 'JR Philippe',\n",
       "       'Ravi Bishnoi', 'Abdul Samad', 'I Udana', 'KL Nagarkoti',\n",
       "       'Arshdeep Singh', 'SS Cottrell', 'T Banton', 'AT Carey',\n",
       "       'N Jagadeesan', 'TU Deshpande', 'CV Varun', 'A Nortje',\n",
       "       'Kartik Tyagi', 'DR Sams', 'RM Patidar', 'Shahbaz Ahmed',\n",
       "       'M Jansen', 'JA Richardson', 'KA Jamieson', 'Lalit Yadav',\n",
       "       'M Shahrukh Khan', 'Virat Singh', 'J Yadav', 'FA Allen',\n",
       "       'C Sakariya', 'DJ Malan', 'Anmolpreet Singh', 'KS Bharat',\n",
       "       'PWH de Silva', 'VR Iyer', 'TH David', 'NT Ellis', 'AK Markram',\n",
       "       'GHS Garton', 'RV Patel', 'GD Phillips', 'Anuj Rawat'],\n",
       "      dtype=object)"
      ]
     },
     "execution_count": 5,
     "metadata": {},
     "output_type": "execute_result"
    }
   ],
   "source": [
    "df = df[(df.innings == 1) | (df.innings == 2)]\n",
    "df.player_dismissed.unique()"
   ]
  },
  {
   "cell_type": "code",
   "execution_count": 6,
   "id": "b2041eea",
   "metadata": {},
   "outputs": [
    {
     "data": {
      "text/plain": [
       "array([2, 1], dtype=int64)"
      ]
     },
     "execution_count": 6,
     "metadata": {},
     "output_type": "execute_result"
    }
   ],
   "source": [
    "df.innings.unique()\n"
   ]
  },
  {
   "cell_type": "code",
   "execution_count": 7,
   "id": "f1a7aa0b",
   "metadata": {},
   "outputs": [
    {
     "data": {
      "text/plain": [
       "array(['DS Kulkarni', 'Harbhajan Singh', 'A Nehra', 'AM Nayar',\n",
       "       'ST Jayasuriya', 'SM Pollock', 'MA Khote', 'DJ Bravo',\n",
       "       'VS Yeligati', 'SD Chitnis', 'CRD Fernando', 'DJ Thornely',\n",
       "       'RR Raje', 'DR Smith', 'A Nel', 'SL Malinga', 'Z Khan',\n",
       "       'SR Tendulkar', 'JP Duminy', 'GR Napier', 'C Nanda', 'AM Rahane',\n",
       "       'RA Shaikh', 'R McLaren', 'R Sathish', 'AG Murtaza', 'KA Pollard',\n",
       "       'AN Ahmed', 'STR Binny', 'JEC Franklin', 'MM Patel', 'RG Sharma',\n",
       "       'A Symonds', 'TL Suman', 'RW Price', 'PP Ojha', 'RP Singh',\n",
       "       'CJ McKay', 'NLTC Perera', 'RJ Peterson', 'R Shukla', 'JJ Bumrah',\n",
       "       'MG Johnson', 'JDP Oram', 'R Dhawan', 'YS Chahal', 'P Suyal',\n",
       "       'GJ Maxwell', 'NM Coulter-Nile', 'CJ Anderson', 'P Kumar',\n",
       "       'LMP Simmons', 'S Gopal', 'K Santokie', 'M de Lange',\n",
       "       'R Vinay Kumar', 'J Suchith', 'MJ McClenaghan', 'HH Pandya',\n",
       "       'TG Southee', 'KH Pandya', 'N Rana', 'KV Sharma', 'M Markande',\n",
       "       'Mustafizur Rahman', 'PJ Sangwan', 'BCJ Cutting', 'A Dananjaya',\n",
       "       'Rasikh Salam', 'RD Chahar', 'JP Behrendorff', 'AS Joseph',\n",
       "       'J Yadav', 'AS Roy', 'BB Sran', 'TA Boult', 'JL Pattinson',\n",
       "       'M Jansen', 'AF Milne', 'JDS Neesham', 'PP Chawla'], dtype=object)"
      ]
     },
     "execution_count": 7,
     "metadata": {},
     "output_type": "execute_result"
    }
   ],
   "source": [
    "df[df.bowling_team == 'Mumbai Indians']['bowler'].unique()"
   ]
  },
  {
   "cell_type": "code",
   "execution_count": 8,
   "id": "23a6668f",
   "metadata": {},
   "outputs": [
    {
     "data": {
      "text/plain": [
       "array([nan])"
      ]
     },
     "execution_count": 8,
     "metadata": {},
     "output_type": "execute_result"
    }
   ],
   "source": [
    "#AB de Villiers\n",
    "#JJ Bumrah\n",
    "df = df[(df.wides != 1.)]\n",
    "df = df[(df.wides != 2.)]\n",
    "df = df[(df.wides != 3.)]\n",
    "df = df[(df.wides != 4.)]\n",
    "df = df[(df.wides != 5.)]\n",
    "len(df)\n",
    "df.wides.unique()"
   ]
  },
  {
   "cell_type": "code",
   "execution_count": 9,
   "id": "0982dcb7",
   "metadata": {},
   "outputs": [],
   "source": [
    "def matchUps(batsman,bowler,df):\n",
    "    Req_df = df[(df.striker == batsman) & (df.bowler == bowler)]\n",
    "    Req_df.head()\n",
    "    Runs_Scored =sum(Req_df.runs_off_bat)\n",
    "    Balls_Faced = len(Req_df)\n",
    "    Strike_Rate =100* sum(Req_df.runs_off_bat)/len(Req_df)\n",
    "    Runs_Scored, Balls_Faced, Strike_Rate\n",
    "    Dimissal = len(Req_df[Req_df.player_dismissed == batsman])\n",
    "    df = pd.DataFrame({'Player Name': [batsman],'Runs Scored' :[Runs_Scored], 'Balls Faced' : [Balls_Faced], 'Strike Rate' : [Strike_Rate], 'Bowler' : [bowler], 'No. of Dismissals':[Dimissal]})\n",
    "    return df\n",
    "\n",
    "\n",
    "def bowlersBestBatsman(bowler,df):\n",
    "    df = df[df.bowler == bowler]\n",
    "    Bdf1 = pd.DataFrame(df.groupby('striker')['runs_off_bat'].sum()).reset_index()\n",
    "    Bdf2 = pd.DataFrame(df.groupby('striker')['ball'].count()).reset_index()\n",
    "    Bdf3 = Bdf1.merge(Bdf2, on = 'striker', how='left')\n",
    "    Bdf3['Strike_Rate'] = 100*(Bdf3.runs_off_bat/Bdf3.ball)\n",
    "    Bdf4 =Bdf3.sort_values(by = ['runs_off_bat'] , ascending=False) \n",
    "    Bowler_Best_batsmen = Bdf4[Bdf4.ball >= 30]\n",
    "    Bowler_Best_batsmen.reset_index(inplace = True, drop = True)\n",
    "    plt.figure(figsize = (30,20))\n",
    "    plt.scatter(Bowler_Best_batsmen.Strike_Rate , Bowler_Best_batsmen.runs_off_bat)\n",
    "    for i in range (len(Bowler_Best_batsmen)):\n",
    "        if Bowler_Best_batsmen.Strike_Rate[i] > 120:\n",
    "            if Bowler_Best_batsmen.runs_off_bat[i] > 60 :\n",
    "                plt.text(Bowler_Best_batsmen.Strike_Rate[i] , Bowler_Best_batsmen.runs_off_bat[i], Bowler_Best_batsmen.striker[i] , color='Red' , fontsize = 15)\n",
    "\n",
    "    plt.title(bowler + ' Best batsmen who face more than 30 balls' , fontsize=30)\n",
    "    plt.axvline(120 , ls= '--')\n",
    "    plt.axhline(60 , ls='--')\n",
    "    plt.xlabel('Strike_Rate')\n",
    "    plt.ylabel('Runs_Scored')\n",
    "    plt.show()\n",
    "\n",
    "    \n",
    "def batsmanFavBowler(batsman , df):\n",
    "    Abd_df = df[df.striker == batsman]\n",
    "    Abddf1 = pd.DataFrame(Abd_df.groupby('bowler')['runs_off_bat'].sum()).reset_index()\n",
    "    Abddf2 = pd.DataFrame(Abd_df.groupby('bowler')['ball'].count()).reset_index()\n",
    "    Abddf3 = Abddf1.merge(Abddf2, on ='bowler', how='left')\n",
    "    Abddf3['Strike_rate'] = 100*(Abddf3.runs_off_bat/Abddf3.ball)\n",
    "    Abddf4 = Abddf3.sort_values(by = 'runs_off_bat' , ascending=False)\n",
    "    Batsman_Fav_bowler = Abddf4[Abddf4.ball >= 30]\n",
    "    Batsman_Fav_bowler.reset_index(inplace = True, drop = True)\n",
    "    Batsman_Fav_bowler.to_csv('Abd_fav_bolwers')\n",
    "\n",
    "    plt.figure(figsize = (30,20))\n",
    "    plt.scatter(Batsman_Fav_bowler.Strike_rate,Batsman_Fav_bowler.runs_off_bat)\n",
    "    for i in range(len(Batsman_Fav_bowler)):\n",
    "        if Batsman_Fav_bowler.Strike_rate[i] >= 120:\n",
    "            if Batsman_Fav_bowler.runs_off_bat[i] >= 60:\n",
    "                plt.text(Batsman_Fav_bowler.Strike_rate[i] + 1,Batsman_Fav_bowler.runs_off_bat[i] - 0.5, Batsman_Fav_bowler.bowler[i] , color ='maroon' , fontsize = 15)\n",
    "    plt.axvline(120, ls = '--', color = 'grey')\n",
    "    plt.axhline(60, ls = '--', color = 'grey')\n",
    "    plt.title(batsman + '  Fav bowlers (min 30 balls faced)', fontsize = 20)\n",
    "    plt.xlabel('Strike rate')\n",
    "    plt.ylabel('Runs scored')\n",
    "    plt.show()\n",
    "\n"
   ]
  },
  {
   "cell_type": "code",
   "execution_count": 10,
   "id": "f0e90953",
   "metadata": {},
   "outputs": [
    {
     "data": {
      "text/html": [
       "<div>\n",
       "<style scoped>\n",
       "    .dataframe tbody tr th:only-of-type {\n",
       "        vertical-align: middle;\n",
       "    }\n",
       "\n",
       "    .dataframe tbody tr th {\n",
       "        vertical-align: top;\n",
       "    }\n",
       "\n",
       "    .dataframe thead th {\n",
       "        text-align: right;\n",
       "    }\n",
       "</style>\n",
       "<table border=\"1\" class=\"dataframe\">\n",
       "  <thead>\n",
       "    <tr style=\"text-align: right;\">\n",
       "      <th></th>\n",
       "      <th>Player Name</th>\n",
       "      <th>Runs Scored</th>\n",
       "      <th>Balls Faced</th>\n",
       "      <th>Strike Rate</th>\n",
       "      <th>Bowler</th>\n",
       "      <th>No. of Dismissals</th>\n",
       "    </tr>\n",
       "  </thead>\n",
       "  <tbody>\n",
       "    <tr>\n",
       "      <th>0</th>\n",
       "      <td>V Kohli</td>\n",
       "      <td>126</td>\n",
       "      <td>84</td>\n",
       "      <td>150.0</td>\n",
       "      <td>JJ Bumrah</td>\n",
       "      <td>4</td>\n",
       "    </tr>\n",
       "  </tbody>\n",
       "</table>\n",
       "</div>"
      ],
      "text/plain": [
       "  Player Name  Runs Scored  Balls Faced  Strike Rate     Bowler  No. of Dismissals\n",
       "0  V Kohli     126          84           150.0        JJ Bumrah  4                "
      ]
     },
     "execution_count": 10,
     "metadata": {},
     "output_type": "execute_result"
    }
   ],
   "source": [
    "# R Dhawan\n",
    "matchup = pd.DataFrame(matchUps('V Kohli' , 'JJ Bumrah',df))\n",
    "matchup"
   ]
  },
  {
   "cell_type": "code",
   "execution_count": 11,
   "id": "b5e5b7fc",
   "metadata": {},
   "outputs": [
    {
     "data": {
      "image/png": "[encoded data removed]",
      "text/plain": [
       "<Figure size 2160x1440 with 1 Axes>"
      ]
     },
     "metadata": {
      "needs_background": "light"
     },
     "output_type": "display_data"
    }
   ],
   "source": [
    "bowlersBestBatsman = pd.DataFrame(bowlersBestBatsman('PP Chawla',df))"
   ]
  },
  {
   "cell_type": "code",
   "execution_count": 12,
   "id": "719eb935",
   "metadata": {},
   "outputs": [
    {
     "data": {
      "image/png": "[encoded data removed]",
      "text/plain": [
       "<Figure size 2160x1440 with 1 Axes>"
      ]
     },
     "metadata": {
      "needs_background": "light"
     },
     "output_type": "display_data"
    }
   ],
   "source": [
    "batsmanFavBowler = pd.DataFrame(batsmanFavBowler('BB McCullum',df))"
   ]
  },
  {
   "cell_type": "code",
   "execution_count": null,
   "id": "6315e518",
   "metadata": {},
   "outputs": [],
   "source": []
  },
  {
   "cell_type": "code",
   "execution_count": null,
   "id": "9c553ee8",
   "metadata": {},
   "outputs": [],
   "source": []
  },
  {
   "cell_type": "code",
   "execution_count": null,
   "id": "3b692da5",
   "metadata": {},
   "outputs": [],
   "source": []
  },
  {
   "cell_type": "code",
   "execution_count": null,
   "id": "5d9ee5b7",
   "metadata": {},
   "outputs": [],
   "source": []
  },
  {
   "cell_type": "code",
   "execution_count": null,
   "id": "f88ae170",
   "metadata": {},
   "outputs": [],
   "source": []
  },
  {
   "cell_type": "code",
   "execution_count": null,
   "id": "bf44dce6",
   "metadata": {},
   "outputs": [],
   "source": []
  },
  {
   "cell_type": "code",
   "execution_count": null,
   "id": "42809c81",
   "metadata": {},
   "outputs": [],
   "source": []
  },
  {
   "cell_type": "code",
   "execution_count": null,
   "id": "c94a56eb",
   "metadata": {},
   "outputs": [],
   "source": []
  },
  {
   "cell_type": "code",
   "execution_count": null,
   "id": "3544b530",
   "metadata": {},
   "outputs": [],
   "source": []
  },
  {
   "cell_type": "code",
   "execution_count": null,
   "id": "a98fe3f6",
   "metadata": {},
   "outputs": [],
   "source": []
  },
  {
   "cell_type": "code",
   "execution_count": null,
   "id": "257ac7ba",
   "metadata": {},
   "outputs": [],
   "source": []
  },
  {
   "cell_type": "code",
   "execution_count": null,
   "id": "accac833",
   "metadata": {},
   "outputs": [],
   "source": []
  },
  {
   "cell_type": "code",
   "execution_count": null,
   "id": "5b7844b9",
   "metadata": {},
   "outputs": [],
   "source": []
  },
  {
   "cell_type": "code",
   "execution_count": null,
   "id": "f10d1ca8",
   "metadata": {},
   "outputs": [],
   "source": []
  },
  {
   "cell_type": "code",
   "execution_count": null,
   "id": "61ab4a35",
   "metadata": {},
   "outputs": [],
   "source": []
  },
  {
   "cell_type": "code",
   "execution_count": null,
   "id": "e7b9e047",
   "metadata": {},
   "outputs": [],
   "source": []
  },
  {
   "cell_type": "code",
   "execution_count": null,
   "id": "5efda09b",
   "metadata": {},
   "outputs": [],
   "source": []
  },
  {
   "cell_type": "code",
   "execution_count": null,
   "id": "6059e240",
   "metadata": {},
   "outputs": [],
   "source": []
  },
  {
   "cell_type": "code",
   "execution_count": null,
   "id": "d1179be8",
   "metadata": {},
   "outputs": [],
   "source": []
  },
  {
   "cell_type": "code",
   "execution_count": null,
   "id": "bb75b039",
   "metadata": {},
   "outputs": [],
   "source": []
  },
  {
   "cell_type": "code",
   "execution_count": null,
   "id": "d13fbac3",
   "metadata": {},
   "outputs": [],
   "source": []
  },
  {
   "cell_type": "code",
   "execution_count": null,
   "id": "9dba1935",
   "metadata": {},
   "outputs": [],
   "source": []
  },
  {
   "cell_type": "code",
   "execution_count": null,
   "id": "d1d008c8",
   "metadata": {},
   "outputs": [],
   "source": []
  },
  {
   "cell_type": "code",
   "execution_count": null,
   "id": "d9ffac03",
   "metadata": {},
   "outputs": [],
   "source": []
  }
 ],
 "metadata": {
  "kernelspec": {
   "display_name": "Python 3 (ipykernel)",
   "language": "python",
   "name": "python3"
  },
  "language_info": {
   "codemirror_mode": {
    "name": "ipython",
    "version": 3
   },
   "file_extension": ".py",
   "mimetype": "text/x-python",
   "name": "python",
   "nbconvert_exporter": "python",
   "pygments_lexer": "ipython3",
   "version": "3.9.7"
  }
 },
 "nbformat": 4,
 "nbformat_minor": 5
}
