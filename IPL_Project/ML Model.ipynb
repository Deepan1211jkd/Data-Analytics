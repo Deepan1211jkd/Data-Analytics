{
 "cells": [
  {
   "cell_type": "code",
   "execution_count": 1,
   "id": "d62ae731",
   "metadata": {},
   "outputs": [],
   "source": [
    "import pandas as pd\n",
    "import glob\n",
    "import numpy as np\n",
    "import warnings\n",
    "warnings.filterwarnings('ignore')\n",
    "from sklearn.model_selection import train_test_split\n",
    "from sklearn.linear_model import LinearRegression\n",
    "from sklearn.metrics import mean_absolute_error\n",
    "from sklearn.linear_model import LogisticRegression\n",
    "from sklearn.metrics import accuracy_score\n",
    "import pickle\n",
    "\n",
    "pd.set_option('display.max_columns', None)\n",
    "pd.set_option('display.max_rows', None)\n",
    "pd.set_option('max_colwidth', -1)\n",
    "pd.set_option('display.expand_frame_repr', False)"
   ]
  },
  {
   "cell_type": "code",
   "execution_count": 2,
   "id": "dd8ce3dc",
   "metadata": {},
   "outputs": [],
   "source": [
    "df = pd.read_csv('feature_data.csv')"
   ]
  },
  {
   "cell_type": "code",
   "execution_count": 3,
   "id": "17bf905e",
   "metadata": {},
   "outputs": [
    {
     "data": {
      "text/html": [
       "<div>\n",
       "<style scoped>\n",
       "    .dataframe tbody tr th:only-of-type {\n",
       "        vertical-align: middle;\n",
       "    }\n",
       "\n",
       "    .dataframe tbody tr th {\n",
       "        vertical-align: top;\n",
       "    }\n",
       "\n",
       "    .dataframe thead th {\n",
       "        text-align: right;\n",
       "    }\n",
       "</style>\n",
       "<table border=\"1\" class=\"dataframe\">\n",
       "  <thead>\n",
       "    <tr style=\"text-align: right;\">\n",
       "      <th></th>\n",
       "      <th>match_id</th>\n",
       "      <th>innings</th>\n",
       "      <th>batting_team</th>\n",
       "      <th>bowling_team</th>\n",
       "      <th>overs</th>\n",
       "      <th>over</th>\n",
       "      <th>ball</th>\n",
       "      <th>runs_off_bat</th>\n",
       "      <th>total_runs</th>\n",
       "      <th>player_dismissed</th>\n",
       "      <th>total</th>\n",
       "      <th>cumulative_total</th>\n",
       "      <th>is_out</th>\n",
       "      <th>total_wickets</th>\n",
       "      <th>cumulative_wicket</th>\n",
       "      <th>prev_30Balls_runs</th>\n",
       "      <th>prev_30Balls_wickets</th>\n",
       "      <th>prev_30Balls_Dots</th>\n",
       "      <th>prev_30Balls_boundaries</th>\n",
       "    </tr>\n",
       "  </thead>\n",
       "  <tbody>\n",
       "    <tr>\n",
       "      <th>0</th>\n",
       "      <td>211028</td>\n",
       "      <td>1</td>\n",
       "      <td>England</td>\n",
       "      <td>Australia</td>\n",
       "      <td>0.1</td>\n",
       "      <td>0</td>\n",
       "      <td>1</td>\n",
       "      <td>0</td>\n",
       "      <td>0</td>\n",
       "      <td>0</td>\n",
       "      <td>179</td>\n",
       "      <td>0</td>\n",
       "      <td>0</td>\n",
       "      <td>8</td>\n",
       "      <td>0</td>\n",
       "      <td>0</td>\n",
       "      <td>0</td>\n",
       "      <td>1</td>\n",
       "      <td>0</td>\n",
       "    </tr>\n",
       "    <tr>\n",
       "      <th>1</th>\n",
       "      <td>211028</td>\n",
       "      <td>1</td>\n",
       "      <td>England</td>\n",
       "      <td>Australia</td>\n",
       "      <td>0.2</td>\n",
       "      <td>0</td>\n",
       "      <td>2</td>\n",
       "      <td>1</td>\n",
       "      <td>1</td>\n",
       "      <td>0</td>\n",
       "      <td>179</td>\n",
       "      <td>1</td>\n",
       "      <td>0</td>\n",
       "      <td>8</td>\n",
       "      <td>0</td>\n",
       "      <td>1</td>\n",
       "      <td>0</td>\n",
       "      <td>1</td>\n",
       "      <td>0</td>\n",
       "    </tr>\n",
       "    <tr>\n",
       "      <th>2</th>\n",
       "      <td>211028</td>\n",
       "      <td>1</td>\n",
       "      <td>England</td>\n",
       "      <td>Australia</td>\n",
       "      <td>0.3</td>\n",
       "      <td>0</td>\n",
       "      <td>3</td>\n",
       "      <td>0</td>\n",
       "      <td>0</td>\n",
       "      <td>0</td>\n",
       "      <td>179</td>\n",
       "      <td>1</td>\n",
       "      <td>0</td>\n",
       "      <td>8</td>\n",
       "      <td>0</td>\n",
       "      <td>1</td>\n",
       "      <td>0</td>\n",
       "      <td>2</td>\n",
       "      <td>0</td>\n",
       "    </tr>\n",
       "    <tr>\n",
       "      <th>3</th>\n",
       "      <td>211028</td>\n",
       "      <td>1</td>\n",
       "      <td>England</td>\n",
       "      <td>Australia</td>\n",
       "      <td>0.4</td>\n",
       "      <td>0</td>\n",
       "      <td>4</td>\n",
       "      <td>0</td>\n",
       "      <td>0</td>\n",
       "      <td>0</td>\n",
       "      <td>179</td>\n",
       "      <td>1</td>\n",
       "      <td>0</td>\n",
       "      <td>8</td>\n",
       "      <td>0</td>\n",
       "      <td>1</td>\n",
       "      <td>0</td>\n",
       "      <td>3</td>\n",
       "      <td>0</td>\n",
       "    </tr>\n",
       "    <tr>\n",
       "      <th>4</th>\n",
       "      <td>211028</td>\n",
       "      <td>1</td>\n",
       "      <td>England</td>\n",
       "      <td>Australia</td>\n",
       "      <td>0.5</td>\n",
       "      <td>0</td>\n",
       "      <td>5</td>\n",
       "      <td>0</td>\n",
       "      <td>0</td>\n",
       "      <td>0</td>\n",
       "      <td>179</td>\n",
       "      <td>1</td>\n",
       "      <td>0</td>\n",
       "      <td>8</td>\n",
       "      <td>0</td>\n",
       "      <td>1</td>\n",
       "      <td>0</td>\n",
       "      <td>4</td>\n",
       "      <td>0</td>\n",
       "    </tr>\n",
       "  </tbody>\n",
       "</table>\n",
       "</div>"
      ],
      "text/plain": [
       "   match_id  innings batting_team bowling_team  overs  over  ball  runs_off_bat  total_runs  player_dismissed  total  cumulative_total  is_out  total_wickets  cumulative_wicket  prev_30Balls_runs  prev_30Balls_wickets  prev_30Balls_Dots  prev_30Balls_boundaries\n",
       "0  211028    1        England      Australia    0.1    0     1     0             0           0                 179    0                 0       8              0                  0                  0                     1                  0                      \n",
       "1  211028    1        England      Australia    0.2    0     2     1             1           0                 179    1                 0       8              0                  1                  0                     1                  0                      \n",
       "2  211028    1        England      Australia    0.3    0     3     0             0           0                 179    1                 0       8              0                  1                  0                     2                  0                      \n",
       "3  211028    1        England      Australia    0.4    0     4     0             0           0                 179    1                 0       8              0                  1                  0                     3                  0                      \n",
       "4  211028    1        England      Australia    0.5    0     5     0             0           0                 179    1                 0       8              0                  1                  0                     4                  0                      "
      ]
     },
     "execution_count": 3,
     "metadata": {},
     "output_type": "execute_result"
    }
   ],
   "source": [
    "df.head()"
   ]
  },
  {
   "cell_type": "code",
   "execution_count": 4,
   "id": "1e01a5bd",
   "metadata": {},
   "outputs": [],
   "source": [
    "df = pd.get_dummies(data = df , columns=['batting_team' , 'bowling_team'])"
   ]
  },
  {
   "cell_type": "code",
   "execution_count": 5,
   "id": "67ded85f",
   "metadata": {},
   "outputs": [
    {
     "data": {
      "text/plain": [
       "Index(['match_id', 'innings', 'overs', 'over', 'ball', 'runs_off_bat',\n",
       "       'total_runs', 'player_dismissed', 'total', 'cumulative_total', 'is_out',\n",
       "       'total_wickets', 'cumulative_wicket', 'prev_30Balls_runs',\n",
       "       'prev_30Balls_wickets', 'prev_30Balls_Dots', 'prev_30Balls_boundaries',\n",
       "       'batting_team_Afghanistan', 'batting_team_Australia',\n",
       "       'batting_team_Bangladesh', 'batting_team_England', 'batting_team_India',\n",
       "       'batting_team_New Zealand', 'batting_team_Pakistan',\n",
       "       'batting_team_South Africa', 'batting_team_Sri Lanka',\n",
       "       'batting_team_West Indies', 'batting_team_Zimbabwe',\n",
       "       'bowling_team_Afghanistan', 'bowling_team_Australia',\n",
       "       'bowling_team_Bangladesh', 'bowling_team_England', 'bowling_team_India',\n",
       "       'bowling_team_New Zealand', 'bowling_team_Pakistan',\n",
       "       'bowling_team_South Africa', 'bowling_team_Sri Lanka',\n",
       "       'bowling_team_West Indies', 'bowling_team_Zimbabwe'],\n",
       "      dtype='object')"
      ]
     },
     "execution_count": 5,
     "metadata": {},
     "output_type": "execute_result"
    }
   ],
   "source": [
    "df.columns"
   ]
  },
  {
   "cell_type": "code",
   "execution_count": 6,
   "id": "ceceef7e",
   "metadata": {},
   "outputs": [],
   "source": [
    "df=df[['match_id','batting_team_Australia','batting_team_Bangladesh', 'batting_team_England', 'batting_team_India','batting_team_New Zealand','batting_team_Pakistan', \n",
    "       'batting_team_South Africa', 'batting_team_Sri Lanka','batting_team_West Indies','bowling_team_Australia', 'bowling_team_Bangladesh', 'bowling_team_England',\n",
    "        'bowling_team_India', 'bowling_team_New Zealand', 'bowling_team_Pakistan','bowling_team_South Africa', 'bowling_team_Sri Lanka','bowling_team_West Indies',\n",
    "            'overs','cumulative_total','cumulative_wicket','prev_30Balls_runs','prev_30Balls_wickets','prev_30Balls_Dots','prev_30Balls_boundaries','total']]"
   ]
  },
  {
   "cell_type": "markdown",
   "id": "194e1ec9",
   "metadata": {},
   "source": [
    "# Train_Test_Split\n"
   ]
  },
  {
   "cell_type": "code",
   "execution_count": 7,
   "id": "d74859bc",
   "metadata": {},
   "outputs": [],
   "source": [
    "X = df.drop(labels =['total' , 'match_id'] , axis = 1)\n",
    "Y = df['total'].values"
   ]
  },
  {
   "cell_type": "code",
   "execution_count": 8,
   "id": "7953d786",
   "metadata": {},
   "outputs": [
    {
     "name": "stdout",
     "output_type": "stream",
     "text": [
      "(104023, 25) (34675, 25) (104023,) (34675,)\n"
     ]
    },
    {
     "data": {
      "text/plain": [
       "array([[ 0.,  0.,  0., ...,  0.,  1.,  1.],\n",
       "       [ 0.,  0.,  0., ...,  0.,  9.,  7.],\n",
       "       [ 0.,  0.,  0., ...,  1.,  4.,  4.],\n",
       "       ...,\n",
       "       [ 0.,  0.,  1., ...,  0.,  6.,  8.],\n",
       "       [ 0.,  0.,  1., ...,  2., 11.,  1.],\n",
       "       [ 0.,  0.,  0., ...,  2.,  7.,  4.]], dtype=float32)"
      ]
     },
     "execution_count": 8,
     "metadata": {},
     "output_type": "execute_result"
    }
   ],
   "source": [
    "#spli Tain and Test\n",
    "X_train , X_test, Y_train, Y_test = train_test_split(X,Y, test_size=0.25 , random_state=42 , stratify=Y)\n",
    "X_train=X_train.values\n",
    "X_test=X_test.values\n",
    "X_train=np.asarray(X_train).astype(np.float32)\n",
    "X_test=np.asarray(X_test).astype(np.float32)\n",
    "\n",
    "print(X_train.shape, X_test.shape, Y_train.shape, Y_test.shape)\n",
    "X_train"
   ]
  },
  {
   "cell_type": "code",
   "execution_count": null,
   "id": "853326d5",
   "metadata": {},
   "outputs": [],
   "source": []
  },
  {
   "cell_type": "code",
   "execution_count": 9,
   "id": "4d0eb2af",
   "metadata": {},
   "outputs": [
    {
     "data": {
      "text/plain": [
       "LinearRegression()"
      ]
     },
     "execution_count": 9,
     "metadata": {},
     "output_type": "execute_result"
    }
   ],
   "source": [
    "LR_Model = LinearRegression()\n",
    "LR_Model.fit(X_train,Y_train)"
   ]
  },
  {
   "cell_type": "code",
   "execution_count": 10,
   "id": "6b34a8c4",
   "metadata": {},
   "outputs": [],
   "source": [
    "filename = 'lr-model.pkl'\n",
    "pickle.dump(LR_Model , open(filename,'wb'))"
   ]
  },
  {
   "cell_type": "code",
   "execution_count": 11,
   "id": "ace58dee",
   "metadata": {},
   "outputs": [
    {
     "data": {
      "text/plain": [
       "18.110364312114868"
      ]
     },
     "execution_count": 11,
     "metadata": {},
     "output_type": "execute_result"
    }
   ],
   "source": [
    "prediction = LR_Model.predict(X_test)\n",
    "mean_absolute_error(Y_test,prediction)"
   ]
  },
  {
   "cell_type": "code",
   "execution_count": null,
   "id": "ec9d9677",
   "metadata": {},
   "outputs": [],
   "source": [
    "classifier = LogisticRegression(multi_class='auto')\n",
    "classifier.fit(X_train, Y_train)\n",
    "\n",
    "prediction1 = classifier.predict(X_test)\n",
    "100*accuracy_score(Y_test,prediction1)"
   ]
  },
  {
   "cell_type": "code",
   "execution_count": null,
   "id": "13f0040a",
   "metadata": {},
   "outputs": [],
   "source": [
    "# Function to predict scores :\n",
    "\n",
    "def score_prediction(Bat_Team,Bowl_Team,overs,total_score,total_wickets,prev_runs_30,prev_wickets_30,prev_30_dot_balls,prev_30_boundaries):\n",
    "\n",
    "    temp_array = list()\n",
    "\n",
    "    if Bat_Team == 'AUS':\n",
    "        temp_array = temp_array + [1,0,0,0,0,0,0,0,0]\n",
    "    elif Bat_Team == 'BAN':\n",
    "        temp_array = temp_array + [0,1,0,0,0,0,0,0,0]\n",
    "    elif Bat_Team == 'ENG':\n",
    "        temp_array = temp_array + [0,0,1,0,0,0,0,0,0]\n",
    "    elif Bat_Team == 'IND':\n",
    "        temp_array = temp_array + [0,0,0,1,0,0,0,0,0]\n",
    "    elif Bat_Team == 'NZ':\n",
    "        temp_array = temp_array + [0,0,0,0,1,0,0,0,0]\n",
    "    elif Bat_Team == 'PAK':\n",
    "        temp_array = temp_array + [0,0,0,0,0,1,0,0,0]\n",
    "    elif Bat_Team == 'SA':\n",
    "        temp_array = temp_array + [0,0,0,0,0,0,1,0,0]\n",
    "    elif Bat_Team == 'SL':\n",
    "        temp_array = temp_array + [0,0,0,0,0,0,0,1,0]\n",
    "    elif Bat_Team == 'WI':\n",
    "        temp_array = temp_array + [0,0,0,0,0,0,0,0,1]\n",
    "\n",
    "    if Bowl_Team == 'AUS':\n",
    "        temp_array = temp_array + [1,0,0,0,0,0,0,0,0]\n",
    "    elif Bowl_Team == 'BAN':\n",
    "        temp_array = temp_array + [0,1,0,0,0,0,0,0,0]\n",
    "    elif Bowl_Team == 'ENG':\n",
    "        temp_array = temp_array + [0,0,1,0,0,0,0,0,0]\n",
    "    elif Bowl_Team == 'IND':\n",
    "        temp_array = temp_array + [0,0,0,1,0,0,0,0,0]\n",
    "    elif Bowl_Team == 'NZ':\n",
    "        temp_array = temp_array + [0,0,0,0,1,0,0,0,0]\n",
    "    elif Bowl_Team == 'PAK':\n",
    "        temp_array = temp_array + [0,0,0,0,0,1,0,0,0]\n",
    "    elif Bowl_Team == 'SA':\n",
    "        temp_array = temp_array + [0,0,0,0,0,0,1,0,0]\n",
    "    elif Bowl_Team == 'SL':\n",
    "        temp_array = temp_array + [0,0,0,0,0,0,0,1,0]\n",
    "    elif Bowl_Team == 'WI':\n",
    "        temp_array = temp_array + [0,0,0,0,0,0,0,0,1]\n",
    "\n",
    "    temp_array = temp_array + [overs,total_score,total_wickets,prev_runs_30,prev_wickets_30,prev_30_dot_balls,prev_30_boundaries]\n",
    "    data = np.array([temp_array])\n",
    "    my_prediction = int(LR_Model.predict(data))\n",
    "    my_prediction1 = int(classifier.predict(data))\n",
    "\n",
    "    print('Predicted score: ',my_prediction)\n",
    "    print('Predicted score: ',my_prediction1)\n",
    "    print('Predicted score range: ',my_prediction - 18, 'to' , my_prediction + 18)\n",
    "    \n",
    "\n",
    "    \n",
    "Bat_Team = 'IND' \n",
    "\n",
    "Bowl_Team = 'AUS' \n",
    "\n",
    "overs = 10.3\n",
    "\n",
    "total_score = 100 # current score\n",
    "\n",
    "total_wickets = 5 # current wicket \n",
    "\n",
    "prev_runs_30 = 30 # runs in last 30 balls\n",
    "\n",
    "prev_wickets_30 = 5 # wickets in last 30 balls\n",
    "\n",
    "prev_30_dot_balls = 5 # dots in last 30 balls\n",
    "\n",
    "prev_30_boundaries = 5 # boundaries in last 30 balls\n",
    "\n",
    "score_prediction(Bat_Team,Bowl_Team,overs,total_score,total_wickets,\n",
    "                         prev_runs_30,prev_wickets_30,prev_30_dot_balls,prev_30_boundaries)"
   ]
  },
  {
   "cell_type": "code",
   "execution_count": null,
   "id": "3eeecb15",
   "metadata": {},
   "outputs": [],
   "source": []
  },
  {
   "cell_type": "code",
   "execution_count": null,
   "id": "e989a279",
   "metadata": {},
   "outputs": [],
   "source": []
  },
  {
   "cell_type": "code",
   "execution_count": null,
   "id": "46b97c65",
   "metadata": {},
   "outputs": [],
   "source": []
  },
  {
   "cell_type": "code",
   "execution_count": null,
   "id": "06eecd95",
   "metadata": {},
   "outputs": [],
   "source": []
  },
  {
   "cell_type": "code",
   "execution_count": null,
   "id": "47bdcb4d",
   "metadata": {},
   "outputs": [],
   "source": []
  },
  {
   "cell_type": "code",
   "execution_count": null,
   "id": "f8953f38",
   "metadata": {},
   "outputs": [],
   "source": []
  },
  {
   "cell_type": "code",
   "execution_count": null,
   "id": "4c9a0716",
   "metadata": {},
   "outputs": [],
   "source": []
  },
  {
   "cell_type": "code",
   "execution_count": null,
   "id": "340a5098",
   "metadata": {},
   "outputs": [],
   "source": []
  },
  {
   "cell_type": "code",
   "execution_count": null,
   "id": "c5beb83a",
   "metadata": {},
   "outputs": [],
   "source": []
  }
 ],
 "metadata": {
  "kernelspec": {
   "display_name": "Python 3 (ipykernel)",
   "language": "python",
   "name": "python3"
  },
  "language_info": {
   "codemirror_mode": {
    "name": "ipython",
    "version": 3
   },
   "file_extension": ".py",
   "mimetype": "text/x-python",
   "name": "python",
   "nbconvert_exporter": "python",
   "pygments_lexer": "ipython3",
   "version": "3.9.7"
  }
 },
 "nbformat": 4,
 "nbformat_minor": 5
}
